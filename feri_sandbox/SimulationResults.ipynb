{
 "cells": [
  {
   "cell_type": "code",
   "execution_count": null,
   "metadata": {},
   "outputs": [],
   "source": [
    "%load_ext autoreload\n",
    "%autoreload 2"
   ]
  },
  {
   "cell_type": "code",
   "execution_count": null,
   "metadata": {},
   "outputs": [],
   "source": [
    "import pandas as pd\n",
    "import numpy as np\n",
    "import os, sys\n",
    "sys.path.insert(0,'../python/')\n",
    "from analysis_utils import *"
   ]
  },
  {
   "cell_type": "code",
   "execution_count": null,
   "metadata": {},
   "outputs": [],
   "source": [
    "%matplotlib inline\n",
    "import seaborn as sns\n",
    "import matplotlib.pyplot as plt"
   ]
  },
  {
   "cell_type": "code",
   "execution_count": null,
   "metadata": {},
   "outputs": [],
   "source": [
    "sns.set(font_scale = 2)\n",
    "sns.set_style(\"whitegrid\")"
   ]
  },
  {
   "cell_type": "code",
   "execution_count": null,
   "metadata": {},
   "outputs": [],
   "source": [
    "import sys\n",
    "from datawand.parametrization import ParamHelper\n",
    "ph = ParamHelper(\"../\",\"LNGraph\",sys.argv)"
   ]
  },
  {
   "cell_type": "code",
   "execution_count": null,
   "metadata": {},
   "outputs": [],
   "source": [
    "experiment_id = ph.get(\"sim_res_dir\")\n",
    "snapshots = ph.get(\"snapshots\")\n",
    "simulation_dir = ph.get(\"sim_root_dir\")"
   ]
  },
  {
   "cell_type": "markdown",
   "metadata": {},
   "source": [
    "# 1. Load data"
   ]
  },
  {
   "cell_type": "code",
   "execution_count": null,
   "metadata": {},
   "outputs": [],
   "source": [
    "node_names = pd.read_csv(\"/mnt/idms/fberes/data/bitcoin_ln_research/node_names.csv\")"
   ]
  },
  {
   "cell_type": "code",
   "execution_count": null,
   "metadata": {},
   "outputs": [],
   "source": [
    "node_names.head()"
   ]
  },
  {
   "cell_type": "code",
   "execution_count": null,
   "metadata": {},
   "outputs": [],
   "source": [
    "LNBIG_nodes = list(node_names[node_names[\"is_lnbig\"]][\"pub_key\"])\n",
    "len(LNBIG_nodes)"
   ]
  },
  {
   "cell_type": "code",
   "execution_count": null,
   "metadata": {},
   "outputs": [],
   "source": [
    "node_names = node_names[[\"name\",\"pub_key\"]]"
   ]
  },
  {
   "cell_type": "markdown",
   "metadata": {},
   "source": [
    "#experiment_id = ph.get(\"sim_dir\")\n",
    "experiment_id = \"2019-09-06_22:03:19_50000sat_k6000\"\n",
    "snapshots = range(40)#range(54)\n",
    "simulation_dir = \"/mnt/idms/fberes/data/bitcoin_ln_research/simulations_1days/\""
   ]
  },
  {
   "cell_type": "code",
   "execution_count": null,
   "metadata": {},
   "outputs": [],
   "source": [
    "experiment_folders = get_experiment_files(experiment_id, snapshots, simulation_dir)"
   ]
  },
  {
   "cell_type": "markdown",
   "metadata": {},
   "source": [
    "pricing_pol = load_data(experiment_folders, snapshots, \"opt_fees\")"
   ]
  },
  {
   "cell_type": "code",
   "execution_count": null,
   "metadata": {},
   "outputs": [],
   "source": [
    "source_fee = load_data(experiment_folders, snapshots, \"source_fees\")"
   ]
  },
  {
   "cell_type": "code",
   "execution_count": null,
   "metadata": {},
   "outputs": [],
   "source": [
    "router_income = load_data(experiment_folders, snapshots, \"router_incomes\")"
   ]
  },
  {
   "cell_type": "markdown",
   "metadata": {},
   "source": [
    "## Router incomes"
   ]
  },
  {
   "cell_type": "code",
   "execution_count": null,
   "metadata": {},
   "outputs": [],
   "source": [
    "router_income_col = \"fee\"#\"income\""
   ]
  },
  {
   "cell_type": "code",
   "execution_count": null,
   "metadata": {
    "slideshow": {
     "slide_type": "slide"
    }
   },
   "outputs": [],
   "source": [
    "x = snapshots\n",
    "y = [router_income[i][router_income_col].mean() for i in snapshots]\n",
    "plt.plot(x,y,\"bo\")"
   ]
  },
  {
   "cell_type": "code",
   "execution_count": null,
   "metadata": {
    "slideshow": {
     "slide_type": "slide"
    }
   },
   "outputs": [],
   "source": [
    "sns.jointplot(data=pd.concat(router_income), x=\"snapshot_id\", y=router_income_col)"
   ]
  },
  {
   "cell_type": "code",
   "execution_count": null,
   "metadata": {},
   "outputs": [],
   "source": [
    "all_router_incomes = pd.concat(router_income)"
   ]
  },
  {
   "cell_type": "markdown",
   "metadata": {
    "slideshow": {
     "slide_type": "slide"
    }
   },
   "source": [
    "## Source fees"
   ]
  },
  {
   "cell_type": "code",
   "execution_count": null,
   "metadata": {
    "slideshow": {
     "slide_type": "slide"
    }
   },
   "outputs": [],
   "source": [
    "x = snapshots\n",
    "y = [source_fee[i][\"mean_fee\"].mean() for i in snapshots]\n",
    "plt.plot(x,y, \"bo\")"
   ]
  },
  {
   "cell_type": "code",
   "execution_count": null,
   "metadata": {
    "slideshow": {
     "slide_type": "slide"
    }
   },
   "outputs": [],
   "source": [
    "sns.jointplot(data=pd.concat(source_fee), x=\"snapshot_id\", y=\"mean_fee\")"
   ]
  },
  {
   "cell_type": "markdown",
   "metadata": {
    "slideshow": {
     "slide_type": "slide"
    }
   },
   "source": [
    "## Optimal pricing"
   ]
  },
  {
   "cell_type": "markdown",
   "metadata": {
    "slideshow": {
     "slide_type": "slide"
    }
   },
   "source": [
    "x = snapshots\n",
    "y = [pricing_pol[i][\"opt_delta\"].mean() for i in snapshots]\n",
    "plt.plot(x,y, \"bo\")"
   ]
  },
  {
   "cell_type": "markdown",
   "metadata": {
    "slideshow": {
     "slide_type": "slide"
    }
   },
   "source": [
    "x = snapshots\n",
    "y = [pricing_pol[i][\"opt_traffic\"].mean() for i in snapshots]\n",
    "plt.plot(x,y, \"bo\")"
   ]
  },
  {
   "cell_type": "markdown",
   "metadata": {
    "slideshow": {
     "slide_type": "slide"
    }
   },
   "source": [
    "x = snapshots\n",
    "y = [pricing_pol[i][\"origi_income\"].mean() for i in snapshots]\n",
    "plt.plot(x,y, \"bo\")"
   ]
  },
  {
   "cell_type": "markdown",
   "metadata": {
    "slideshow": {
     "slide_type": "slide"
    }
   },
   "source": [
    "x = snapshots\n",
    "y = [pricing_pol[i][\"opt_income\"].mean() for i in snapshots]\n",
    "plt.plot(x,y, \"bo\")"
   ]
  },
  {
   "cell_type": "markdown",
   "metadata": {},
   "source": [
    "### Calculate income revenue"
   ]
  },
  {
   "cell_type": "markdown",
   "metadata": {},
   "source": [
    "for df in pricing_pol:\n",
    "    df[\"income_diff\"] = df[\"opt_income\"] - df[\"origi_income\"]"
   ]
  },
  {
   "cell_type": "markdown",
   "metadata": {
    "slideshow": {
     "slide_type": "slide"
    }
   },
   "source": [
    "# 2. Simulation stability"
   ]
  },
  {
   "cell_type": "markdown",
   "metadata": {},
   "source": [
    "corrs = [\"pearson\",\"spearman\",\"kendall\",\"wkendall\"]"
   ]
  },
  {
   "cell_type": "markdown",
   "metadata": {},
   "source": [
    "## a.) Stability of basing node statistics (moved to script)\n",
    "\n",
    "- stability could be improved by running more independent experiments\n",
    "- this time (using channel depletions) the experiment is less stable?"
   ]
  },
  {
   "cell_type": "markdown",
   "metadata": {},
   "source": [
    "## b.) Stability of optimal pricing results"
   ]
  },
  {
   "cell_type": "markdown",
   "metadata": {},
   "source": [
    "origi_inc = pd.DataFrame([avg_cross_corr(pricing_pol, snap_id, \"origi_income\") for snap_id in snapshots])\n",
    "opt_inc = pd.DataFrame([avg_cross_corr(pricing_pol, snap_id, \"opt_income\") for snap_id in snapshots])\n",
    "income_diff = pd.DataFrame([avg_cross_corr(pricing_pol, snap_id, \"income_diff\") for snap_id in snapshots])\n",
    "opt_delta = pd.DataFrame([avg_cross_corr(pricing_pol, snap_id, \"opt_delta\") for snap_id in snapshots])"
   ]
  },
  {
   "cell_type": "markdown",
   "metadata": {
    "slideshow": {
     "slide_type": "slide"
    }
   },
   "source": [
    "colors = ['b','g','r','m']\n",
    "fig, axis = plt.subplots(1,3,figsize=(15,4))\n",
    "x = snapshots\n",
    "#incomes\n",
    "axis[0].set_title(\"INCOME mean cross correlations\")\n",
    "for i, c in enumerate(corrs):\n",
    "    axis[0].plot(x,origi_inc[c], colors[i]+'-', label=c+\"_orig\")\n",
    "    axis[0].plot(x,opt_inc[c], colors[i]+'--', label=c+\"_opt\")\n",
    "axis[0].set_xlabel(\"snapshot\")\n",
    "axis[0].legend()\n",
    "#income_diff\n",
    "axis[1].set_title(\"INCOME_DIFF mean cross correlations\")\n",
    "for i, c in enumerate(corrs):\n",
    "    axis[1].plot(x,income_diff[c], colors[i]+'-', label=c)\n",
    "axis[1].set_xlabel(\"snapshot\")\n",
    "axis[1].legend()\n",
    "#opt_delta\n",
    "axis[2].set_title(\"OPT_DELTA mean cross correlations\")\n",
    "for i, c in enumerate(corrs):\n",
    "    axis[2].plot(x,opt_delta[c], colors[i]+'-', label=c)\n",
    "axis[2].set_xlabel(\"snapshot\")\n",
    "axis[2].legend()\n",
    "plt.show()"
   ]
  },
  {
   "cell_type": "markdown",
   "metadata": {
    "slideshow": {
     "slide_type": "slide"
    }
   },
   "source": [
    "#### Incomes observations\n",
    "\n",
    "- taking mean cross correlation of user incomes (original and optimal)\n",
    "- weighted kendall-tau gives decreased to 0.90 from 0.95 (after including capacity maintenance)\n",
    "- in case of unweighted spearman and kendall the optimal income correlates better across samples \n",
    "\n",
    "#### income_diff observations\u00b6\n",
    "\n",
    "- taking mean cross correlation of income difference (optimal income - original income)\n",
    "- weighted kendall-tau decreased to 0.80 from 0.93 (after including capacity maintenance)\n",
    "\n",
    "#### opt_delta observations\u00b6\n",
    "\n",
    "- taking mean cross correlation of optimal base fee change\n",
    "- weighted kendall-tau decreased to 0.70 from 0.90 (after including capacity maintenance)\n",
    "\n",
    "**CONCLUSION: our base_fee optimization procedure is less efficient (meaningful) after the implementation of capacity maintenance!!!**"
   ]
  },
  {
   "cell_type": "markdown",
   "metadata": {},
   "source": [
    "# 3. Income revenue analysis"
   ]
  },
  {
   "cell_type": "code",
   "execution_count": null,
   "metadata": {},
   "outputs": [],
   "source": [
    "def cut_into_categories(df):\n",
    "    #categories = [df[:10], df[10:30], df[30:50], df[50:100]]\n",
    "    #categories = [df[:20], df[20:50], df[50:100], df[100:200]]\n",
    "    #categories = [df[:10], df[10:20], df[20:30], df[30:40], df[40:50], df[50:100], df[100:500]]\n",
    "    categories = [df[:10], df[10:20], df[20:50], df[50:100], df[100:500]]\n",
    "    #categories = [df[:50], df[50:100], df[100:500]]#, df[200:500]]\n",
    "    return categories\n",
    "\n",
    "def merge_categories(categories):\n",
    "    for i, cat in enumerate(categories):\n",
    "        cat[\"category\"] = i\n",
    "    return pd.concat(categories)\n",
    "    \n",
    "def show_stats(snap_id, col=\"income_diff\"):\n",
    "    mean = pricing_pol[snap_id].groupby(\"node\").mean().sort_values(\"origi_income\", ascending=False)\n",
    "    categories = cut_into_categories(mean)\n",
    "    return [float(cat[[col]].mean()) for cat in categories]"
   ]
  },
  {
   "cell_type": "code",
   "execution_count": null,
   "metadata": {},
   "outputs": [],
   "source": [
    "x = range(5)\n",
    "#x = range(7)"
   ]
  },
  {
   "cell_type": "markdown",
   "metadata": {},
   "source": [
    "# TODO: ez a m\u00e9r\u00e9s most teljesen sz\u00e9t van esve!!!"
   ]
  },
  {
   "cell_type": "markdown",
   "metadata": {},
   "source": [
    "### Visualize each snapshot"
   ]
  },
  {
   "cell_type": "markdown",
   "metadata": {},
   "source": [
    "df = pd.DataFrame([show_stats(i, \"income_diff\") for i in snapshots])"
   ]
  },
  {
   "cell_type": "markdown",
   "metadata": {},
   "source": [
    "plt.Figure(figsize=(10,10))\n",
    "for i in snapshots:\n",
    "    plt.plot(x, show_stats(i, \"income_diff\"), label=i)\n",
    "plt.yscale(\"log\")\n",
    "plt.legend()"
   ]
  },
  {
   "cell_type": "markdown",
   "metadata": {},
   "source": [
    "plt.Figure(figsize=(10,10))\n",
    "for i in snapshots:\n",
    "    plt.plot(x, show_stats(i, \"opt_traffic\"), label=i)\n",
    "plt.legend()"
   ]
  },
  {
   "cell_type": "markdown",
   "metadata": {},
   "source": [
    "### Average stats (over all snapshots and samples)"
   ]
  },
  {
   "cell_type": "code",
   "execution_count": null,
   "metadata": {},
   "outputs": [],
   "source": [
    "average_stats = pricing_pol[0].groupby(\"node\").mean().sort_values(\"origi_income\", ascending=False)[[\"income_diff\",\"origi_income\",\"opt_income\",\"opt_traffic\",\"opt_delta\"]]"
   ]
  },
  {
   "cell_type": "code",
   "execution_count": null,
   "metadata": {},
   "outputs": [],
   "source": [
    "pricing_pol[0].head()"
   ]
  },
  {
   "cell_type": "code",
   "execution_count": null,
   "metadata": {},
   "outputs": [],
   "source": [
    "pricing_pol[0].max()"
   ]
  },
  {
   "cell_type": "code",
   "execution_count": null,
   "metadata": {},
   "outputs": [],
   "source": [
    "all_records = pd.concat([pricing_pol[i] for i in snapshots])"
   ]
  },
  {
   "cell_type": "code",
   "execution_count": null,
   "metadata": {},
   "outputs": [],
   "source": [
    "average_stats_all = all_records.groupby(\"node\").mean()"
   ]
  },
  {
   "cell_type": "code",
   "execution_count": null,
   "metadata": {},
   "outputs": [],
   "source": [
    "average_stats = average_stats_all#[average_stats_all[\"origi_num_trans\"]>=10]"
   ]
  },
  {
   "cell_type": "code",
   "execution_count": null,
   "metadata": {},
   "outputs": [],
   "source": [
    "print(len(average_stats_all),len(average_stats))"
   ]
  },
  {
   "cell_type": "code",
   "execution_count": null,
   "metadata": {},
   "outputs": [],
   "source": [
    "average_stats.head()"
   ]
  },
  {
   "cell_type": "code",
   "execution_count": null,
   "metadata": {},
   "outputs": [],
   "source": [
    "average_stats = all_records.groupby(\"node\").mean().sort_values(\"origi_income\", ascending=False)[[\"income_diff\",\"origi_income\",\"opt_income\",\"opt_traffic\",\"opt_delta\"]]"
   ]
  },
  {
   "cell_type": "code",
   "execution_count": null,
   "metadata": {},
   "outputs": [],
   "source": [
    "average_stats_cats = cut_into_categories(average_stats)\n",
    "mean_diff = [float(cat[[\"income_diff\"]].mean()) for cat in average_stats_cats]\n",
    "mean_traffic = [float(cat[[\"opt_traffic\"]].mean()) for cat in average_stats_cats]\n",
    "mean_delta = [float(cat[[\"opt_delta\"]].mean()) for cat in average_stats_cats]"
   ]
  },
  {
   "cell_type": "code",
   "execution_count": null,
   "metadata": {
    "slideshow": {
     "slide_type": "slide"
    }
   },
   "outputs": [],
   "source": [
    "fig, axis = plt.subplots(1,3,figsize=(15,4))\n",
    "axis[0].plot(x, mean_diff, 'rx')\n",
    "axis[0].set_xlabel(\"income category\")\n",
    "axis[0].set_ylabel(\"mean income_diff\")\n",
    "axis[1].plot(x, mean_delta, 'g*')\n",
    "axis[1].set_xlabel(\"income category\")\n",
    "axis[1].set_ylabel(\"mean opt_delta\")\n",
    "axis[2].plot(x, mean_traffic, 'bo')\n",
    "axis[2].set_xlabel(\"income category\")\n",
    "axis[2].set_ylabel(\"mean opt_traffic\")\n",
    "plt.show()"
   ]
  },
  {
   "cell_type": "markdown",
   "metadata": {},
   "source": [
    "#### Mean original income for the selected categories"
   ]
  },
  {
   "cell_type": "code",
   "execution_count": null,
   "metadata": {
    "slideshow": {
     "slide_type": "subslide"
    }
   },
   "outputs": [],
   "source": [
    "[float(cat[[\"origi_income\"]].mean()) for cat in average_stats_cats]"
   ]
  },
  {
   "cell_type": "markdown",
   "metadata": {},
   "source": [
    "### PROBLEM with outliers..."
   ]
  },
  {
   "cell_type": "code",
   "execution_count": null,
   "metadata": {},
   "outputs": [],
   "source": [
    "merged = merge_categories(average_stats_cats)"
   ]
  },
  {
   "cell_type": "code",
   "execution_count": null,
   "metadata": {},
   "outputs": [],
   "source": [
    "sns.boxplot(data=merged, x=\"category\", y=\"income_diff\", whis=2)"
   ]
  },
  {
   "cell_type": "code",
   "execution_count": null,
   "metadata": {},
   "outputs": [],
   "source": [
    "average_stats.head(10)"
   ]
  },
  {
   "cell_type": "markdown",
   "metadata": {},
   "source": [
    "### Nodes above 20K SAT (2.5 USD) income_diff (with alpha=2.0 source distribution)\n",
    "\n",
    "#### 2019-07-04_11:12:08_200000sat_k30000 (ordered by original income)\n",
    "\n",
    "1. yalls.org - Read and write articles, with Lightning Network micropayments. (195,925.46 USD)\n",
    "2. ACINQ - ACINQ is one of the leading companies working on Bitcoin scalability. (507,211.38 USD)\n",
    "3. 1ML.com node ALPHA (89,453.40 USD)\n",
    "4. LightningPowerUsers.com (313,406.05 USD)\n",
    "5. LightningTo.Me - Helping to resolve routing and capacity issues (165,531.35 USD)\n",
    "6. tomjodh.nl - Buy photos with satoshis (8,709.95 USD) - **TODO RECLASSIFY AS merchant!!!**\n",
    "7. ? - ? (848.05 USD)\n",
    "\n",
    "#### 2019-07-05_14:39:09_200000sat_k30000 (ordered by original income)\n",
    "\n",
    "1. ACINQ - ACINQ is one of the leading companies working on Bitcoin scalability. (507,211.38 USD, 783 channel)\n",
    "2. 1ML.com node ALPHA (89,453.40 USD, 884 channel)\n",
    "3. LightningPowerUsers.com (313,406.05 USD, 1,266 channel)\n",
    "4. LightningTo.Me - Helping to resolve routing and capacity issues (165,531.35 USD, 700 channel)\n",
    "5. tomjodh.nl - Buy photos with satoshis (8,709.95 USD, 47 channel)\n",
    "6. ? - ? (859.23 USD, 4 channel)\n",
    "7. nybemotion - ? (318.35 USD, 3 channel)\n",
    "\n",
    "#### Additional nodes in 2019-07-05_14:39:09_500000sat_k30000\n",
    "\n",
    "4. Bitrefill.com - Buy Gift Cards with Bitcoin for 30+ supported services (310,369.63 USD, 305 channel) - **TODO RECLASSIFY AS merchant!!!**\n",
    "6. tady je slushovo: ? (48,872.23 USD, 336 channel)"
   ]
  },
  {
   "cell_type": "markdown",
   "metadata": {},
   "source": [
    "### Nodes above 20K SAT (2.5 USD) income_diff (with alpha=None source distribution)\n",
    "\n",
    "#### 2019-08-06_13:42:00_200000sat_k30000_aNone (ordered by original income)\n",
    "\n",
    "1. yalls.org\n",
    "2. ACINQ\n",
    "3. LightningPowerUsers.com\n",
    "4. tomjodh.nl\n",
    "5. Node: 0297b368360113e29032 ???\n",
    "6. nybemotion\n",
    "\n",
    "#### 2019-08-09_14:31:08_200000sat_k30000_aNone_dropTrue\n",
    "\n",
    "1. yalls.org\n",
    "2. ln1.satoshilabs.com (306,117.70 USD - 824 channels) **(NEW)**\n",
    "3. LightningPowerUsers.com\n",
    "4. nybemotion (493.61 USD, 6 channel) ???\n",
    "5. Amazing_Droopy_3 (113.73 USD, 1 channel?) ???\n",
    "\n",
    "#### 2019-09-01_18:07:51_200000sat_k30000_aNone_dropTrue (WITH capacity maintenance)\n",
    "\n",
    "1. LightningPowerUsers.com (237,653 USD, 1261 channels)\n",
    "2. 1ML.com node ALPHA (64,630 USD, 889 channels)\n",
    "3. CoinGate (147,272 USD, 462 channels) - CoinGate is the first large cryptocurrency payment gateway to introduce Lightning Network payments to hundreds of merchants with no technical knowledge required\n",
    "4. lndhub.ru (19,066 USD, 248 channels) - increase connectivity\n",
    "5. BeerselLightningNode (13,246 USD, 84 channels)\n",
    "6. BitKassa LN34961 (13,631 USD, 47) - some kind of payment API and BTC tech company\n",
    "7. Serving Beer (2,107 USD, 13 channels) - is this really a merchant???"
   ]
  },
  {
   "cell_type": "markdown",
   "metadata": {},
   "source": [
    "average_stats[average_stats[\"income_diff\"]>20000]"
   ]
  }
 ],
 "metadata": {
  "kernelspec": {
   "display_name": "Python [conda env:dm-3-env] *",
   "language": "python",
   "name": "conda-env-dm-3-env-py"
  },
  "language_info": {
   "codemirror_mode": {
    "name": "ipython",
    "version": 3
   },
   "file_extension": ".py",
   "mimetype": "text/x-python",
   "name": "python",
   "nbconvert_exporter": "python",
   "pygments_lexer": "ipython3",
   "version": "3.7.3"
  }
 },
 "nbformat": 4,
 "nbformat_minor": 4
}