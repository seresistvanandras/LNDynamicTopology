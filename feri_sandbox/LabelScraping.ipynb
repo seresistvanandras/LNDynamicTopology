{
 "cells": [
  {
   "cell_type": "code",
   "execution_count": null,
   "metadata": {
    "collapsed": true
   },
   "outputs": [],
   "source": [
    "from bs4 import BeautifulSoup\n",
    "import scrapy, time\n",
    "from scrapy.crawler import CrawlerProcess\n",
    "import pandas as pd\n",
    "import numpy as np\n",
    "from collections import Counter"
   ]
  },
  {
   "cell_type": "code",
   "execution_count": null,
   "metadata": {
    "collapsed": true
   },
   "outputs": [],
   "source": [
    "pop_df = pd.read_csv(\"/mnt/idms/fberes/data/bitcoin_ln_research/most_pop_nodes.csv\")"
   ]
  },
  {
   "cell_type": "code",
   "execution_count": null,
   "metadata": {
    "collapsed": true
   },
   "outputs": [],
   "source": [
    "N = len(pop_df)#50"
   ]
  },
  {
   "cell_type": "code",
   "execution_count": null,
   "metadata": {
    "collapsed": true
   },
   "outputs": [],
   "source": [
    "nodes = list(pop_df[\"index\"][:N])"
   ]
  },
  {
   "cell_type": "markdown",
   "metadata": {},
   "source": [
    "nodes = [\n",
    "            \"03021c5f5f57322740e4ee6936452add19dc7ea7ccf90635f95119ab82a62ae268\",\n",
    "            \"03c2abfa93eacec04721c019644584424aab2ba4dff3ac9bdab4e9c97007491dda\"\n",
    "        ]"
   ]
  },
  {
   "cell_type": "code",
   "execution_count": null,
   "metadata": {
    "collapsed": true
   },
   "outputs": [],
   "source": [
    "class LNNodeParser(scrapy.Spider):\n",
    "    name = \"ln_node_parser\"\n",
    "    idx = 0\n",
    "    \n",
    "    def start_requests(self):\n",
    "        urls = [\"https://1ml.com/node/%s\" % n for n in nodes]\n",
    "        for url in urls:\n",
    "            yield scrapy.Request(url=url, callback=self.parse)\n",
    "\n",
    "    def parse(self, response):\n",
    "        page = response.url.split(\"/\")[-1]\n",
    "        filename = '%s.html' % page\n",
    "        with open(\"/mnt/idms/fberes/data/bitcoin_ln_research/1ml/%s\" % filename, 'wb') as f:\n",
    "            f.write(response.body)\n",
    "        self.log('Saved file %s' % filename)"
   ]
  },
  {
   "cell_type": "markdown",
   "metadata": {},
   "source": [
    "process = CrawlerProcess()\n",
    "process.crawl(LNNodeParser)\n",
    "process.start()"
   ]
  },
  {
   "cell_type": "markdown",
   "metadata": {},
   "source": [
    "process.stop()"
   ]
  },
  {
   "cell_type": "code",
   "execution_count": null,
   "metadata": {
    "collapsed": true
   },
   "outputs": [],
   "source": [
    "def get_info_type(li_item):\n",
    "    info_type = \"other\"\n",
    "    for t in li_item.span.attrs[\"class\"]:\n",
    "        if \"icon-\" in t:\n",
    "            info_type = t.replace(\"icon-\",\"\")\n",
    "            break\n",
    "    return (info_type, li_item.get_text())\n",
    "    \n",
    "def get_node_info(info_part):\n",
    "    if info_part == None:\n",
    "        return dict([])\n",
    "    else:\n",
    "        return dict(get_info_type(item) for item in info_part.find_all(\"li\"))\n",
    "\n",
    "def extract_labels(labels_part):\n",
    "    if labels_part == None:\n",
    "        return None\n",
    "    else:\n",
    "        labels = []\n",
    "        for item in labels_part.find_all(\"a\"):\n",
    "            labels.append(item.get_text())\n",
    "        return labels\n",
    "    \n",
    "def extract_node_meta_data(node_id):\n",
    "    with open(\"/mnt/idms/fberes/data/bitcoin_ln_research/1ml/%s.html\" % node_id) as f:\n",
    "        html = f.read()\n",
    "    soup = BeautifulSoup(html, 'html.parser')\n",
    "    info_part = soup.find('ul', {\"class\":\"wordwrap\"})\n",
    "    labels_part = soup.find('ul', {\"class\":\"tags\"})\n",
    "    meta_data = get_node_info(info_part)\n",
    "    meta_data[\"labels\"] = extract_labels(labels_part)\n",
    "    meta_data[\"pub_key\"] = node_id\n",
    "    return meta_data"
   ]
  },
  {
   "cell_type": "code",
   "execution_count": null,
   "metadata": {
    "collapsed": true
   },
   "outputs": [],
   "source": [
    "meta_records = []\n",
    "for i, n in enumerate(nodes):\n",
    "    meta_records.append(extract_node_meta_data(n))\n",
    "    print(i)"
   ]
  },
  {
   "cell_type": "code",
   "execution_count": null,
   "metadata": {},
   "outputs": [],
   "source": [
    "len(meta_records)"
   ]
  },
  {
   "cell_type": "markdown",
   "metadata": {},
   "source": [
    "meta_records"
   ]
  },
  {
   "cell_type": "code",
   "execution_count": null,
   "metadata": {
    "collapsed": true
   },
   "outputs": [],
   "source": [
    "meta_df = pd.DataFrame(meta_records)"
   ]
  },
  {
   "cell_type": "code",
   "execution_count": null,
   "metadata": {
    "collapsed": true
   },
   "outputs": [],
   "source": [
    "meta_df.head()"
   ]
  },
  {
   "cell_type": "markdown",
   "metadata": {},
   "source": [
    "meta_df.loc[8][\"pub_key\"]"
   ]
  },
  {
   "cell_type": "code",
   "execution_count": null,
   "metadata": {},
   "outputs": [],
   "source": [
    "(meta_df.isnull().sum() / N).sort_values()"
   ]
  },
  {
   "cell_type": "code",
   "execution_count": null,
   "metadata": {
    "collapsed": true
   },
   "outputs": [],
   "source": [
    "meta_df.to_csv(\"/mnt/idms/fberes/data/bitcoin_ln_research/node_meta.csv\", index=False)"
   ]
  },
  {
   "cell_type": "code",
   "execution_count": null,
   "metadata": {
    "collapsed": true
   },
   "outputs": [],
   "source": [
    "meta_with_labels_df = meta_df[~meta_df[\"labels\"].isnull()]"
   ]
  },
  {
   "cell_type": "code",
   "execution_count": null,
   "metadata": {},
   "outputs": [],
   "source": [
    "meta_with_labels_df[\"num_labels\"] = meta_with_labels_df[\"labels\"].apply(len)"
   ]
  },
  {
   "cell_type": "code",
   "execution_count": null,
   "metadata": {},
   "outputs": [],
   "source": [
    "meta_with_labels_df[\"num_labels\"].value_counts()"
   ]
  },
  {
   "cell_type": "code",
   "execution_count": null,
   "metadata": {},
   "outputs": [],
   "source": [
    "len(meta_with_labels_df)"
   ]
  },
  {
   "cell_type": "code",
   "execution_count": null,
   "metadata": {
    "collapsed": true
   },
   "outputs": [],
   "source": [
    "meta_with_labels_df.to_csv(\"/mnt/idms/fberes/data/bitcoin_ln_research/node_meta_with_labels.csv\", index=False)"
   ]
  },
  {
   "cell_type": "code",
   "execution_count": null,
   "metadata": {
    "collapsed": true
   },
   "outputs": [],
   "source": [
    "all_labels = []\n",
    "for lab_list in list(meta_with_labels_df[\"labels\"]):\n",
    "    all_labels += lab_list"
   ]
  },
  {
   "cell_type": "code",
   "execution_count": null,
   "metadata": {
    "collapsed": true
   },
   "outputs": [],
   "source": [
    "cnt = Counter(all_labels)"
   ]
  },
  {
   "cell_type": "code",
   "execution_count": null,
   "metadata": {
    "collapsed": true
   },
   "outputs": [],
   "source": [
    "meta_with_labels_df.head(20)"
   ]
  },
  {
   "cell_type": "code",
   "execution_count": null,
   "metadata": {},
   "outputs": [],
   "source": [
    "len(cnt), len(meta_df)"
   ]
  },
  {
   "cell_type": "markdown",
   "metadata": {},
   "source": [
    "### Label merging ideas:\n",
    "  \n",
    "- G1: every kind of games\n",
    "- G2: Banking, Excange (not G1)\n",
    "- G3: Wallet (not G1 or G2)\n",
    "- G4: every kind of Store (not G1, G2, G3)\n",
    "- G5: all remaining service providers (not G1, G2, G3, G4)\n",
    "\n",
    "Ami csak 'Open Source' vagy 'Testing' azokat nem venn\u00e9m figyelembe"
   ]
  },
  {
   "cell_type": "code",
   "execution_count": null,
   "metadata": {},
   "outputs": [],
   "source": [
    "cnt.most_common()"
   ]
  },
  {
   "cell_type": "code",
   "execution_count": null,
   "metadata": {
    "collapsed": true
   },
   "outputs": [],
   "source": [
    "label_pos = dict(zip(cnt.keys(), range(len(cnt))))"
   ]
  },
  {
   "cell_type": "code",
   "execution_count": null,
   "metadata": {
    "collapsed": true
   },
   "outputs": [],
   "source": [
    "pivot_records = []\n",
    "onehot_labels = np.zeros((len(meta_with_labels_df), len(cnt)))\n",
    "for idx, labels in enumerate(list(meta_with_labels_df[\"labels\"])):\n",
    "    for lab in labels:\n",
    "        pivot_records.append([idx, lab])\n",
    "        onehot_labels[idx, label_pos[lab]] = 1"
   ]
  },
  {
   "cell_type": "code",
   "execution_count": null,
   "metadata": {
    "collapsed": true
   },
   "outputs": [],
   "source": [
    "onehot_labels_df = pd.DataFrame(onehot_labels, columns=cnt.keys())"
   ]
  },
  {
   "cell_type": "code",
   "execution_count": null,
   "metadata": {},
   "outputs": [],
   "source": [
    "pivot_records = pd.DataFrame(pivot_records, columns=[\"item\",\"label\"])\n",
    "pivot_records.head()"
   ]
  },
  {
   "cell_type": "code",
   "execution_count": null,
   "metadata": {},
   "outputs": [],
   "source": [
    "onehot_labels_df[onehot_labels_df['Internet of Things'] == 1].sum()"
   ]
  },
  {
   "cell_type": "code",
   "execution_count": null,
   "metadata": {},
   "outputs": [],
   "source": [
    "onehot_labels_df[onehot_labels_df['Banking'] == 1].sum()"
   ]
  },
  {
   "cell_type": "code",
   "execution_count": null,
   "metadata": {
    "collapsed": true
   },
   "outputs": [],
   "source": []
  }
 ],
 "metadata": {
  "kernelspec": {
   "display_name": "Python [conda env:dm-3-env]",
   "language": "python",
   "name": "conda-env-dm-3-env-py"
  },
  "language_info": {
   "codemirror_mode": {
    "name": "ipython",
    "version": 3
   },
   "file_extension": ".py",
   "mimetype": "text/x-python",
   "name": "python",
   "nbconvert_exporter": "python",
   "pygments_lexer": "ipython3",
   "version": "3.5.4"
  }
 },
 "nbformat": 4,
 "nbformat_minor": 2
}