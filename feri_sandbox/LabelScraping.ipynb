{
 "cells": [
  {
   "cell_type": "code",
   "execution_count": null,
   "metadata": {
    "collapsed": true
   },
   "outputs": [],
   "source": [
    "import time\n",
    "from tqdm import tqdm\n",
    "from scrapy.crawler import CrawlerProcess\n",
    "import pandas as pd\n",
    "import numpy as np\n",
    "from collections import Counter\n",
    "from scraping import *"
   ]
  },
  {
   "cell_type": "code",
   "execution_count": null,
   "metadata": {
    "collapsed": true
   },
   "outputs": [],
   "source": [
    "do_scraping = False"
   ]
  },
  {
   "cell_type": "code",
   "execution_count": null,
   "metadata": {
    "collapsed": true
   },
   "outputs": [],
   "source": [
    "if do_scraping:\n",
    "    pop_df = pd.read_csv(\"/mnt/idms/fberes/data/bitcoin_ln_research/most_pop_nodes.csv\")\n",
    "    N = len(pop_df)#50\n",
    "    nodes = list(pop_df[\"index\"][:N])"
   ]
  },
  {
   "cell_type": "markdown",
   "metadata": {
    "collapsed": true
   },
   "source": [
    "nodes = [\n",
    "            '03bb88ccc444534da7b5b64b4f7b15e1eccb18e102db0e400d4b9cfe93763aa26d'\n",
    "        ]"
   ]
  },
  {
   "cell_type": "code",
   "execution_count": null,
   "metadata": {},
   "outputs": [],
   "source": [
    "if do_scraping:\n",
    "    #spider = LNNodeParser(nodes=nodes)\n",
    "    process = CrawlerProcess(LNNodeParser)\n",
    "    process.crawl()\n",
    "    process.start()"
   ]
  },
  {
   "cell_type": "code",
   "execution_count": null,
   "metadata": {
    "collapsed": true
   },
   "outputs": [],
   "source": [
    "if do_scraping:\n",
    "    process.stop()"
   ]
  },
  {
   "cell_type": "code",
   "execution_count": null,
   "metadata": {
    "scrolled": false
   },
   "outputs": [],
   "source": [
    "if do_scraping:\n",
    "    meta_records = []\n",
    "    for i, n in enumerate(nodes):\n",
    "        meta_records.append(extract_node_meta_data(n))\n",
    "        print(i)\n",
    "    meta_df = pd.DataFrame(meta_records)\n",
    "    print(meta_df.head())\n",
    "    print(len(meta_records))\n",
    "    print((meta_df.isnull().sum() / N).sort_values())\n",
    "    meta_df.to_csv(\"/mnt/idms/fberes/data/bitcoin_ln_research/node_meta.csv\", index=False)\n",
    "else:\n",
    "    meta_df = pd.read_csv(\"/mnt/idms/fberes/data/bitcoin_ln_research/node_meta.csv\")"
   ]
  },
  {
   "cell_type": "code",
   "execution_count": null,
   "metadata": {},
   "outputs": [],
   "source": [
    "meta_with_labels_df = meta_df[~meta_df[\"labels\"].isnull()]\n",
    "if not do_scraping:\n",
    "    meta_with_labels_df[\"labels\"] = meta_with_labels_df[\"labels\"].apply(eval)"
   ]
  },
  {
   "cell_type": "code",
   "execution_count": null,
   "metadata": {},
   "outputs": [],
   "source": [
    "meta_with_labels_df.head(3)"
   ]
  },
  {
   "cell_type": "markdown",
   "metadata": {},
   "source": [
    "### Label merging ideas:\n",
    "  \n",
    "- G1: every kind of games\n",
    "- G2: Banking, Excange (not G1)\n",
    "- G3: Wallet (not G1 or G2)\n",
    "- G4: every kind of Store (not G1, G2, G3)\n",
    "- G5: all remaining service providers (not G1, G2, G3, G4)\n",
    "\n",
    "Ami csak 'Open Source' vagy 'Testing' azokat nem venn\u00e9m figyelembe"
   ]
  },
  {
   "cell_type": "code",
   "execution_count": null,
   "metadata": {
    "collapsed": true
   },
   "outputs": [],
   "source": [
    "all_labels = []\n",
    "for lab_list in list(meta_with_labels_df[\"labels\"]):\n",
    "    all_labels += lab_list"
   ]
  },
  {
   "cell_type": "code",
   "execution_count": null,
   "metadata": {
    "collapsed": true
   },
   "outputs": [],
   "source": [
    "cnt = Counter(all_labels)"
   ]
  },
  {
   "cell_type": "code",
   "execution_count": null,
   "metadata": {},
   "outputs": [],
   "source": [
    "len(cnt), len(meta_with_labels_df)"
   ]
  },
  {
   "cell_type": "code",
   "execution_count": null,
   "metadata": {},
   "outputs": [],
   "source": [
    "cnt.most_common()"
   ]
  },
  {
   "cell_type": "code",
   "execution_count": null,
   "metadata": {},
   "outputs": [],
   "source": [
    "label_keys = list(cnt.keys())"
   ]
  },
  {
   "cell_type": "code",
   "execution_count": null,
   "metadata": {},
   "outputs": [],
   "source": [
    "for label in tqdm(label_keys):\n",
    "    meta_with_labels_df[label] = meta_with_labels_df[\"labels\"].apply(lambda x: 1 if label in x else 0)"
   ]
  },
  {
   "cell_type": "code",
   "execution_count": null,
   "metadata": {},
   "outputs": [],
   "source": [
    "meta_with_labels_df.drop(['Open Source', 'Testing'], axis=1, inplace=True)\n",
    "label_keys.remove('Open Source')\n",
    "label_keys.remove('Testing')"
   ]
  },
  {
   "cell_type": "code",
   "execution_count": null,
   "metadata": {},
   "outputs": [],
   "source": [
    "meta_with_labels_df[\"num_valid_labels\"] = meta_with_labels_df[label_keys].sum(axis=1)"
   ]
  },
  {
   "cell_type": "code",
   "execution_count": null,
   "metadata": {},
   "outputs": [],
   "source": [
    "meta_with_labels_df[\"num_valid_labels\"].value_counts()"
   ]
  },
  {
   "cell_type": "code",
   "execution_count": null,
   "metadata": {},
   "outputs": [],
   "source": [
    "meta_with_valid_labels = meta_with_labels_df[meta_with_labels_df[\"num_valid_labels\"]>0]"
   ]
  },
  {
   "cell_type": "code",
   "execution_count": null,
   "metadata": {},
   "outputs": [],
   "source": [
    "print(len(meta_with_valid_labels))"
   ]
  },
  {
   "cell_type": "code",
   "execution_count": null,
   "metadata": {
    "collapsed": true
   },
   "outputs": [],
   "source": [
    "meta_with_valid_labels.to_csv(\"/mnt/idms/fberes/data/bitcoin_ln_research/node_meta_with_labels.csv\", index=False)"
   ]
  }
 ],
 "metadata": {
  "kernelspec": {
   "display_name": "Python [conda env:dm-3-env]",
   "language": "python",
   "name": "conda-env-dm-3-env-py"
  },
  "language_info": {
   "codemirror_mode": {
    "name": "ipython",
    "version": 3
   },
   "file_extension": ".py",
   "mimetype": "text/x-python",
   "name": "python",
   "nbconvert_exporter": "python",
   "pygments_lexer": "ipython3",
   "version": "3.5.4"
  }
 },
 "nbformat": 4,
 "nbformat_minor": 2
}