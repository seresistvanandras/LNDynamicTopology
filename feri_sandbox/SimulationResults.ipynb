{
 "cells": [
  {
   "cell_type": "code",
   "execution_count": null,
   "metadata": {},
   "outputs": [],
   "source": [
    "%load_ext autoreload\n",
    "%autoreload 2"
   ]
  },
  {
   "cell_type": "code",
   "execution_count": null,
   "metadata": {},
   "outputs": [],
   "source": [
    "import pandas as pd\n",
    "import numpy as np\n",
    "from ln_utils import *\n",
    "from transaction_simulator import *"
   ]
  },
  {
   "cell_type": "code",
   "execution_count": null,
   "metadata": {},
   "outputs": [],
   "source": [
    "%matplotlib inline\n",
    "import seaborn as sns\n",
    "import matplotlib.pyplot as plt"
   ]
  },
  {
   "cell_type": "markdown",
   "metadata": {},
   "source": [
    "### WHAT TO DO WITH INF-s???"
   ]
  },
  {
   "cell_type": "markdown",
   "metadata": {},
   "source": [
    "experiment_id = \"2019-05-30_18:55:02_100000sat_k10000\"\n",
    "snapshots = range(7)\n",
    "simulation_dir = \"/mnt/idms/fberes/data/bitcoin_ln_research/simulations/\""
   ]
  },
  {
   "cell_type": "markdown",
   "metadata": {},
   "source": [
    "experiment_files = get_experiment_files(experiment_id, snapshots, simulation_dir)"
   ]
  },
  {
   "cell_type": "markdown",
   "metadata": {},
   "source": [
    "all_infos = []\n",
    "for snap_id in snapshots:\n",
    "    info, df = aggregate_samples(experiment_files, snap_id)\n",
    "    all_infos.append(info)\n",
    "    print(snap_id)"
   ]
  },
  {
   "cell_type": "markdown",
   "metadata": {},
   "source": [
    "all_infos[0]"
   ]
  },
  {
   "cell_type": "markdown",
   "metadata": {},
   "source": [
    "### Average correlation (over time) between cost changes and other metric"
   ]
  },
  {
   "cell_type": "markdown",
   "metadata": {},
   "source": [
    "methods = [\"spearman\",\"wkendall\",\"kendall\"]\n",
    "fig, axis = plt.subplots(len(methods), 1, figsize=(10,15))\n",
    "for i, m in enumerate(methods):\n",
    "    mx = corr_mx(all_infos[0].drop(\"removed_node\", axis=1), method=m)\n",
    "    for j in range(1,len(all_infos)):\n",
    "        mx = np.add(mx, corr_mx(all_infos[j].drop(\"removed_node\", axis=1), method=m))\n",
    "    axis[i].set_title(m)\n",
    "    sns.heatmap(mx / len(all_infos), annot=True, ax=axis[i], vmin=-0.3, vmax=1.0)"
   ]
  },
  {
   "cell_type": "markdown",
   "metadata": {},
   "source": [
    "# Node analysis with 1ML background"
   ]
  },
  {
   "cell_type": "markdown",
   "metadata": {},
   "source": [
    "from scrapy.crawler import CrawlerProcess\n",
    "from scraping import *"
   ]
  },
  {
   "cell_type": "markdown",
   "metadata": {},
   "source": [
    "### Average metrics of nodes"
   ]
  },
  {
   "cell_type": "markdown",
   "metadata": {},
   "source": [
    "mean_all_info = pd.concat(all_infos, sort=True).groupby(\"removed_node\").mean()\n",
    "mean_all_info = mean_all_info.sort_values(\"cost_diff\", ascending=False)"
   ]
  },
  {
   "cell_type": "markdown",
   "metadata": {},
   "source": [
    "def show_df_with_alias(df):\n",
    "    nodes = list(df.index)\n",
    "    process = CrawlerProcess()\n",
    "    process.crawl(LNNodeParser(nodes))\n",
    "    process.start()\n",
    "    print()"
   ]
  },
  {
   "cell_type": "markdown",
   "metadata": {},
   "source": [
    "show_df_with_alias(mean_all_info.head(10))"
   ]
  },
  {
   "cell_type": "markdown",
   "metadata": {},
   "source": [
    "mean_all_info.head(10)"
   ]
  },
  {
   "cell_type": "markdown",
   "metadata": {},
   "source": [
    "mean_all_info.tail(10)"
   ]
  },
  {
   "cell_type": "markdown",
   "metadata": {},
   "source": [
    "# 1. Load data"
   ]
  },
  {
   "cell_type": "code",
   "execution_count": null,
   "metadata": {},
   "outputs": [],
   "source": [
    "def load_data(experiment_files, snapshots, file_postfix):\n",
    "    parts = []\n",
    "    for snap_id in snapshots:\n",
    "        data_files = []\n",
    "        for f in experiment_files[snap_id]:\n",
    "            sample_id = f.split(\".\")[-1]\n",
    "            if file_postfix == \"router_incomes\":\n",
    "                df = pd.read_csv(\"%s/%s.csv\" % (f, file_postfix), header=None)\n",
    "                df.columns = [\"node\",\"income\"]\n",
    "            else:\n",
    "                df = pd.read_csv(\"%s/%s.csv\" % (f, file_postfix))\n",
    "            df[\"sample\"] = int(sample_id)\n",
    "            data_files.append(df)\n",
    "        tmp_df = pd.concat(data_files, axis=0, sort=False)\n",
    "        tmp_df[\"snapshot_id\"] = snap_id\n",
    "        parts.append(tmp_df)\n",
    "        print(snap_id)\n",
    "    return parts"
   ]
  },
  {
   "cell_type": "code",
   "execution_count": null,
   "metadata": {},
   "outputs": [],
   "source": [
    "#experiment_id = \"2019-07-04_11:12:08_200000sat_k30000\"\n",
    "#experiment_id = \"2019-07-05_14:39:09_200000sat_k30000\"\n",
    "#experiment_id = \"2019-07-05_14:39:09_500000sat_k30000\"\n",
    "experiment_id = \"2019-08-06_13:42:00_200000sat_k30000_aNone\"\n",
    "snapshots = range(7)\n",
    "simulation_dir = \"/mnt/idms/fberes/data/bitcoin_ln_research/simulations/\""
   ]
  },
  {
   "cell_type": "code",
   "execution_count": null,
   "metadata": {},
   "outputs": [],
   "source": [
    "experiment_folders = get_experiment_files(experiment_id, snapshots, simulation_dir)"
   ]
  },
  {
   "cell_type": "code",
   "execution_count": null,
   "metadata": {},
   "outputs": [],
   "source": [
    "experiment_folders[0]"
   ]
  },
  {
   "cell_type": "code",
   "execution_count": null,
   "metadata": {},
   "outputs": [],
   "source": [
    "pricing_pol = load_data(experiment_folders, snapshots, \"opt_fees\")"
   ]
  },
  {
   "cell_type": "code",
   "execution_count": null,
   "metadata": {},
   "outputs": [],
   "source": [
    "source_fee = load_data(experiment_folders, snapshots, \"source_fees\")"
   ]
  },
  {
   "cell_type": "code",
   "execution_count": null,
   "metadata": {},
   "outputs": [],
   "source": [
    "router_income = load_data(experiment_folders, snapshots, \"router_incomes\")"
   ]
  },
  {
   "cell_type": "markdown",
   "metadata": {},
   "source": [
    "## Router incomes"
   ]
  },
  {
   "cell_type": "code",
   "execution_count": null,
   "metadata": {
    "slideshow": {
     "slide_type": "slide"
    }
   },
   "outputs": [],
   "source": [
    "x = snapshots\n",
    "y = [router_income[i][\"income\"].mean() for i in snapshots]\n",
    "plt.plot(x,y, \"bo\")"
   ]
  },
  {
   "cell_type": "code",
   "execution_count": null,
   "metadata": {
    "slideshow": {
     "slide_type": "slide"
    }
   },
   "outputs": [],
   "source": [
    "sns.jointplot(data=pd.concat(router_income), x=\"snapshot_id\", y=\"income\")"
   ]
  },
  {
   "cell_type": "markdown",
   "metadata": {
    "slideshow": {
     "slide_type": "slide"
    }
   },
   "source": [
    "## Source fees"
   ]
  },
  {
   "cell_type": "code",
   "execution_count": null,
   "metadata": {
    "slideshow": {
     "slide_type": "slide"
    }
   },
   "outputs": [],
   "source": [
    "x = snapshots\n",
    "y = [source_fee[i][\"mean_fee\"].mean() for i in snapshots]\n",
    "plt.plot(x,y, \"bo\")"
   ]
  },
  {
   "cell_type": "code",
   "execution_count": null,
   "metadata": {
    "slideshow": {
     "slide_type": "slide"
    }
   },
   "outputs": [],
   "source": [
    "sns.jointplot(data=pd.concat(source_fee), x=\"snapshot_id\", y=\"mean_fee\")"
   ]
  },
  {
   "cell_type": "markdown",
   "metadata": {
    "slideshow": {
     "slide_type": "slide"
    }
   },
   "source": [
    "## Optimal pricing"
   ]
  },
  {
   "cell_type": "code",
   "execution_count": null,
   "metadata": {
    "slideshow": {
     "slide_type": "slide"
    }
   },
   "outputs": [],
   "source": [
    "x = snapshots\n",
    "y = [pricing_pol[i][\"opt_delta\"].mean() for i in snapshots]\n",
    "plt.plot(x,y, \"bo\")"
   ]
  },
  {
   "cell_type": "code",
   "execution_count": null,
   "metadata": {
    "slideshow": {
     "slide_type": "slide"
    }
   },
   "outputs": [],
   "source": [
    "x = snapshots\n",
    "y = [pricing_pol[i][\"opt_traffic\"].mean() for i in snapshots]\n",
    "plt.plot(x,y, \"bo\")"
   ]
  },
  {
   "cell_type": "code",
   "execution_count": null,
   "metadata": {
    "slideshow": {
     "slide_type": "slide"
    }
   },
   "outputs": [],
   "source": [
    "x = snapshots\n",
    "y = [pricing_pol[i][\"origi_income\"].mean() for i in snapshots]\n",
    "plt.plot(x,y, \"bo\")"
   ]
  },
  {
   "cell_type": "code",
   "execution_count": null,
   "metadata": {
    "slideshow": {
     "slide_type": "slide"
    }
   },
   "outputs": [],
   "source": [
    "x = snapshots\n",
    "y = [pricing_pol[i][\"opt_income\"].mean() for i in snapshots]\n",
    "plt.plot(x,y, \"bo\")"
   ]
  },
  {
   "cell_type": "markdown",
   "metadata": {},
   "source": [
    "### Calculate income revenue"
   ]
  },
  {
   "cell_type": "code",
   "execution_count": null,
   "metadata": {},
   "outputs": [],
   "source": [
    "for df in pricing_pol:\n",
    "    df[\"income_diff\"] = df[\"opt_income\"] - df[\"origi_income\"]"
   ]
  },
  {
   "cell_type": "markdown",
   "metadata": {
    "slideshow": {
     "slide_type": "slide"
    }
   },
   "source": [
    "# 2. Simulation stability"
   ]
  },
  {
   "cell_type": "code",
   "execution_count": null,
   "metadata": {},
   "outputs": [],
   "source": [
    "corrs = [\"spearman\",\"kendall\",\"wkendall\"]"
   ]
  },
  {
   "cell_type": "code",
   "execution_count": null,
   "metadata": {},
   "outputs": [],
   "source": [
    "def avg_cross_corr(df, snapshot_id, col, methods=corrs, key_col=\"node\"):\n",
    "    snap = df[snapshot_id]\n",
    "    sample_num = snap[\"sample\"].max()+1\n",
    "    cols = [key_col, col]\n",
    "    merged = snap[snap[\"sample\"]==0][cols].rename({col:col+\"_0\"}, axis=1)\n",
    "    for i in range(1,sample_num):\n",
    "        s = snap[snap[\"sample\"]==i][cols].rename({col:col+\"_%i\" % i}, axis=1)\n",
    "        merged = merged.merge(s, on=key_col, how=\"outer\").fillna(0.0)\n",
    "    merged.drop(\"node\", inplace=True, axis=1)\n",
    "    res = {}\n",
    "    for method in methods:\n",
    "        cnt = corr_mx(merged, method=method).sum().sum() - sample_num \n",
    "        denom = sample_num**2-sample_num\n",
    "        res[method] = cnt / denom\n",
    "    return res"
   ]
  },
  {
   "cell_type": "code",
   "execution_count": null,
   "metadata": {},
   "outputs": [],
   "source": [
    "origi_inc = pd.DataFrame([avg_cross_corr(pricing_pol, snap_id, \"origi_income\") for snap_id in snapshots])\n",
    "opt_inc = pd.DataFrame([avg_cross_corr(pricing_pol, snap_id, \"opt_income\") for snap_id in snapshots])\n",
    "income_diff = pd.DataFrame([avg_cross_corr(pricing_pol, snap_id, \"income_diff\") for snap_id in snapshots])\n",
    "opt_delta = pd.DataFrame([avg_cross_corr(pricing_pol, snap_id, \"opt_delta\") for snap_id in snapshots])"
   ]
  },
  {
   "cell_type": "code",
   "execution_count": null,
   "metadata": {
    "slideshow": {
     "slide_type": "slide"
    }
   },
   "outputs": [],
   "source": [
    "colors = ['b','g','r','m']\n",
    "fig, axis = plt.subplots(1,3,figsize=(15,4))\n",
    "x = snapshots\n",
    "# incomes\n",
    "axis[0].set_title(\"INCOME mean cross correlations\")\n",
    "for i, c in enumerate(corrs):\n",
    "    axis[0].plot(x,origi_inc[c], colors[i]+'-', label=c+\"_orig\")\n",
    "    axis[0].plot(x,opt_inc[c], colors[i]+'--', label=c+\"_opt\")\n",
    "axis[0].set_xlabel(\"snapshot\")\n",
    "axis[0].legend()\n",
    "# income_diff\n",
    "axis[1].set_title(\"INCOME_DIFF mean cross correlations\")\n",
    "for i, c in enumerate(corrs):\n",
    "    axis[1].plot(x,income_diff[c], colors[i]+'-', label=c)\n",
    "axis[1].set_xlabel(\"snapshot\")\n",
    "axis[1].legend()\n",
    "# opt_delta\n",
    "axis[2].set_title(\"OPT_DELTA mean cross correlations\")\n",
    "for i, c in enumerate(corrs):\n",
    "    axis[2].plot(x,opt_delta[c], colors[i]+'-', label=c)\n",
    "axis[2].set_xlabel(\"snapshot\")\n",
    "axis[2].legend()\n",
    "plt.show()"
   ]
  },
  {
   "cell_type": "markdown",
   "metadata": {
    "slideshow": {
     "slide_type": "slide"
    }
   },
   "source": [
    "#### Incomes observations\n",
    "\n",
    "- taking mean cross correlation of user incomes (original and optimal)\n",
    "- weighted kendall-tau gives approx. 0.95\n",
    "- in case of unweighted spearman and kendall the optimal income correlates better across samples \n",
    "\n",
    "#### income_diff observations\u00b6\n",
    "\n",
    "- taking mean cross correlation of income difference (optimal income - original income)\n",
    "- weighted kendall-tau gives approx. 0.95\n",
    "\n",
    "#### opt_delta observations\u00b6\n",
    "\n",
    "- taking mean cross correlation of optimal base fee change\n",
    "- weighted kendall-tau gives approx. 0.95"
   ]
  },
  {
   "cell_type": "markdown",
   "metadata": {},
   "source": [
    "# 3. Income revenue analysis"
   ]
  },
  {
   "cell_type": "code",
   "execution_count": null,
   "metadata": {},
   "outputs": [],
   "source": [
    "def cut_into_categories(df):\n",
    "    #categories = [df[:10], df[10:30], df[30:50], df[50:100]]\n",
    "    #categories = [df[:20], df[20:50], df[50:100], df[100:200]]\n",
    "    #categories = [df[:10], df[10:20], df[20:30], df[30:40], df[40:50], df[50:100], df[100:500]]\n",
    "    categories = [df[:10], df[10:30], df[30:50], df[50:100], df[100:500]]\n",
    "    #categories = [df[:50], df[50:100], df[100:500]]#, df[200:500]]\n",
    "    return categories\n",
    "\n",
    "def merge_categories(categories):\n",
    "    for i, cat in enumerate(categories):\n",
    "        cat[\"category\"] = i\n",
    "    return pd.concat(categories)\n",
    "    \n",
    "def show_stats(snap_id, col=\"income_diff\"):\n",
    "    mean = pricing_pol[snap_id].groupby(\"node\").mean().sort_values(\"origi_income\", ascending=False)\n",
    "    categories = cut_into_categories(mean)\n",
    "    return [float(cat[[col]].mean()) for cat in categories]"
   ]
  },
  {
   "cell_type": "code",
   "execution_count": null,
   "metadata": {},
   "outputs": [],
   "source": [
    "x = range(5)"
   ]
  },
  {
   "cell_type": "markdown",
   "metadata": {},
   "source": [
    "### Visualize each snapshot"
   ]
  },
  {
   "cell_type": "markdown",
   "metadata": {},
   "source": [
    "df = pd.DataFrame([show_stats(i, \"income_diff\") for i in snapshots])"
   ]
  },
  {
   "cell_type": "markdown",
   "metadata": {},
   "source": [
    "plt.Figure(figsize=(10,10))\n",
    "for i in snapshots:\n",
    "    plt.plot(x, show_stats(i, \"income_diff\"), label=i)\n",
    "plt.yscale(\"log\")\n",
    "plt.legend()"
   ]
  },
  {
   "cell_type": "markdown",
   "metadata": {},
   "source": [
    "plt.Figure(figsize=(10,10))\n",
    "for i in snapshots:\n",
    "    plt.plot(x, show_stats(i, \"opt_traffic\"), label=i)\n",
    "plt.legend()"
   ]
  },
  {
   "cell_type": "markdown",
   "metadata": {},
   "source": [
    "### Average stats (over all snapshots and samples)"
   ]
  },
  {
   "cell_type": "markdown",
   "metadata": {},
   "source": [
    "average_stats = pricing_pol[0].groupby(\"node\").mean().sort_values(\"origi_income\", ascending=False)[[\"income_diff\",\"origi_income\",\"opt_income\",\"opt_traffic\",\"opt_delta\"]]"
   ]
  },
  {
   "cell_type": "code",
   "execution_count": null,
   "metadata": {},
   "outputs": [],
   "source": [
    "all_records = pd.concat([pricing_pol[i] for i in snapshots])"
   ]
  },
  {
   "cell_type": "code",
   "execution_count": null,
   "metadata": {},
   "outputs": [],
   "source": [
    "average_stats = all_records.groupby(\"node\").mean().sort_values(\"origi_income\", ascending=False)[[\"income_diff\",\"origi_income\",\"opt_income\",\"opt_traffic\",\"opt_delta\"]]"
   ]
  },
  {
   "cell_type": "code",
   "execution_count": null,
   "metadata": {},
   "outputs": [],
   "source": [
    "average_stats_cats = cut_into_categories(average_stats)\n",
    "mean_diff = [float(cat[[\"income_diff\"]].mean()) for cat in average_stats_cats]\n",
    "mean_traffic = [float(cat[[\"opt_traffic\"]].mean()) for cat in average_stats_cats]\n",
    "mean_delta = [float(cat[[\"opt_delta\"]].mean()) for cat in average_stats_cats]"
   ]
  },
  {
   "cell_type": "code",
   "execution_count": null,
   "metadata": {
    "slideshow": {
     "slide_type": "slide"
    }
   },
   "outputs": [],
   "source": [
    "fig, axis = plt.subplots(1,3,figsize=(15,4))\n",
    "axis[0].plot(x, mean_diff, 'rx')\n",
    "axis[0].set_xlabel(\"income category\")\n",
    "axis[0].set_ylabel(\"mean income_diff\")\n",
    "axis[1].plot(x, mean_delta, 'g*')\n",
    "axis[1].set_xlabel(\"income category\")\n",
    "axis[1].set_ylabel(\"mean opt_delta\")\n",
    "axis[2].plot(x, mean_traffic, 'bo')\n",
    "axis[2].set_xlabel(\"income category\")\n",
    "axis[2].set_ylabel(\"mean opt_traffic\")\n",
    "plt.show()"
   ]
  },
  {
   "cell_type": "markdown",
   "metadata": {},
   "source": [
    "#### Mean original income for the selected categories"
   ]
  },
  {
   "cell_type": "code",
   "execution_count": null,
   "metadata": {
    "slideshow": {
     "slide_type": "subslide"
    }
   },
   "outputs": [],
   "source": [
    "[float(cat[[\"origi_income\"]].mean()) for cat in average_stats_cats]"
   ]
  },
  {
   "cell_type": "markdown",
   "metadata": {},
   "source": [
    "### PROBLEM with outliers..."
   ]
  },
  {
   "cell_type": "code",
   "execution_count": null,
   "metadata": {},
   "outputs": [],
   "source": [
    "merged = merge_categories(average_stats_cats)"
   ]
  },
  {
   "cell_type": "code",
   "execution_count": null,
   "metadata": {},
   "outputs": [],
   "source": [
    "sns.boxplot(data=merged, x=\"category\", y=\"income_diff\", whis=2)"
   ]
  },
  {
   "cell_type": "markdown",
   "metadata": {},
   "source": [
    "average_stats.head(10)"
   ]
  },
  {
   "cell_type": "markdown",
   "metadata": {},
   "source": [
    "### Nodes above 20K SAT (2.5 USD) income_diff (with alpha=2.0 source distribution)\n",
    "\n",
    "#### 2019-07-04_11:12:08_200000sat_k30000 (ordered by original income)\n",
    "\n",
    "1. yalls.org - Read and write articles, with Lightning Network micropayments. (195,925.46 USD)\n",
    "2. ACINQ - ACINQ is one of the leading companies working on Bitcoin scalability. (507,211.38 USD)\n",
    "3. 1ML.com node ALPHA (89,453.40 USD)\n",
    "4. LightningPowerUsers.com (313,406.05 USD)\n",
    "5. LightningTo.Me - Helping to resolve routing and capacity issues (165,531.35 USD)\n",
    "6. tomjodh.nl - Buy photos with satoshis (8,709.95 USD) - **TODO RECLASSIFY AS merchant!!!**\n",
    "7. ? - ? (848.05 USD)\n",
    "\n",
    "#### 2019-07-05_14:39:09_200000sat_k30000 (ordered by original income)\n",
    "\n",
    "1. ACINQ - ACINQ is one of the leading companies working on Bitcoin scalability. (507,211.38 USD, 783 channel)\n",
    "2. 1ML.com node ALPHA (89,453.40 USD, 884 channel)\n",
    "3. LightningPowerUsers.com (313,406.05 USD, 1,266 channel)\n",
    "4. LightningTo.Me - Helping to resolve routing and capacity issues (165,531.35 USD, 700 channel)\n",
    "5. tomjodh.nl - Buy photos with satoshis (8,709.95 USD, 47 channel)\n",
    "6. ? - ? (859.23 USD, 4 channel)\n",
    "7. nybemotion - ? (318.35 USD, 3 channel)\n",
    "\n",
    "#### Additional nodes in 2019-07-05_14:39:09_500000sat_k30000\n",
    "\n",
    "4. Bitrefill.com - Buy Gift Cards with Bitcoin for 30+ supported services (310,369.63 USD, 305 channel) - **TODO RECLASSIFY AS merchant!!!**\n",
    "6. tady je slushovo: ? (48,872.23 USD, 336 channel)"
   ]
  },
  {
   "cell_type": "code",
   "execution_count": null,
   "metadata": {},
   "outputs": [],
   "source": [
    "average_stats[average_stats[\"income_diff\"]>20000]"
   ]
  },
  {
   "cell_type": "markdown",
   "metadata": {},
   "source": [
    "### Nodes above 20K SAT (2.5 USD) income_diff (with alpha=None source distribution)\n",
    "\n",
    "#### 2019-08-06_13:42:00_200000sat_k30000_aNone (ordered by original income)\n",
    "\n",
    "1. yalls.org\n",
    "2. ACINQ\n",
    "3. LightningPowerUsers.com\n",
    "4. tomjodh.nl\n",
    "5. Node: 0297b368360113e29032 ???\n",
    "6. nybemotion"
   ]
  }
 ],
 "metadata": {
  "kernelspec": {
   "display_name": "Python [conda env:dm-3-env] *",
   "language": "python",
   "name": "conda-env-dm-3-env-py"
  },
  "language_info": {
   "codemirror_mode": {
    "name": "ipython",
    "version": 3
   },
   "file_extension": ".py",
   "mimetype": "text/x-python",
   "name": "python",
   "nbconvert_exporter": "python",
   "pygments_lexer": "ipython3",
   "version": "3.7.3"
  }
 },
 "nbformat": 4,
 "nbformat_minor": 4
}