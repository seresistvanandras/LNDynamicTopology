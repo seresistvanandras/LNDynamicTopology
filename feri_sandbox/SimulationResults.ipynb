{
 "cells": [
  {
   "cell_type": "code",
   "execution_count": 1,
   "metadata": {},
   "outputs": [],
   "source": [
    "%load_ext autoreload\n",
    "%autoreload 2"
   ]
  },
  {
   "cell_type": "code",
   "execution_count": 2,
   "metadata": {},
   "outputs": [],
   "source": [
    "import pandas as pd\n",
    "import numpy as np\n",
    "from ln_utils import *\n",
    "from transaction_simulator import *"
   ]
  },
  {
   "cell_type": "code",
   "execution_count": 3,
   "metadata": {},
   "outputs": [],
   "source": [
    "%matplotlib inline\n",
    "import seaborn as sns\n",
    "import matplotlib.pyplot as plt"
   ]
  },
  {
   "cell_type": "code",
   "execution_count": 4,
   "metadata": {},
   "outputs": [
    {
     "name": "stdout",
     "output_type": "stream",
     "text": [
      "['/home/fberes/miniconda3/envs/dm-3-env/lib/python3.7/site-packages/ipykernel_launcher.py', '-f', '/home/fberes/.local/share/jupyter/runtime/kernel-d1fb86bb-88a3-4cfd-899c-69ee33970132.json']\n",
      "/home/fberes/git_hulk2/LNDynamicTopology\n",
      "/home/fberes/git_hulk2/LNDynamicTopology\n",
      "Default parameters:\n",
      "{'alpha': None, 'amount_sat': 50000, 'data_dir': '/mnt/idms/fberes/data/bitcoin_ln_research', 'day_interval': 7, 'drop_disabled': True, 'experiment_id': 'trial', 'num_transactions': 6000, 'sim_dir': '2019-09-03_15:28:05_50000sat_k5000_aNone_dropFalse', 'snapshot_id': 0, 'snapshot_ids': [0, 1, 2, 3, 4, 5, 6, 7, 8], 'weight': None, 'weight_cols': [None, 'num_channels', 'capacity', 'fee_base_msat', 'fee_rate_milli_msat']}\n",
      "Custom parameters:\n",
      "{}\n"
     ]
    }
   ],
   "source": [
    "import sys\n",
    "from datawand.parametrization import ParamHelper\n",
    "ph = ParamHelper(\"../\",\"LNGraph\",sys.argv)"
   ]
  },
  {
   "cell_type": "markdown",
   "metadata": {},
   "source": [
    "# 1. Load data"
   ]
  },
  {
   "cell_type": "code",
   "execution_count": 5,
   "metadata": {},
   "outputs": [],
   "source": [
    "node_names = pd.read_csv(\"/mnt/idms/fberes/data/bitcoin_ln_research/node_names.csv\")"
   ]
  },
  {
   "cell_type": "code",
   "execution_count": 6,
   "metadata": {},
   "outputs": [
    {
     "data": {
      "text/html": [
       "<div>\n",
       "<style scoped>\n",
       "    .dataframe tbody tr th:only-of-type {\n",
       "        vertical-align: middle;\n",
       "    }\n",
       "\n",
       "    .dataframe tbody tr th {\n",
       "        vertical-align: top;\n",
       "    }\n",
       "\n",
       "    .dataframe thead th {\n",
       "        text-align: right;\n",
       "    }\n",
       "</style>\n",
       "<table border=\"1\" class=\"dataframe\">\n",
       "  <thead>\n",
       "    <tr style=\"text-align: right;\">\n",
       "      <th></th>\n",
       "      <th>name</th>\n",
       "      <th>cap_ratio</th>\n",
       "      <th>cap_sat</th>\n",
       "      <th>pub_key</th>\n",
       "      <th>is_lnbig</th>\n",
       "    </tr>\n",
       "  </thead>\n",
       "  <tbody>\n",
       "    <tr>\n",
       "      <th>0</th>\n",
       "      <td>Red.de.Rayos</td>\n",
       "      <td>0.085</td>\n",
       "      <td>87746902</td>\n",
       "      <td>033ac2f9f7ff643c235cc247c521663924aff73b26b381...</td>\n",
       "      <td>False</td>\n",
       "    </tr>\n",
       "    <tr>\n",
       "      <th>1</th>\n",
       "      <td>J4K0B [LND]</td>\n",
       "      <td>0.000</td>\n",
       "      <td>431216</td>\n",
       "      <td>03dce085156c59854f5d66c87461f35001501d4bffa33d...</td>\n",
       "      <td>False</td>\n",
       "    </tr>\n",
       "    <tr>\n",
       "      <th>2</th>\n",
       "      <td>Sauerland Route</td>\n",
       "      <td>0.015</td>\n",
       "      <td>15000000</td>\n",
       "      <td>036fda475a47bc45f90ac43fd61c3ab8bbc0bcfed64aaa...</td>\n",
       "      <td>False</td>\n",
       "    </tr>\n",
       "    <tr>\n",
       "      <th>3</th>\n",
       "      <td>bcwat.ch</td>\n",
       "      <td>0.049</td>\n",
       "      <td>50777766</td>\n",
       "      <td>021f5bfc335e949e555e93a1532b670a37ef7325410d26...</td>\n",
       "      <td>False</td>\n",
       "    </tr>\n",
       "    <tr>\n",
       "      <th>4</th>\n",
       "      <td>0366409a4825691770ff2</td>\n",
       "      <td>0.000</td>\n",
       "      <td>0</td>\n",
       "      <td>0366409a4825691770ff218af75359167038ef66957344...</td>\n",
       "      <td>False</td>\n",
       "    </tr>\n",
       "  </tbody>\n",
       "</table>\n",
       "</div>"
      ],
      "text/plain": [
       "                    name  cap_ratio   cap_sat  \\\n",
       "0           Red.de.Rayos      0.085  87746902   \n",
       "1            J4K0B [LND]      0.000    431216   \n",
       "2        Sauerland Route      0.015  15000000   \n",
       "3               bcwat.ch      0.049  50777766   \n",
       "4  0366409a4825691770ff2      0.000         0   \n",
       "\n",
       "                                             pub_key  is_lnbig  \n",
       "0  033ac2f9f7ff643c235cc247c521663924aff73b26b381...     False  \n",
       "1  03dce085156c59854f5d66c87461f35001501d4bffa33d...     False  \n",
       "2  036fda475a47bc45f90ac43fd61c3ab8bbc0bcfed64aaa...     False  \n",
       "3  021f5bfc335e949e555e93a1532b670a37ef7325410d26...     False  \n",
       "4  0366409a4825691770ff218af75359167038ef66957344...     False  "
      ]
     },
     "execution_count": 6,
     "metadata": {},
     "output_type": "execute_result"
    }
   ],
   "source": [
    "node_names.head()"
   ]
  },
  {
   "cell_type": "code",
   "execution_count": 7,
   "metadata": {},
   "outputs": [
    {
     "data": {
      "text/plain": [
       "25"
      ]
     },
     "execution_count": 7,
     "metadata": {},
     "output_type": "execute_result"
    }
   ],
   "source": [
    "LNBIG_nodes = list(node_names[node_names[\"is_lnbig\"]][\"pub_key\"])\n",
    "len(LNBIG_nodes)"
   ]
  },
  {
   "cell_type": "code",
   "execution_count": 8,
   "metadata": {},
   "outputs": [],
   "source": [
    "node_names = node_names[[\"name\",\"pub_key\"]]"
   ]
  },
  {
   "cell_type": "code",
   "execution_count": 9,
   "metadata": {},
   "outputs": [],
   "source": [
    "def load_data(experiment_files, snapshots, file_postfix):\n",
    "    parts = []\n",
    "    for snap_id in snapshots:\n",
    "        data_files = []\n",
    "        for f in experiment_files[snap_id]:\n",
    "            sample_id = f.split(\".\")[-1]\n",
    "            #if file_postfix == \"router_incomes\":\n",
    "            #    df = pd.read_csv(\"%s/%s.csv\" % (f, file_postfix), header=None)\n",
    "            #    df.columns = [\"node\",\"income\"]\n",
    "            #else:\n",
    "            df = pd.read_csv(\"%s/%s.csv\" % (f, file_postfix))\n",
    "            df[\"sample\"] = int(sample_id)\n",
    "            data_files.append(df)\n",
    "        tmp_df = pd.concat(data_files, axis=0, sort=False)\n",
    "        tmp_df[\"snapshot_id\"] = snap_id\n",
    "        parts.append(tmp_df)\n",
    "        print(snap_id)\n",
    "    return parts"
   ]
  },
  {
   "cell_type": "markdown",
   "metadata": {},
   "source": [
    "#experiment_id = \"2019-07-04_11:12:08_200000sat_k30000\"\n",
    "#experiment_id = \"2019-07-05_14:39:09_200000sat_k30000\"\n",
    "#experiment_id = \"2019-07-05_14:39:09_500000sat_k30000\"\n",
    "#experiment_id = \"2019-08-06_13:42:00_200000sat_k30000_aNone\"\n",
    "#experiment_id = \"2019-08-09_14:31:08_200000sat_k30000_aNone_dropTrue\"\n",
    "#experiment_id = \"2019-08-09_14:31:08_127807sat_k50000_aNone_dropTrue\"\n",
    "#experiment_id = \"2019-09-01_18:07:51_200000sat_k30000_aNone_dropTrue\"\n",
    "#experiment_id = \"2019-09-02_17:05:18_100000sat_k5000_aNone_dropFalse\"\n",
    "#experiment_id = \"2019-09-03_15:28:05_50000sat_k5000_aNone_dropFalse\"\n",
    "#experiment_id = \"2019-09-05_14:35:13_50000sat_k6000_aNone_dropTrue\"\n",
    "experiment_id = ph.get(\"sim_dir\")"
   ]
  },
  {
   "cell_type": "markdown",
   "metadata": {},
   "source": [
    "snapshots = range(7)\n",
    "simulation_dir = \"/mnt/idms/fberes/data/bitcoin_ln_research/simulations/\""
   ]
  },
  {
   "cell_type": "code",
   "execution_count": 10,
   "metadata": {},
   "outputs": [],
   "source": [
    "#experiment_id = ph.get(\"sim_dir\")\n",
    "experiment_id = \"2019-09-06_22:03:19_50000sat_k6000\"\n",
    "snapshots = range(40)#range(54)\n",
    "simulation_dir = \"/mnt/idms/fberes/data/bitcoin_ln_research/simulations_1days/\""
   ]
  },
  {
   "cell_type": "code",
   "execution_count": 11,
   "metadata": {},
   "outputs": [],
   "source": [
    "experiment_folders = get_experiment_files(experiment_id, snapshots, simulation_dir)"
   ]
  },
  {
   "cell_type": "code",
   "execution_count": 12,
   "metadata": {},
   "outputs": [
    {
     "data": {
      "text/plain": [
       "['/mnt/idms/fberes/data/bitcoin_ln_research/simulations_1days//0/2019-09-06_22:03:19_50000sat_k6000.2',\n",
       " '/mnt/idms/fberes/data/bitcoin_ln_research/simulations_1days//0/2019-09-06_22:03:19_50000sat_k6000.1',\n",
       " '/mnt/idms/fberes/data/bitcoin_ln_research/simulations_1days//0/2019-09-06_22:03:19_50000sat_k6000.0',\n",
       " '/mnt/idms/fberes/data/bitcoin_ln_research/simulations_1days//0/2019-09-06_22:03:19_50000sat_k6000.3',\n",
       " '/mnt/idms/fberes/data/bitcoin_ln_research/simulations_1days//0/2019-09-06_22:03:19_50000sat_k6000.4']"
      ]
     },
     "execution_count": 12,
     "metadata": {},
     "output_type": "execute_result"
    }
   ],
   "source": [
    "experiment_folders[0]"
   ]
  },
  {
   "cell_type": "code",
   "execution_count": 13,
   "metadata": {},
   "outputs": [
    {
     "name": "stdout",
     "output_type": "stream",
     "text": [
      "0\n",
      "1\n",
      "2\n",
      "3\n",
      "4\n",
      "5\n",
      "6\n",
      "7\n",
      "8\n",
      "9\n",
      "10\n",
      "11\n",
      "12\n",
      "13\n",
      "14\n",
      "15\n",
      "16\n",
      "17\n",
      "18\n",
      "19\n",
      "20\n",
      "21\n",
      "22\n",
      "23\n",
      "24\n",
      "25\n",
      "26\n",
      "27\n",
      "28\n",
      "29\n",
      "30\n",
      "31\n",
      "32\n",
      "33\n",
      "34\n",
      "35\n",
      "36\n",
      "37\n",
      "38\n",
      "39\n"
     ]
    }
   ],
   "source": [
    "pricing_pol = load_data(experiment_folders, snapshots, \"opt_fees\")"
   ]
  },
  {
   "cell_type": "code",
   "execution_count": 14,
   "metadata": {},
   "outputs": [
    {
     "name": "stdout",
     "output_type": "stream",
     "text": [
      "0\n",
      "1\n",
      "2\n",
      "3\n",
      "4\n",
      "5\n",
      "6\n",
      "7\n",
      "8\n",
      "9\n",
      "10\n",
      "11\n",
      "12\n",
      "13\n",
      "14\n",
      "15\n",
      "16\n",
      "17\n",
      "18\n",
      "19\n",
      "20\n",
      "21\n",
      "22\n",
      "23\n",
      "24\n",
      "25\n",
      "26\n",
      "27\n",
      "28\n",
      "29\n",
      "30\n",
      "31\n",
      "32\n",
      "33\n",
      "34\n",
      "35\n",
      "36\n",
      "37\n",
      "38\n",
      "39\n"
     ]
    }
   ],
   "source": [
    "source_fee = load_data(experiment_folders, snapshots, \"source_fees\")"
   ]
  },
  {
   "cell_type": "code",
   "execution_count": 15,
   "metadata": {},
   "outputs": [
    {
     "name": "stdout",
     "output_type": "stream",
     "text": [
      "0\n",
      "1\n",
      "2\n",
      "3\n",
      "4\n",
      "5\n",
      "6\n",
      "7\n",
      "8\n",
      "9\n",
      "10\n",
      "11\n",
      "12\n",
      "13\n",
      "14\n",
      "15\n",
      "16\n",
      "17\n",
      "18\n",
      "19\n",
      "20\n",
      "21\n",
      "22\n",
      "23\n",
      "24\n",
      "25\n",
      "26\n",
      "27\n",
      "28\n",
      "29\n",
      "30\n",
      "31\n",
      "32\n",
      "33\n",
      "34\n",
      "35\n",
      "36\n",
      "37\n",
      "38\n",
      "39\n"
     ]
    }
   ],
   "source": [
    "router_income = load_data(experiment_folders, snapshots, \"router_incomes\")"
   ]
  },
  {
   "cell_type": "markdown",
   "metadata": {},
   "source": [
    "## Router incomes"
   ]
  },
  {
   "cell_type": "code",
   "execution_count": 16,
   "metadata": {},
   "outputs": [],
   "source": [
    "router_income_col = \"fee\"#\"income\""
   ]
  },
  {
   "cell_type": "code",
   "execution_count": 17,
   "metadata": {
    "slideshow": {
     "slide_type": "slide"
    }
   },
   "outputs": [
    {
     "data": {
      "text/plain": [
       "[<matplotlib.lines.Line2D at 0x7f14608faef0>]"
      ]
     },
     "execution_count": 17,
     "metadata": {},
     "output_type": "execute_result"
    },
    {
     "data": {
      "image/png": "[encoded data removed]",
      "text/plain": [
       "<Figure size 432x288 with 1 Axes>"
      ]
     },
     "metadata": {
      "needs_background": "light"
     },
     "output_type": "display_data"
    }
   ],
   "source": [
    "x = snapshots\n",
    "y = [router_income[i][router_income_col].mean() for i in snapshots]\n",
    "plt.plot(x,y, \"bo\")"
   ]
  },
  {
   "cell_type": "code",
   "execution_count": 18,
   "metadata": {
    "slideshow": {
     "slide_type": "slide"
    }
   },
   "outputs": [
    {
     "data": {
      "text/plain": [
       "<seaborn.axisgrid.JointGrid at 0x7f146087d630>"
      ]
     },
     "execution_count": 18,
     "metadata": {},
     "output_type": "execute_result"
    },
    {
     "data": {
      "image/png": "[encoded data removed]",
      "text/plain": [
       "<Figure size 432x432 with 3 Axes>"
      ]
     },
     "metadata": {
      "needs_background": "light"
     },
     "output_type": "display_data"
    }
   ],
   "source": [
    "sns.jointplot(data=pd.concat(router_income), x=\"snapshot_id\", y=router_income_col)"
   ]
  },
  {
   "cell_type": "code",
   "execution_count": 19,
   "metadata": {},
   "outputs": [],
   "source": [
    "all_router_incomes = pd.concat(router_income)"
   ]
  },
  {
   "cell_type": "markdown",
   "metadata": {},
   "source": [
    "### LNBIG.com traffic and income timeseries"
   ]
  },
  {
   "cell_type": "code",
   "execution_count": 20,
   "metadata": {},
   "outputs": [],
   "source": [
    "lnb_router_incomes = all_router_incomes[all_router_incomes[\"node\"].isin(LNBIG_nodes)].groupby([\"node\",\"snapshot_id\"]).agg({router_income_col:\"mean\",\"num_trans\":\"mean\"}).sort_values(router_income_col,ascending=False).reset_index()"
   ]
  },
  {
   "cell_type": "code",
   "execution_count": 21,
   "metadata": {},
   "outputs": [],
   "source": [
    "lnb_router_incomes = lnb_router_incomes.groupby(\"snapshot_id\").agg({router_income_col:\"sum\",\"num_trans\":\"sum\"}).reset_index()"
   ]
  },
  {
   "cell_type": "code",
   "execution_count": 22,
   "metadata": {},
   "outputs": [
    {
     "data": {
      "text/html": [
       "<div>\n",
       "<style scoped>\n",
       "    .dataframe tbody tr th:only-of-type {\n",
       "        vertical-align: middle;\n",
       "    }\n",
       "\n",
       "    .dataframe tbody tr th {\n",
       "        vertical-align: top;\n",
       "    }\n",
       "\n",
       "    .dataframe thead th {\n",
       "        text-align: right;\n",
       "    }\n",
       "</style>\n",
       "<table border=\"1\" class=\"dataframe\">\n",
       "  <thead>\n",
       "    <tr style=\"text-align: right;\">\n",
       "      <th></th>\n",
       "      <th>snapshot_id</th>\n",
       "      <th>fee</th>\n",
       "      <th>num_trans</th>\n",
       "    </tr>\n",
       "  </thead>\n",
       "  <tbody>\n",
       "    <tr>\n",
       "      <th>0</th>\n",
       "      <td>0</td>\n",
       "      <td>2634.150</td>\n",
       "      <td>103.300000</td>\n",
       "    </tr>\n",
       "    <tr>\n",
       "      <th>1</th>\n",
       "      <td>1</td>\n",
       "      <td>2548.725</td>\n",
       "      <td>99.950000</td>\n",
       "    </tr>\n",
       "    <tr>\n",
       "      <th>2</th>\n",
       "      <td>2</td>\n",
       "      <td>2641.375</td>\n",
       "      <td>103.583333</td>\n",
       "    </tr>\n",
       "    <tr>\n",
       "      <th>3</th>\n",
       "      <td>3</td>\n",
       "      <td>3304.800</td>\n",
       "      <td>129.600000</td>\n",
       "    </tr>\n",
       "    <tr>\n",
       "      <th>4</th>\n",
       "      <td>4</td>\n",
       "      <td>3195.150</td>\n",
       "      <td>125.300000</td>\n",
       "    </tr>\n",
       "  </tbody>\n",
       "</table>\n",
       "</div>"
      ],
      "text/plain": [
       "   snapshot_id       fee   num_trans\n",
       "0            0  2634.150  103.300000\n",
       "1            1  2548.725   99.950000\n",
       "2            2  2641.375  103.583333\n",
       "3            3  3304.800  129.600000\n",
       "4            4  3195.150  125.300000"
      ]
     },
     "execution_count": 22,
     "metadata": {},
     "output_type": "execute_result"
    }
   ],
   "source": [
    "lnb_router_incomes.head()"
   ]
  },
  {
   "cell_type": "code",
   "execution_count": 23,
   "metadata": {},
   "outputs": [
    {
     "data": {
      "text/plain": [
       "<matplotlib.axes._subplots.AxesSubplot at 0x7f145fd25b00>"
      ]
     },
     "execution_count": 23,
     "metadata": {},
     "output_type": "execute_result"
    },
    {
     "data": {
      "image/png": "[encoded data removed]",
      "text/plain": [
       "<Figure size 432x288 with 1 Axes>"
      ]
     },
     "metadata": {
      "needs_background": "light"
     },
     "output_type": "display_data"
    }
   ],
   "source": [
    "sns.lineplot(x=\"snapshot_id\",y=\"num_trans\",data=lnb_router_incomes)"
   ]
  },
  {
   "cell_type": "code",
   "execution_count": 24,
   "metadata": {},
   "outputs": [
    {
     "data": {
      "text/plain": [
       "<matplotlib.axes._subplots.AxesSubplot at 0x7f14601056a0>"
      ]
     },
     "execution_count": 24,
     "metadata": {},
     "output_type": "execute_result"
    },
    {
     "data": {
      "image/png": "[encoded data removed]",
      "text/plain": [
       "<Figure size 432x288 with 1 Axes>"
      ]
     },
     "metadata": {
      "needs_background": "light"
     },
     "output_type": "display_data"
    }
   ],
   "source": [
    "sns.lineplot(x=\"snapshot_id\",y=\"fee\",data=lnb_router_incomes)"
   ]
  },
  {
   "cell_type": "markdown",
   "metadata": {},
   "source": [
    "### Calculate average routing income and traffic over snapshots and samples"
   ]
  },
  {
   "cell_type": "code",
   "execution_count": 25,
   "metadata": {},
   "outputs": [],
   "source": [
    "all_router_incomes = all_router_incomes.groupby(\"node\").agg({router_income_col:\"mean\",\"num_trans\":\"mean\"}).sort_values(router_income_col,ascending=False).reset_index()"
   ]
  },
  {
   "cell_type": "code",
   "execution_count": 26,
   "metadata": {},
   "outputs": [],
   "source": [
    "all_router_incomes = all_router_incomes.merge(node_names, left_on=\"node\", right_on=\"pub_key\", how=\"left\").drop(\"pub_key\", axis=1).set_index(\"node\")"
   ]
  },
  {
   "cell_type": "code",
   "execution_count": 27,
   "metadata": {},
   "outputs": [],
   "source": [
    "other_routers = [\n",
    "    \"0232e20e7b68b9b673fb25f48322b151a93186bffe4550045040673797ceca43cf\",\n",
    "    \"03e50492eab4107a773141bb419e107bda3de3d55652e6e1a41225f06a0bbf2d56\",\n",
    "    \"0279c22ed7a068d10dc1a38ae66d2d6461e269226c60258c021b1ddcdfe4b00bc4\",\n",
    "    \"03021c5f5f57322740e4ee6936452add19dc7ea7ccf90635f95119ab82a62ae268\",\n",
    "    \"03c2abfa93eacec04721c019644584424aab2ba4dff3ac9bdab4e9c97007491dda\",\n",
    "    \"03864ef025fde8fb587d989186ce6a4a186895ee44a926bfc370e2c366597a3f8f\",\n",
    "    \"03a503d8e30f2ff407096d235b5db63b4fcf3f89a653acb6f43d3fc492a7674019\",\n",
    "    \"03abf6f44c355dec0d5aa155bdbdd6e0c8fefe318eff402de65c6eb2e1be55dc3e\",\n",
    "    \"0331f80652fb840239df8dc99205792bba2e559a05469915804c08420230e23c7c\",\n",
    "    \"0217890e3aad8d35bc054f43acc00084b25229ecff0ab68debd82883ad65ee8266\",\n",
    "    \"0395033b252c6f40e3756984162d68174e2bd8060a129c0d3462a9370471c6d28f\",\n",
    "    \"03cb7983dc247f9f81a0fa2dfa3ce1c255365f7279c8dd143e086ca333df10e278\",\n",
    "    \"030c3f19d742ca294a55c00376b3b355c3c90d61c6b6b39554dbc7ac19b141c14f\",\n",
    "    \"03bb88ccc444534da7b5b64b4f7b15e1eccb18e102db0e400d4b9cfe93763aa26d\",\n",
    "]"
   ]
  },
  {
   "cell_type": "code",
   "execution_count": 28,
   "metadata": {},
   "outputs": [],
   "source": [
    "node_income_and_traffic = all_router_incomes.loc[other_routers].reset_index(drop=True)"
   ]
  },
  {
   "cell_type": "code",
   "execution_count": 29,
   "metadata": {},
   "outputs": [
    {
     "data": {
      "text/html": [
       "<div>\n",
       "<style scoped>\n",
       "    .dataframe tbody tr th:only-of-type {\n",
       "        vertical-align: middle;\n",
       "    }\n",
       "\n",
       "    .dataframe tbody tr th {\n",
       "        vertical-align: top;\n",
       "    }\n",
       "\n",
       "    .dataframe thead th {\n",
       "        text-align: right;\n",
       "    }\n",
       "</style>\n",
       "<table border=\"1\" class=\"dataframe\">\n",
       "  <thead>\n",
       "    <tr style=\"text-align: right;\">\n",
       "      <th></th>\n",
       "      <th>fee</th>\n",
       "      <th>num_trans</th>\n",
       "      <th>name</th>\n",
       "    </tr>\n",
       "  </thead>\n",
       "  <tbody>\n",
       "    <tr>\n",
       "      <th>0</th>\n",
       "      <td>5293.393939</td>\n",
       "      <td>10.565657</td>\n",
       "      <td>zigzag.io</td>\n",
       "    </tr>\n",
       "    <tr>\n",
       "      <th>1</th>\n",
       "      <td>4302.270000</td>\n",
       "      <td>34.145000</td>\n",
       "      <td>yalls.org</td>\n",
       "    </tr>\n",
       "    <tr>\n",
       "      <th>2</th>\n",
       "      <td>1053.250000</td>\n",
       "      <td>21.065000</td>\n",
       "      <td>ln1.satoshilabs.com</td>\n",
       "    </tr>\n",
       "    <tr>\n",
       "      <th>3</th>\n",
       "      <td>293.359375</td>\n",
       "      <td>21.885417</td>\n",
       "      <td>03021c5f5f57322740e4</td>\n",
       "    </tr>\n",
       "    <tr>\n",
       "      <th>4</th>\n",
       "      <td>609.004000</td>\n",
       "      <td>48.365000</td>\n",
       "      <td>tippin.me</td>\n",
       "    </tr>\n",
       "    <tr>\n",
       "      <th>5</th>\n",
       "      <td>206.520000</td>\n",
       "      <td>34.420000</td>\n",
       "      <td>ACINQ</td>\n",
       "    </tr>\n",
       "    <tr>\n",
       "      <th>6</th>\n",
       "      <td>109.200000</td>\n",
       "      <td>24.530303</td>\n",
       "      <td>Sagittarius A</td>\n",
       "    </tr>\n",
       "    <tr>\n",
       "      <th>7</th>\n",
       "      <td>821.057625</td>\n",
       "      <td>29.290000</td>\n",
       "      <td>OpenNode</td>\n",
       "    </tr>\n",
       "    <tr>\n",
       "      <th>8</th>\n",
       "      <td>504.339750</td>\n",
       "      <td>428.655000</td>\n",
       "      <td>LightningPowerUsers.com</td>\n",
       "    </tr>\n",
       "    <tr>\n",
       "      <th>9</th>\n",
       "      <td>250.115250</td>\n",
       "      <td>238.205000</td>\n",
       "      <td>1ML.com node ALPHA</td>\n",
       "    </tr>\n",
       "    <tr>\n",
       "      <th>10</th>\n",
       "      <td>14.290046</td>\n",
       "      <td>75.879630</td>\n",
       "      <td>BitMEXResearch</td>\n",
       "    </tr>\n",
       "    <tr>\n",
       "      <th>11</th>\n",
       "      <td>66.268725</td>\n",
       "      <td>92.425000</td>\n",
       "      <td>fairly.cheap</td>\n",
       "    </tr>\n",
       "    <tr>\n",
       "      <th>12</th>\n",
       "      <td>92.201083</td>\n",
       "      <td>34.025000</td>\n",
       "      <td>Bitrefill.com</td>\n",
       "    </tr>\n",
       "    <tr>\n",
       "      <th>13</th>\n",
       "      <td>73.128173</td>\n",
       "      <td>740.540000</td>\n",
       "      <td>LightningTo.Me</td>\n",
       "    </tr>\n",
       "  </tbody>\n",
       "</table>\n",
       "</div>"
      ],
      "text/plain": [
       "            fee   num_trans                     name\n",
       "0   5293.393939   10.565657                zigzag.io\n",
       "1   4302.270000   34.145000                yalls.org\n",
       "2   1053.250000   21.065000      ln1.satoshilabs.com\n",
       "3    293.359375   21.885417     03021c5f5f57322740e4\n",
       "4    609.004000   48.365000                tippin.me\n",
       "5    206.520000   34.420000                    ACINQ\n",
       "6    109.200000   24.530303            Sagittarius A\n",
       "7    821.057625   29.290000                 OpenNode\n",
       "8    504.339750  428.655000  LightningPowerUsers.com\n",
       "9    250.115250  238.205000       1ML.com node ALPHA\n",
       "10    14.290046   75.879630           BitMEXResearch\n",
       "11    66.268725   92.425000             fairly.cheap\n",
       "12    92.201083   34.025000            Bitrefill.com\n",
       "13    73.128173  740.540000           LightningTo.Me"
      ]
     },
     "execution_count": 29,
     "metadata": {},
     "output_type": "execute_result"
    }
   ],
   "source": [
    "node_income_and_traffic"
   ]
  },
  {
   "cell_type": "markdown",
   "metadata": {
    "scrolled": false
   },
   "source": [
    "all_router_incomes[(all_router_incomes[\"num_trans\"]>10) & (~all_router_incomes.index.isin(LNBIG_nodes))].head(20)"
   ]
  },
  {
   "cell_type": "markdown",
   "metadata": {},
   "source": [
    "### LNBIG stats"
   ]
  },
  {
   "cell_type": "code",
   "execution_count": 30,
   "metadata": {},
   "outputs": [
    {
     "name": "stderr",
     "output_type": "stream",
     "text": [
      "/home/fberes/miniconda3/envs/dm-3-env/lib/python3.7/site-packages/ipykernel_launcher.py:1: FutureWarning: \n",
      "Passing list-likes to .loc or [] with any missing label will raise\n",
      "KeyError in the future, you can use .reindex() as an alternative.\n",
      "\n",
      "See the documentation here:\n",
      "https://pandas.pydata.org/pandas-docs/stable/indexing.html#deprecate-loc-reindex-listlike\n",
      "  \"\"\"Entry point for launching an IPython kernel.\n"
     ]
    }
   ],
   "source": [
    "lnbig_stats = all_router_incomes.loc[LNBIG_nodes][[\"fee\",\"num_trans\"]].sum()"
   ]
  },
  {
   "cell_type": "code",
   "execution_count": 31,
   "metadata": {},
   "outputs": [],
   "source": [
    "lnbig_stats[\"name\"] = \"LNBIG.com\""
   ]
  },
  {
   "cell_type": "code",
   "execution_count": 32,
   "metadata": {},
   "outputs": [
    {
     "data": {
      "text/plain": [
       "fee            6288.58\n",
       "num_trans       249.02\n",
       "name         LNBIG.com\n",
       "dtype: object"
      ]
     },
     "execution_count": 32,
     "metadata": {},
     "output_type": "execute_result"
    }
   ],
   "source": [
    "lnbig_stats"
   ]
  },
  {
   "cell_type": "code",
   "execution_count": 33,
   "metadata": {},
   "outputs": [],
   "source": [
    "node_income_and_traffic = node_income_and_traffic.append(lnbig_stats, ignore_index=True).sort_values(\"name\")"
   ]
  },
  {
   "cell_type": "code",
   "execution_count": 34,
   "metadata": {},
   "outputs": [],
   "source": [
    "node_income_and_traffic.to_csv(\"/mnt/idms/fberes/data/bitcoin_ln_research/results/router_traffic_and_income/%s.csv\" % experiment_id, index=False)"
   ]
  },
  {
   "cell_type": "code",
   "execution_count": 35,
   "metadata": {},
   "outputs": [
    {
     "ename": "NameError",
     "evalue": "name 'alma' is not defined",
     "output_type": "error",
     "traceback": [
      "\u001b[0;31m---------------------------------------------------------------------------\u001b[0m",
      "\u001b[0;31mNameError\u001b[0m                                 Traceback (most recent call last)",
      "\u001b[0;32m<ipython-input-35-fcb0620a33f5>\u001b[0m in \u001b[0;36m<module>\u001b[0;34m\u001b[0m\n\u001b[0;32m----> 1\u001b[0;31m \u001b[0malma\u001b[0m\u001b[0;34m\u001b[0m\u001b[0;34m\u001b[0m\u001b[0m\n\u001b[0m",
      "\u001b[0;31mNameError\u001b[0m: name 'alma' is not defined"
     ]
    }
   ],
   "source": [
    "alma"
   ]
  },
  {
   "cell_type": "markdown",
   "metadata": {
    "slideshow": {
     "slide_type": "slide"
    }
   },
   "source": [
    "## Source fees"
   ]
  },
  {
   "cell_type": "code",
   "execution_count": null,
   "metadata": {
    "slideshow": {
     "slide_type": "slide"
    }
   },
   "outputs": [],
   "source": [
    "x = snapshots\n",
    "y = [source_fee[i][\"mean_fee\"].mean() for i in snapshots]\n",
    "plt.plot(x,y, \"bo\")"
   ]
  },
  {
   "cell_type": "code",
   "execution_count": null,
   "metadata": {
    "slideshow": {
     "slide_type": "slide"
    }
   },
   "outputs": [],
   "source": [
    "sns.jointplot(data=pd.concat(source_fee), x=\"snapshot_id\", y=\"mean_fee\")"
   ]
  },
  {
   "cell_type": "markdown",
   "metadata": {
    "slideshow": {
     "slide_type": "slide"
    }
   },
   "source": [
    "## Optimal pricing"
   ]
  },
  {
   "cell_type": "code",
   "execution_count": null,
   "metadata": {},
   "outputs": [],
   "source": []
  },
  {
   "cell_type": "code",
   "execution_count": null,
   "metadata": {
    "slideshow": {
     "slide_type": "slide"
    }
   },
   "outputs": [],
   "source": [
    "x = snapshots\n",
    "y = [pricing_pol[i][\"opt_delta\"].mean() for i in snapshots]\n",
    "plt.plot(x,y, \"bo\")"
   ]
  },
  {
   "cell_type": "code",
   "execution_count": null,
   "metadata": {
    "slideshow": {
     "slide_type": "slide"
    }
   },
   "outputs": [],
   "source": [
    "x = snapshots\n",
    "y = [pricing_pol[i][\"opt_traffic\"].mean() for i in snapshots]\n",
    "plt.plot(x,y, \"bo\")"
   ]
  },
  {
   "cell_type": "code",
   "execution_count": null,
   "metadata": {
    "slideshow": {
     "slide_type": "slide"
    }
   },
   "outputs": [],
   "source": [
    "x = snapshots\n",
    "y = [pricing_pol[i][\"origi_income\"].mean() for i in snapshots]\n",
    "plt.plot(x,y, \"bo\")"
   ]
  },
  {
   "cell_type": "code",
   "execution_count": null,
   "metadata": {
    "slideshow": {
     "slide_type": "slide"
    }
   },
   "outputs": [],
   "source": [
    "x = snapshots\n",
    "y = [pricing_pol[i][\"opt_income\"].mean() for i in snapshots]\n",
    "plt.plot(x,y, \"bo\")"
   ]
  },
  {
   "cell_type": "markdown",
   "metadata": {},
   "source": [
    "### Calculate income revenue"
   ]
  },
  {
   "cell_type": "code",
   "execution_count": null,
   "metadata": {},
   "outputs": [],
   "source": [
    "for df in pricing_pol:\n",
    "    df[\"income_diff\"] = df[\"opt_income\"] - df[\"origi_income\"]"
   ]
  },
  {
   "cell_type": "markdown",
   "metadata": {
    "slideshow": {
     "slide_type": "slide"
    }
   },
   "source": [
    "# 2. Simulation stability"
   ]
  },
  {
   "cell_type": "code",
   "execution_count": null,
   "metadata": {},
   "outputs": [],
   "source": [
    "corrs = [\"spearman\",\"kendall\",\"wkendall\"]"
   ]
  },
  {
   "cell_type": "code",
   "execution_count": null,
   "metadata": {},
   "outputs": [],
   "source": [
    "def avg_cross_corr(df, snapshot_id, col, methods=corrs, key_col=\"node\"):\n",
    "    snap = df[snapshot_id]\n",
    "    sample_num = snap[\"sample\"].max()+1\n",
    "    cols = [key_col, col]\n",
    "    merged = snap[snap[\"sample\"]==0][cols].rename({col:col+\"_0\"}, axis=1)\n",
    "    for i in range(1,sample_num):\n",
    "        s = snap[snap[\"sample\"]==i][cols].rename({col:col+\"_%i\" % i}, axis=1)\n",
    "        merged = merged.merge(s, on=key_col, how=\"outer\").fillna(0.0)\n",
    "    merged.drop(\"node\", inplace=True, axis=1)\n",
    "    res = {}\n",
    "    for method in methods:\n",
    "        cnt = corr_mx(merged, method=method).sum().sum() - sample_num \n",
    "        denom = sample_num**2-sample_num\n",
    "        res[method] = cnt / denom\n",
    "    return res"
   ]
  },
  {
   "cell_type": "code",
   "execution_count": null,
   "metadata": {},
   "outputs": [],
   "source": [
    "origi_inc = pd.DataFrame([avg_cross_corr(pricing_pol, snap_id, \"origi_income\") for snap_id in snapshots])\n",
    "opt_inc = pd.DataFrame([avg_cross_corr(pricing_pol, snap_id, \"opt_income\") for snap_id in snapshots])\n",
    "income_diff = pd.DataFrame([avg_cross_corr(pricing_pol, snap_id, \"income_diff\") for snap_id in snapshots])\n",
    "opt_delta = pd.DataFrame([avg_cross_corr(pricing_pol, snap_id, \"opt_delta\") for snap_id in snapshots])"
   ]
  },
  {
   "cell_type": "code",
   "execution_count": null,
   "metadata": {
    "slideshow": {
     "slide_type": "slide"
    }
   },
   "outputs": [],
   "source": [
    "colors = ['b','g','r','m']\n",
    "fig, axis = plt.subplots(1,3,figsize=(15,4))\n",
    "x = snapshots\n",
    "# incomes\n",
    "axis[0].set_title(\"INCOME mean cross correlations\")\n",
    "for i, c in enumerate(corrs):\n",
    "    axis[0].plot(x,origi_inc[c], colors[i]+'-', label=c+\"_orig\")\n",
    "    axis[0].plot(x,opt_inc[c], colors[i]+'--', label=c+\"_opt\")\n",
    "axis[0].set_xlabel(\"snapshot\")\n",
    "axis[0].legend()\n",
    "# income_diff\n",
    "axis[1].set_title(\"INCOME_DIFF mean cross correlations\")\n",
    "for i, c in enumerate(corrs):\n",
    "    axis[1].plot(x,income_diff[c], colors[i]+'-', label=c)\n",
    "axis[1].set_xlabel(\"snapshot\")\n",
    "axis[1].legend()\n",
    "# opt_delta\n",
    "axis[2].set_title(\"OPT_DELTA mean cross correlations\")\n",
    "for i, c in enumerate(corrs):\n",
    "    axis[2].plot(x,opt_delta[c], colors[i]+'-', label=c)\n",
    "axis[2].set_xlabel(\"snapshot\")\n",
    "axis[2].legend()\n",
    "plt.show()"
   ]
  },
  {
   "cell_type": "markdown",
   "metadata": {
    "slideshow": {
     "slide_type": "slide"
    }
   },
   "source": [
    "#### Incomes observations\n",
    "\n",
    "- taking mean cross correlation of user incomes (original and optimal)\n",
    "- weighted kendall-tau gives decreased to 0.90 from 0.95 (after including capacity maintenance)\n",
    "- in case of unweighted spearman and kendall the optimal income correlates better across samples \n",
    "\n",
    "#### income_diff observations¶\n",
    "\n",
    "- taking mean cross correlation of income difference (optimal income - original income)\n",
    "- weighted kendall-tau decreased to 0.80 from 0.93 (after including capacity maintenance)\n",
    "\n",
    "#### opt_delta observations¶\n",
    "\n",
    "- taking mean cross correlation of optimal base fee change\n",
    "- weighted kendall-tau decreased to 0.70 from 0.90 (after including capacity maintenance)\n",
    "\n",
    "**CONCLUSION: our base_fee optimization procedure is less efficient (meaningful) after the implementation of capacity maintenance!!!**"
   ]
  },
  {
   "cell_type": "markdown",
   "metadata": {},
   "source": [
    "# 3. Income revenue analysis"
   ]
  },
  {
   "cell_type": "code",
   "execution_count": null,
   "metadata": {},
   "outputs": [],
   "source": [
    "def cut_into_categories(df):\n",
    "    #categories = [df[:10], df[10:30], df[30:50], df[50:100]]\n",
    "    #categories = [df[:20], df[20:50], df[50:100], df[100:200]]\n",
    "    #categories = [df[:10], df[10:20], df[20:30], df[30:40], df[40:50], df[50:100], df[100:500]]\n",
    "    categories = [df[:10], df[10:20], df[20:50], df[50:100], df[100:500]]\n",
    "    #categories = [df[:50], df[50:100], df[100:500]]#, df[200:500]]\n",
    "    return categories\n",
    "\n",
    "def merge_categories(categories):\n",
    "    for i, cat in enumerate(categories):\n",
    "        cat[\"category\"] = i\n",
    "    return pd.concat(categories)\n",
    "    \n",
    "def show_stats(snap_id, col=\"income_diff\"):\n",
    "    mean = pricing_pol[snap_id].groupby(\"node\").mean().sort_values(\"origi_income\", ascending=False)\n",
    "    categories = cut_into_categories(mean)\n",
    "    return [float(cat[[col]].mean()) for cat in categories]"
   ]
  },
  {
   "cell_type": "code",
   "execution_count": null,
   "metadata": {},
   "outputs": [],
   "source": [
    "x = range(5)\n",
    "#x = range(7)"
   ]
  },
  {
   "cell_type": "markdown",
   "metadata": {},
   "source": [
    "### Visualize each snapshot"
   ]
  },
  {
   "cell_type": "markdown",
   "metadata": {},
   "source": [
    "df = pd.DataFrame([show_stats(i, \"income_diff\") for i in snapshots])"
   ]
  },
  {
   "cell_type": "markdown",
   "metadata": {},
   "source": [
    "plt.Figure(figsize=(10,10))\n",
    "for i in snapshots:\n",
    "    plt.plot(x, show_stats(i, \"income_diff\"), label=i)\n",
    "plt.yscale(\"log\")\n",
    "plt.legend()"
   ]
  },
  {
   "cell_type": "markdown",
   "metadata": {},
   "source": [
    "plt.Figure(figsize=(10,10))\n",
    "for i in snapshots:\n",
    "    plt.plot(x, show_stats(i, \"opt_traffic\"), label=i)\n",
    "plt.legend()"
   ]
  },
  {
   "cell_type": "markdown",
   "metadata": {},
   "source": [
    "### Average stats (over all snapshots and samples)"
   ]
  },
  {
   "cell_type": "markdown",
   "metadata": {},
   "source": [
    "average_stats = pricing_pol[0].groupby(\"node\").mean().sort_values(\"origi_income\", ascending=False)[[\"income_diff\",\"origi_income\",\"opt_income\",\"opt_traffic\",\"opt_delta\"]]"
   ]
  },
  {
   "cell_type": "code",
   "execution_count": null,
   "metadata": {},
   "outputs": [],
   "source": [
    "all_records = pd.concat([pricing_pol[i] for i in snapshots])"
   ]
  },
  {
   "cell_type": "code",
   "execution_count": null,
   "metadata": {},
   "outputs": [],
   "source": [
    "average_stats = all_records.groupby(\"node\").mean().sort_values(\"origi_income\", ascending=False)[[\"income_diff\",\"origi_income\",\"opt_income\",\"opt_traffic\",\"opt_delta\"]]"
   ]
  },
  {
   "cell_type": "code",
   "execution_count": null,
   "metadata": {},
   "outputs": [],
   "source": [
    "average_stats_cats = cut_into_categories(average_stats)\n",
    "mean_diff = [float(cat[[\"income_diff\"]].mean()) for cat in average_stats_cats]\n",
    "mean_traffic = [float(cat[[\"opt_traffic\"]].mean()) for cat in average_stats_cats]\n",
    "mean_delta = [float(cat[[\"opt_delta\"]].mean()) for cat in average_stats_cats]"
   ]
  },
  {
   "cell_type": "code",
   "execution_count": null,
   "metadata": {
    "slideshow": {
     "slide_type": "slide"
    }
   },
   "outputs": [],
   "source": [
    "fig, axis = plt.subplots(1,3,figsize=(15,4))\n",
    "axis[0].plot(x, mean_diff, 'rx')\n",
    "axis[0].set_xlabel(\"income category\")\n",
    "axis[0].set_ylabel(\"mean income_diff\")\n",
    "axis[1].plot(x, mean_delta, 'g*')\n",
    "axis[1].set_xlabel(\"income category\")\n",
    "axis[1].set_ylabel(\"mean opt_delta\")\n",
    "axis[2].plot(x, mean_traffic, 'bo')\n",
    "axis[2].set_xlabel(\"income category\")\n",
    "axis[2].set_ylabel(\"mean opt_traffic\")\n",
    "plt.show()"
   ]
  },
  {
   "cell_type": "markdown",
   "metadata": {},
   "source": [
    "#### Mean original income for the selected categories"
   ]
  },
  {
   "cell_type": "code",
   "execution_count": null,
   "metadata": {
    "slideshow": {
     "slide_type": "subslide"
    }
   },
   "outputs": [],
   "source": [
    "[float(cat[[\"origi_income\"]].mean()) for cat in average_stats_cats]"
   ]
  },
  {
   "cell_type": "markdown",
   "metadata": {},
   "source": [
    "### PROBLEM with outliers..."
   ]
  },
  {
   "cell_type": "code",
   "execution_count": null,
   "metadata": {},
   "outputs": [],
   "source": [
    "merged = merge_categories(average_stats_cats)"
   ]
  },
  {
   "cell_type": "code",
   "execution_count": null,
   "metadata": {},
   "outputs": [],
   "source": [
    "sns.boxplot(data=merged, x=\"category\", y=\"income_diff\", whis=2)"
   ]
  },
  {
   "cell_type": "markdown",
   "metadata": {},
   "source": [
    "average_stats.head(10)"
   ]
  },
  {
   "cell_type": "markdown",
   "metadata": {},
   "source": [
    "### Nodes above 20K SAT (2.5 USD) income_diff (with alpha=2.0 source distribution)\n",
    "\n",
    "#### 2019-07-04_11:12:08_200000sat_k30000 (ordered by original income)\n",
    "\n",
    "1. yalls.org - Read and write articles, with Lightning Network micropayments. (195,925.46 USD)\n",
    "2. ACINQ - ACINQ is one of the leading companies working on Bitcoin scalability. (507,211.38 USD)\n",
    "3. 1ML.com node ALPHA (89,453.40 USD)\n",
    "4. LightningPowerUsers.com (313,406.05 USD)\n",
    "5. LightningTo.Me - Helping to resolve routing and capacity issues (165,531.35 USD)\n",
    "6. tomjodh.nl - Buy photos with satoshis (8,709.95 USD) - **TODO RECLASSIFY AS merchant!!!**\n",
    "7. ? - ? (848.05 USD)\n",
    "\n",
    "#### 2019-07-05_14:39:09_200000sat_k30000 (ordered by original income)\n",
    "\n",
    "1. ACINQ - ACINQ is one of the leading companies working on Bitcoin scalability. (507,211.38 USD, 783 channel)\n",
    "2. 1ML.com node ALPHA (89,453.40 USD, 884 channel)\n",
    "3. LightningPowerUsers.com (313,406.05 USD, 1,266 channel)\n",
    "4. LightningTo.Me - Helping to resolve routing and capacity issues (165,531.35 USD, 700 channel)\n",
    "5. tomjodh.nl - Buy photos with satoshis (8,709.95 USD, 47 channel)\n",
    "6. ? - ? (859.23 USD, 4 channel)\n",
    "7. nybemotion - ? (318.35 USD, 3 channel)\n",
    "\n",
    "#### Additional nodes in 2019-07-05_14:39:09_500000sat_k30000\n",
    "\n",
    "4. Bitrefill.com - Buy Gift Cards with Bitcoin for 30+ supported services (310,369.63 USD, 305 channel) - **TODO RECLASSIFY AS merchant!!!**\n",
    "6. tady je slushovo: ? (48,872.23 USD, 336 channel)"
   ]
  },
  {
   "cell_type": "markdown",
   "metadata": {},
   "source": [
    "### Nodes above 20K SAT (2.5 USD) income_diff (with alpha=None source distribution)\n",
    "\n",
    "#### 2019-08-06_13:42:00_200000sat_k30000_aNone (ordered by original income)\n",
    "\n",
    "1. yalls.org\n",
    "2. ACINQ\n",
    "3. LightningPowerUsers.com\n",
    "4. tomjodh.nl\n",
    "5. Node: 0297b368360113e29032 ???\n",
    "6. nybemotion\n",
    "\n",
    "#### 2019-08-09_14:31:08_200000sat_k30000_aNone_dropTrue\n",
    "\n",
    "1. yalls.org\n",
    "2. ln1.satoshilabs.com (306,117.70 USD - 824 channels) **(NEW)**\n",
    "3. LightningPowerUsers.com\n",
    "4. nybemotion (493.61 USD, 6 channel) ???\n",
    "5. Amazing_Droopy_3 (113.73 USD, 1 channel?) ???\n",
    "\n",
    "#### 2019-09-01_18:07:51_200000sat_k30000_aNone_dropTrue (WITH capacity maintenance)\n",
    "\n",
    "1. LightningPowerUsers.com (237,653 USD, 1261 channels)\n",
    "2. 1ML.com node ALPHA (64,630 USD, 889 channels)\n",
    "3. CoinGate (147,272 USD, 462 channels) - CoinGate is the first large cryptocurrency payment gateway to introduce Lightning Network payments to hundreds of merchants with no technical knowledge required\n",
    "4. lndhub.ru (19,066 USD, 248 channels) - increase connectivity\n",
    "5. BeerselLightningNode (13,246 USD, 84 channels)\n",
    "6. BitKassa LN34961 (13,631 USD, 47) - some kind of payment API and BTC tech company\n",
    "7. Serving Beer (2,107 USD, 13 channels) - is this really a merchant???"
   ]
  },
  {
   "cell_type": "code",
   "execution_count": null,
   "metadata": {},
   "outputs": [],
   "source": [
    "average_stats[average_stats[\"income_diff\"]>20000]"
   ]
  }
 ],
 "metadata": {
  "kernelspec": {
   "display_name": "Python [conda env:dm-3-env] *",
   "language": "python",
   "name": "conda-env-dm-3-env-py"
  },
  "language_info": {
   "codemirror_mode": {
    "name": "ipython",
    "version": 3
   },
   "file_extension": ".py",
   "mimetype": "text/x-python",
   "name": "python",
   "nbconvert_exporter": "python",
   "pygments_lexer": "ipython3",
   "version": "3.7.3"
  }
 },
 "nbformat": 4,
 "nbformat_minor": 4
}
