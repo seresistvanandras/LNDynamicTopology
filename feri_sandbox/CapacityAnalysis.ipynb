{
 "cells": [
  {
   "cell_type": "code",
   "execution_count": null,
   "metadata": {},
   "outputs": [],
   "source": [
    "%load_ext autoreload\n",
    "%autoreload 2"
   ]
  },
  {
   "cell_type": "code",
   "execution_count": null,
   "metadata": {},
   "outputs": [],
   "source": [
    "import os\n",
    "import pandas as pd"
   ]
  },
  {
   "cell_type": "code",
   "execution_count": null,
   "metadata": {},
   "outputs": [],
   "source": [
    "from ln_utils import *"
   ]
  },
  {
   "cell_type": "code",
   "execution_count": null,
   "metadata": {},
   "outputs": [],
   "source": [
    "%matplotlib inline"
   ]
  },
  {
   "cell_type": "markdown",
   "metadata": {},
   "source": [
    "# Parameters"
   ]
  },
  {
   "cell_type": "markdown",
   "metadata": {},
   "source": [
    "is_directed = True\n",
    "time_window = 86400*7"
   ]
  },
  {
   "cell_type": "markdown",
   "metadata": {},
   "source": [
    "# Load temporal data"
   ]
  },
  {
   "cell_type": "code",
   "execution_count": null,
   "metadata": {},
   "outputs": [],
   "source": [
    "graph_files = []"
   ]
  },
  {
   "cell_type": "code",
   "execution_count": null,
   "metadata": {},
   "outputs": [],
   "source": [
    "data_dir = \"../LNdata/lncaptures/lngraph/2019/\"\n",
    "graph_files +=  [data_dir + f for f in sorted(os.listdir(data_dir)) if \".json\" in f]\n",
    "MIN_TIME = 1549065601-86400 #Saturday, February 2, 2019 12:00:01 AM\n",
    "#MAX_TIME = 1552867201 #Monday, March 18, 2019 12:00:01 AM"
   ]
  },
  {
   "cell_type": "code",
   "execution_count": null,
   "metadata": {},
   "outputs": [],
   "source": [
    "data_dir = \"../LNdata/\"\n",
    "#graph_files = [data_dir + f for f in sorted(os.listdir(data_dir)) if \".json\" in f]\n",
    "graph_files += [data_dir + f for f in sorted(os.listdir(data_dir)) if \".json\" in f][5:]\n",
    "#MIN_TIME = 1552478399 # Wednesday, March 13, 2019 11:59:59 AM\n",
    "MAX_TIME = 1553947199 # Saturday, March 30, 2019 11:59:59 AM"
   ]
  },
  {
   "cell_type": "code",
   "execution_count": null,
   "metadata": {},
   "outputs": [],
   "source": [
    "#graph_files = graph_files[:10]\n",
    "graph_files"
   ]
  },
  {
   "cell_type": "code",
   "execution_count": null,
   "metadata": {},
   "outputs": [],
   "source": [
    "EDGE_KEYS = [\"node1_pub\",\"node2_pub\",\"last_update\",\"capacity\",\"channel_id\",'node1_policy','node2_policy']\n",
    "nodes, edges = load_temp_data(graph_files[:-1], edge_keys=EDGE_KEYS)\n",
    "print(len(nodes), len(edges))"
   ]
  },
  {
   "cell_type": "code",
   "execution_count": null,
   "metadata": {},
   "outputs": [],
   "source": [
    "edges.dtypes"
   ]
  },
  {
   "cell_type": "code",
   "execution_count": null,
   "metadata": {},
   "outputs": [],
   "source": [
    "edges.head(3)"
   ]
  },
  {
   "cell_type": "code",
   "execution_count": null,
   "metadata": {},
   "outputs": [],
   "source": [
    "edges.groupby([\"node1_pub\",\"channel_id\"])[\"node2_pub\"].nunique().value_counts()"
   ]
  },
  {
   "cell_type": "code",
   "execution_count": null,
   "metadata": {},
   "outputs": [],
   "source": [
    "nodes = nodes[(nodes[\"last_update\"] > MIN_TIME) & (nodes[\"last_update\"] < MAX_TIME)]\n",
    "edges = edges[(edges[\"last_update\"] > MIN_TIME) & (edges[\"last_update\"] < MAX_TIME)]\n",
    "len(nodes), len(edges)"
   ]
  },
  {
   "cell_type": "code",
   "execution_count": null,
   "metadata": {},
   "outputs": [],
   "source": [
    "edges = edges.sort_values(\"last_update\")"
   ]
  },
  {
   "cell_type": "code",
   "execution_count": null,
   "metadata": {},
   "outputs": [],
   "source": [
    "def discover_changes(updates_df):\n",
    "    updates_df[\"capacity\"] = updates_df[\"capacity\"].astype(\"float64\")\n",
    "    channel_state = {}\n",
    "    channel_nodes = {}\n",
    "    events = []\n",
    "    for idx, row in updates_df.iterrows():\n",
    "        n1p, n2p, chan_id, last_update, cap = row[\"node1_pub\"], row[\"node2_pub\"], row[\"channel_id\"], row[\"last_update\"], row[\"capacity\"]\n",
    "        is_new_channel = chan_id not in channel_state\n",
    "        cap_change = 0\n",
    "        if not is_new_channel:\n",
    "            cap_change = cap - channel_state[chan_id]\n",
    "        else:\n",
    "            channel_nodes[chan_id] = (n1p,n2p)\n",
    "        channel_state[chan_id] = cap\n",
    "        events.append([last_update, chan_id, is_new_channel, cap, cap_change])\n",
    "    return pd.DataFrame(events, columns=[\"time\",\"channel_id\",\"is_new\",\"capacity\",\"cap_diff\"]), channel_nodes"
   ]
  },
  {
   "cell_type": "code",
   "execution_count": null,
   "metadata": {},
   "outputs": [],
   "source": [
    "events, channel_nodes = discover_changes(edges)"
   ]
  },
  {
   "cell_type": "code",
   "execution_count": null,
   "metadata": {},
   "outputs": [],
   "source": [
    "events[\"is_new\"].value_counts()"
   ]
  },
  {
   "cell_type": "code",
   "execution_count": null,
   "metadata": {},
   "outputs": [],
   "source": [
    "(events[\"cap_diff\"] != 0).value_counts()"
   ]
  },
  {
   "cell_type": "code",
   "execution_count": null,
   "metadata": {},
   "outputs": [],
   "source": [
    "events.head()"
   ]
  },
  {
   "cell_type": "code",
   "execution_count": null,
   "metadata": {},
   "outputs": [],
   "source": [
    "events.to_csv(\"channel_events.csv\", index=False)"
   ]
  },
  {
   "cell_type": "code",
   "execution_count": null,
   "metadata": {},
   "outputs": [],
   "source": [
    "new_channels = events[events[\"is_new\"]]\n",
    "new_channels.shape"
   ]
  },
  {
   "cell_type": "code",
   "execution_count": null,
   "metadata": {},
   "outputs": [],
   "source": [
    "new_channels[\"time\"].hist(bins=100)"
   ]
  },
  {
   "cell_type": "markdown",
   "metadata": {},
   "source": [
    "edges[\"last_update\"].hist(bins=100)"
   ]
  },
  {
   "cell_type": "markdown",
   "metadata": {},
   "source": [
    "edges.head(3)"
   ]
  },
  {
   "cell_type": "markdown",
   "metadata": {},
   "source": [
    "changes = edges.groupby([\"node1_pub\",\"node2_pub\",\"capacity\",\"channel_id\"])[\"last_update\"].nunique().reset_index()#.value_counts()[:20]"
   ]
  },
  {
   "cell_type": "markdown",
   "metadata": {},
   "source": [
    "changes.head()"
   ]
  },
  {
   "cell_type": "markdown",
   "metadata": {},
   "source": [
    "loc = 1\n",
    "p1 = changes.loc[loc][\"node1_pub\"]\n",
    "p2 = changes.loc[loc][\"node2_pub\"]"
   ]
  },
  {
   "cell_type": "markdown",
   "metadata": {},
   "source": [
    "for idx, row in edges[(edges[\"node1_pub\"]==p1) & (edges[\"node2_pub\"]==p2)].iterrows():\n",
    "    print(row[\"node1_policy\"])\n",
    "print()\n",
    "for idx, row in edges[(edges[\"node1_pub\"]==p1) & (edges[\"node2_pub\"]==p2)].iterrows():\n",
    "    print(row[\"node2_policy\"])"
   ]
  }
 ],
 "metadata": {
  "kernelspec": {
   "display_name": "Python [default]",
   "language": "python",
   "name": "python3"
  },
  "language_info": {
   "codemirror_mode": {
    "name": "ipython",
    "version": 3
   },
   "file_extension": ".py",
   "mimetype": "text/x-python",
   "name": "python",
   "nbconvert_exporter": "python",
   "pygments_lexer": "ipython3",
   "version": "3.5.5"
  }
 },
 "nbformat": 4,
 "nbformat_minor": 2
}