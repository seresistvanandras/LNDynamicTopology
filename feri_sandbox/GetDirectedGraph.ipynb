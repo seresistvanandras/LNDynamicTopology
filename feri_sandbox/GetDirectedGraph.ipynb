{
 "cells": [
  {
   "cell_type": "markdown",
   "metadata": {},
   "source": [
    "# Summary\n",
    "\n",
    "- load LN graph snapshots with specified day threshold (e.g. load a snapshot from every week)\n",
    "- exclude records with missing node policy information\n",
    "- **transform undirected LN network into directed graph** (with respect to node policies of the given channel)\n",
    "- fill missing values with most common values for each policy values\n",
    "- export directed multi-graph (for transaction simulation)\n",
    "- aggregate multi-edge information into single edges (due to centrality calculation)\n",
    "- export aggregated directed graph"
   ]
  },
  {
   "cell_type": "code",
   "execution_count": null,
   "metadata": {},
   "outputs": [],
   "source": [
    "%load_ext autoreload\n",
    "%autoreload 2"
   ]
  },
  {
   "cell_type": "code",
   "execution_count": null,
   "metadata": {},
   "outputs": [],
   "source": [
    "from ln_utils import *"
   ]
  },
  {
   "cell_type": "markdown",
   "metadata": {},
   "source": [
    "# 1. Select snapshots and files"
   ]
  },
  {
   "cell_type": "code",
   "execution_count": null,
   "metadata": {},
   "outputs": [],
   "source": [
    "first_day = 1549032366 # February 1, 2019 2:46:06 PM\n",
    "last_day = 1553864399 # March 29, 2019 12:59:59 PM\n",
    "day_interval = 1#3"
   ]
  },
  {
   "cell_type": "code",
   "execution_count": null,
   "metadata": {},
   "outputs": [],
   "source": [
    "output_dir = \"/mnt/idms/fberes/data/bitcoin_ln_research/directed_graphs/\""
   ]
  },
  {
   "cell_type": "code",
   "execution_count": null,
   "metadata": {},
   "outputs": [],
   "source": [
    "data_dir = \"../LNdata/lncaptures/lngraph/2019/\""
   ]
  },
  {
   "cell_type": "code",
   "execution_count": null,
   "metadata": {},
   "outputs": [],
   "source": [
    "snapshot_ends = extract_snapshot_ends(data_dir, first_day, day_interval)"
   ]
  },
  {
   "cell_type": "code",
   "execution_count": null,
   "metadata": {},
   "outputs": [],
   "source": [
    "additional_dates = extract_additional_dates(snapshot_ends[-1],last_day, day_interval)"
   ]
  },
  {
   "cell_type": "code",
   "execution_count": null,
   "metadata": {},
   "outputs": [],
   "source": [
    "graph_files = []"
   ]
  },
  {
   "cell_type": "code",
   "execution_count": null,
   "metadata": {},
   "outputs": [],
   "source": [
    "dir_1 = \"../LNdata/lncaptures/lngraph/2019/\"\n",
    "for time in snapshot_ends:\n",
    "    graph_files.append(\"%s/%i.json\" % (dir_1, time))"
   ]
  },
  {
   "cell_type": "code",
   "execution_count": null,
   "metadata": {},
   "outputs": [],
   "source": [
    "dir_2 = \"../LNdata/\"\n",
    "for time in additional_dates:\n",
    "    graph_files.append(\"%s/%s.json\" % (dir_2, time))"
   ]
  },
  {
   "cell_type": "code",
   "execution_count": null,
   "metadata": {},
   "outputs": [],
   "source": [
    "graph_files"
   ]
  },
  {
   "cell_type": "markdown",
   "metadata": {},
   "source": [
    "# 2. Load data"
   ]
  },
  {
   "cell_type": "code",
   "execution_count": null,
   "metadata": {},
   "outputs": [],
   "source": [
    "EDGE_KEYS = [\"node1_pub\",\"node2_pub\",\"last_update\",\"capacity\",\"channel_id\",'node1_policy','node2_policy']\n",
    "nodes, edges = load_temp_data(graph_files, edge_keys=EDGE_KEYS)\n",
    "print(len(nodes), len(edges))\n",
    "\n",
    "edges = edges.sort_values(\"last_update\").reset_index(drop=True)\n",
    "print(edges.head(3))"
   ]
  },
  {
   "cell_type": "markdown",
   "metadata": {},
   "source": [
    "### Remove records with missing node policy"
   ]
  },
  {
   "cell_type": "code",
   "execution_count": null,
   "metadata": {},
   "outputs": [],
   "source": [
    "edges.isnull().sum() / len(edges)"
   ]
  },
  {
   "cell_type": "code",
   "execution_count": null,
   "metadata": {},
   "outputs": [],
   "source": [
    "origi_size = len(edges)\n",
    "edges = edges[(~edges[\"node1_policy\"].isnull()) & (~edges[\"node2_policy\"].isnull())]\n",
    "print(origi_size - len(edges))"
   ]
  },
  {
   "cell_type": "markdown",
   "metadata": {},
   "source": [
    "### Number of channels in each snapshot"
   ]
  },
  {
   "cell_type": "code",
   "execution_count": null,
   "metadata": {},
   "outputs": [],
   "source": [
    "edges[\"snapshot_id\"].value_counts().sort_values().plot(kind=\"bar\")"
   ]
  },
  {
   "cell_type": "markdown",
   "metadata": {},
   "source": [
    "# 3. Transform undirected graph into directed graph\n",
    "\n",
    "We have to execute this transformation in order to calculate transaction fees"
   ]
  },
  {
   "cell_type": "code",
   "execution_count": null,
   "metadata": {},
   "outputs": [],
   "source": [
    "directed_df = generate_directed_graph(edges)\n",
    "print(directed_df.head())"
   ]
  },
  {
   "cell_type": "markdown",
   "metadata": {},
   "source": [
    "# 4. Fill missing policy values with most frequent values\n",
    "\n",
    "Most of the people use the default policy values"
   ]
  },
  {
   "cell_type": "code",
   "execution_count": null,
   "metadata": {},
   "outputs": [],
   "source": [
    "print(\"missing values for columns:\")\n",
    "print(directed_df.isnull().sum())"
   ]
  },
  {
   "cell_type": "code",
   "execution_count": null,
   "metadata": {},
   "outputs": [],
   "source": [
    "print(\"filling missing values with most popular values per column!!!\")\n",
    "directed_df = directed_df.fillna({\"disabled\":False,\"fee_base_msat\":1000,\"fee_rate_milli_msat\":1,\"min_htlc\":1000})"
   ]
  },
  {
   "cell_type": "code",
   "execution_count": null,
   "metadata": {},
   "outputs": [],
   "source": [
    "for col in [\"fee_base_msat\",\"fee_rate_milli_msat\",\"min_htlc\"]:\n",
    "    directed_df[col] = directed_df[col].astype(\"float64\")\n",
    "print(directed_df.dtypes)"
   ]
  },
  {
   "cell_type": "markdown",
   "metadata": {},
   "source": [
    "# 5. Statistics"
   ]
  },
  {
   "cell_type": "code",
   "execution_count": null,
   "metadata": {},
   "outputs": [],
   "source": [
    "directed_df[\"disabled\"].value_counts().plot(kind=\"pie\")"
   ]
  },
  {
   "cell_type": "code",
   "execution_count": null,
   "metadata": {},
   "outputs": [],
   "source": [
    "directed_df[\"capacity\"].hist(bins=50)"
   ]
  },
  {
   "cell_type": "markdown",
   "metadata": {},
   "source": [
    "- Most of the people ask 1SAT as base fee"
   ]
  },
  {
   "cell_type": "code",
   "execution_count": null,
   "metadata": {},
   "outputs": [],
   "source": [
    "directed_df[\"fee_base_msat\"].mean(), directed_df[\"fee_base_msat\"].median(), directed_df[\"fee_base_msat\"].max()"
   ]
  },
  {
   "cell_type": "markdown",
   "metadata": {},
   "source": [
    "- There are some extraordinary high values : these edges will never be used for routing...\n",
    "- Most of the nodes ask 10^-6 SAT / 1 SAT routing "
   ]
  },
  {
   "cell_type": "code",
   "execution_count": null,
   "metadata": {},
   "outputs": [],
   "source": [
    "directed_df[\"fee_rate_milli_msat\"].mean(), directed_df[\"fee_rate_milli_msat\"].median(), directed_df[\"fee_rate_milli_msat\"].max()"
   ]
  },
  {
   "cell_type": "markdown",
   "metadata": {},
   "source": [
    "# 6. Export MultiGraph\n",
    "\n",
    "For transaction simulation experiments we use the LN multigraph"
   ]
  },
  {
   "cell_type": "code",
   "execution_count": null,
   "metadata": {},
   "outputs": [],
   "source": [
    "directed_df.to_csv(\"%s/directed_temporal_multi_edges_%idays.csv\" % (output_dir, day_interval))"
   ]
  },
  {
   "cell_type": "markdown",
   "metadata": {},
   "source": [
    "# 7. Aggregate weights for multiple channels between nodes\n",
    "\n",
    "Most centrality measures are not implemented for multigraphs thus we aggregate policy values over multiedges"
   ]
  },
  {
   "cell_type": "code",
   "execution_count": null,
   "metadata": {},
   "outputs": [],
   "source": [
    "grouped = directed_df.groupby([\"src\",\"trg\",\"snapshot_id\"])"
   ]
  },
  {
   "cell_type": "code",
   "execution_count": null,
   "metadata": {},
   "outputs": [],
   "source": [
    "directed_aggr = grouped.agg({\n",
    "    \"channel_id\":\"nunique\",\n",
    "    \"capacity\":\"sum\",\n",
    "    \"fee_base_msat\":\"mean\",\n",
    "    \"fee_rate_milli_msat\":\"mean\"\n",
    "})"
   ]
  },
  {
   "cell_type": "code",
   "execution_count": null,
   "metadata": {},
   "outputs": [],
   "source": [
    "directed_aggr = directed_aggr.rename({\"channel_id\":\"num_channels\"}, axis=1)"
   ]
  },
  {
   "cell_type": "markdown",
   "metadata": {},
   "source": [
    "### There are extreme cases of channel_id-s between nodes!!!\n",
    "\n",
    "- are these attacks?\n",
    "- probably not (just router nodes)"
   ]
  },
  {
   "cell_type": "code",
   "execution_count": null,
   "metadata": {},
   "outputs": [],
   "source": [
    "directed_aggr.sort_values(\"num_channels\",ascending=False).reset_index().head(10)"
   ]
  },
  {
   "cell_type": "code",
   "execution_count": null,
   "metadata": {},
   "outputs": [],
   "source": [
    "directed_aggr = directed_aggr.reset_index()"
   ]
  },
  {
   "cell_type": "code",
   "execution_count": null,
   "metadata": {},
   "outputs": [],
   "source": [
    "directed_aggr.head()"
   ]
  },
  {
   "cell_type": "markdown",
   "metadata": {},
   "source": [
    "# 8. Export aggregated edges"
   ]
  },
  {
   "cell_type": "code",
   "execution_count": null,
   "metadata": {},
   "outputs": [],
   "source": [
    "directed_aggr.to_csv(\"%s/directed_temporal_edges_%idays.csv\" % (output_dir, day_interval), index=False)"
   ]
  }
 ],
 "metadata": {
  "kernelspec": {
   "display_name": "Python [conda env:dm-3-env]",
   "language": "python",
   "name": "conda-env-dm-3-env-py"
  },
  "language_info": {
   "codemirror_mode": {
    "name": "ipython",
    "version": 3
   },
   "file_extension": ".py",
   "mimetype": "text/x-python",
   "name": "python",
   "nbconvert_exporter": "python",
   "pygments_lexer": "ipython3",
   "version": "3.7.3"
  }
 },
 "nbformat": 4,
 "nbformat_minor": 2
}