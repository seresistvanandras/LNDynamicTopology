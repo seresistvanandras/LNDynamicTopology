{
 "cells": [
  {
   "cell_type": "code",
   "execution_count": null,
   "metadata": {},
   "outputs": [],
   "source": [
    "from datawand.parametrization import ConfigGenerator"
   ]
  },
  {
   "cell_type": "markdown",
   "metadata": {},
   "source": [
    "# Initialize configuration generator"
   ]
  },
  {
   "cell_type": "code",
   "execution_count": null,
   "metadata": {},
   "outputs": [],
   "source": [
    "cg = ConfigGenerator(pipeline_name='LinkPrediction')"
   ]
  },
  {
   "cell_type": "markdown",
   "metadata": {},
   "source": [
    "# Setting default parameters for pipeline"
   ]
  },
  {
   "cell_type": "code",
   "execution_count": null,
   "metadata": {},
   "outputs": [],
   "source": [
    "DEFAULTS = {}"
   ]
  },
  {
   "cell_type": "markdown",
   "metadata": {},
   "source": [
    "#### Set your default parameters below:"
   ]
  },
  {
   "cell_type": "code",
   "execution_count": null,
   "metadata": {},
   "outputs": [],
   "source": [
    "DEFAULTS[\"top_first_days\"] = 20\n",
    "DEFAULTS[\"seed\"] = 254938879\n",
    "DEFAULTS[\"topk\"] = 20\n",
    "DEFAULTS[\"dim\"] = 10\n",
    "DEFAULTS[\"neg_rate\"] = 100\n",
    "DEFAULTS[\"ex_known\"] = True"
   ]
  },
  {
   "cell_type": "markdown",
   "metadata": {},
   "source": [
    "# Setting parameters for notebooks"
   ]
  },
  {
   "cell_type": "code",
   "execution_count": null,
   "metadata": {},
   "outputs": [],
   "source": [
    "PARAMETERS = {}"
   ]
  },
  {
   "cell_type": "code",
   "execution_count": null,
   "metadata": {},
   "outputs": [],
   "source": [
    "for nb_name in cg.pythonitem_names:\n",
    "    PARAMETERS[nb_name] = []\n",
    "print(PARAMETERS)"
   ]
  },
  {
   "cell_type": "markdown",
   "metadata": {},
   "source": [
    "K = None#30\n",
    "PARAMETERS['prepare_data_for_link_prediction'].append({\"top_first_days\":K})\n",
    "PARAMETERS['online_mf'].append({\"top_first_days\":K})\n",
    "PARAMETERS['offline_mf'].append({\"top_first_days\":K})\n",
    "PARAMETERS['batch_online_mf'].append({\"top_first_days\":K})\n",
    "PARAMETERS['popularity'].append({\"top_first_days\":K})\n",
    "#PARAMETERS['LinkPredResults'].append({\"top_first_days\":K})"
   ]
  },
  {
   "cell_type": "code",
   "execution_count": null,
   "metadata": {},
   "outputs": [],
   "source": [
    "for top_k in [500]:#[20,100]:\n",
    "    PARAMETERS['online_mf'].append({\"topk\":top_k})\n",
    "    #PARAMETERS['offline_mf'].append({\"topk\":top_k})\n",
    "    #PARAMETERS['batch_online_mf'].append({\"topk\":top_k})\n",
    "    PARAMETERS['popularity'].append({\"topk\":top_k})"
   ]
  },
  {
   "cell_type": "markdown",
   "metadata": {},
   "source": [
    "#### Set your parameters for each notebooks below: \n",
    "\n",
    "##### You can specify the ending of the names of the generated notebook clones, if you add an \"\\_\\_ ending \\_\\_\" parameter. (Otherwise they will end with \\_CLONE\\_1, \\_CLONE\\_2, etc.)\n",
    "##### WARNING: if the name of the generated notebook clone is not an identifier, then luigi will NOT be able to run it."
   ]
  },
  {
   "cell_type": "markdown",
   "metadata": {},
   "source": [
    "# Export parameters into pipeline configuration file"
   ]
  },
  {
   "cell_type": "code",
   "execution_count": null,
   "metadata": {},
   "outputs": [],
   "source": [
    "cg.save_params(PARAMETERS, DEFAULTS)"
   ]
  },
  {
   "cell_type": "markdown",
   "metadata": {},
   "source": [
    "cg.pipeline_cfg"
   ]
  }
 ],
 "metadata": {
  "anaconda-cloud": {},
  "kernelspec": {
   "display_name": "Python [conda env:dm-3-env]",
   "language": "python",
   "name": "conda-env-dm-3-env-py"
  },
  "language_info": {
   "codemirror_mode": {
    "name": "ipython",
    "version": 3
   },
   "file_extension": ".py",
   "mimetype": "text/x-python",
   "name": "python",
   "nbconvert_exporter": "python",
   "pygments_lexer": "ipython3",
   "version": "3.7.3"
  }
 },
 "nbformat": 4,
 "nbformat_minor": 1
}