{
 "cells": [
  {
   "cell_type": "code",
   "execution_count": null,
   "metadata": {},
   "outputs": [],
   "source": [
    "from datawand.parametrization import ConfigGenerator"
   ]
  },
  {
   "cell_type": "markdown",
   "metadata": {},
   "source": [
    "# Initialize configuration generator"
   ]
  },
  {
   "cell_type": "code",
   "execution_count": null,
   "metadata": {},
   "outputs": [],
   "source": [
    "cg = ConfigGenerator(pipeline_name='LNGraph')"
   ]
  },
  {
   "cell_type": "markdown",
   "metadata": {},
   "source": [
    "# Setting default parameters for pipeline"
   ]
  },
  {
   "cell_type": "code",
   "execution_count": null,
   "metadata": {},
   "outputs": [],
   "source": [
    "DEFAULTS = {}"
   ]
  },
  {
   "cell_type": "markdown",
   "metadata": {},
   "source": [
    "#### Set your default parameters below:"
   ]
  },
  {
   "cell_type": "code",
   "execution_count": null,
   "metadata": {},
   "outputs": [],
   "source": [
    "DEFAULTS[\"data_dir\"] = \"/mnt/idms/fberes/data/bitcoin_ln_research\"\n",
    "DEFAULTS[\"weight\"] = None\n",
    "DEFAULTS[\"weight_cols\"] = [None, \"num_channels\", \"capacity\", \"fee_base_msat\", \"fee_rate_milli_msat\"]\n",
    "DEFAULTS[\"snapshot_ids\"] = list(range(9))"
   ]
  },
  {
   "cell_type": "code",
   "execution_count": null,
   "metadata": {},
   "outputs": [],
   "source": [
    "DEFAULTS[\"experiment_id\"] = \"trial\"\n",
    "DEFAULTS[\"snapshot_id\"] = 0\n",
    "DEFAULTS[\"num_transactions\"] = 7000\n",
    "DEFAULTS[\"amount_sat\"] = 60000\n",
    "DEFAULTS[\"eps\"] = 0.8 \n",
    "DEFAULTS[\"day_interval\"] = 7\n",
    "DEFAULTS[\"drop_disabled\"] = True\n",
    "DEFAULTS[\"drop_low_cap\"] = True\n",
    "DEFAULTS[\"with_depletion\"] = True"
   ]
  },
  {
   "cell_type": "code",
   "execution_count": null,
   "metadata": {},
   "outputs": [],
   "source": [
    "DEFAULTS[\"sim_root_dir\"] = \"/mnt/idms/fberes/data/bitcoin_ln_research/simulations_7days/\"\n",
    "DEFAULTS[\"sim_res_dir\"] = \"2019-09-25_15:48:42_50000sat_k6000_eps0.00\"\n",
    "DEFAULTS[\"snapshots\"] = list(range(7))"
   ]
  },
  {
   "cell_type": "markdown",
   "metadata": {},
   "source": [
    "# Setting parameters for notebooks"
   ]
  },
  {
   "cell_type": "code",
   "execution_count": null,
   "metadata": {},
   "outputs": [],
   "source": [
    "PARAMETERS = {}"
   ]
  },
  {
   "cell_type": "code",
   "execution_count": null,
   "metadata": {},
   "outputs": [],
   "source": [
    "for nb_name in cg.pythonitem_names:\n",
    "    PARAMETERS[nb_name] = []\n",
    "print(PARAMETERS)"
   ]
  },
  {
   "cell_type": "markdown",
   "metadata": {},
   "source": [
    "#### Set your parameters for each notebooks below: \n",
    "\n",
    "##### You can specify the ending of the names of the generated notebook clones, if you add an \"\\_\\_ ending \\_\\_\" parameter. (Otherwise they will end with \\_CLONE\\_1, \\_CLONE\\_2, etc.)\n",
    "##### WARNING: if the name of the generated notebook clone is not an identifier, then luigi will NOT be able to run it."
   ]
  },
  {
   "cell_type": "markdown",
   "metadata": {},
   "source": [
    "## Centrality computation"
   ]
  },
  {
   "cell_type": "markdown",
   "metadata": {},
   "source": [
    "for w in DEFAULTS[\"weight_cols\"]:\n",
    "    PARAMETERS[\"CentralityCalculator\"].append({\"weight\":w})"
   ]
  },
  {
   "cell_type": "markdown",
   "metadata": {},
   "source": [
    "## a.) Transaction simulation"
   ]
  },
  {
   "cell_type": "code",
   "execution_count": null,
   "metadata": {},
   "outputs": [],
   "source": [
    "import datetime as dt"
   ]
  },
  {
   "cell_type": "markdown",
   "metadata": {},
   "source": [
    "### i.) Transaction failure experiments"
   ]
  },
  {
   "cell_type": "markdown",
   "metadata": {},
   "source": [
    "start_time = dt.datetime.now().strftime(\"%Y-%m-%d_%H:%M:%S\")\n",
    "num_samples = 5\n",
    "tx_num = 1000#50000#1000#2000#10000#20000#5000\n",
    "\n",
    "for sat in [10000,25000,50000,100000,200000,500000]:\n",
    "    drop_disabled = True\n",
    "    for amount, num_transactions in [(sat,tx_num)]:\n",
    "        for snap in range(7):\n",
    "            for i in range(num_samples):\n",
    "                PARAMETERS['RunSimulator'].append({\"drop_low_cap\":False, \"snapshot_id\":snap, \"amount_sat\":amount, \"num_transactions\":num_transactions, \"experiment_id\":\"%s_%isat_k%i_keep_low_cap.%i\" % (start_time, amount, num_transactions, i)})"
   ]
  },
  {
   "cell_type": "markdown",
   "metadata": {},
   "source": [
    "### ii.) LNBIG tuning weekly"
   ]
  },
  {
   "cell_type": "markdown",
   "metadata": {},
   "source": [
    "start_time = dt.datetime.now().strftime(\"%Y-%m-%d_%H:%M:%S\")\n",
    "num_samples = 10\n",
    "\n",
    "for sat in [50000,60000]:#[10000,25000,50000,100000,200000,500000]:\n",
    "    drop_disabled = True\n",
    "    for amount, num_transactions in [(sat,6500),(sat,7000)]:\n",
    "        for snap in range(7):\n",
    "            for i in range(num_samples):\n",
    "                PARAMETERS['RunSimulator'].append({\"day_interval\":7, \"snapshot_id\":snap, \"drop_disabled\":drop_disabled, \"amount_sat\":amount, \"num_transactions\":num_transactions, \"experiment_id\":\"%s_%isat_k%i.%i\" % (start_time, amount, num_transactions, i)})"
   ]
  },
  {
   "cell_type": "markdown",
   "metadata": {},
   "source": [
    "### iii.) LNBIG tuning daily"
   ]
  },
  {
   "cell_type": "markdown",
   "metadata": {},
   "source": [
    "start_time = dt.datetime.now().strftime(\"%Y-%m-%d_%H:%M:%S\")\n",
    "num_samples = 10\n",
    "#for amount, num_transactions in [(60000,6500)]:\n",
    "for amount, num_transactions in [(10000,6500)]:\n",
    "    for snap in range(40):\n",
    "        for i in range(num_samples):\n",
    "            PARAMETERS['RunSimulator'].append({\"day_interval\":1, \"snapshot_id\":snap, \"amount_sat\":amount, \"num_transactions\":num_transactions, \"experiment_id\":\"%s_%isat_k%i.%i\" % (start_time, amount, num_transactions, i)})"
   ]
  },
  {
   "cell_type": "markdown",
   "metadata": {},
   "source": [
    "num_samples = 10\n",
    "num_transactions = 70000\n",
    "amount = 500000#200000#100000#60000#10000\n",
    "for snap in range(40):\n",
    "    for i in range(num_samples):\n",
    "        PARAMETERS['RunSimulator'].append({\"day_interval\":1, \"snapshot_id\":snap, \"amount_sat\":amount, \"num_transactions\":num_transactions, \"experiment_id\":\"%isat_k%i_eps0.80.%i\" % (amount, num_transactions, i)})"
   ]
  },
  {
   "cell_type": "markdown",
   "metadata": {},
   "source": [
    "### iv.) Epsilon"
   ]
  },
  {
   "cell_type": "markdown",
   "metadata": {},
   "source": [
    "start_time = dt.datetime.now().strftime(\"%Y-%m-%d_%H:%M:%S\")\n",
    "num_samples = 10\n",
    "\n",
    "amount = 50000\n",
    "num_transactions = 6000\n",
    "for eps in [0.0,0.2,0.5,0.8,1.0]:\n",
    "    for snap in range(7):\n",
    "        for i in range(num_samples):\n",
    "            PARAMETERS['RunSimulator'].append({\"day_interval\":7, \"eps\":eps, \"snapshot_id\":snap, \"amount_sat\":amount, \"num_transactions\":num_transactions, \"experiment_id\":\"%s_%isat_k%i_eps%.2f.%i\" % (start_time, amount, num_transactions, eps, i)})"
   ]
  },
  {
   "cell_type": "markdown",
   "metadata": {},
   "source": [
    "### v.) MULTI EXPERIMENTS"
   ]
  },
  {
   "cell_type": "markdown",
   "metadata": {},
   "source": [
    "for tx_num in [1000,7000,10000,20000,50000,70000]:\n",
    "    for tx_amount in [10000,20000,60000,100000,200000,500000]:\n",
    "        PARAMETERS['RunSimulator1Days'].append({\"eps\":0.8, \"amount_sat\":tx_amount, \"num_transactions\":tx_num})"
   ]
  },
  {
   "cell_type": "markdown",
   "metadata": {},
   "source": [
    "PARAMETERS['RunSimulator1Days'].append({\"eps\":0.0, \"amount_sat\":60000, \"num_transactions\":7000})\n",
    "PARAMETERS['RunSimulator1Days'].append({\"eps\":0.2, \"amount_sat\":60000, \"num_transactions\":7000})\n",
    "PARAMETERS['RunSimulator1Days'].append({\"eps\":0.5, \"amount_sat\":60000, \"num_transactions\":7000})\n",
    "PARAMETERS['RunSimulator1Days'].append({\"eps\":1.0, \"amount_sat\":60000, \"num_transactions\":7000})"
   ]
  },
  {
   "cell_type": "markdown",
   "metadata": {},
   "source": [
    "### vi.) Fee optimalization"
   ]
  },
  {
   "cell_type": "markdown",
   "metadata": {},
   "source": [
    "num_samples = 10\n",
    "num_transactions = 7000\n",
    "amount = 60000\n",
    "for with_dep in [False,True]:\n",
    "    for snap in range(7):\n",
    "        for i in range(num_samples):\n",
    "            PARAMETERS['RunSimulator'].append({\"with_depletion\":with_dep, \"day_interval\":7, \"snapshot_id\":snap, \"amount_sat\":amount, \"num_transactions\":num_transactions, \"experiment_id\":\"%isat_k%i_eps0.80_wdep%s.%i\" % (amount, num_transactions, with_dep, i)})"
   ]
  },
  {
   "cell_type": "code",
   "execution_count": null,
   "metadata": {},
   "outputs": [],
   "source": [
    "num_samples = 10\n",
    "num_transactions = 7000\n",
    "amount = 60000\n",
    "for snap in range(40):\n",
    "    for i in range(num_samples):\n",
    "        PARAMETERS['RunSimulator'].append({\"day_interval\":1, \"snapshot_id\":snap, \"amount_sat\":amount, \"num_transactions\":num_transactions, \"experiment_id\":\"%isat_k%i_eps0.80.%i\" % (amount, num_transactions, i)})"
   ]
  },
  {
   "cell_type": "markdown",
   "metadata": {},
   "source": [
    "### vii.) Entity failure ratio"
   ]
  },
  {
   "cell_type": "markdown",
   "metadata": {},
   "source": [
    "num_samples = 10\n",
    "num_transactions = 7000\n",
    "amount = 60000\n",
    "for snap in range(40):\n",
    "    for i in range(num_samples):\n",
    "        PARAMETERS['RunSimulatorWithEntityExclusion'].append({\"day_interval\":1, \"snapshot_id\":snap, \"amount_sat\":amount, \"num_transactions\":num_transactions, \"experiment_id\":\"%isat_k%i_eps0.80.%i\" % (amount, num_transactions, i)})"
   ]
  },
  {
   "cell_type": "markdown",
   "metadata": {},
   "source": [
    "## b.) Simulation result analysis"
   ]
  },
  {
   "cell_type": "markdown",
   "metadata": {},
   "source": [
    "simulation_dir = \"/mnt/idms/fberes/data/bitcoin_ln_research/simulations_1days/\"\n",
    "snapshots = list(range(40))\n",
    "experiments = [\n",
    "    \"2019-09-06_22:03:19_50000sat_k6000\",\n",
    "    \"2019-09-07_05:06:14_25000sat_k6000\",\n",
    "    \"2019-09-07_10:23:25_10000sat_k6000\",\n",
    "    \"2019-09-07_14:24:11_100000sat_k6000\",\n",
    "    \"2019-09-07_18:37:32_200000sat_k6000\",\n",
    "    \"2019-09-07_22:40:54_500000sat_k6000\"\n",
    "]\n",
    "\n",
    "for exp_id in experiments:\n",
    "    PARAMETERS['NodeRoutingIncomeStats'].append({\"sim_root_dir\":simulation_dir, \"snapshots\":snapshots, \"sim_res_dir\":exp_id})"
   ]
  },
  {
   "cell_type": "markdown",
   "metadata": {},
   "source": [
    "simulation_dir = \"/mnt/idms/fberes/data/bitcoin_ln_research/simulations_7days/\"\n",
    "snapshots = list(range(7))\n",
    "experiments = [\n",
    "    #\"2019-09-26_14:15:21_50000sat_k6000_eps0.00\",\n",
    "    #\"2019-09-26_14:15:21_50000sat_k6000_eps0.20\",\n",
    "    #\"2019-09-26_14:15:21_50000sat_k6000_eps0.50\",\n",
    "    #\"2019-09-26_14:15:21_50000sat_k6000_eps0.80\",\n",
    "    #\"2019-09-26_14:15:21_50000sat_k6000_eps1.00\",\n",
    "    \"2019-09-27_12:50:21_50000sat_k6500\",\n",
    "    \"2019-09-27_12:50:21_50000sat_k7000\",\n",
    "    \"2019-09-27_12:50:21_60000sat_k6500\",\n",
    "    \"2019-09-27_12:50:21_60000sat_k7000\"\n",
    "]\n",
    "\n",
    "\n",
    "\n",
    "for exp_id in experiments:\n",
    "    PARAMETERS['NodeRoutingIncomeStats'].append({\"sim_root_dir\":simulation_dir, \"snapshots\":snapshots, \"sim_res_dir\":exp_id})\n",
    "    #PARAMETERS['SimulationStability'].append({\"sim_root_dir\":simulation_dir, \"snapshots\":snapshots, \"sim_res_dir\":exp_id})"
   ]
  },
  {
   "cell_type": "markdown",
   "metadata": {},
   "source": [
    "simulation_dir = \"/mnt/idms/fberes/data/bitcoin_ln_research/simulations_1days/\"\n",
    "snapshots = list(range(40))\n",
    "experiments = [\n",
    "    \"2019-09-27_22:37:13_60000sat_k6500\",\n",
    "    \"2019-09-28_07:03:52_10000sat_k6500\"\n",
    "]\n",
    "\n",
    "for exp_id in experiments:\n",
    "    PARAMETERS['NodeRoutingIncomeStats'].append({\"sim_root_dir\":simulation_dir, \"snapshots\":snapshots, \"sim_res_dir\":exp_id})\n",
    "    PARAMETERS['SimulationStability'].append({\"sim_root_dir\":simulation_dir, \"snapshots\":snapshots, \"sim_res_dir\":exp_id})"
   ]
  },
  {
   "cell_type": "markdown",
   "metadata": {},
   "source": [
    "simulation_dir = \"/mnt/idms/fberes/data/bitcoin_ln_research/simulations_multi/\"\n",
    "snapshots = list(range(40))\n",
    "\n",
    "income_experiments = [\n",
    "    \"10000sat_k7000_eps0.80\",\n",
    "    \"20000sat_k7000_eps0.80\",\n",
    "    \"60000sat_k7000_eps0.80\",\n",
    "    \"100000sat_k7000_eps0.80\",\n",
    "    \"200000sat_k7000_eps0.80\",\n",
    "    \"500000sat_k7000_eps0.80\",\n",
    "]\n",
    "\n",
    "for exp_id in income_experiments:\n",
    "    PARAMETERS['NodeRoutingIncomeStats'].append({\"sim_root_dir\":simulation_dir, \"snapshots\":snapshots, \"sim_res_dir\":exp_id})\n",
    "\n",
    "epsilon_experiments = [\n",
    "    \"60000sat_k7000_eps0.00\",\n",
    "    \"60000sat_k7000_eps0.20\",\n",
    "    \"60000sat_k7000_eps0.50\",\n",
    "    \"60000sat_k7000_eps0.80\",\n",
    "    \"60000sat_k7000_eps1.00\",\n",
    "]\n",
    "    \n",
    "for exp_id in epsilon_experiments:\n",
    "    PARAMETERS['NodeRoutingIncomeStats'].append({\"sim_root_dir\":simulation_dir, \"snapshots\":snapshots, \"sim_res_dir\":exp_id})\n",
    "    PARAMETERS['SimulationStability'].append({\"sim_root_dir\":simulation_dir, \"snapshots\":snapshots, \"sim_res_dir\":exp_id})"
   ]
  },
  {
   "cell_type": "markdown",
   "metadata": {},
   "source": [
    "# Export parameters into pipeline configuration file"
   ]
  },
  {
   "cell_type": "code",
   "execution_count": null,
   "metadata": {},
   "outputs": [],
   "source": [
    "cg.save_params(PARAMETERS, DEFAULTS)"
   ]
  },
  {
   "cell_type": "markdown",
   "metadata": {},
   "source": [
    "cg.pipeline_cfg"
   ]
  }
 ],
 "metadata": {
  "anaconda-cloud": {},
  "kernelspec": {
   "display_name": "Python [conda env:dm-3-env] *",
   "language": "python",
   "name": "conda-env-dm-3-env-py"
  },
  "language_info": {
   "codemirror_mode": {
    "name": "ipython",
    "version": 3
   },
   "file_extension": ".py",
   "mimetype": "text/x-python",
   "name": "python",
   "nbconvert_exporter": "python",
   "pygments_lexer": "ipython3",
   "version": "3.7.3"
  }
 },
 "nbformat": 4,
 "nbformat_minor": 1
}
