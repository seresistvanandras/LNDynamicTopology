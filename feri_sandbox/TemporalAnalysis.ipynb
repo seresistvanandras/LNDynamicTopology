{
 "cells": [
  {
   "cell_type": "code",
   "execution_count": 1,
   "metadata": {},
   "outputs": [],
   "source": [
    "%load_ext autoreload\n",
    "%autoreload 2"
   ]
  },
  {
   "cell_type": "code",
   "execution_count": 2,
   "metadata": {},
   "outputs": [],
   "source": [
    "import os\n",
    "import pandas as pd"
   ]
  },
  {
   "cell_type": "code",
   "execution_count": 3,
   "metadata": {},
   "outputs": [],
   "source": [
    "from ln_utils import *"
   ]
  },
  {
   "cell_type": "code",
   "execution_count": 4,
   "metadata": {},
   "outputs": [],
   "source": [
    "%matplotlib inline"
   ]
  },
  {
   "cell_type": "markdown",
   "metadata": {},
   "source": [
    "# Parameters"
   ]
  },
  {
   "cell_type": "code",
   "execution_count": 5,
   "metadata": {},
   "outputs": [],
   "source": [
    "is_directed = True\n",
    "time_window = 86400*7"
   ]
  },
  {
   "cell_type": "markdown",
   "metadata": {},
   "source": [
    "# Load temporal data"
   ]
  },
  {
   "cell_type": "code",
   "execution_count": 6,
   "metadata": {},
   "outputs": [],
   "source": [
    "graph_files = []"
   ]
  },
  {
   "cell_type": "code",
   "execution_count": 7,
   "metadata": {},
   "outputs": [],
   "source": [
    "data_dir = \"../LNdata/snapshots/\"\n",
    "graph_files +=  [data_dir + f for f in sorted(os.listdir(data_dir)) if \".json\" in f][:49] # data files in the second part are corrupted???\n",
    "MIN_TIME = 1539302399 #Thursday, October 11, 2018 11:59:59 PM\n",
    "#MAX_TIME = 1553126399 #Wednesday, March 20, 2019 11:59:59 PM"
   ]
  },
  {
   "cell_type": "code",
   "execution_count": 8,
   "metadata": {},
   "outputs": [],
   "source": [
    "data_dir = \"../LNdata/lncaptures/lngraph/2019/\"\n",
    "graph_files +=  [data_dir + f for f in sorted(os.listdir(data_dir)) if \".json\" in f]\n",
    "#MIN_TIME = 1549065601-86400 #Saturday, February 2, 2019 12:00:01 AM\n",
    "#MAX_TIME = 1552867201 #Monday, March 18, 2019 12:00:01 AM"
   ]
  },
  {
   "cell_type": "code",
   "execution_count": 9,
   "metadata": {},
   "outputs": [],
   "source": [
    "data_dir = \"../LNdata/\"\n",
    "#graph_files = [data_dir + f for f in sorted(os.listdir(data_dir)) if \".json\" in f]\n",
    "graph_files += [data_dir + f for f in sorted(os.listdir(data_dir)) if \".json\" in f][5:]\n",
    "#MIN_TIME = 1552478399 # Wednesday, March 13, 2019 11:59:59 AM\n",
    "MAX_TIME = 1553947199 # Saturday, March 30, 2019 11:59:59 AM"
   ]
  },
  {
   "cell_type": "markdown",
   "metadata": {},
   "source": [
    "graph_files"
   ]
  },
  {
   "cell_type": "code",
   "execution_count": 10,
   "metadata": {},
   "outputs": [
    {
     "name": "stdout",
     "output_type": "stream",
     "text": [
      "../LNdata/snapshots/lngraph_2018_10_13__12_00.json 1636 11499\n",
      "../LNdata/snapshots/lngraph_2018_10_14__12_00.json 1804 16710\n",
      "../LNdata/snapshots/lngraph_2018_10_15__12_00.json 1966 21864\n",
      "../LNdata/snapshots/lngraph_2018_10_16__12_00.json 2168 27063\n",
      "../LNdata/snapshots/lngraph_2018_10_17__12_00.json 2348 32268\n",
      "../LNdata/snapshots/lngraph_2018_10_18__12_00.json 2489 37555\n",
      "../LNdata/snapshots/lngraph_2018_10_19__12_00.json 2704 42956\n",
      "../LNdata/snapshots/lngraph_2018_10_20__12_00.json 2941 48452\n",
      "../LNdata/snapshots/lngraph_2018_10_21__12_00.json 3128 53655\n",
      "../LNdata/snapshots/lngraph_2018_10_22__12_00.json 3267 58954\n",
      "../LNdata/snapshots/lngraph_2018_10_23__12_00.json 3442 64371\n",
      "../LNdata/snapshots/lngraph_2018_10_24__12_00.json 3651 69779\n",
      "../LNdata/snapshots/lngraph_2018_10_25__12_00.json 3847 75388\n",
      "../LNdata/snapshots/lngraph_2018_10_26__12_00.json 4032 80861\n",
      "../LNdata/snapshots/lngraph_2018_10_27__12_00.json 4202 86248\n",
      "../LNdata/snapshots/lngraph_2018_10_28__12_00.json 4387 91592\n",
      "../LNdata/snapshots/lngraph_2018_10_29__12_00.json 4605 97043\n",
      "../LNdata/snapshots/lngraph_2018_10_30__12_00.json 4816 102622\n",
      "../LNdata/snapshots/lngraph_2018_10_31__12_00.json 5006 108169\n",
      "../LNdata/snapshots/lngraph_2018_11_01__12_00.json 5193 113776\n",
      "../LNdata/snapshots/lngraph_2018_11_02__12_00.json 5365 119248\n",
      "../LNdata/snapshots/lngraph_2018_11_03__12_00.json 5561 124878\n",
      "../LNdata/snapshots/lngraph_2018_11_04__12_00.json 5735 130500\n",
      "../LNdata/snapshots/lngraph_2018_11_05__12_00.json 5923 136074\n",
      "../LNdata/snapshots/lngraph_2018_11_06__12_00.json 6177 141836\n",
      "../LNdata/snapshots/lngraph_2018_11_07__12_00.json 6395 147501\n",
      "../LNdata/snapshots/lngraph_2018_11_08__12_00.json 6629 153280\n",
      "../LNdata/snapshots/lngraph_2019_01_10__12_00.json 8179 163244\n",
      "../LNdata/snapshots/lngraph_2019_01_11__12_00.json 8647 171781\n",
      "../LNdata/snapshots/lngraph_2019_01_12__12_00.json 9067 180611\n",
      "../LNdata/snapshots/lngraph_2019_01_13__12_00.json 9420 189569\n",
      "../LNdata/snapshots/lngraph_2019_01_14__12_00.json 9803 198877\n",
      "../LNdata/snapshots/lngraph_2019_01_15__12_00.json 10357 208462\n",
      "../LNdata/snapshots/lngraph_2019_01_16__12_00.json 10807 218432\n",
      "../LNdata/snapshots/lngraph_2019_01_17__12_00.json 11227 228712\n",
      "../LNdata/snapshots/lngraph_2019_01_18__12_00.json 11590 238971\n",
      "../LNdata/snapshots/lngraph_2019_01_19__12_00.json 11985 249745\n",
      "../LNdata/snapshots/lngraph_2019_01_20__12_00.json 12364 260688\n",
      "../LNdata/snapshots/lngraph_2019_01_21__12_00.json 12787 271519\n",
      "../LNdata/snapshots/lngraph_2019_01_22__12_00.json 13313 282985\n",
      "../LNdata/snapshots/lngraph_2019_01_23__12_00.json 13806 294573\n",
      "../LNdata/snapshots/lngraph_2019_01_24__12_00.json 14246 306254\n",
      "../LNdata/snapshots/lngraph_2019_01_25__12_00.json 14683 317201\n",
      "../LNdata/snapshots/lngraph_2019_01_26__12_00.json 15118 329175\n",
      "../LNdata/snapshots/lngraph_2019_01_27__12_00.json 15540 341080\n",
      "../LNdata/snapshots/lngraph_2019_01_28__12_00.json 15974 353195\n",
      "../LNdata/snapshots/lngraph_2019_01_29__12_00.json 16419 365831\n",
      "../LNdata/snapshots/lngraph_2019_01_30__12_00.json 16461 366383\n",
      "../LNdata/lncaptures/lngraph/2019/1549032366.json 17683 386402\n",
      "../LNdata/lncaptures/lngraph/2019/1549065601.json 17978 396330\n",
      "../LNdata/lncaptures/lngraph/2019/1549152001.json 18417 414022\n",
      "../LNdata/lncaptures/lngraph/2019/1549238401.json 18840 432096\n",
      "../LNdata/lncaptures/lngraph/2019/1549324801.json 19237 450298\n",
      "../LNdata/lncaptures/lngraph/2019/1549411201.json 19712 469054\n",
      "../LNdata/lncaptures/lngraph/2019/1549497602.json 20209 488179\n",
      "../LNdata/lncaptures/lngraph/2019/1549584001.json 20759 507400\n",
      "../LNdata/lncaptures/lngraph/2019/1549670401.json 21506 527391\n",
      "../LNdata/lncaptures/lngraph/2019/1549756801.json 22062 547021\n",
      "../LNdata/lncaptures/lngraph/2019/1549843201.json 22580 566589\n",
      "../LNdata/lncaptures/lngraph/2019/1549929601.json 23149 586427\n",
      "../LNdata/lncaptures/lngraph/2019/1550016001.json 23661 606307\n",
      "../LNdata/lncaptures/lngraph/2019/1550102401.json 24339 627355\n",
      "../LNdata/lncaptures/lngraph/2019/1550188801.json 24956 648724\n",
      "../LNdata/lncaptures/lngraph/2019/1550275201.json 25479 670448\n",
      "../LNdata/lncaptures/lngraph/2019/1550361601.json 26047 692128\n",
      "../LNdata/lncaptures/lngraph/2019/1550448001.json 26604 713661\n",
      "../LNdata/lncaptures/lngraph/2019/1550534401.json 27126 735816\n",
      "../LNdata/lncaptures/lngraph/2019/1550620801.json 27782 758606\n",
      "../LNdata/lncaptures/lngraph/2019/1550707201.json 28476 781728\n",
      "../LNdata/lncaptures/lngraph/2019/1550793601.json 29178 804819\n",
      "../LNdata/lncaptures/lngraph/2019/1550880001.json 29881 828019\n",
      "../LNdata/lncaptures/lngraph/2019/1550966401.json 30475 851293\n",
      "../LNdata/lncaptures/lngraph/2019/1551052801.json 31104 875079\n",
      "../LNdata/lncaptures/lngraph/2019/1551139201.json 31718 898915\n",
      "../LNdata/lncaptures/lngraph/2019/1551225601.json 32468 922949\n",
      "../LNdata/lncaptures/lngraph/2019/1551312001.json 33114 946293\n",
      "../LNdata/lncaptures/lngraph/2019/1551398401.json 33773 970316\n",
      "../LNdata/lncaptures/lngraph/2019/1551484801.json 34401 994668\n",
      "../LNdata/lncaptures/lngraph/2019/1551571201.json 35149 1018844\n",
      "../LNdata/lncaptures/lngraph/2019/1551657601.json 35856 1042830\n",
      "../LNdata/lncaptures/lngraph/2019/1551744001.json 36481 1068188\n",
      "../LNdata/lncaptures/lngraph/2019/1551830401.json 37093 1093125\n",
      "../LNdata/lncaptures/lngraph/2019/1551916801.json 37688 1117916\n",
      "../LNdata/lncaptures/lngraph/2019/1552003201.json 38507 1143778\n",
      "../LNdata/lncaptures/lngraph/2019/1552089601.json 39356 1170279\n",
      "../LNdata/lncaptures/lngraph/2019/1552176001.json 39952 1196884\n",
      "../LNdata/lncaptures/lngraph/2019/1552262401.json 40528 1223796\n",
      "../LNdata/lncaptures/lngraph/2019/1552348801.json 41365 1252276\n",
      "../LNdata/lncaptures/lngraph/2019/1552435201.json 41986 1280479\n",
      "../LNdata/lncaptures/lngraph/2019/1552521601.json 42678 1308950\n",
      "../LNdata/lncaptures/lngraph/2019/1552608001.json 43420 1337787\n",
      "../LNdata/lncaptures/lngraph/2019/1552694401.json 44517 1369153\n",
      "../LNdata/lncaptures/lngraph/2019/1552780801.json 45494 1400919\n",
      "../LNdata/lncaptures/lngraph/2019/1552867201.json 46159 1432097\n",
      "../LNdata/0319.json 46894 1464064\n",
      "../LNdata/0320.json 47484 1495737\n",
      "../LNdata/0321.json 48162 1527636\n",
      "../LNdata/0322.json 48716 1558942\n",
      "../LNdata/0323.json 49337 1590139\n",
      "../LNdata/0324.json 49835 1618781\n",
      "../LNdata/0325.json 50277 1648361\n",
      "../LNdata/0326.json 50865 1679730\n",
      "../LNdata/0327.json 51364 1710724\n",
      "../LNdata/0328.json 51944 1741775\n",
      "51944 1741775\n"
     ]
    }
   ],
   "source": [
    "nodes, edges = load_temp_data(graph_files[:-1])\n",
    "print(len(nodes), len(edges))"
   ]
  },
  {
   "cell_type": "markdown",
   "metadata": {},
   "source": [
    "# I DO NOT UNDERSTAND WHY THERE IS A GAP!!!???\n",
    "\n",
    " * there can be bugs in the data? Due to MIN_TIME MAX_TIME filter the edges disappeared from the missing time interval?"
   ]
  },
  {
   "cell_type": "markdown",
   "metadata": {},
   "source": [
    "edges_lower_cut = edges[(edges[\"last_update\"] > MIN_TIME)]"
   ]
  },
  {
   "cell_type": "markdown",
   "metadata": {},
   "source": [
    "edges_upper_cut = edges_lower_cut[(edges_lower_cut[\"last_update\"] < MAX_TIME)]"
   ]
  },
  {
   "cell_type": "markdown",
   "metadata": {},
   "source": [
    "len(edges_lower_cut), len(edges_upper_cut)"
   ]
  },
  {
   "cell_type": "markdown",
   "metadata": {},
   "source": [
    "edges_upper_cut[\"last_update\"].hist()"
   ]
  },
  {
   "cell_type": "code",
   "execution_count": 24,
   "metadata": {},
   "outputs": [
    {
     "data": {
      "text/plain": [
       "(49802, 1736790)"
      ]
     },
     "execution_count": 24,
     "metadata": {},
     "output_type": "execute_result"
    }
   ],
   "source": [
    "nodes = nodes[(nodes[\"last_update\"] > MIN_TIME) & (nodes[\"last_update\"] < MAX_TIME)]\n",
    "edges = edges[(edges[\"last_update\"] > MIN_TIME) & (edges[\"last_update\"] < MAX_TIME)]\n",
    "len(nodes), len(edges)"
   ]
  },
  {
   "cell_type": "code",
   "execution_count": 25,
   "metadata": {},
   "outputs": [],
   "source": [
    "edges = edges.sort_values(\"last_update\")"
   ]
  },
  {
   "cell_type": "markdown",
   "metadata": {},
   "source": [
    "#### Capacity on edges can change"
   ]
  },
  {
   "cell_type": "code",
   "execution_count": 26,
   "metadata": {},
   "outputs": [
    {
     "data": {
      "text/plain": [
       "1     52883\n",
       "2      4717\n",
       "3       559\n",
       "4       120\n",
       "5        37\n",
       "6        21\n",
       "7         5\n",
       "12        1\n",
       "11        1\n",
       "9         1\n",
       "8         1\n",
       "32        1\n",
       "Name: capacity, dtype: int64"
      ]
     },
     "execution_count": 26,
     "metadata": {},
     "output_type": "execute_result"
    }
   ],
   "source": [
    "edges.groupby([\"node1_pub\",\"node2_pub\"])[\"capacity\"].nunique().value_counts()"
   ]
  },
  {
   "cell_type": "markdown",
   "metadata": {},
   "source": [
    "# Analyzing graph snapshots"
   ]
  },
  {
   "cell_type": "markdown",
   "metadata": {},
   "source": [
    "### Snapshots with the number of edges"
   ]
  },
  {
   "cell_type": "code",
   "execution_count": 28,
   "metadata": {},
   "outputs": [
    {
     "name": "stdout",
     "output_type": "stream",
     "text": [
      "0 36553\n",
      "1 38236\n",
      "2 37857\n",
      "3 36567\n",
      "4 68\n",
      "5 51\n",
      "6 89\n",
      "7 58\n",
      "8 98\n",
      "9 130\n",
      "10 131\n",
      "11 335\n",
      "12 13951\n",
      "13 66004\n",
      "14 78206\n",
      "15 63876\n",
      "16 130905\n",
      "17 141290\n",
      "18 156094\n",
      "19 165494\n",
      "20 173476\n",
      "21 193935\n",
      "22 196787\n",
      "23 197232\n"
     ]
    }
   ],
   "source": [
    "snaphots = get_snapshots(edges, MIN_TIME, MAX_TIME, with_data=True, time_window=time_window)"
   ]
  },
  {
   "cell_type": "code",
   "execution_count": 27,
   "metadata": {},
   "outputs": [
    {
     "ename": "NameError",
     "evalue": "name 'alma' is not defined",
     "output_type": "error",
     "traceback": [
      "\u001b[0;31m---------------------------------------------------------------------------\u001b[0m",
      "\u001b[0;31mNameError\u001b[0m                                 Traceback (most recent call last)",
      "\u001b[0;32m<ipython-input-27-fcb0620a33f5>\u001b[0m in \u001b[0;36m<module>\u001b[0;34m()\u001b[0m\n\u001b[0;32m----> 1\u001b[0;31m \u001b[0malma\u001b[0m\u001b[0;34m\u001b[0m\u001b[0m\n\u001b[0m",
      "\u001b[0;31mNameError\u001b[0m: name 'alma' is not defined"
     ]
    }
   ],
   "source": [
    "alma"
   ]
  },
  {
   "cell_type": "markdown",
   "metadata": {},
   "source": [
    "### Calculate centralities for snapshots"
   ]
  },
  {
   "cell_type": "markdown",
   "metadata": {},
   "source": [
    "stats = get_snapshot_properties(snaphots, is_directed=is_directed, weight=\"capacity\")"
   ]
  },
  {
   "cell_type": "code",
   "execution_count": null,
   "metadata": {},
   "outputs": [],
   "source": [
    "stats = get_snapshot_properties(snaphots, is_directed=is_directed, weight=None)"
   ]
  },
  {
   "cell_type": "code",
   "execution_count": null,
   "metadata": {},
   "outputs": [],
   "source": [
    "for idx, snap_stat in enumerate(stats):\n",
    "    snap_stat.to_csv(\"stat_%i.csv\" % idx, index=False)"
   ]
  },
  {
   "cell_type": "markdown",
   "metadata": {},
   "source": [
    "# Correlation time series"
   ]
  },
  {
   "cell_type": "code",
   "execution_count": null,
   "metadata": {},
   "outputs": [],
   "source": [
    "results = dict([(corr, get_corr_sequence(stats, corr)) for corr in [\"pearson\",\"spearman\",\"kendall\",\"w_kendall\"]])"
   ]
  },
  {
   "cell_type": "markdown",
   "metadata": {},
   "source": [
    "### Correlation of centrality measures on adjacent days"
   ]
  },
  {
   "cell_type": "code",
   "execution_count": null,
   "metadata": {},
   "outputs": [],
   "source": [
    "for cent in  [\"deg\",\"in_deg\",\"out_deg\",\"pr\",\"betw\",\"harm\"]:\n",
    "    show_corr_results(results, cent)"
   ]
  },
  {
   "cell_type": "code",
   "execution_count": null,
   "metadata": {},
   "outputs": [],
   "source": []
  }
 ],
 "metadata": {
  "kernelspec": {
   "display_name": "Python [conda env:dm-3-env]",
   "language": "python",
   "name": "conda-env-dm-3-env-py"
  },
  "language_info": {
   "codemirror_mode": {
    "name": "ipython",
    "version": 3
   },
   "file_extension": ".py",
   "mimetype": "text/x-python",
   "name": "python",
   "nbconvert_exporter": "python",
   "pygments_lexer": "ipython3",
   "version": "3.5.5"
  }
 },
 "nbformat": 4,
 "nbformat_minor": 2
}
