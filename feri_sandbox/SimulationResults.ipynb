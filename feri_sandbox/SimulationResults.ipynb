{
 "cells": [
  {
   "cell_type": "code",
   "execution_count": null,
   "metadata": {},
   "outputs": [],
   "source": [
    "%load_ext autoreload\n",
    "%autoreload 2"
   ]
  },
  {
   "cell_type": "code",
   "execution_count": null,
   "metadata": {},
   "outputs": [],
   "source": [
    "import pandas as pd\n",
    "import numpy as np\n",
    "from ln_utils import *\n",
    "from transaction_simulator import *"
   ]
  },
  {
   "cell_type": "code",
   "execution_count": null,
   "metadata": {},
   "outputs": [],
   "source": [
    "%matplotlib inline\n",
    "import seaborn as sns\n",
    "import matplotlib.pyplot as plt"
   ]
  },
  {
   "cell_type": "markdown",
   "metadata": {},
   "source": [
    "### WHAT TO DO WITH INF-s???"
   ]
  },
  {
   "cell_type": "markdown",
   "metadata": {},
   "source": [
    "experiment_id = \"2019-05-30_18:55:02_100000sat_k10000\"\n",
    "snapshots = range(7)\n",
    "simulation_dir = \"/mnt/idms/fberes/data/bitcoin_ln_research/simulations/\""
   ]
  },
  {
   "cell_type": "markdown",
   "metadata": {},
   "source": [
    "experiment_files = get_experiment_files(experiment_id, snapshots, simulation_dir)"
   ]
  },
  {
   "cell_type": "markdown",
   "metadata": {},
   "source": [
    "all_infos = []\n",
    "for snap_id in snapshots:\n",
    "    info, df = aggregate_samples(experiment_files, snap_id)\n",
    "    all_infos.append(info)\n",
    "    print(snap_id)"
   ]
  },
  {
   "cell_type": "markdown",
   "metadata": {},
   "source": [
    "all_infos[0]"
   ]
  },
  {
   "cell_type": "markdown",
   "metadata": {},
   "source": [
    "### Average correlation (over time) between cost changes and other metric"
   ]
  },
  {
   "cell_type": "markdown",
   "metadata": {},
   "source": [
    "methods = [\"spearman\",\"wkendall\",\"kendall\"]\n",
    "fig, axis = plt.subplots(len(methods), 1, figsize=(10,15))\n",
    "for i, m in enumerate(methods):\n",
    "    mx = corr_mx(all_infos[0].drop(\"removed_node\", axis=1), method=m)\n",
    "    for j in range(1,len(all_infos)):\n",
    "        mx = np.add(mx, corr_mx(all_infos[j].drop(\"removed_node\", axis=1), method=m))\n",
    "    axis[i].set_title(m)\n",
    "    sns.heatmap(mx / len(all_infos), annot=True, ax=axis[i], vmin=-0.3, vmax=1.0)"
   ]
  },
  {
   "cell_type": "markdown",
   "metadata": {},
   "source": [
    "# Node analysis with 1ML background"
   ]
  },
  {
   "cell_type": "markdown",
   "metadata": {},
   "source": [
    "from scrapy.crawler import CrawlerProcess\n",
    "from scraping import *"
   ]
  },
  {
   "cell_type": "markdown",
   "metadata": {},
   "source": [
    "### Average metrics of nodes"
   ]
  },
  {
   "cell_type": "markdown",
   "metadata": {},
   "source": [
    "mean_all_info = pd.concat(all_infos, sort=True).groupby(\"removed_node\").mean()\n",
    "mean_all_info = mean_all_info.sort_values(\"cost_diff\", ascending=False)"
   ]
  },
  {
   "cell_type": "markdown",
   "metadata": {},
   "source": [
    "def show_df_with_alias(df):\n",
    "    nodes = list(df.index)\n",
    "    process = CrawlerProcess()\n",
    "    process.crawl(LNNodeParser(nodes))\n",
    "    process.start()\n",
    "    print()"
   ]
  },
  {
   "cell_type": "markdown",
   "metadata": {},
   "source": [
    "show_df_with_alias(mean_all_info.head(10))"
   ]
  },
  {
   "cell_type": "markdown",
   "metadata": {},
   "source": [
    "mean_all_info.head(10)"
   ]
  },
  {
   "cell_type": "markdown",
   "metadata": {},
   "source": [
    "mean_all_info.tail(10)"
   ]
  },
  {
   "cell_type": "markdown",
   "metadata": {},
   "source": [
    "# 1. Load data"
   ]
  },
  {
   "cell_type": "code",
   "execution_count": null,
   "metadata": {},
   "outputs": [],
   "source": [
    "def load_data(experiment_files, snapshots, file_postfix):\n",
    "    parts = []\n",
    "    for snap_id in snapshots:\n",
    "        data_files = []\n",
    "        for f in experiment_files[snap_id]:\n",
    "            sample_id = f.split(\".\")[-1]\n",
    "            if file_postfix == \"router_incomes\":\n",
    "                df = pd.read_csv(\"%s/%s.csv\" % (f, file_postfix), header=None)\n",
    "                df.columns = [\"node\",\"income\"]\n",
    "            else:\n",
    "                df = pd.read_csv(\"%s/%s.csv\" % (f, file_postfix))\n",
    "            df[\"sample\"] = int(sample_id)\n",
    "            data_files.append(df)\n",
    "        tmp_df = pd.concat(data_files, axis=0, sort=False)\n",
    "        tmp_df[\"snapshot_id\"] = snap_id\n",
    "        parts.append(tmp_df)\n",
    "        print(snap_id)\n",
    "    return parts"
   ]
  },
  {
   "cell_type": "code",
   "execution_count": null,
   "metadata": {},
   "outputs": [],
   "source": [
    "#experiment_id = \"2019-07-04_11:12:08_200000sat_k30000\"\n",
    "#experiment_id = \"2019-07-05_14:39:09_200000sat_k30000\"\n",
    "#experiment_id = \"2019-07-05_14:39:09_500000sat_k30000\"\n",
    "#experiment_id = \"2019-08-06_13:42:00_200000sat_k30000_aNone\"\n",
    "#experiment_id = \"2019-08-09_14:31:08_200000sat_k30000_aNone_dropTrue\"\n",
    "#experiment_id = \"2019-08-09_14:31:08_127807sat_k50000_aNone_dropTrue\"\n",
    "experiment_id = \"2019-09-01_18:07:51_200000sat_k30000_aNone_dropTrue\"\n",
    "snapshots = range(7)\n",
    "simulation_dir = \"/mnt/idms/fberes/data/bitcoin_ln_research/simulations/\""
   ]
  },
  {
   "cell_type": "code",
   "execution_count": null,
   "metadata": {},
   "outputs": [],
   "source": [
    "experiment_folders = get_experiment_files(experiment_id, snapshots, simulation_dir)"
   ]
  },
  {
   "cell_type": "code",
   "execution_count": null,
   "metadata": {},
   "outputs": [],
   "source": [
    "experiment_folders[0]"
   ]
  },
  {
   "cell_type": "code",
   "execution_count": null,
   "metadata": {},
   "outputs": [],
   "source": [
    "pricing_pol = load_data(experiment_folders, snapshots, \"opt_fees\")"
   ]
  },
  {
   "cell_type": "code",
   "execution_count": null,
   "metadata": {},
   "outputs": [],
   "source": [
    "source_fee = load_data(experiment_folders, snapshots, \"source_fees\")"
   ]
  },
  {
   "cell_type": "code",
   "execution_count": null,
   "metadata": {},
   "outputs": [],
   "source": [
    "router_income = load_data(experiment_folders, snapshots, \"router_incomes\")"
   ]
  },
  {
   "cell_type": "markdown",
   "metadata": {},
   "source": [
    "## Router incomes"
   ]
  },
  {
   "cell_type": "code",
   "execution_count": null,
   "metadata": {
    "slideshow": {
     "slide_type": "slide"
    }
   },
   "outputs": [],
   "source": [
    "x = snapshots\n",
    "y = [router_income[i][\"income\"].mean() for i in snapshots]\n",
    "plt.plot(x,y, \"bo\")"
   ]
  },
  {
   "cell_type": "code",
   "execution_count": null,
   "metadata": {
    "slideshow": {
     "slide_type": "slide"
    }
   },
   "outputs": [],
   "source": [
    "sns.jointplot(data=pd.concat(router_income), x=\"snapshot_id\", y=\"income\")"
   ]
  },
  {
   "cell_type": "code",
   "execution_count": null,
   "metadata": {},
   "outputs": [],
   "source": [
    "all_router_incomes = pd.concat(router_income)"
   ]
  },
  {
   "cell_type": "code",
   "execution_count": null,
   "metadata": {},
   "outputs": [],
   "source": [
    "all_router_incomes = all_router_incomes.groupby(\"node\")[\"income\"].mean().sort_values(ascending=False)"
   ]
  },
  {
   "cell_type": "markdown",
   "metadata": {},
   "source": [
    "### Top 10 router income for 30K transactions (200K SAT amount):\n",
    "\n",
    "- zigzag.io 212K (?)\n",
    "- ln1.satoshilabs.com 71K\n",
    "- yalls.org 50K\n",
    "- BlueWallet 22K (Node: 03021c5f5f57322740e4)\n",
    "- LNBIG.com [lnd-26]: 21K\n",
    "- LNBIG.com [lnd-37]: 20K\n",
    "- LNBIG.com [lnd-38]: 16K\n",
    "- LNBIG.com [lnd-33]: 15K\n",
    "- LNBIG.com [lnd-25]: 12K\n",
    "- LNBIG.com [lnd-17]: 12K\n",
    "- LNBIG.com [lnd-03]: 12K\n",
    "- LNBIG.com [lnd-01]: 11K\n",
    "- LNBIG.com [lnd-09]: 11K\n",
    "- LNBIG.com [lnd-21]: 10K\n",
    "- LNBIG.com [lnd-05]: 9K\n",
    "- LNBIG.com [lnd-34]: 8K\n",
    "- OpenNode: 8233.32 (17. cs\u00facs)\n",
    "- LNBIG.com [lnd-31]: 7800\n",
    "- LNBIG.com [lnd-07]: 7700\n",
    "- LNBIG.com [lnd-06]: 7729\n",
    "- bitBruno: 7465 (21. cs\u00facs)\n",
    "- LNBIG.com [lnd-41]: 7064\n",
    "- LNBIG.com [lnd-28/old-lnd-22]: 6914\n",
    "- LNBIG.com [lnd-02]: 6870\n",
    "- tippin.me: 6808 (25. cs\u00facs)\n",
    "- LNBIG.com [lnd-32]: 6393\n",
    "- LNBIG.com [lnd-10]: 5889\n",
    "- LNBIG.com [lnd-42]: 5548\n",
    "- btc.lnetwork.tokyo: 3793\n",
    "- KZIN: 3167\n",
    "\n",
    "#### further in the list:\n",
    "- ACINQ: 2660\n",
    "- 1ML.com node alpha: 1457\n",
    "\n",
    "\n",
    "#### LNBIG\n",
    "\n",
    "- **226K SAT income for LNBIG (from its most profitable 20 nodes) - 21,56 USD** - according to him daily 20 USD a month (5-10K SAT per day / 200-300 comission per day)"
   ]
  },
  {
   "cell_type": "markdown",
   "metadata": {},
   "source": [
    "lnbig_indices = list(range(4,16)) + list(range(17,20)) + [21,22,23] + [25,26,27]\n",
    "len(lnbig_indices)"
   ]
  },
  {
   "cell_type": "markdown",
   "metadata": {},
   "source": [
    "incomes_arr = list(all_router_incomes)[:30]\n",
    "#lnbig_incomes = incomes_arr[lnbig_indices]"
   ]
  },
  {
   "cell_type": "markdown",
   "metadata": {},
   "source": [
    "lnbig_total = 0.0\n",
    "for idx in lnbig_indices[:20]:\n",
    "    lnbig_total += incomes_arr[idx]"
   ]
  },
  {
   "cell_type": "markdown",
   "metadata": {},
   "source": [
    "lnbig_total"
   ]
  },
  {
   "cell_type": "markdown",
   "metadata": {},
   "source": [
    "all_router_incomes.head(50)"
   ]
  },
  {
   "cell_type": "markdown",
   "metadata": {
    "slideshow": {
     "slide_type": "slide"
    }
   },
   "source": [
    "## Source fees"
   ]
  },
  {
   "cell_type": "code",
   "execution_count": null,
   "metadata": {
    "slideshow": {
     "slide_type": "slide"
    }
   },
   "outputs": [],
   "source": [
    "x = snapshots\n",
    "y = [source_fee[i][\"mean_fee\"].mean() for i in snapshots]\n",
    "plt.plot(x,y, \"bo\")"
   ]
  },
  {
   "cell_type": "code",
   "execution_count": null,
   "metadata": {
    "slideshow": {
     "slide_type": "slide"
    }
   },
   "outputs": [],
   "source": [
    "sns.jointplot(data=pd.concat(source_fee), x=\"snapshot_id\", y=\"mean_fee\")"
   ]
  },
  {
   "cell_type": "markdown",
   "metadata": {
    "slideshow": {
     "slide_type": "slide"
    }
   },
   "source": [
    "## Optimal pricing"
   ]
  },
  {
   "cell_type": "code",
   "execution_count": null,
   "metadata": {
    "slideshow": {
     "slide_type": "slide"
    }
   },
   "outputs": [],
   "source": [
    "x = snapshots\n",
    "y = [pricing_pol[i][\"opt_delta\"].mean() for i in snapshots]\n",
    "plt.plot(x,y, \"bo\")"
   ]
  },
  {
   "cell_type": "code",
   "execution_count": null,
   "metadata": {
    "slideshow": {
     "slide_type": "slide"
    }
   },
   "outputs": [],
   "source": [
    "x = snapshots\n",
    "y = [pricing_pol[i][\"opt_traffic\"].mean() for i in snapshots]\n",
    "plt.plot(x,y, \"bo\")"
   ]
  },
  {
   "cell_type": "code",
   "execution_count": null,
   "metadata": {
    "slideshow": {
     "slide_type": "slide"
    }
   },
   "outputs": [],
   "source": [
    "x = snapshots\n",
    "y = [pricing_pol[i][\"origi_income\"].mean() for i in snapshots]\n",
    "plt.plot(x,y, \"bo\")"
   ]
  },
  {
   "cell_type": "code",
   "execution_count": null,
   "metadata": {
    "slideshow": {
     "slide_type": "slide"
    }
   },
   "outputs": [],
   "source": [
    "x = snapshots\n",
    "y = [pricing_pol[i][\"opt_income\"].mean() for i in snapshots]\n",
    "plt.plot(x,y, \"bo\")"
   ]
  },
  {
   "cell_type": "markdown",
   "metadata": {},
   "source": [
    "### Calculate income revenue"
   ]
  },
  {
   "cell_type": "code",
   "execution_count": null,
   "metadata": {},
   "outputs": [],
   "source": [
    "for df in pricing_pol:\n",
    "    df[\"income_diff\"] = df[\"opt_income\"] - df[\"origi_income\"]"
   ]
  },
  {
   "cell_type": "markdown",
   "metadata": {
    "slideshow": {
     "slide_type": "slide"
    }
   },
   "source": [
    "# 2. Simulation stability"
   ]
  },
  {
   "cell_type": "code",
   "execution_count": null,
   "metadata": {},
   "outputs": [],
   "source": [
    "corrs = [\"spearman\",\"kendall\",\"wkendall\"]"
   ]
  },
  {
   "cell_type": "code",
   "execution_count": null,
   "metadata": {},
   "outputs": [],
   "source": [
    "def avg_cross_corr(df, snapshot_id, col, methods=corrs, key_col=\"node\"):\n",
    "    snap = df[snapshot_id]\n",
    "    sample_num = snap[\"sample\"].max()+1\n",
    "    cols = [key_col, col]\n",
    "    merged = snap[snap[\"sample\"]==0][cols].rename({col:col+\"_0\"}, axis=1)\n",
    "    for i in range(1,sample_num):\n",
    "        s = snap[snap[\"sample\"]==i][cols].rename({col:col+\"_%i\" % i}, axis=1)\n",
    "        merged = merged.merge(s, on=key_col, how=\"outer\").fillna(0.0)\n",
    "    merged.drop(\"node\", inplace=True, axis=1)\n",
    "    res = {}\n",
    "    for method in methods:\n",
    "        cnt = corr_mx(merged, method=method).sum().sum() - sample_num \n",
    "        denom = sample_num**2-sample_num\n",
    "        res[method] = cnt / denom\n",
    "    return res"
   ]
  },
  {
   "cell_type": "code",
   "execution_count": null,
   "metadata": {},
   "outputs": [],
   "source": [
    "origi_inc = pd.DataFrame([avg_cross_corr(pricing_pol, snap_id, \"origi_income\") for snap_id in snapshots])\n",
    "opt_inc = pd.DataFrame([avg_cross_corr(pricing_pol, snap_id, \"opt_income\") for snap_id in snapshots])\n",
    "income_diff = pd.DataFrame([avg_cross_corr(pricing_pol, snap_id, \"income_diff\") for snap_id in snapshots])\n",
    "opt_delta = pd.DataFrame([avg_cross_corr(pricing_pol, snap_id, \"opt_delta\") for snap_id in snapshots])"
   ]
  },
  {
   "cell_type": "code",
   "execution_count": null,
   "metadata": {
    "slideshow": {
     "slide_type": "slide"
    }
   },
   "outputs": [],
   "source": [
    "colors = ['b','g','r','m']\n",
    "fig, axis = plt.subplots(1,3,figsize=(15,4))\n",
    "x = snapshots\n",
    "# incomes\n",
    "axis[0].set_title(\"INCOME mean cross correlations\")\n",
    "for i, c in enumerate(corrs):\n",
    "    axis[0].plot(x,origi_inc[c], colors[i]+'-', label=c+\"_orig\")\n",
    "    axis[0].plot(x,opt_inc[c], colors[i]+'--', label=c+\"_opt\")\n",
    "axis[0].set_xlabel(\"snapshot\")\n",
    "axis[0].legend()\n",
    "# income_diff\n",
    "axis[1].set_title(\"INCOME_DIFF mean cross correlations\")\n",
    "for i, c in enumerate(corrs):\n",
    "    axis[1].plot(x,income_diff[c], colors[i]+'-', label=c)\n",
    "axis[1].set_xlabel(\"snapshot\")\n",
    "axis[1].legend()\n",
    "# opt_delta\n",
    "axis[2].set_title(\"OPT_DELTA mean cross correlations\")\n",
    "for i, c in enumerate(corrs):\n",
    "    axis[2].plot(x,opt_delta[c], colors[i]+'-', label=c)\n",
    "axis[2].set_xlabel(\"snapshot\")\n",
    "axis[2].legend()\n",
    "plt.show()"
   ]
  },
  {
   "cell_type": "markdown",
   "metadata": {
    "slideshow": {
     "slide_type": "slide"
    }
   },
   "source": [
    "#### Incomes observations\n",
    "\n",
    "- taking mean cross correlation of user incomes (original and optimal)\n",
    "- weighted kendall-tau gives decreased to 0.90 from 0.95 (after including capacity maintenance)\n",
    "- in case of unweighted spearman and kendall the optimal income correlates better across samples \n",
    "\n",
    "#### income_diff observations\u00b6\n",
    "\n",
    "- taking mean cross correlation of income difference (optimal income - original income)\n",
    "- weighted kendall-tau decreased to 0.80 from 0.93 (after including capacity maintenance)\n",
    "\n",
    "#### opt_delta observations\u00b6\n",
    "\n",
    "- taking mean cross correlation of optimal base fee change\n",
    "- weighted kendall-tau decreased to 0.70 from 0.90 (after including capacity maintenance)\n",
    "\n",
    "**CONCLUSION: our base_fee optimization procedure is less efficient (meaningful) after the implementation of capacity maintenance!!!**"
   ]
  },
  {
   "cell_type": "markdown",
   "metadata": {},
   "source": [
    "# 3. Income revenue analysis"
   ]
  },
  {
   "cell_type": "code",
   "execution_count": null,
   "metadata": {},
   "outputs": [],
   "source": [
    "def cut_into_categories(df):\n",
    "    #categories = [df[:10], df[10:30], df[30:50], df[50:100]]\n",
    "    #categories = [df[:20], df[20:50], df[50:100], df[100:200]]\n",
    "    #categories = [df[:10], df[10:20], df[20:30], df[30:40], df[40:50], df[50:100], df[100:500]]\n",
    "    categories = [df[:10], df[10:30], df[30:50], df[50:100], df[100:500]]\n",
    "    #categories = [df[:50], df[50:100], df[100:500]]#, df[200:500]]\n",
    "    return categories\n",
    "\n",
    "def merge_categories(categories):\n",
    "    for i, cat in enumerate(categories):\n",
    "        cat[\"category\"] = i\n",
    "    return pd.concat(categories)\n",
    "    \n",
    "def show_stats(snap_id, col=\"income_diff\"):\n",
    "    mean = pricing_pol[snap_id].groupby(\"node\").mean().sort_values(\"origi_income\", ascending=False)\n",
    "    categories = cut_into_categories(mean)\n",
    "    return [float(cat[[col]].mean()) for cat in categories]"
   ]
  },
  {
   "cell_type": "code",
   "execution_count": null,
   "metadata": {},
   "outputs": [],
   "source": [
    "x = range(5)"
   ]
  },
  {
   "cell_type": "markdown",
   "metadata": {},
   "source": [
    "### Visualize each snapshot"
   ]
  },
  {
   "cell_type": "markdown",
   "metadata": {},
   "source": [
    "df = pd.DataFrame([show_stats(i, \"income_diff\") for i in snapshots])"
   ]
  },
  {
   "cell_type": "markdown",
   "metadata": {},
   "source": [
    "plt.Figure(figsize=(10,10))\n",
    "for i in snapshots:\n",
    "    plt.plot(x, show_stats(i, \"income_diff\"), label=i)\n",
    "plt.yscale(\"log\")\n",
    "plt.legend()"
   ]
  },
  {
   "cell_type": "markdown",
   "metadata": {},
   "source": [
    "plt.Figure(figsize=(10,10))\n",
    "for i in snapshots:\n",
    "    plt.plot(x, show_stats(i, \"opt_traffic\"), label=i)\n",
    "plt.legend()"
   ]
  },
  {
   "cell_type": "markdown",
   "metadata": {},
   "source": [
    "### Average stats (over all snapshots and samples)"
   ]
  },
  {
   "cell_type": "markdown",
   "metadata": {},
   "source": [
    "average_stats = pricing_pol[0].groupby(\"node\").mean().sort_values(\"origi_income\", ascending=False)[[\"income_diff\",\"origi_income\",\"opt_income\",\"opt_traffic\",\"opt_delta\"]]"
   ]
  },
  {
   "cell_type": "code",
   "execution_count": null,
   "metadata": {},
   "outputs": [],
   "source": [
    "all_records = pd.concat([pricing_pol[i] for i in snapshots])"
   ]
  },
  {
   "cell_type": "code",
   "execution_count": null,
   "metadata": {},
   "outputs": [],
   "source": [
    "average_stats = all_records.groupby(\"node\").mean().sort_values(\"origi_income\", ascending=False)[[\"income_diff\",\"origi_income\",\"opt_income\",\"opt_traffic\",\"opt_delta\"]]"
   ]
  },
  {
   "cell_type": "code",
   "execution_count": null,
   "metadata": {},
   "outputs": [],
   "source": [
    "average_stats_cats = cut_into_categories(average_stats)\n",
    "mean_diff = [float(cat[[\"income_diff\"]].mean()) for cat in average_stats_cats]\n",
    "mean_traffic = [float(cat[[\"opt_traffic\"]].mean()) for cat in average_stats_cats]\n",
    "mean_delta = [float(cat[[\"opt_delta\"]].mean()) for cat in average_stats_cats]"
   ]
  },
  {
   "cell_type": "code",
   "execution_count": null,
   "metadata": {
    "slideshow": {
     "slide_type": "slide"
    }
   },
   "outputs": [],
   "source": [
    "fig, axis = plt.subplots(1,3,figsize=(15,4))\n",
    "axis[0].plot(x, mean_diff, 'rx')\n",
    "axis[0].set_xlabel(\"income category\")\n",
    "axis[0].set_ylabel(\"mean income_diff\")\n",
    "axis[1].plot(x, mean_delta, 'g*')\n",
    "axis[1].set_xlabel(\"income category\")\n",
    "axis[1].set_ylabel(\"mean opt_delta\")\n",
    "axis[2].plot(x, mean_traffic, 'bo')\n",
    "axis[2].set_xlabel(\"income category\")\n",
    "axis[2].set_ylabel(\"mean opt_traffic\")\n",
    "plt.show()"
   ]
  },
  {
   "cell_type": "markdown",
   "metadata": {},
   "source": [
    "#### Mean original income for the selected categories"
   ]
  },
  {
   "cell_type": "code",
   "execution_count": null,
   "metadata": {
    "slideshow": {
     "slide_type": "subslide"
    }
   },
   "outputs": [],
   "source": [
    "[float(cat[[\"origi_income\"]].mean()) for cat in average_stats_cats]"
   ]
  },
  {
   "cell_type": "markdown",
   "metadata": {},
   "source": [
    "### PROBLEM with outliers..."
   ]
  },
  {
   "cell_type": "code",
   "execution_count": null,
   "metadata": {},
   "outputs": [],
   "source": [
    "merged = merge_categories(average_stats_cats)"
   ]
  },
  {
   "cell_type": "code",
   "execution_count": null,
   "metadata": {},
   "outputs": [],
   "source": [
    "sns.boxplot(data=merged, x=\"category\", y=\"income_diff\", whis=2)"
   ]
  },
  {
   "cell_type": "markdown",
   "metadata": {},
   "source": [
    "average_stats.head(10)"
   ]
  },
  {
   "cell_type": "markdown",
   "metadata": {},
   "source": [
    "### Nodes above 20K SAT (2.5 USD) income_diff (with alpha=2.0 source distribution)\n",
    "\n",
    "#### 2019-07-04_11:12:08_200000sat_k30000 (ordered by original income)\n",
    "\n",
    "1. yalls.org - Read and write articles, with Lightning Network micropayments. (195,925.46 USD)\n",
    "2. ACINQ - ACINQ is one of the leading companies working on Bitcoin scalability. (507,211.38 USD)\n",
    "3. 1ML.com node ALPHA (89,453.40 USD)\n",
    "4. LightningPowerUsers.com (313,406.05 USD)\n",
    "5. LightningTo.Me - Helping to resolve routing and capacity issues (165,531.35 USD)\n",
    "6. tomjodh.nl - Buy photos with satoshis (8,709.95 USD) - **TODO RECLASSIFY AS merchant!!!**\n",
    "7. ? - ? (848.05 USD)\n",
    "\n",
    "#### 2019-07-05_14:39:09_200000sat_k30000 (ordered by original income)\n",
    "\n",
    "1. ACINQ - ACINQ is one of the leading companies working on Bitcoin scalability. (507,211.38 USD, 783 channel)\n",
    "2. 1ML.com node ALPHA (89,453.40 USD, 884 channel)\n",
    "3. LightningPowerUsers.com (313,406.05 USD, 1,266 channel)\n",
    "4. LightningTo.Me - Helping to resolve routing and capacity issues (165,531.35 USD, 700 channel)\n",
    "5. tomjodh.nl - Buy photos with satoshis (8,709.95 USD, 47 channel)\n",
    "6. ? - ? (859.23 USD, 4 channel)\n",
    "7. nybemotion - ? (318.35 USD, 3 channel)\n",
    "\n",
    "#### Additional nodes in 2019-07-05_14:39:09_500000sat_k30000\n",
    "\n",
    "4. Bitrefill.com - Buy Gift Cards with Bitcoin for 30+ supported services (310,369.63 USD, 305 channel) - **TODO RECLASSIFY AS merchant!!!**\n",
    "6. tady je slushovo: ? (48,872.23 USD, 336 channel)"
   ]
  },
  {
   "cell_type": "markdown",
   "metadata": {},
   "source": [
    "### Nodes above 20K SAT (2.5 USD) income_diff (with alpha=None source distribution)\n",
    "\n",
    "#### 2019-08-06_13:42:00_200000sat_k30000_aNone (ordered by original income)\n",
    "\n",
    "1. yalls.org\n",
    "2. ACINQ\n",
    "3. LightningPowerUsers.com\n",
    "4. tomjodh.nl\n",
    "5. Node: 0297b368360113e29032 ???\n",
    "6. nybemotion\n",
    "\n",
    "#### 2019-08-09_14:31:08_200000sat_k30000_aNone_dropTrue\n",
    "\n",
    "1. yalls.org\n",
    "2. ln1.satoshilabs.com (306,117.70 USD - 824 channels) **(NEW)**\n",
    "3. LightningPowerUsers.com\n",
    "4. nybemotion (493.61 USD, 6 channel) ???\n",
    "5. Amazing_Droopy_3 (113.73 USD, 1 channel?) ???\n",
    "\n",
    "#### 2019-09-01_18:07:51_200000sat_k30000_aNone_dropTrue (WITH capacity maintenance)\n",
    "\n",
    "1. LightningPowerUsers.com (237,653 USD, 1261 channels)\n",
    "2. 1ML.com node ALPHA (64,630 USD, 889 channels)\n",
    "3. CoinGate (147,272 USD, 462 channels) - CoinGate is the first large cryptocurrency payment gateway to introduce Lightning Network payments to hundreds of merchants with no technical knowledge required\n",
    "4. lndhub.ru (19,066 USD, 248 channels) - increase connectivity\n",
    "5. BeerselLightningNode (13,246 USD, 84 channels)\n",
    "6. BitKassa LN34961 (13,631 USD, 47) - some kind of payment API and BTC tech company\n",
    "7. Serving Beer (2,107 USD, 13 channels) - is this really a merchant???"
   ]
  },
  {
   "cell_type": "code",
   "execution_count": null,
   "metadata": {},
   "outputs": [],
   "source": [
    "average_stats[average_stats[\"income_diff\"]>20000]"
   ]
  },
  {
   "cell_type": "code",
   "execution_count": null,
   "metadata": {},
   "outputs": [],
   "source": []
  }
 ],
 "metadata": {
  "kernelspec": {
   "display_name": "Python [conda env:dm-3-env] *",
   "language": "python",
   "name": "conda-env-dm-3-env-py"
  },
  "language_info": {
   "codemirror_mode": {
    "name": "ipython",
    "version": 3
   },
   "file_extension": ".py",
   "mimetype": "text/x-python",
   "name": "python",
   "nbconvert_exporter": "python",
   "pygments_lexer": "ipython3",
   "version": "3.7.3"
  }
 },
 "nbformat": 4,
 "nbformat_minor": 4
}