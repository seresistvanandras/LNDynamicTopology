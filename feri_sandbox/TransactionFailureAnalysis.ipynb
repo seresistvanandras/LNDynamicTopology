{
 "cells": [
  {
   "cell_type": "code",
   "execution_count": null,
   "metadata": {},
   "outputs": [],
   "source": [
    "%load_ext autoreload\n",
    "%autoreload 2"
   ]
  },
  {
   "cell_type": "code",
   "execution_count": null,
   "metadata": {},
   "outputs": [],
   "source": [
    "import pandas as pd\n",
    "from tqdm import tqdm\n",
    "from ln_utils import handle_img, load_data\n",
    "from transaction_simulator import get_experiment_files"
   ]
  },
  {
   "cell_type": "code",
   "execution_count": null,
   "metadata": {},
   "outputs": [],
   "source": [
    "%matplotlib inline\n",
    "import seaborn as sns\n",
    "import matplotlib.pyplot as plt"
   ]
  },
  {
   "cell_type": "code",
   "execution_count": null,
   "metadata": {},
   "outputs": [],
   "source": [
    "sns.set(font_scale = 2)\n",
    "sns.set_style(\"whitegrid\")"
   ]
  },
  {
   "cell_type": "markdown",
   "metadata": {},
   "source": [
    "# 1. Load path info files"
   ]
  },
  {
   "cell_type": "code",
   "execution_count": null,
   "metadata": {},
   "outputs": [],
   "source": [
    "snapshots = range(7)"
   ]
  },
  {
   "cell_type": "code",
   "execution_count": null,
   "metadata": {},
   "outputs": [],
   "source": [
    "results_dir = \"/mnt/idms/fberes/data/bitcoin_ln_research/results/path_length_info/\""
   ]
  },
  {
   "cell_type": "markdown",
   "metadata": {},
   "source": [
    "### Experiments with capacity filter"
   ]
  },
  {
   "cell_type": "markdown",
   "metadata": {},
   "source": [
    "simulation_dir = \"/mnt/idms/fberes/data/bitcoin_ln_research/simulations_7days/\"\n",
    "amounts = [10000,25000,50000,100000,200000,500000]\n",
    "tx_nums = [1000,2000,5000,10000,20000]\n",
    "ts_map = {\n",
    "    1000:\"2019-09-16_20:45:51\",\n",
    "    2000:\"2019-09-16_19:13:21\",\n",
    "    5000:\"2019-09-16_14:12:54\",\n",
    "    10000:\"2019-09-16_17:56:28\",\n",
    "    20000:\"2019-09-16_15:39:13\"\n",
    "}"
   ]
  },
  {
   "cell_type": "markdown",
   "metadata": {},
   "source": [
    "### Experiments without capacity filter"
   ]
  },
  {
   "cell_type": "code",
   "execution_count": null,
   "metadata": {},
   "outputs": [],
   "source": [
    "simulation_dir = \"/mnt/idms/fberes/data/bitcoin_ln_research/simulations\"\n",
    "amounts = [10000,25000,50000,100000,200000,500000]\n",
    "tx_nums = [1000,2000,5000,10000,20000,50000]\n",
    "ts_map = {\n",
    "    1000:\"2019-09-23_22:53:58\",\n",
    "    2000:\"2019-09-23_15:29:59\",\n",
    "    5000:\"2019-09-23_06:47:40\",\n",
    "    10000:\"2019-09-22_22:17:29\",\n",
    "    20000:\"2019-09-21_23:53:33\",\n",
    "    50000:\"2019-09-23_21:37:58\"\n",
    "}"
   ]
  },
  {
   "cell_type": "markdown",
   "metadata": {},
   "source": [
    "### Load simulation outputs"
   ]
  },
  {
   "cell_type": "code",
   "execution_count": null,
   "metadata": {},
   "outputs": [],
   "source": [
    "records = []\n",
    "for n in tqdm(tx_nums):\n",
    "    for a in amounts:\n",
    "        experiment_id = \"%s_%isat_k%i\" % (ts_map[n], a, n)\n",
    "        experiment_folders = get_experiment_files(experiment_id, snapshots, simulation_dir)\n",
    "        length_distrib = load_data(experiment_folders, snapshots, \"lengths_distrib\")\n",
    "        all_length_distrib = pd.concat(length_distrib)\n",
    "        all_success = all_length_distrib[all_length_distrib[\"length\"]>0]\n",
    "        avg_path_length = all_success[\"length\"].mean()\n",
    "        total_counts = all_length_distrib.groupby(\"length\")[\"count\"].sum()\n",
    "        S = total_counts.sum()\n",
    "        total_ratios = total_counts / S\n",
    "        ratio_failed = total_ratios[-1]\n",
    "        records.append([n,a,ratio_failed,avg_path_length])\n",
    "        #print(n,a)"
   ]
  },
  {
   "cell_type": "markdown",
   "metadata": {},
   "source": [
    "# Transaction failure and average path length"
   ]
  },
  {
   "cell_type": "markdown",
   "metadata": {},
   "source": [
    "## Pivot tables"
   ]
  },
  {
   "cell_type": "code",
   "execution_count": null,
   "metadata": {},
   "outputs": [],
   "source": [
    "ratio_col = \"ratio of failed transactions\"\n",
    "avg_path_col = \"average path length\"\n",
    "tx_num_col = \"number of transactions\""
   ]
  },
  {
   "cell_type": "code",
   "execution_count": null,
   "metadata": {},
   "outputs": [],
   "source": [
    "path_info_df = pd.DataFrame(records, columns=[tx_num_col,\"amount\",ratio_col,avg_path_col])"
   ]
  },
  {
   "cell_type": "code",
   "execution_count": null,
   "metadata": {},
   "outputs": [],
   "source": [
    "path_info_df.head()"
   ]
  },
  {
   "cell_type": "code",
   "execution_count": null,
   "metadata": {},
   "outputs": [],
   "source": [
    "pivot_ratio_failed = path_info_df.pivot(index=\"amount\",columns=tx_num_col,values=ratio_col).sort_values(\"amount\",ascending=False)"
   ]
  },
  {
   "cell_type": "code",
   "execution_count": null,
   "metadata": {},
   "outputs": [],
   "source": [
    "pivot_ratio_avg_length = path_info_df.pivot(index=\"amount\",columns=tx_num_col,values=avg_path_col).sort_values(\"amount\",ascending=False)"
   ]
  },
  {
   "cell_type": "markdown",
   "metadata": {},
   "source": [
    "## Heatmaps"
   ]
  },
  {
   "cell_type": "code",
   "execution_count": null,
   "metadata": {},
   "outputs": [],
   "source": [
    "cmap = \"RdBu_r\"\n",
    "fig_s=(6,6)"
   ]
  },
  {
   "cell_type": "code",
   "execution_count": null,
   "metadata": {},
   "outputs": [],
   "source": [
    "pivot_ratio_failed.shape"
   ]
  },
  {
   "cell_type": "code",
   "execution_count": null,
   "metadata": {},
   "outputs": [],
   "source": [
    "pivot_ratio_failed"
   ]
  },
  {
   "cell_type": "code",
   "execution_count": null,
   "metadata": {},
   "outputs": [],
   "source": [
    "fig, ax = plt.subplots(figsize=fig_s)\n",
    "sns.heatmap(data=pivot_ratio_failed, ax=ax, cmap=cmap, square=True)\n",
    "ax.set_ylim(6.0, 0)\n",
    "plt.savefig(\"%s/ratio_of_failed_paths.pdf\" % results_dir, format=\"pdf\", bbox_inches='tight')"
   ]
  },
  {
   "cell_type": "code",
   "execution_count": null,
   "metadata": {},
   "outputs": [],
   "source": [
    "fig, ax = plt.subplots(figsize=fig_s)\n",
    "sns.heatmap(data=pivot_ratio_avg_length, ax=ax, cmap=cmap,  square=True)\n",
    "ax.set_ylim(6.0, 0)\n",
    "plt.savefig(\"%s/avg_path_length.pdf\" % results_dir, format=\"pdf\", bbox_inches='tight')"
   ]
  },
  {
   "cell_type": "markdown",
   "metadata": {},
   "source": [
    "# Transaction security analysis"
   ]
  },
  {
   "cell_type": "code",
   "execution_count": null,
   "metadata": {},
   "outputs": [],
   "source": [
    "n = 5000\n",
    "a = 50000\n",
    "experiment_id = \"%s_%isat_k%i\" % (ts_map[n], a, n)\n",
    "experiment_folders = get_experiment_files(experiment_id, snapshots, simulation_dir)\n",
    "length_distrib = load_data(experiment_folders, snapshots, \"lengths_distrib\")\n",
    "all_length_distrib = pd.concat(length_distrib)"
   ]
  },
  {
   "cell_type": "code",
   "execution_count": null,
   "metadata": {},
   "outputs": [],
   "source": [
    "all_length_distrib.head()"
   ]
  },
  {
   "cell_type": "code",
   "execution_count": null,
   "metadata": {},
   "outputs": [],
   "source": [
    "success_transactions = all_length_distrib.copy()[all_length_distrib[\"length\"]>0]"
   ]
  },
  {
   "cell_type": "code",
   "execution_count": null,
   "metadata": {},
   "outputs": [],
   "source": [
    "success_transactions[\"length\"] = success_transactions[\"length\"].apply(lambda x: x if x<6 else \"longer\")"
   ]
  },
  {
   "cell_type": "markdown",
   "metadata": {},
   "source": [
    "success_transactions.loc[:,\"ratio\"] = success_transactions[\"count\"] / 5000"
   ]
  },
  {
   "cell_type": "code",
   "execution_count": null,
   "metadata": {},
   "outputs": [],
   "source": [
    "plt.figure(figsize=(6,6))\n",
    "labs = [1,2,3,4,5,'longer']\n",
    "values = success_transactions.groupby(\"length\")[\"count\"].sum()\n",
    "plt.pie(values, explode=(0.2,0,0,0,0.2,0.2), autopct='%1.0f%%', pctdistance=1.17)\n",
    "lgd = plt.legend(labs, loc=2,bbox_to_anchor=(1.08, 1.02))\n",
    "plt.savefig(\"%s/path_length_distribution.pdf\" % results_dir, format=\"pdf\", bbox_extra_artists=(lgd,), bbox_inches='tight')"
   ]
  },
  {
   "cell_type": "markdown",
   "metadata": {},
   "source": [
    "sns.catplot(data=success_transactions, x=\"length\", y=\"ratio\", kind=\"bar\", height=8)"
   ]
  },
  {
   "cell_type": "code",
   "execution_count": null,
   "metadata": {},
   "outputs": [],
   "source": []
  }
 ],
 "metadata": {
  "kernelspec": {
   "display_name": "Python [conda env:dm-3-env] *",
   "language": "python",
   "name": "conda-env-dm-3-env-py"
  },
  "language_info": {
   "codemirror_mode": {
    "name": "ipython",
    "version": 3
   },
   "file_extension": ".py",
   "mimetype": "text/x-python",
   "name": "python",
   "nbconvert_exporter": "python",
   "pygments_lexer": "ipython3",
   "version": "3.7.3"
  }
 },
 "nbformat": 4,
 "nbformat_minor": 2
}