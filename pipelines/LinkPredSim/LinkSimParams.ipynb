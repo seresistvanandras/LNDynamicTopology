{
 "cells": [
  {
   "cell_type": "code",
   "execution_count": null,
   "metadata": {},
   "outputs": [],
   "source": [
    "from datawand.parametrization import ConfigGenerator"
   ]
  },
  {
   "cell_type": "markdown",
   "metadata": {},
   "source": [
    "# Initialize configuration generator"
   ]
  },
  {
   "cell_type": "code",
   "execution_count": null,
   "metadata": {},
   "outputs": [],
   "source": [
    "cg = ConfigGenerator(pipeline_name='LinkPredSim')"
   ]
  },
  {
   "cell_type": "markdown",
   "metadata": {},
   "source": [
    "# Setting default parameters for pipeline"
   ]
  },
  {
   "cell_type": "code",
   "execution_count": null,
   "metadata": {},
   "outputs": [],
   "source": [
    "DEFAULTS = {}"
   ]
  },
  {
   "cell_type": "markdown",
   "metadata": {},
   "source": [
    "#### Set your default parameters below:"
   ]
  },
  {
   "cell_type": "code",
   "execution_count": null,
   "metadata": {},
   "outputs": [],
   "source": [
    "DEFAULTS[\"top_first_days\"] = 20\n",
    "DEFAULTS[\"topk\"] = 20\n",
    "#DEFAULTS[\"base_model\"] = \"onmf_dim10_lr0.140_nr100\"\n",
    "#DEFAULTS[\"base_model\"] = \"time_pop\""
   ]
  },
  {
   "cell_type": "code",
   "execution_count": null,
   "metadata": {},
   "outputs": [],
   "source": [
    "DEFAULTS[\"tx_fee_sat\"] = 60000\n",
    "DEFAULTS[\"tx_num\"] = 7000\n",
    "DEFAULTS[\"epsilon\"] = 0.8 \n",
    "DEFAULTS[\"drop_disabled\"] = True\n",
    "DEFAULTS[\"drop_low_cap\"] = True\n",
    "DEFAULTS[\"with_depletion\"] = True\n",
    "DEFAULTS[\"time_window\"] = None\n",
    "DEFAULTS[\"half_life\"] = None"
   ]
  },
  {
   "cell_type": "markdown",
   "metadata": {},
   "source": [
    "# Setting parameters for notebooks"
   ]
  },
  {
   "cell_type": "code",
   "execution_count": null,
   "metadata": {},
   "outputs": [],
   "source": [
    "PARAMETERS = {}"
   ]
  },
  {
   "cell_type": "code",
   "execution_count": null,
   "metadata": {},
   "outputs": [],
   "source": [
    "for nb_name in cg.pythonitem_names:\n",
    "    PARAMETERS[nb_name] = []\n",
    "print(PARAMETERS)"
   ]
  },
  {
   "cell_type": "markdown",
   "metadata": {},
   "source": [
    "for top_k in [20,100]:\n",
    "    for base_m in [\"time_pop\"]:#,\"onmf_dim10_lr0.140_nr100\"]:\n",
    "        PARAMETERS['link_simulator'].append({\"topk\":top_k,\"base_model\":base_m})"
   ]
  },
  {
   "cell_type": "markdown",
   "metadata": {},
   "source": [
    "PARAMETERS['link_simulator'].append({\"topk\":100,\"base_model\":\"time_pop\"})"
   ]
  },
  {
   "cell_type": "markdown",
   "metadata": {},
   "source": [
    "PARAMETERS['link_simulator'].append({\"tx_fee_sat\":200000})\n",
    "PARAMETERS['link_simulator'].append({\"tx_num\":1000})\n",
    "PARAMETERS['link_simulator'].append({\"tx_num\":14000})\n",
    "PARAMETERS['link_simulator'].append({\"epsilon\":0.0})\n",
    "PARAMETERS['link_simulator'].append({\"drop_disabled\":False})\n",
    "PARAMETERS['link_simulator'].append({\"with_depletion\":False})\n",
    "PARAMETERS['link_simulator'].append({\"with_depletion\":False, \"drop_low_cap\":False})\n",
    "PARAMETERS['link_simulator'].append({\"drop_disabled\":False,\"with_depletion\":False, \"drop_low_cap\":False})\n",
    "PARAMETERS['link_simulator'].append({\"drop_disabled\":False, \"time_window\":86400})\n",
    "PARAMETERS['link_simulator'].append({\"drop_disabled\":False, \"time_window\":7*86400})\n",
    "PARAMETERS['link_simulator'].append({\"drop_disabled\":False, \"time_window\":14*86400})\n",
    "PARAMETERS['link_simulator'].append({\"tx_fee_sat\":200000, \"drop_disabled\":False, \"time_window\":86400})\n",
    "PARAMETERS['link_simulator'].append({\"tx_fee_sat\":200000, \"epsilon\":0.0, \"drop_disabled\":False, \"time_window\":86400})"
   ]
  },
  {
   "cell_type": "markdown",
   "metadata": {},
   "source": [
    "for cap in [500000]:\n",
    "    for k in [70000]:\n",
    "        for half_life in [86400/4,86400/2,86400,86400*2,86400*7]:\n",
    "            PARAMETERS['link_simulator'].append({\"half_life\":half_life, \"tx_fee_sat\":cap, \"tx_num\":k, \"time_window\":None})"
   ]
  },
  {
   "cell_type": "code",
   "execution_count": null,
   "metadata": {},
   "outputs": [],
   "source": [
    "for cap in [500000,1000000]:\n",
    "    for k in [70000,700000]:\n",
    "        for hl in [None, 86400,43200,3600]:\n",
    "            PARAMETERS['link_simulator'].append({\"half_life\":hl, \"tx_fee_sat\":cap, \"tx_num\":k, \"time_window\":None})"
   ]
  },
  {
   "cell_type": "markdown",
   "metadata": {},
   "source": [
    "#### Set your parameters for each notebooks below: \n",
    "\n",
    "##### You can specify the ending of the names of the generated notebook clones, if you add an \"\\_\\_ ending \\_\\_\" parameter. (Otherwise they will end with \\_CLONE\\_1, \\_CLONE\\_2, etc.)\n",
    "##### WARNING: if the name of the generated notebook clone is not an identifier, then luigi will NOT be able to run it."
   ]
  },
  {
   "cell_type": "markdown",
   "metadata": {},
   "source": [
    "# Export parameters into pipeline configuration file"
   ]
  },
  {
   "cell_type": "code",
   "execution_count": null,
   "metadata": {},
   "outputs": [],
   "source": [
    "cg.save_params(PARAMETERS, DEFAULTS)"
   ]
  },
  {
   "cell_type": "markdown",
   "metadata": {},
   "source": [
    "cg.pipeline_cfg"
   ]
  }
 ],
 "metadata": {
  "anaconda-cloud": {},
  "kernelspec": {
   "display_name": "Python [conda env:dm-3-env] *",
   "language": "python",
   "name": "conda-env-dm-3-env-py"
  },
  "language_info": {
   "codemirror_mode": {
    "name": "ipython",
    "version": 3
   },
   "file_extension": ".py",
   "mimetype": "text/x-python",
   "name": "python",
   "nbconvert_exporter": "python",
   "pygments_lexer": "ipython3",
   "version": "3.7.3"
  }
 },
 "nbformat": 4,
 "nbformat_minor": 1
}