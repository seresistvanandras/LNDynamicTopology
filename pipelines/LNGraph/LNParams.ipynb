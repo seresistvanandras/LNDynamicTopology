{
 "cells": [
  {
   "cell_type": "code",
   "execution_count": null,
   "metadata": {},
   "outputs": [],
   "source": [
    "from datawand.parametrization import ConfigGenerator"
   ]
  },
  {
   "cell_type": "markdown",
   "metadata": {},
   "source": [
    "# Initialize configuration generator"
   ]
  },
  {
   "cell_type": "code",
   "execution_count": null,
   "metadata": {},
   "outputs": [],
   "source": [
    "cg = ConfigGenerator(pipeline_name='LNGraph')"
   ]
  },
  {
   "cell_type": "markdown",
   "metadata": {},
   "source": [
    "# Setting default parameters for pipeline"
   ]
  },
  {
   "cell_type": "code",
   "execution_count": null,
   "metadata": {},
   "outputs": [],
   "source": [
    "DEFAULTS = {}"
   ]
  },
  {
   "cell_type": "markdown",
   "metadata": {},
   "source": [
    "#### Set your default parameters below:"
   ]
  },
  {
   "cell_type": "code",
   "execution_count": null,
   "metadata": {},
   "outputs": [],
   "source": [
    "DEFAULTS[\"data_dir\"] = \"/mnt/idms/fberes/data/bitcoin_ln_research\"\n",
    "DEFAULTS[\"weight\"] = None\n",
    "DEFAULTS[\"weight_cols\"] = [None, \"num_channels\", \"capacity\", \"fee_base_msat\", \"fee_rate_milli_msat\"]\n",
    "DEFAULTS[\"snapshot_ids\"] = list(range(9))"
   ]
  },
  {
   "cell_type": "code",
   "execution_count": null,
   "metadata": {},
   "outputs": [],
   "source": [
    "DEFAULTS[\"experiment_id\"] = \"trial\"\n",
    "DEFAULTS[\"snapshot_id\"] = 0\n",
    "DEFAULTS[\"num_transactions\"] = 6000\n",
    "DEFAULTS[\"amount_sat\"] = 50000\n",
    "DEFAULTS[\"eps\"] = 0.8 \n",
    "DEFAULTS[\"day_interval\"] = 7\n",
    "DEFAULTS[\"drop_disabled\"] = True\n",
    "DEFAULTS[\"drop_low_cap\"] = True\n",
    "DEFAULTS[\"with_depletion\"] = True"
   ]
  },
  {
   "cell_type": "markdown",
   "metadata": {},
   "source": [
    "DEFAULTS[\"sim_dir\"] = \"2019-09-03_15:28:05_50000sat_k5000_aNone_dropFalse\""
   ]
  },
  {
   "cell_type": "markdown",
   "metadata": {},
   "source": [
    "# Setting parameters for notebooks"
   ]
  },
  {
   "cell_type": "code",
   "execution_count": null,
   "metadata": {},
   "outputs": [],
   "source": [
    "PARAMETERS = {}"
   ]
  },
  {
   "cell_type": "code",
   "execution_count": null,
   "metadata": {},
   "outputs": [],
   "source": [
    "for nb_name in cg.pythonitem_names:\n",
    "    PARAMETERS[nb_name] = []\n",
    "print(PARAMETERS)"
   ]
  },
  {
   "cell_type": "markdown",
   "metadata": {},
   "source": [
    "#### Set your parameters for each notebooks below: \n",
    "\n",
    "##### You can specify the ending of the names of the generated notebook clones, if you add an \"\\_\\_ ending \\_\\_\" parameter. (Otherwise they will end with \\_CLONE\\_1, \\_CLONE\\_2, etc.)\n",
    "##### WARNING: if the name of the generated notebook clone is not an identifier, then luigi will NOT be able to run it."
   ]
  },
  {
   "cell_type": "markdown",
   "metadata": {},
   "source": [
    "## Centrality computation"
   ]
  },
  {
   "cell_type": "markdown",
   "metadata": {},
   "source": [
    "for w in DEFAULTS[\"weight_cols\"]:\n",
    "    PARAMETERS[\"CentralityCalculator\"].append({\"weight\":w})"
   ]
  },
  {
   "cell_type": "markdown",
   "metadata": {},
   "source": [
    "## a.) Transaction simulation"
   ]
  },
  {
   "cell_type": "code",
   "execution_count": null,
   "metadata": {},
   "outputs": [],
   "source": [
    "import datetime as dt"
   ]
  },
  {
   "cell_type": "markdown",
   "metadata": {},
   "source": [
    "### i.) Transaction failure experiments"
   ]
  },
  {
   "cell_type": "markdown",
   "metadata": {},
   "source": [
    "start_time = dt.datetime.now().strftime(\"%Y-%m-%d_%H:%M:%S\")\n",
    "num_samples = 5\n",
    "tx_num = 1000#50000#1000#2000#10000#20000#5000\n",
    "\n",
    "for sat in [10000,25000,50000,100000,200000,500000]:\n",
    "    drop_disabled = True\n",
    "    for amount, num_transactions in [(sat,tx_num)]:\n",
    "        for snap in range(7):\n",
    "            for i in range(num_samples):\n",
    "                PARAMETERS['RunSimulator'].append({\"drop_low_cap\":False, \"snapshot_id\":snap, \"amount_sat\":amount, \"num_transactions\":num_transactions, \"experiment_id\":\"%s_%isat_k%i_keep_low_cap.%i\" % (start_time, amount, num_transactions, i)})"
   ]
  },
  {
   "cell_type": "markdown",
   "metadata": {},
   "source": [
    "### ii.) LNBIG tuning weekly"
   ]
  },
  {
   "cell_type": "markdown",
   "metadata": {},
   "source": [
    "start_time = dt.datetime.now().strftime(\"%Y-%m-%d_%H:%M:%S\")\n",
    "num_samples = 5\n",
    "\n",
    "for sat in [10000,25000,50000,100000,200000,500000]:\n",
    "    drop_disabled = True\n",
    "    for amount, num_transactions in [(sat,6000)]:\n",
    "        for snap in range(7):\n",
    "            for i in range(num_samples):\n",
    "                PARAMETERS['RunSimulator'].append({\"day_interval\":7, \"snapshot_id\":snap, \"drop_disabled\":drop_disabled, \"amount_sat\":amount, \"num_transactions\":num_transactions, \"experiment_id\":\"%s_%isat_k%i_drop%s.%i\" % (start_time, amount, num_transactions, drop_disabled, i)})"
   ]
  },
  {
   "cell_type": "markdown",
   "metadata": {},
   "source": [
    "### ii.) LNBIG tuning daily"
   ]
  },
  {
   "cell_type": "markdown",
   "metadata": {},
   "source": [
    "start_time = dt.datetime.now().strftime(\"%Y-%m-%d_%H:%M:%S\")\n",
    "num_samples = 5\n",
    "\n",
    "for amount, num_transactions in [(500000,6000)]:\n",
    "    for snap in range(54):\n",
    "        for i in range(num_samples):\n",
    "            PARAMETERS['RunSimulator'].append({\"day_interval\":1, \"snapshot_id\":snap, \"amount_sat\":amount, \"num_transactions\":num_transactions, \"experiment_id\":\"%s_%isat_k%i.%i\" % (start_time, amount, num_transactions, i)})\n"
   ]
  },
  {
   "cell_type": "markdown",
   "metadata": {},
   "source": [
    "## b.) Transaction results"
   ]
  },
  {
   "cell_type": "markdown",
   "metadata": {},
   "source": [
    "sim_dirs = [\n",
    "    \"2019-09-05_14:35:13_10000sat_k6000_aNone_dropTrue\",\n",
    "    \"2019-09-05_14:35:13_25000sat_k6000_aNone_dropTrue\",\n",
    "    \"2019-09-05_14:35:13_50000sat_k6000_aNone_dropTrue\",\n",
    "    \"2019-09-05_14:35:13_100000sat_k6000_aNone_dropTrue\",\n",
    "    \"2019-09-05_14:35:13_200000sat_k6000_aNone_dropTrue\",\n",
    "    \"2019-09-05_14:35:13_500000sat_k6000_aNone_dropTrue\",\n",
    "]"
   ]
  },
  {
   "cell_type": "markdown",
   "metadata": {},
   "source": [
    "sim_dirs = [\n",
    "    \"2019-09-04_14:12:21_500000sat_k5000_aNone_dropFalse\",\n",
    "    \"2019-09-04_14:12:21_200000sat_k5000_aNone_dropFalse\",\n",
    "    \"2019-09-02_17:05:18_100000sat_k5000_aNone_dropFalse\",\n",
    "    \"2019-09-03_15:28:05_50000sat_k5000_aNone_dropFalse\",\n",
    "    \"2019-09-04_14:12:21_25000sat_k5000_aNone_dropFalse\",\n",
    "    \"2019-09-04_14:12:21_10000sat_k5000_aNone_dropFalse\"\n",
    "]"
   ]
  },
  {
   "cell_type": "markdown",
   "metadata": {},
   "source": [
    "sim_dirs = [\n",
    "\"2019-09-06_22:03:19_50000sat_k6000\",\n",
    "\"2019-09-07_05:06:14_25000sat_k6000\",\n",
    "\"2019-09-07_10:23:25_10000sat_k6000\",\n",
    "\"2019-09-07_14:24:11_100000sat_k6000\",\n",
    "\"2019-09-07_18:37:32_200000sat_k6000\",\n",
    "\"2019-09-07_22:40:54_500000sat_k6000\",\n",
    "]"
   ]
  },
  {
   "cell_type": "markdown",
   "metadata": {},
   "source": [
    "for d in sim_dirs:\n",
    "    PARAMETERS['SimulationResults'].append({\"sim_dir\":d})"
   ]
  },
  {
   "cell_type": "markdown",
   "metadata": {},
   "source": [
    "## c.) Node routing incomes"
   ]
  },
  {
   "cell_type": "markdown",
   "metadata": {},
   "source": [
    "simulation_dir = \"/mnt/idms/fberes/data/bitcoin_ln_research/simulations_1days/\"\n",
    "snapshots = list(range(40))\n",
    "experiments = [\n",
    "    \"2019-09-06_22:03:19_50000sat_k6000\",\n",
    "    \"2019-09-07_05:06:14_25000sat_k6000\",\n",
    "    \"2019-09-07_10:23:25_10000sat_k6000\",\n",
    "    \"2019-09-07_14:24:11_100000sat_k6000\",\n",
    "    \"2019-09-07_18:37:32_200000sat_k6000\",\n",
    "    \"2019-09-07_22:40:54_500000sat_k6000\"\n",
    "]\n",
    "\n",
    "for exp_id in experiments:\n",
    "    PARAMETERS['NodeRoutingIncomeStats'].append({\"sim_root_dir\":simulation_dir, \"snapshots\":snapshots, \"sim_res_dir\":exp_id})"
   ]
  },
  {
   "cell_type": "markdown",
   "metadata": {},
   "source": [
    "# Export parameters into pipeline configuration file"
   ]
  },
  {
   "cell_type": "code",
   "execution_count": null,
   "metadata": {},
   "outputs": [],
   "source": [
    "cg.save_params(PARAMETERS, DEFAULTS)"
   ]
  },
  {
   "cell_type": "markdown",
   "metadata": {},
   "source": [
    "cg.pipeline_cfg"
   ]
  }
 ],
 "metadata": {
  "anaconda-cloud": {},
  "kernelspec": {
   "display_name": "Python [conda env:dm-3-env] *",
   "language": "python",
   "name": "conda-env-dm-3-env-py"
  },
  "language_info": {
   "codemirror_mode": {
    "name": "ipython",
    "version": 3
   },
   "file_extension": ".py",
   "mimetype": "text/x-python",
   "name": "python",
   "nbconvert_exporter": "python",
   "pygments_lexer": "ipython3",
   "version": "3.7.3"
  }
 },
 "nbformat": 4,
 "nbformat_minor": 1
}