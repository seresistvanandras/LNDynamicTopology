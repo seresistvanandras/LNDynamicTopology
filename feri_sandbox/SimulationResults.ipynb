{
 "cells": [
  {
   "cell_type": "code",
   "execution_count": null,
   "metadata": {},
   "outputs": [],
   "source": [
    "%load_ext autoreload\n",
    "%autoreload 2"
   ]
  },
  {
   "cell_type": "code",
   "execution_count": null,
   "metadata": {},
   "outputs": [],
   "source": [
    "import pandas as pd\n",
    "import numpy as np\n",
    "from ln_utils import *\n",
    "from transaction_simulator import *"
   ]
  },
  {
   "cell_type": "code",
   "execution_count": null,
   "metadata": {},
   "outputs": [],
   "source": [
    "%matplotlib inline\n",
    "import seaborn as sns\n",
    "import matplotlib.pyplot as plt"
   ]
  },
  {
   "cell_type": "code",
   "execution_count": null,
   "metadata": {},
   "outputs": [],
   "source": [
    "import sys\n",
    "from datawand.parametrization import ParamHelper\n",
    "ph = ParamHelper(\"../\",\"LNGraph\",sys.argv)"
   ]
  },
  {
   "cell_type": "markdown",
   "metadata": {},
   "source": [
    "# Heatmap plots"
   ]
  },
  {
   "cell_type": "code",
   "execution_count": null,
   "metadata": {},
   "outputs": [],
   "source": [
    "snapshots = range(7)\n",
    "simulation_dir = \"/mnt/idms/fberes/data/bitcoin_ln_research/simulations_7days/\""
   ]
  },
  {
   "cell_type": "code",
   "execution_count": null,
   "metadata": {},
   "outputs": [],
   "source": [
    "amounts = [10000,25000,50000,100000,200000]#,500000]\n",
    "tx_nums = [1000,2000,5000,10000,20000]"
   ]
  },
  {
   "cell_type": "code",
   "execution_count": null,
   "metadata": {},
   "outputs": [],
   "source": [
    "ts_map = {\n",
    "    1000:\"2019-09-16_20:45:51\",\n",
    "    2000:\"2019-09-16_19:13:21\",\n",
    "    5000:\"2019-09-16_14:12:54\",\n",
    "    10000:\"2019-09-16_17:56:28\",\n",
    "    20000:\"2019-09-16_15:39:13\"\n",
    "}"
   ]
  },
  {
   "cell_type": "code",
   "execution_count": null,
   "metadata": {},
   "outputs": [],
   "source": [
    "records = []\n",
    "for n in tx_nums:\n",
    "    for a in amounts:\n",
    "        experiment_id = \"%s_%isat_k%i\" % (ts_map[n], a, n)\n",
    "        experiment_folders = get_experiment_files(experiment_id, snapshots, simulation_dir)\n",
    "        length_distrib = load_data(experiment_folders, snapshots, \"lengths_distrib\")\n",
    "        all_length_distrib = pd.concat(length_distrib)\n",
    "        all_success = all_length_distrib[all_length_distrib[\"length\"]>0]\n",
    "        avg_path_length = all_success[\"length\"].mean()\n",
    "        total_counts = all_length_distrib.groupby(\"length\")[\"count\"].sum()\n",
    "        S = total_counts.sum()\n",
    "        total_ratios = total_counts / S\n",
    "        try:\n",
    "            ratio_failed = total_ratios[-1]\n",
    "        except KeyError:\n",
    "            ratio_failed = 0.0\n",
    "        except:\n",
    "            raise\n",
    "        records.append([n,a,ratio_failed,avg_path_length])\n",
    "        print(n,a)"
   ]
  },
  {
   "cell_type": "code",
   "execution_count": null,
   "metadata": {},
   "outputs": [],
   "source": [
    "ratio_col = \"ratio of failed transactions\"\n",
    "avg_path_col = \"average path length\"\n",
    "tx_num_col = \"number of transactions\""
   ]
  },
  {
   "cell_type": "code",
   "execution_count": null,
   "metadata": {},
   "outputs": [],
   "source": [
    "path_info_df = pd.DataFrame(records, columns=[tx_num_col,\"amount\",ratio_col,avg_path_col])"
   ]
  },
  {
   "cell_type": "code",
   "execution_count": null,
   "metadata": {},
   "outputs": [],
   "source": [
    "pivot_ratio_failed = path_info_df.pivot(index=\"amount\",columns=tx_num_col,values=ratio_col).sort_values(\"amount\",ascending=False)"
   ]
  },
  {
   "cell_type": "code",
   "execution_count": null,
   "metadata": {},
   "outputs": [],
   "source": [
    "pivot_ratio_avg_length = path_info_df.pivot(index=\"amount\",columns=tx_num_col,values=avg_path_col).sort_values(\"amount\",ascending=False)"
   ]
  },
  {
   "cell_type": "code",
   "execution_count": null,
   "metadata": {},
   "outputs": [],
   "source": [
    "sns.set(font_scale = 2)\n",
    "sns.set_style(\"whitegrid\")\n",
    "cmap = sns.color_palette(\"coolwarm\",12)\n",
    "fig_s=(6,6)"
   ]
  },
  {
   "cell_type": "markdown",
   "metadata": {},
   "source": [
    "#### TODO: how many merchants are in the graph in case of 500000SAT?"
   ]
  },
  {
   "cell_type": "markdown",
   "metadata": {},
   "source": [
    "#### TODO: I should plot the number of transactions with random endpoint?"
   ]
  },
  {
   "cell_type": "code",
   "execution_count": null,
   "metadata": {},
   "outputs": [],
   "source": [
    "fig, ax = plt.subplots(figsize=fig_s)\n",
    "sns.heatmap(data=pivot_ratio_failed, ax=ax, cmap=cmap)"
   ]
  },
  {
   "cell_type": "code",
   "execution_count": null,
   "metadata": {},
   "outputs": [],
   "source": [
    "fig, ax = plt.subplots(figsize=fig_s)\n",
    "sns.heatmap(data=pivot_ratio_avg_length, ax=ax, cmap=cmap)"
   ]
  },
  {
   "cell_type": "markdown",
   "metadata": {},
   "source": [
    "sns.factorplot(data=all_length_distrib, x=\"snapshot_id\", y=\"ratio\", hue=\"length\")"
   ]
  },
  {
   "cell_type": "markdown",
   "metadata": {},
   "source": [
    "# 1. Load data"
   ]
  },
  {
   "cell_type": "code",
   "execution_count": null,
   "metadata": {},
   "outputs": [],
   "source": [
    "node_names = pd.read_csv(\"/mnt/idms/fberes/data/bitcoin_ln_research/node_names.csv\")"
   ]
  },
  {
   "cell_type": "code",
   "execution_count": null,
   "metadata": {},
   "outputs": [],
   "source": [
    "node_names.head()"
   ]
  },
  {
   "cell_type": "code",
   "execution_count": null,
   "metadata": {},
   "outputs": [],
   "source": [
    "LNBIG_nodes = list(node_names[node_names[\"is_lnbig\"]][\"pub_key\"])\n",
    "len(LNBIG_nodes)"
   ]
  },
  {
   "cell_type": "code",
   "execution_count": null,
   "metadata": {},
   "outputs": [],
   "source": [
    "node_names = node_names[[\"name\",\"pub_key\"]]"
   ]
  },
  {
   "cell_type": "code",
   "execution_count": null,
   "metadata": {},
   "outputs": [],
   "source": [
    "def load_data(experiment_files, snapshots, file_postfix):\n",
    "    parts = []\n",
    "    for snap_id in snapshots:\n",
    "        data_files = []\n",
    "        for f in experiment_files[snap_id]:\n",
    "            sample_id = f.split(\".\")[-1]\n",
    "            df = pd.read_csv(\"%s/%s.csv\" % (f, file_postfix))\n",
    "            if file_postfix == \"lengths_distrib\":\n",
    "                df.columns = [\"length\",\"count\"]\n",
    "            df[\"sample\"] = int(sample_id)\n",
    "            data_files.append(df)\n",
    "        tmp_df = pd.concat(data_files, axis=0, sort=False)\n",
    "        tmp_df[\"snapshot_id\"] = snap_id\n",
    "        parts.append(tmp_df)\n",
    "        #print(snap_id)\n",
    "    return parts"
   ]
  },
  {
   "cell_type": "markdown",
   "metadata": {},
   "source": [
    "#experiment_id = \"2019-07-04_11:12:08_200000sat_k30000\"\n",
    "#experiment_id = \"2019-07-05_14:39:09_200000sat_k30000\"\n",
    "#experiment_id = \"2019-07-05_14:39:09_500000sat_k30000\"\n",
    "#experiment_id = \"2019-08-06_13:42:00_200000sat_k30000_aNone\"\n",
    "#experiment_id = \"2019-08-09_14:31:08_200000sat_k30000_aNone_dropTrue\"\n",
    "#experiment_id = \"2019-08-09_14:31:08_127807sat_k50000_aNone_dropTrue\"\n",
    "#experiment_id = \"2019-09-01_18:07:51_200000sat_k30000_aNone_dropTrue\"\n",
    "#experiment_id = \"2019-09-02_17:05:18_100000sat_k5000_aNone_dropFalse\"\n",
    "#experiment_id = \"2019-09-03_15:28:05_50000sat_k5000_aNone_dropFalse\"\n",
    "#experiment_id = \"2019-09-05_14:35:13_50000sat_k6000_aNone_dropTrue\"\n",
    "experiment_id = ph.get(\"sim_dir\")"
   ]
  },
  {
   "cell_type": "markdown",
   "metadata": {},
   "source": [
    "snapshots = range(7)\n",
    "simulation_dir = \"/mnt/idms/fberes/data/bitcoin_ln_research/simulations/\""
   ]
  },
  {
   "cell_type": "code",
   "execution_count": null,
   "metadata": {},
   "outputs": [],
   "source": [
    "#experiment_id = ph.get(\"sim_dir\")\n",
    "experiment_id = \"2019-09-06_22:03:19_50000sat_k6000\"\n",
    "snapshots = range(40)#range(54)\n",
    "simulation_dir = \"/mnt/idms/fberes/data/bitcoin_ln_research/simulations_1days/\""
   ]
  },
  {
   "cell_type": "code",
   "execution_count": null,
   "metadata": {},
   "outputs": [],
   "source": [
    "experiment_folders = get_experiment_files(experiment_id, snapshots, simulation_dir)"
   ]
  },
  {
   "cell_type": "code",
   "execution_count": null,
   "metadata": {},
   "outputs": [],
   "source": [
    "experiment_folders[0]"
   ]
  },
  {
   "cell_type": "code",
   "execution_count": null,
   "metadata": {},
   "outputs": [],
   "source": [
    "pricing_pol = load_data(experiment_folders, snapshots, \"opt_fees\")"
   ]
  },
  {
   "cell_type": "code",
   "execution_count": null,
   "metadata": {},
   "outputs": [],
   "source": [
    "source_fee = load_data(experiment_folders, snapshots, \"source_fees\")"
   ]
  },
  {
   "cell_type": "code",
   "execution_count": null,
   "metadata": {},
   "outputs": [],
   "source": [
    "router_income = load_data(experiment_folders, snapshots, \"router_incomes\")"
   ]
  },
  {
   "cell_type": "markdown",
   "metadata": {},
   "source": [
    "## Router incomes"
   ]
  },
  {
   "cell_type": "code",
   "execution_count": null,
   "metadata": {},
   "outputs": [],
   "source": [
    "router_income_col = \"fee\"#\"income\""
   ]
  },
  {
   "cell_type": "code",
   "execution_count": null,
   "metadata": {
    "slideshow": {
     "slide_type": "slide"
    }
   },
   "outputs": [],
   "source": [
    "x = snapshots\n",
    "y = [router_income[i][router_income_col].mean() for i in snapshots]\n",
    "plt.plot(x,y, \"bo\")"
   ]
  },
  {
   "cell_type": "code",
   "execution_count": null,
   "metadata": {
    "slideshow": {
     "slide_type": "slide"
    }
   },
   "outputs": [],
   "source": [
    "sns.jointplot(data=pd.concat(router_income), x=\"snapshot_id\", y=router_income_col)"
   ]
  },
  {
   "cell_type": "code",
   "execution_count": null,
   "metadata": {},
   "outputs": [],
   "source": [
    "all_router_incomes = pd.concat(router_income)"
   ]
  },
  {
   "cell_type": "markdown",
   "metadata": {},
   "source": [
    "### LNBIG.com traffic and income timeseries"
   ]
  },
  {
   "cell_type": "code",
   "execution_count": null,
   "metadata": {},
   "outputs": [],
   "source": [
    "lnb_router_incomes = all_router_incomes[all_router_incomes[\"node\"].isin(LNBIG_nodes)].groupby([\"node\",\"snapshot_id\"]).agg({router_income_col:\"mean\",\"num_trans\":\"mean\"}).sort_values(router_income_col,ascending=False).reset_index()"
   ]
  },
  {
   "cell_type": "code",
   "execution_count": null,
   "metadata": {},
   "outputs": [],
   "source": [
    "lnb_router_incomes = lnb_router_incomes.groupby(\"snapshot_id\").agg({router_income_col:\"sum\",\"num_trans\":\"sum\"}).reset_index()"
   ]
  },
  {
   "cell_type": "code",
   "execution_count": null,
   "metadata": {},
   "outputs": [],
   "source": [
    "lnb_router_incomes.head()"
   ]
  },
  {
   "cell_type": "code",
   "execution_count": null,
   "metadata": {},
   "outputs": [],
   "source": [
    "sns.lineplot(x=\"snapshot_id\",y=\"num_trans\",data=lnb_router_incomes)"
   ]
  },
  {
   "cell_type": "code",
   "execution_count": null,
   "metadata": {},
   "outputs": [],
   "source": [
    "sns.lineplot(x=\"snapshot_id\",y=\"fee\",data=lnb_router_incomes)"
   ]
  },
  {
   "cell_type": "markdown",
   "metadata": {},
   "source": [
    "### Calculate average routing income and traffic over snapshots and samples"
   ]
  },
  {
   "cell_type": "code",
   "execution_count": null,
   "metadata": {},
   "outputs": [],
   "source": [
    "all_router_incomes = all_router_incomes.groupby(\"node\").agg({router_income_col:\"mean\",\"num_trans\":\"mean\"}).sort_values(router_income_col,ascending=False).reset_index()"
   ]
  },
  {
   "cell_type": "code",
   "execution_count": null,
   "metadata": {},
   "outputs": [],
   "source": [
    "all_router_incomes = all_router_incomes.merge(node_names, left_on=\"node\", right_on=\"pub_key\", how=\"left\").drop(\"pub_key\", axis=1).set_index(\"node\")"
   ]
  },
  {
   "cell_type": "code",
   "execution_count": null,
   "metadata": {},
   "outputs": [],
   "source": [
    "other_routers = [\n",
    "    \"0232e20e7b68b9b673fb25f48322b151a93186bffe4550045040673797ceca43cf\",\n",
    "    \"03e50492eab4107a773141bb419e107bda3de3d55652e6e1a41225f06a0bbf2d56\",\n",
    "    \"0279c22ed7a068d10dc1a38ae66d2d6461e269226c60258c021b1ddcdfe4b00bc4\",\n",
    "    \"03021c5f5f57322740e4ee6936452add19dc7ea7ccf90635f95119ab82a62ae268\",\n",
    "    \"03c2abfa93eacec04721c019644584424aab2ba4dff3ac9bdab4e9c97007491dda\",\n",
    "    \"03864ef025fde8fb587d989186ce6a4a186895ee44a926bfc370e2c366597a3f8f\",\n",
    "    \"03a503d8e30f2ff407096d235b5db63b4fcf3f89a653acb6f43d3fc492a7674019\",\n",
    "    \"03abf6f44c355dec0d5aa155bdbdd6e0c8fefe318eff402de65c6eb2e1be55dc3e\",\n",
    "    \"0331f80652fb840239df8dc99205792bba2e559a05469915804c08420230e23c7c\",\n",
    "    \"0217890e3aad8d35bc054f43acc00084b25229ecff0ab68debd82883ad65ee8266\",\n",
    "    \"0395033b252c6f40e3756984162d68174e2bd8060a129c0d3462a9370471c6d28f\",\n",
    "    \"03cb7983dc247f9f81a0fa2dfa3ce1c255365f7279c8dd143e086ca333df10e278\",\n",
    "    \"030c3f19d742ca294a55c00376b3b355c3c90d61c6b6b39554dbc7ac19b141c14f\",\n",
    "    \"03bb88ccc444534da7b5b64b4f7b15e1eccb18e102db0e400d4b9cfe93763aa26d\",\n",
    "]"
   ]
  },
  {
   "cell_type": "code",
   "execution_count": null,
   "metadata": {},
   "outputs": [],
   "source": [
    "node_income_and_traffic = all_router_incomes.loc[other_routers].reset_index(drop=True)"
   ]
  },
  {
   "cell_type": "code",
   "execution_count": null,
   "metadata": {},
   "outputs": [],
   "source": [
    "node_income_and_traffic"
   ]
  },
  {
   "cell_type": "markdown",
   "metadata": {
    "scrolled": false
   },
   "source": [
    "all_router_incomes[(all_router_incomes[\"num_trans\"]>10) & (~all_router_incomes.index.isin(LNBIG_nodes))].head(20)"
   ]
  },
  {
   "cell_type": "markdown",
   "metadata": {},
   "source": [
    "### LNBIG stats"
   ]
  },
  {
   "cell_type": "code",
   "execution_count": null,
   "metadata": {},
   "outputs": [],
   "source": [
    "lnbig_stats = all_router_incomes.loc[LNBIG_nodes][[\"fee\",\"num_trans\"]].sum()"
   ]
  },
  {
   "cell_type": "code",
   "execution_count": null,
   "metadata": {},
   "outputs": [],
   "source": [
    "lnbig_stats[\"name\"] = \"LNBIG.com\""
   ]
  },
  {
   "cell_type": "code",
   "execution_count": null,
   "metadata": {},
   "outputs": [],
   "source": [
    "lnbig_stats"
   ]
  },
  {
   "cell_type": "code",
   "execution_count": null,
   "metadata": {},
   "outputs": [],
   "source": [
    "node_income_and_traffic = node_income_and_traffic.append(lnbig_stats, ignore_index=True).sort_values(\"name\")"
   ]
  },
  {
   "cell_type": "code",
   "execution_count": null,
   "metadata": {},
   "outputs": [],
   "source": [
    "node_income_and_traffic.to_csv(\"/mnt/idms/fberes/data/bitcoin_ln_research/results/router_traffic_and_income/%s.csv\" % experiment_id, index=False)"
   ]
  },
  {
   "cell_type": "code",
   "execution_count": null,
   "metadata": {},
   "outputs": [],
   "source": [
    "alma"
   ]
  },
  {
   "cell_type": "markdown",
   "metadata": {
    "slideshow": {
     "slide_type": "slide"
    }
   },
   "source": [
    "## Source fees"
   ]
  },
  {
   "cell_type": "code",
   "execution_count": null,
   "metadata": {
    "slideshow": {
     "slide_type": "slide"
    }
   },
   "outputs": [],
   "source": [
    "x = snapshots\n",
    "y = [source_fee[i][\"mean_fee\"].mean() for i in snapshots]\n",
    "plt.plot(x,y, \"bo\")"
   ]
  },
  {
   "cell_type": "code",
   "execution_count": null,
   "metadata": {
    "slideshow": {
     "slide_type": "slide"
    }
   },
   "outputs": [],
   "source": [
    "sns.jointplot(data=pd.concat(source_fee), x=\"snapshot_id\", y=\"mean_fee\")"
   ]
  },
  {
   "cell_type": "markdown",
   "metadata": {
    "slideshow": {
     "slide_type": "slide"
    }
   },
   "source": [
    "## Optimal pricing"
   ]
  },
  {
   "cell_type": "code",
   "execution_count": null,
   "metadata": {},
   "outputs": [],
   "source": []
  },
  {
   "cell_type": "code",
   "execution_count": null,
   "metadata": {
    "slideshow": {
     "slide_type": "slide"
    }
   },
   "outputs": [],
   "source": [
    "x = snapshots\n",
    "y = [pricing_pol[i][\"opt_delta\"].mean() for i in snapshots]\n",
    "plt.plot(x,y, \"bo\")"
   ]
  },
  {
   "cell_type": "code",
   "execution_count": null,
   "metadata": {
    "slideshow": {
     "slide_type": "slide"
    }
   },
   "outputs": [],
   "source": [
    "x = snapshots\n",
    "y = [pricing_pol[i][\"opt_traffic\"].mean() for i in snapshots]\n",
    "plt.plot(x,y, \"bo\")"
   ]
  },
  {
   "cell_type": "code",
   "execution_count": null,
   "metadata": {
    "slideshow": {
     "slide_type": "slide"
    }
   },
   "outputs": [],
   "source": [
    "x = snapshots\n",
    "y = [pricing_pol[i][\"origi_income\"].mean() for i in snapshots]\n",
    "plt.plot(x,y, \"bo\")"
   ]
  },
  {
   "cell_type": "code",
   "execution_count": null,
   "metadata": {
    "slideshow": {
     "slide_type": "slide"
    }
   },
   "outputs": [],
   "source": [
    "x = snapshots\n",
    "y = [pricing_pol[i][\"opt_income\"].mean() for i in snapshots]\n",
    "plt.plot(x,y, \"bo\")"
   ]
  },
  {
   "cell_type": "markdown",
   "metadata": {},
   "source": [
    "### Calculate income revenue"
   ]
  },
  {
   "cell_type": "code",
   "execution_count": null,
   "metadata": {},
   "outputs": [],
   "source": [
    "for df in pricing_pol:\n",
    "    df[\"income_diff\"] = df[\"opt_income\"] - df[\"origi_income\"]"
   ]
  },
  {
   "cell_type": "markdown",
   "metadata": {
    "slideshow": {
     "slide_type": "slide"
    }
   },
   "source": [
    "# 2. Simulation stability"
   ]
  },
  {
   "cell_type": "code",
   "execution_count": null,
   "metadata": {},
   "outputs": [],
   "source": [
    "corrs = [\"spearman\",\"kendall\",\"wkendall\"]"
   ]
  },
  {
   "cell_type": "code",
   "execution_count": null,
   "metadata": {},
   "outputs": [],
   "source": [
    "def avg_cross_corr(df, snapshot_id, col, methods=corrs, key_col=\"node\"):\n",
    "    snap = df[snapshot_id]\n",
    "    sample_num = snap[\"sample\"].max()+1\n",
    "    cols = [key_col, col]\n",
    "    merged = snap[snap[\"sample\"]==0][cols].rename({col:col+\"_0\"}, axis=1)\n",
    "    for i in range(1,sample_num):\n",
    "        s = snap[snap[\"sample\"]==i][cols].rename({col:col+\"_%i\" % i}, axis=1)\n",
    "        merged = merged.merge(s, on=key_col, how=\"outer\").fillna(0.0)\n",
    "    merged.drop(\"node\", inplace=True, axis=1)\n",
    "    res = {}\n",
    "    for method in methods:\n",
    "        cnt = corr_mx(merged, method=method).sum().sum() - sample_num \n",
    "        denom = sample_num**2-sample_num\n",
    "        res[method] = cnt / denom\n",
    "    return res"
   ]
  },
  {
   "cell_type": "code",
   "execution_count": null,
   "metadata": {},
   "outputs": [],
   "source": [
    "origi_inc = pd.DataFrame([avg_cross_corr(pricing_pol, snap_id, \"origi_income\") for snap_id in snapshots])\n",
    "opt_inc = pd.DataFrame([avg_cross_corr(pricing_pol, snap_id, \"opt_income\") for snap_id in snapshots])\n",
    "income_diff = pd.DataFrame([avg_cross_corr(pricing_pol, snap_id, \"income_diff\") for snap_id in snapshots])\n",
    "opt_delta = pd.DataFrame([avg_cross_corr(pricing_pol, snap_id, \"opt_delta\") for snap_id in snapshots])"
   ]
  },
  {
   "cell_type": "code",
   "execution_count": null,
   "metadata": {
    "slideshow": {
     "slide_type": "slide"
    }
   },
   "outputs": [],
   "source": [
    "colors = ['b','g','r','m']\n",
    "fig, axis = plt.subplots(1,3,figsize=(15,4))\n",
    "x = snapshots\n",
    "# incomes\n",
    "axis[0].set_title(\"INCOME mean cross correlations\")\n",
    "for i, c in enumerate(corrs):\n",
    "    axis[0].plot(x,origi_inc[c], colors[i]+'-', label=c+\"_orig\")\n",
    "    axis[0].plot(x,opt_inc[c], colors[i]+'--', label=c+\"_opt\")\n",
    "axis[0].set_xlabel(\"snapshot\")\n",
    "axis[0].legend()\n",
    "# income_diff\n",
    "axis[1].set_title(\"INCOME_DIFF mean cross correlations\")\n",
    "for i, c in enumerate(corrs):\n",
    "    axis[1].plot(x,income_diff[c], colors[i]+'-', label=c)\n",
    "axis[1].set_xlabel(\"snapshot\")\n",
    "axis[1].legend()\n",
    "# opt_delta\n",
    "axis[2].set_title(\"OPT_DELTA mean cross correlations\")\n",
    "for i, c in enumerate(corrs):\n",
    "    axis[2].plot(x,opt_delta[c], colors[i]+'-', label=c)\n",
    "axis[2].set_xlabel(\"snapshot\")\n",
    "axis[2].legend()\n",
    "plt.show()"
   ]
  },
  {
   "cell_type": "markdown",
   "metadata": {
    "slideshow": {
     "slide_type": "slide"
    }
   },
   "source": [
    "#### Incomes observations\n",
    "\n",
    "- taking mean cross correlation of user incomes (original and optimal)\n",
    "- weighted kendall-tau gives decreased to 0.90 from 0.95 (after including capacity maintenance)\n",
    "- in case of unweighted spearman and kendall the optimal income correlates better across samples \n",
    "\n",
    "#### income_diff observations\u00b6\n",
    "\n",
    "- taking mean cross correlation of income difference (optimal income - original income)\n",
    "- weighted kendall-tau decreased to 0.80 from 0.93 (after including capacity maintenance)\n",
    "\n",
    "#### opt_delta observations\u00b6\n",
    "\n",
    "- taking mean cross correlation of optimal base fee change\n",
    "- weighted kendall-tau decreased to 0.70 from 0.90 (after including capacity maintenance)\n",
    "\n",
    "**CONCLUSION: our base_fee optimization procedure is less efficient (meaningful) after the implementation of capacity maintenance!!!**"
   ]
  },
  {
   "cell_type": "markdown",
   "metadata": {},
   "source": [
    "# 3. Income revenue analysis"
   ]
  },
  {
   "cell_type": "code",
   "execution_count": null,
   "metadata": {},
   "outputs": [],
   "source": [
    "def cut_into_categories(df):\n",
    "    #categories = [df[:10], df[10:30], df[30:50], df[50:100]]\n",
    "    #categories = [df[:20], df[20:50], df[50:100], df[100:200]]\n",
    "    #categories = [df[:10], df[10:20], df[20:30], df[30:40], df[40:50], df[50:100], df[100:500]]\n",
    "    categories = [df[:10], df[10:20], df[20:50], df[50:100], df[100:500]]\n",
    "    #categories = [df[:50], df[50:100], df[100:500]]#, df[200:500]]\n",
    "    return categories\n",
    "\n",
    "def merge_categories(categories):\n",
    "    for i, cat in enumerate(categories):\n",
    "        cat[\"category\"] = i\n",
    "    return pd.concat(categories)\n",
    "    \n",
    "def show_stats(snap_id, col=\"income_diff\"):\n",
    "    mean = pricing_pol[snap_id].groupby(\"node\").mean().sort_values(\"origi_income\", ascending=False)\n",
    "    categories = cut_into_categories(mean)\n",
    "    return [float(cat[[col]].mean()) for cat in categories]"
   ]
  },
  {
   "cell_type": "code",
   "execution_count": null,
   "metadata": {},
   "outputs": [],
   "source": [
    "x = range(5)\n",
    "#x = range(7)"
   ]
  },
  {
   "cell_type": "markdown",
   "metadata": {},
   "source": [
    "### Visualize each snapshot"
   ]
  },
  {
   "cell_type": "markdown",
   "metadata": {},
   "source": [
    "df = pd.DataFrame([show_stats(i, \"income_diff\") for i in snapshots])"
   ]
  },
  {
   "cell_type": "markdown",
   "metadata": {},
   "source": [
    "plt.Figure(figsize=(10,10))\n",
    "for i in snapshots:\n",
    "    plt.plot(x, show_stats(i, \"income_diff\"), label=i)\n",
    "plt.yscale(\"log\")\n",
    "plt.legend()"
   ]
  },
  {
   "cell_type": "markdown",
   "metadata": {},
   "source": [
    "plt.Figure(figsize=(10,10))\n",
    "for i in snapshots:\n",
    "    plt.plot(x, show_stats(i, \"opt_traffic\"), label=i)\n",
    "plt.legend()"
   ]
  },
  {
   "cell_type": "markdown",
   "metadata": {},
   "source": [
    "### Average stats (over all snapshots and samples)"
   ]
  },
  {
   "cell_type": "markdown",
   "metadata": {},
   "source": [
    "average_stats = pricing_pol[0].groupby(\"node\").mean().sort_values(\"origi_income\", ascending=False)[[\"income_diff\",\"origi_income\",\"opt_income\",\"opt_traffic\",\"opt_delta\"]]"
   ]
  },
  {
   "cell_type": "code",
   "execution_count": null,
   "metadata": {},
   "outputs": [],
   "source": [
    "all_records = pd.concat([pricing_pol[i] for i in snapshots])"
   ]
  },
  {
   "cell_type": "code",
   "execution_count": null,
   "metadata": {},
   "outputs": [],
   "source": [
    "average_stats = all_records.groupby(\"node\").mean().sort_values(\"origi_income\", ascending=False)[[\"income_diff\",\"origi_income\",\"opt_income\",\"opt_traffic\",\"opt_delta\"]]"
   ]
  },
  {
   "cell_type": "code",
   "execution_count": null,
   "metadata": {},
   "outputs": [],
   "source": [
    "average_stats_cats = cut_into_categories(average_stats)\n",
    "mean_diff = [float(cat[[\"income_diff\"]].mean()) for cat in average_stats_cats]\n",
    "mean_traffic = [float(cat[[\"opt_traffic\"]].mean()) for cat in average_stats_cats]\n",
    "mean_delta = [float(cat[[\"opt_delta\"]].mean()) for cat in average_stats_cats]"
   ]
  },
  {
   "cell_type": "code",
   "execution_count": null,
   "metadata": {
    "slideshow": {
     "slide_type": "slide"
    }
   },
   "outputs": [],
   "source": [
    "fig, axis = plt.subplots(1,3,figsize=(15,4))\n",
    "axis[0].plot(x, mean_diff, 'rx')\n",
    "axis[0].set_xlabel(\"income category\")\n",
    "axis[0].set_ylabel(\"mean income_diff\")\n",
    "axis[1].plot(x, mean_delta, 'g*')\n",
    "axis[1].set_xlabel(\"income category\")\n",
    "axis[1].set_ylabel(\"mean opt_delta\")\n",
    "axis[2].plot(x, mean_traffic, 'bo')\n",
    "axis[2].set_xlabel(\"income category\")\n",
    "axis[2].set_ylabel(\"mean opt_traffic\")\n",
    "plt.show()"
   ]
  },
  {
   "cell_type": "markdown",
   "metadata": {},
   "source": [
    "#### Mean original income for the selected categories"
   ]
  },
  {
   "cell_type": "code",
   "execution_count": null,
   "metadata": {
    "slideshow": {
     "slide_type": "subslide"
    }
   },
   "outputs": [],
   "source": [
    "[float(cat[[\"origi_income\"]].mean()) for cat in average_stats_cats]"
   ]
  },
  {
   "cell_type": "markdown",
   "metadata": {},
   "source": [
    "### PROBLEM with outliers..."
   ]
  },
  {
   "cell_type": "code",
   "execution_count": null,
   "metadata": {},
   "outputs": [],
   "source": [
    "merged = merge_categories(average_stats_cats)"
   ]
  },
  {
   "cell_type": "code",
   "execution_count": null,
   "metadata": {},
   "outputs": [],
   "source": [
    "sns.boxplot(data=merged, x=\"category\", y=\"income_diff\", whis=2)"
   ]
  },
  {
   "cell_type": "markdown",
   "metadata": {},
   "source": [
    "average_stats.head(10)"
   ]
  },
  {
   "cell_type": "markdown",
   "metadata": {},
   "source": [
    "### Nodes above 20K SAT (2.5 USD) income_diff (with alpha=2.0 source distribution)\n",
    "\n",
    "#### 2019-07-04_11:12:08_200000sat_k30000 (ordered by original income)\n",
    "\n",
    "1. yalls.org - Read and write articles, with Lightning Network micropayments. (195,925.46 USD)\n",
    "2. ACINQ - ACINQ is one of the leading companies working on Bitcoin scalability. (507,211.38 USD)\n",
    "3. 1ML.com node ALPHA (89,453.40 USD)\n",
    "4. LightningPowerUsers.com (313,406.05 USD)\n",
    "5. LightningTo.Me - Helping to resolve routing and capacity issues (165,531.35 USD)\n",
    "6. tomjodh.nl - Buy photos with satoshis (8,709.95 USD) - **TODO RECLASSIFY AS merchant!!!**\n",
    "7. ? - ? (848.05 USD)\n",
    "\n",
    "#### 2019-07-05_14:39:09_200000sat_k30000 (ordered by original income)\n",
    "\n",
    "1. ACINQ - ACINQ is one of the leading companies working on Bitcoin scalability. (507,211.38 USD, 783 channel)\n",
    "2. 1ML.com node ALPHA (89,453.40 USD, 884 channel)\n",
    "3. LightningPowerUsers.com (313,406.05 USD, 1,266 channel)\n",
    "4. LightningTo.Me - Helping to resolve routing and capacity issues (165,531.35 USD, 700 channel)\n",
    "5. tomjodh.nl - Buy photos with satoshis (8,709.95 USD, 47 channel)\n",
    "6. ? - ? (859.23 USD, 4 channel)\n",
    "7. nybemotion - ? (318.35 USD, 3 channel)\n",
    "\n",
    "#### Additional nodes in 2019-07-05_14:39:09_500000sat_k30000\n",
    "\n",
    "4. Bitrefill.com - Buy Gift Cards with Bitcoin for 30+ supported services (310,369.63 USD, 305 channel) - **TODO RECLASSIFY AS merchant!!!**\n",
    "6. tady je slushovo: ? (48,872.23 USD, 336 channel)"
   ]
  },
  {
   "cell_type": "markdown",
   "metadata": {},
   "source": [
    "### Nodes above 20K SAT (2.5 USD) income_diff (with alpha=None source distribution)\n",
    "\n",
    "#### 2019-08-06_13:42:00_200000sat_k30000_aNone (ordered by original income)\n",
    "\n",
    "1. yalls.org\n",
    "2. ACINQ\n",
    "3. LightningPowerUsers.com\n",
    "4. tomjodh.nl\n",
    "5. Node: 0297b368360113e29032 ???\n",
    "6. nybemotion\n",
    "\n",
    "#### 2019-08-09_14:31:08_200000sat_k30000_aNone_dropTrue\n",
    "\n",
    "1. yalls.org\n",
    "2. ln1.satoshilabs.com (306,117.70 USD - 824 channels) **(NEW)**\n",
    "3. LightningPowerUsers.com\n",
    "4. nybemotion (493.61 USD, 6 channel) ???\n",
    "5. Amazing_Droopy_3 (113.73 USD, 1 channel?) ???\n",
    "\n",
    "#### 2019-09-01_18:07:51_200000sat_k30000_aNone_dropTrue (WITH capacity maintenance)\n",
    "\n",
    "1. LightningPowerUsers.com (237,653 USD, 1261 channels)\n",
    "2. 1ML.com node ALPHA (64,630 USD, 889 channels)\n",
    "3. CoinGate (147,272 USD, 462 channels) - CoinGate is the first large cryptocurrency payment gateway to introduce Lightning Network payments to hundreds of merchants with no technical knowledge required\n",
    "4. lndhub.ru (19,066 USD, 248 channels) - increase connectivity\n",
    "5. BeerselLightningNode (13,246 USD, 84 channels)\n",
    "6. BitKassa LN34961 (13,631 USD, 47) - some kind of payment API and BTC tech company\n",
    "7. Serving Beer (2,107 USD, 13 channels) - is this really a merchant???"
   ]
  },
  {
   "cell_type": "code",
   "execution_count": null,
   "metadata": {},
   "outputs": [],
   "source": [
    "average_stats[average_stats[\"income_diff\"]>20000]"
   ]
  }
 ],
 "metadata": {
  "kernelspec": {
   "display_name": "Python [conda env:dm-3-env] *",
   "language": "python",
   "name": "conda-env-dm-3-env-py"
  },
  "language_info": {
   "codemirror_mode": {
    "name": "ipython",
    "version": 3
   },
   "file_extension": ".py",
   "mimetype": "text/x-python",
   "name": "python",
   "nbconvert_exporter": "python",
   "pygments_lexer": "ipython3",
   "version": "3.7.3"
  }
 },
 "nbformat": 4,
 "nbformat_minor": 4
}