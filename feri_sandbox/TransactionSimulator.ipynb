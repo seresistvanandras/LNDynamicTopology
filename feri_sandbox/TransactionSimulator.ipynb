{
 "cells": [
  {
   "cell_type": "code",
   "execution_count": 1,
   "metadata": {
    "collapsed": true
   },
   "outputs": [],
   "source": [
    "%load_ext autoreload\n",
    "%autoreload 2"
   ]
  },
  {
   "cell_type": "code",
   "execution_count": 2,
   "metadata": {
    "collapsed": true
   },
   "outputs": [],
   "source": [
    "import pandas as pd\n",
    "import os\n",
    "from transaction_simulator import *"
   ]
  },
  {
   "cell_type": "code",
   "execution_count": 3,
   "metadata": {
    "collapsed": true
   },
   "outputs": [],
   "source": [
    "%matplotlib inline\n",
    "import matplotlib.pyplot as plt\n",
    "import seaborn as sns"
   ]
  },
  {
   "cell_type": "markdown",
   "metadata": {},
   "source": [
    "# 1.) Load parameters"
   ]
  },
  {
   "cell_type": "code",
   "execution_count": 4,
   "metadata": {
    "collapsed": true
   },
   "outputs": [],
   "source": [
    "import sys\n",
    "from datawand.parametrization import ParamHelper"
   ]
  },
  {
   "cell_type": "code",
   "execution_count": 5,
   "metadata": {},
   "outputs": [
    {
     "name": "stdout",
     "output_type": "stream",
     "text": [
      "['/home/fberes/anaconda3/envs/dm-3-env/lib/python3.5/site-packages/ipykernel/__main__.py', '-f', '/run/user/51880/jupyter/kernel-34dbac19-eafe-4d57-9980-7c9cf46a1f4a.json']\n",
      "/home/fberes/git/LNDynamicTopology\n",
      "/home/fberes/git/LNDynamicTopology\n",
      "Default parameters:\n",
      "{'weight': None, 'num_transactions': 1000, 'amount_sat': 100000, 'weight_cols': [None, 'num_channels', 'capacity', 'fee_base_msat', 'fee_rate_milli_msat'], 'data_dir': '/mnt/idms/fberes/data/bitcoin_ln_research', 'snapshot_id': 0, 'snapshot_ids': [0, 1, 2, 3, 4, 5, 6, 7, 8], 'experiment_id': 'trial'}\n",
      "Custom parameters:\n",
      "{}\n"
     ]
    }
   ],
   "source": [
    "ph = ParamHelper('..', 'LNGraph', sys.argv)"
   ]
  },
  {
   "cell_type": "code",
   "execution_count": 6,
   "metadata": {},
   "outputs": [
    {
     "name": "stdout",
     "output_type": "stream",
     "text": [
      "Using default parameter: experiment_id=trial\n",
      "Using default parameter: snapshot_id=0\n"
     ]
    }
   ],
   "source": [
    "experiment_id = ph.get(\"experiment_id\")\n",
    "snapshot_id = ph.get(\"snapshot_id\")\n",
    "amount_sat = 200000#15USD #ph.get(\"amount_sat\")\n",
    "num_transactions = 20000#ph.get(\"num_transactions\")"
   ]
  },
  {
   "cell_type": "code",
   "execution_count": 7,
   "metadata": {},
   "outputs": [
    {
     "name": "stdout",
     "output_type": "stream",
     "text": [
      "Using default parameter: data_dir=/mnt/idms/fberes/data/bitcoin_ln_research\n",
      "/mnt/idms/fberes/data/bitcoin_ln_research/simulations/0\n"
     ]
    }
   ],
   "source": [
    "data_dir = ph.get(\"data_dir\")\n",
    "output_dir = \"%s/simulations/%s\" % (data_dir, snapshot_id)\n",
    "print(output_dir)"
   ]
  },
  {
   "cell_type": "code",
   "execution_count": 8,
   "metadata": {
    "collapsed": true
   },
   "outputs": [],
   "source": [
    "if not os.path.exists(output_dir):\n",
    "    os.makedirs(output_dir)"
   ]
  },
  {
   "cell_type": "code",
   "execution_count": 9,
   "metadata": {
    "collapsed": true
   },
   "outputs": [],
   "source": [
    "output_file = \"%s/%s.csv\" % (output_dir, experiment_id)"
   ]
  },
  {
   "cell_type": "markdown",
   "metadata": {
    "collapsed": true
   },
   "source": [
    "# 2.) Load data"
   ]
  },
  {
   "cell_type": "code",
   "execution_count": 10,
   "metadata": {
    "collapsed": true
   },
   "outputs": [],
   "source": [
    "snapshots = pd.read_csv(\"%s/directed_temporal_edges.csv\" % data_dir)"
   ]
  },
  {
   "cell_type": "code",
   "execution_count": 11,
   "metadata": {
    "collapsed": true
   },
   "outputs": [],
   "source": [
    "node_meta = pd.read_csv(\"%s/node_meta_with_labels.csv\" % data_dir)"
   ]
  },
  {
   "cell_type": "code",
   "execution_count": 12,
   "metadata": {},
   "outputs": [
    {
     "data": {
      "text/plain": [
       "181"
      ]
     },
     "execution_count": 12,
     "metadata": {},
     "output_type": "execute_result"
    }
   ],
   "source": [
    "providers = list(node_meta[\"pub_key\"])\n",
    "len(providers)"
   ]
  },
  {
   "cell_type": "code",
   "execution_count": 13,
   "metadata": {},
   "outputs": [
    {
     "data": {
      "text/html": [
       "<div>\n",
       "<style scoped>\n",
       "    .dataframe tbody tr th:only-of-type {\n",
       "        vertical-align: middle;\n",
       "    }\n",
       "\n",
       "    .dataframe tbody tr th {\n",
       "        vertical-align: top;\n",
       "    }\n",
       "\n",
       "    .dataframe thead th {\n",
       "        text-align: right;\n",
       "    }\n",
       "</style>\n",
       "<table border=\"1\" class=\"dataframe\">\n",
       "  <thead>\n",
       "    <tr style=\"text-align: right;\">\n",
       "      <th></th>\n",
       "      <th>src</th>\n",
       "      <th>trg</th>\n",
       "      <th>snapshot_id</th>\n",
       "      <th>num_channels</th>\n",
       "      <th>capacity</th>\n",
       "      <th>fee_base_msat</th>\n",
       "      <th>fee_rate_milli_msat</th>\n",
       "    </tr>\n",
       "  </thead>\n",
       "  <tbody>\n",
       "    <tr>\n",
       "      <th>0</th>\n",
       "      <td>0200072fd301cb4a680f26d87c28b705ccd6a1d5b00f1b...</td>\n",
       "      <td>02004c625d622245606a1ea2c1c69cfb4516b703b47945...</td>\n",
       "      <td>7</td>\n",
       "      <td>1</td>\n",
       "      <td>1000000</td>\n",
       "      <td>1000.0</td>\n",
       "      <td>1.0</td>\n",
       "    </tr>\n",
       "    <tr>\n",
       "      <th>1</th>\n",
       "      <td>0200072fd301cb4a680f26d87c28b705ccd6a1d5b00f1b...</td>\n",
       "      <td>0202497639162bf2b608152aa2659c4dbd25bb0d3fbd5c...</td>\n",
       "      <td>4</td>\n",
       "      <td>1</td>\n",
       "      <td>500000</td>\n",
       "      <td>1000.0</td>\n",
       "      <td>1.0</td>\n",
       "    </tr>\n",
       "    <tr>\n",
       "      <th>2</th>\n",
       "      <td>0200072fd301cb4a680f26d87c28b705ccd6a1d5b00f1b...</td>\n",
       "      <td>0202497639162bf2b608152aa2659c4dbd25bb0d3fbd5c...</td>\n",
       "      <td>5</td>\n",
       "      <td>1</td>\n",
       "      <td>500000</td>\n",
       "      <td>1000.0</td>\n",
       "      <td>1.0</td>\n",
       "    </tr>\n",
       "    <tr>\n",
       "      <th>3</th>\n",
       "      <td>0200072fd301cb4a680f26d87c28b705ccd6a1d5b00f1b...</td>\n",
       "      <td>0202497639162bf2b608152aa2659c4dbd25bb0d3fbd5c...</td>\n",
       "      <td>6</td>\n",
       "      <td>1</td>\n",
       "      <td>500000</td>\n",
       "      <td>1000.0</td>\n",
       "      <td>1.0</td>\n",
       "    </tr>\n",
       "    <tr>\n",
       "      <th>4</th>\n",
       "      <td>0200072fd301cb4a680f26d87c28b705ccd6a1d5b00f1b...</td>\n",
       "      <td>0202497639162bf2b608152aa2659c4dbd25bb0d3fbd5c...</td>\n",
       "      <td>7</td>\n",
       "      <td>1</td>\n",
       "      <td>500000</td>\n",
       "      <td>1000.0</td>\n",
       "      <td>1.0</td>\n",
       "    </tr>\n",
       "  </tbody>\n",
       "</table>\n",
       "</div>"
      ],
      "text/plain": [
       "                                                 src  \\\n",
       "0  0200072fd301cb4a680f26d87c28b705ccd6a1d5b00f1b...   \n",
       "1  0200072fd301cb4a680f26d87c28b705ccd6a1d5b00f1b...   \n",
       "2  0200072fd301cb4a680f26d87c28b705ccd6a1d5b00f1b...   \n",
       "3  0200072fd301cb4a680f26d87c28b705ccd6a1d5b00f1b...   \n",
       "4  0200072fd301cb4a680f26d87c28b705ccd6a1d5b00f1b...   \n",
       "\n",
       "                                                 trg  snapshot_id  \\\n",
       "0  02004c625d622245606a1ea2c1c69cfb4516b703b47945...            7   \n",
       "1  0202497639162bf2b608152aa2659c4dbd25bb0d3fbd5c...            4   \n",
       "2  0202497639162bf2b608152aa2659c4dbd25bb0d3fbd5c...            5   \n",
       "3  0202497639162bf2b608152aa2659c4dbd25bb0d3fbd5c...            6   \n",
       "4  0202497639162bf2b608152aa2659c4dbd25bb0d3fbd5c...            7   \n",
       "\n",
       "   num_channels  capacity  fee_base_msat  fee_rate_milli_msat  \n",
       "0             1   1000000         1000.0                  1.0  \n",
       "1             1    500000         1000.0                  1.0  \n",
       "2             1    500000         1000.0                  1.0  \n",
       "3             1    500000         1000.0                  1.0  \n",
       "4             1    500000         1000.0                  1.0  "
      ]
     },
     "execution_count": 13,
     "metadata": {},
     "output_type": "execute_result"
    }
   ],
   "source": [
    "snapshots.head()"
   ]
  },
  {
   "cell_type": "code",
   "execution_count": 14,
   "metadata": {
    "collapsed": true
   },
   "outputs": [],
   "source": [
    "edges = snapshots[snapshots[\"snapshot_id\"]==snapshot_id]"
   ]
  },
  {
   "cell_type": "markdown",
   "metadata": {},
   "source": [
    "# 3.) Simulation"
   ]
  },
  {
   "cell_type": "code",
   "execution_count": 15,
   "metadata": {},
   "outputs": [
    {
     "name": "stdout",
     "output_type": "stream",
     "text": [
      "Number of deleted directed channels: 10928\n",
      "Number of remaining directed channels: 30890\n"
     ]
    },
    {
     "name": "stderr",
     "output_type": "stream",
     "text": [
      "/home/fberes/git/LNDynamicTopology/feri_sandbox/transaction_simulator.py:116: SettingWithCopyWarning: \n",
      "A value is trying to be set on a copy of a slice from a DataFrame.\n",
      "Try using .loc[row_indexer,col_indexer] = value instead\n",
      "\n",
      "See the caveats in the documentation: http://pandas.pydata.org/pandas-docs/stable/indexing.html#indexing-view-versus-copy\n",
      "  self.edges[\"total_fee\"] = self.edges[\"fee_base_msat\"] / 1000.0 + amount_sat * self.edges[\"fee_rate_milli_msat\"] / 10.0**6\n"
     ]
    },
    {
     "name": "stdout",
     "output_type": "stream",
     "text": [
      "Number of loop transactions (removed): 1\n",
      "20000 transaction were generated.\n"
     ]
    }
   ],
   "source": [
    "simulator = TransactionSimulator(edges, providers, amount_sat, num_transactions)"
   ]
  },
  {
   "cell_type": "markdown",
   "metadata": {},
   "source": [
    "simulator.transactions"
   ]
  },
  {
   "cell_type": "markdown",
   "metadata": {},
   "source": [
    "simulator.transactions[\"source\"].value_counts()[:10]"
   ]
  },
  {
   "cell_type": "markdown",
   "metadata": {},
   "source": [
    "simulator.transactions[\"target\"].value_counts()[:10]"
   ]
  },
  {
   "cell_type": "code",
   "execution_count": 16,
   "metadata": {},
   "outputs": [
    {
     "data": {
      "text/plain": [
       "<matplotlib.axes._subplots.AxesSubplot at 0x7f84afe66be0>"
      ]
     },
     "execution_count": 16,
     "metadata": {},
     "output_type": "execute_result"
    },
    {
     "data": {
      "image/png": "[encoded data removed]",
      "text/plain": [
       "<matplotlib.figure.Figure at 0x7f84afe66390>"
      ]
     },
     "metadata": {},
     "output_type": "display_data"
    }
   ],
   "source": [
    "simulator.transactions[\"source\"].value_counts().hist()"
   ]
  },
  {
   "cell_type": "code",
   "execution_count": 17,
   "metadata": {},
   "outputs": [
    {
     "data": {
      "text/plain": [
       "<matplotlib.axes._subplots.AxesSubplot at 0x7f84a892f978>"
      ]
     },
     "execution_count": 17,
     "metadata": {},
     "output_type": "execute_result"
    },
    {
     "data": {
      "image/png": "[encoded data removed]",
      "text/plain": [
       "<matplotlib.figure.Figure at 0x7f84a874e0b8>"
      ]
     },
     "metadata": {},
     "output_type": "display_data"
    }
   ],
   "source": [
    "simulator.transactions[\"target\"].value_counts().hist(bins=50)"
   ]
  },
  {
   "cell_type": "markdown",
   "metadata": {},
   "source": [
    "from tqdm import tqdm\n",
    "import time"
   ]
  },
  {
   "cell_type": "markdown",
   "metadata": {},
   "source": [
    "for i, item in enumerate(tqdm([\"a\",\"b\",\"c\",\"d\"])):\n",
    "    time.sleep(1)"
   ]
  },
  {
   "cell_type": "markdown",
   "metadata": {},
   "source": [
    "#### - 10000 trans - 1 thread - 7 min"
   ]
  },
  {
   "cell_type": "code",
   "execution_count": 18,
   "metadata": {},
   "outputs": [
    {
     "name": "stdout",
     "output_type": "stream",
     "text": [
      "Using weight='total_fee'\n",
      "Transactions simulated on original graph STARTED..\n",
      "Transactions simulated on original graph DONE\n",
      "Length distribution of optimal paths:\n",
      " 3    8845\n",
      " 2    8406\n",
      " 4    1781\n",
      " 1     365\n",
      " 5     353\n",
      "-1     209\n",
      " 6      34\n",
      " 7       5\n",
      " 8       1\n",
      "Name: length, dtype: int64\n",
      "Transactions simulated with node removals STARTED..\n",
      "8\n",
      "Transactions simulated with node removals DONE\n",
      "Length distribution of optimal paths:\n",
      " 3    11457\n",
      "-1    10440\n",
      " 4     5637\n",
      " 2     3466\n",
      " 5     1635\n",
      " 6      352\n",
      " 7       64\n",
      " 8        7\n",
      "Name: length, dtype: int64\n",
      "CPU times: user 3min 27s, sys: 11.8 s, total: 3min 38s\n",
      "Wall time: 3min 57s\n"
     ]
    }
   ],
   "source": [
    "%%time\n",
    "shortest_paths, alternative_paths, all_router_fees = simulator.simulate(weight=\"total_fee\", max_threads=8)"
   ]
  },
  {
   "cell_type": "code",
   "execution_count": 19,
   "metadata": {},
   "outputs": [
    {
     "data": {
      "text/html": [
       "<div>\n",
       "<style scoped>\n",
       "    .dataframe tbody tr th:only-of-type {\n",
       "        vertical-align: middle;\n",
       "    }\n",
       "\n",
       "    .dataframe tbody tr th {\n",
       "        vertical-align: top;\n",
       "    }\n",
       "\n",
       "    .dataframe thead th {\n",
       "        text-align: right;\n",
       "    }\n",
       "</style>\n",
       "<table border=\"1\" class=\"dataframe\">\n",
       "  <thead>\n",
       "    <tr style=\"text-align: right;\">\n",
       "      <th></th>\n",
       "      <th>transaction_id</th>\n",
       "      <th>original_cost</th>\n",
       "      <th>length</th>\n",
       "      <th>path</th>\n",
       "    </tr>\n",
       "  </thead>\n",
       "  <tbody>\n",
       "    <tr>\n",
       "      <th>0</th>\n",
       "      <td>0</td>\n",
       "      <td>0.2</td>\n",
       "      <td>2</td>\n",
       "      <td>[031de60d9f2aa1356f43a3452197d48a0987ae57b1ab8...</td>\n",
       "    </tr>\n",
       "    <tr>\n",
       "      <th>1</th>\n",
       "      <td>1</td>\n",
       "      <td>1.2</td>\n",
       "      <td>2</td>\n",
       "      <td>[035af8db31b4e3e3ef8cb948403fce5462b70cc5badbd...</td>\n",
       "    </tr>\n",
       "    <tr>\n",
       "      <th>2</th>\n",
       "      <td>2</td>\n",
       "      <td>1.4</td>\n",
       "      <td>3</td>\n",
       "      <td>[02d91a5dbb9202e724c3501338adb511c761e7851e004...</td>\n",
       "    </tr>\n",
       "    <tr>\n",
       "      <th>3</th>\n",
       "      <td>3</td>\n",
       "      <td>200.0</td>\n",
       "      <td>2</td>\n",
       "      <td>[03cfff2802946f256dd04549ac191208e5f37687d6995...</td>\n",
       "    </tr>\n",
       "    <tr>\n",
       "      <th>4</th>\n",
       "      <td>4</td>\n",
       "      <td>100.9</td>\n",
       "      <td>4</td>\n",
       "      <td>[0372d0986edbdc5c3c6b5e94ee3c56aff6739a1f8b8d2...</td>\n",
       "    </tr>\n",
       "  </tbody>\n",
       "</table>\n",
       "</div>"
      ],
      "text/plain": [
       "   transaction_id  original_cost  length  \\\n",
       "0               0            0.2       2   \n",
       "1               1            1.2       2   \n",
       "2               2            1.4       3   \n",
       "3               3          200.0       2   \n",
       "4               4          100.9       4   \n",
       "\n",
       "                                                path  \n",
       "0  [031de60d9f2aa1356f43a3452197d48a0987ae57b1ab8...  \n",
       "1  [035af8db31b4e3e3ef8cb948403fce5462b70cc5badbd...  \n",
       "2  [02d91a5dbb9202e724c3501338adb511c761e7851e004...  \n",
       "3  [03cfff2802946f256dd04549ac191208e5f37687d6995...  \n",
       "4  [0372d0986edbdc5c3c6b5e94ee3c56aff6739a1f8b8d2...  "
      ]
     },
     "execution_count": 19,
     "metadata": {},
     "output_type": "execute_result"
    }
   ],
   "source": [
    "shortest_paths.head()"
   ]
  },
  {
   "cell_type": "code",
   "execution_count": 20,
   "metadata": {},
   "outputs": [
    {
     "data": {
      "text/html": [
       "<div>\n",
       "<style scoped>\n",
       "    .dataframe tbody tr th:only-of-type {\n",
       "        vertical-align: middle;\n",
       "    }\n",
       "\n",
       "    .dataframe tbody tr th {\n",
       "        vertical-align: top;\n",
       "    }\n",
       "\n",
       "    .dataframe thead th {\n",
       "        text-align: right;\n",
       "    }\n",
       "</style>\n",
       "<table border=\"1\" class=\"dataframe\">\n",
       "  <thead>\n",
       "    <tr style=\"text-align: right;\">\n",
       "      <th></th>\n",
       "      <th>transaction_id</th>\n",
       "      <th>cost</th>\n",
       "      <th>length</th>\n",
       "      <th>path</th>\n",
       "      <th>node</th>\n",
       "    </tr>\n",
       "  </thead>\n",
       "  <tbody>\n",
       "    <tr>\n",
       "      <th>0</th>\n",
       "      <td>1321</td>\n",
       "      <td>None</td>\n",
       "      <td>-1</td>\n",
       "      <td>[]</td>\n",
       "      <td>03817e6563dc36585b4510ff5fa50c0fe9a763ef14aa0b...</td>\n",
       "    </tr>\n",
       "    <tr>\n",
       "      <th>1</th>\n",
       "      <td>3313</td>\n",
       "      <td>None</td>\n",
       "      <td>-1</td>\n",
       "      <td>[]</td>\n",
       "      <td>03817e6563dc36585b4510ff5fa50c0fe9a763ef14aa0b...</td>\n",
       "    </tr>\n",
       "    <tr>\n",
       "      <th>2</th>\n",
       "      <td>4931</td>\n",
       "      <td>None</td>\n",
       "      <td>-1</td>\n",
       "      <td>[]</td>\n",
       "      <td>03817e6563dc36585b4510ff5fa50c0fe9a763ef14aa0b...</td>\n",
       "    </tr>\n",
       "    <tr>\n",
       "      <th>3</th>\n",
       "      <td>5721</td>\n",
       "      <td>None</td>\n",
       "      <td>-1</td>\n",
       "      <td>[]</td>\n",
       "      <td>03817e6563dc36585b4510ff5fa50c0fe9a763ef14aa0b...</td>\n",
       "    </tr>\n",
       "    <tr>\n",
       "      <th>4</th>\n",
       "      <td>7936</td>\n",
       "      <td>None</td>\n",
       "      <td>-1</td>\n",
       "      <td>[]</td>\n",
       "      <td>03817e6563dc36585b4510ff5fa50c0fe9a763ef14aa0b...</td>\n",
       "    </tr>\n",
       "  </tbody>\n",
       "</table>\n",
       "</div>"
      ],
      "text/plain": [
       "   transaction_id  cost  length path  \\\n",
       "0            1321  None      -1   []   \n",
       "1            3313  None      -1   []   \n",
       "2            4931  None      -1   []   \n",
       "3            5721  None      -1   []   \n",
       "4            7936  None      -1   []   \n",
       "\n",
       "                                                node  \n",
       "0  03817e6563dc36585b4510ff5fa50c0fe9a763ef14aa0b...  \n",
       "1  03817e6563dc36585b4510ff5fa50c0fe9a763ef14aa0b...  \n",
       "2  03817e6563dc36585b4510ff5fa50c0fe9a763ef14aa0b...  \n",
       "3  03817e6563dc36585b4510ff5fa50c0fe9a763ef14aa0b...  \n",
       "4  03817e6563dc36585b4510ff5fa50c0fe9a763ef14aa0b...  "
      ]
     },
     "execution_count": 20,
     "metadata": {},
     "output_type": "execute_result"
    }
   ],
   "source": [
    "alternative_paths.head()"
   ]
  },
  {
   "cell_type": "code",
   "execution_count": 21,
   "metadata": {},
   "outputs": [
    {
     "data": {
      "text/plain": [
       "<matplotlib.axes._subplots.AxesSubplot at 0x7f84a8628cf8>"
      ]
     },
     "execution_count": 21,
     "metadata": {},
     "output_type": "execute_result"
    },
    {
     "data": {
      "image/png": "[encoded data removed]",
      "text/plain": [
       "<matplotlib.figure.Figure at 0x7f84b15ac1d0>"
      ]
     },
     "metadata": {},
     "output_type": "display_data"
    }
   ],
   "source": [
    "shortest_paths[\"length\"].hist()\n",
    "alternative_paths[\"length\"].hist(alpha=0.6)"
   ]
  },
  {
   "cell_type": "code",
   "execution_count": 22,
   "metadata": {
    "collapsed": true
   },
   "outputs": [],
   "source": [
    "harmonic_sums, routing_differences = calculate_node_influence(shortest_paths, alternative_paths)"
   ]
  },
  {
   "cell_type": "markdown",
   "metadata": {
    "collapsed": true
   },
   "source": [
    "harmonic_sums.reset_index().to_csv(output_file, index=False)"
   ]
  },
  {
   "cell_type": "code",
   "execution_count": 23,
   "metadata": {},
   "outputs": [
    {
     "data": {
      "text/plain": [
       "10.811360356663045"
      ]
     },
     "execution_count": 23,
     "metadata": {},
     "output_type": "execute_result"
    }
   ],
   "source": [
    "harmonic_sums[\"cost_diff\"].mean()"
   ]
  },
  {
   "cell_type": "code",
   "execution_count": 24,
   "metadata": {},
   "outputs": [
    {
     "data": {
      "text/html": [
       "<div>\n",
       "<style scoped>\n",
       "    .dataframe tbody tr th:only-of-type {\n",
       "        vertical-align: middle;\n",
       "    }\n",
       "\n",
       "    .dataframe tbody tr th {\n",
       "        vertical-align: top;\n",
       "    }\n",
       "\n",
       "    .dataframe thead th {\n",
       "        text-align: right;\n",
       "    }\n",
       "</style>\n",
       "<table border=\"1\" class=\"dataframe\">\n",
       "  <thead>\n",
       "    <tr style=\"text-align: right;\">\n",
       "      <th></th>\n",
       "      <th>original_cost</th>\n",
       "      <th>cost</th>\n",
       "      <th>cost_diff</th>\n",
       "    </tr>\n",
       "    <tr>\n",
       "      <th>node</th>\n",
       "      <th></th>\n",
       "      <th></th>\n",
       "      <th></th>\n",
       "    </tr>\n",
       "  </thead>\n",
       "  <tbody>\n",
       "    <tr>\n",
       "      <th>02ad6fb8d693dc1e4569bcedefadf5f72a931ae027dc0f0c544b34c1c6f3b9a02b</th>\n",
       "      <td>2391.232553</td>\n",
       "      <td>1612.518686</td>\n",
       "      <td>778.713868</td>\n",
       "    </tr>\n",
       "    <tr>\n",
       "      <th>0331f80652fb840239df8dc99205792bba2e559a05469915804c08420230e23c7c</th>\n",
       "      <td>841.092744</td>\n",
       "      <td>188.676825</td>\n",
       "      <td>652.415918</td>\n",
       "    </tr>\n",
       "    <tr>\n",
       "      <th>03bb88ccc444534da7b5b64b4f7b15e1eccb18e102db0e400d4b9cfe93763aa26d</th>\n",
       "      <td>1550.984001</td>\n",
       "      <td>1061.658242</td>\n",
       "      <td>489.325759</td>\n",
       "    </tr>\n",
       "    <tr>\n",
       "      <th>0217890e3aad8d35bc054f43acc00084b25229ecff0ab68debd82883ad65ee8266</th>\n",
       "      <td>516.638904</td>\n",
       "      <td>256.944665</td>\n",
       "      <td>259.694239</td>\n",
       "    </tr>\n",
       "    <tr>\n",
       "      <th>03cb7983dc247f9f81a0fa2dfa3ce1c255365f7279c8dd143e086ca333df10e278</th>\n",
       "      <td>325.680595</td>\n",
       "      <td>101.380796</td>\n",
       "      <td>224.299799</td>\n",
       "    </tr>\n",
       "    <tr>\n",
       "      <th>020d41c5a32f06d7addc7378f2d4a6596358d8716a3eb5d5bbdd894a82a1fdd00c</th>\n",
       "      <td>117.838320</td>\n",
       "      <td>27.380162</td>\n",
       "      <td>90.458157</td>\n",
       "    </tr>\n",
       "    <tr>\n",
       "      <th>03c436af41160a355fc1ed230a64f6a64bcbd2ae50f12171d1318f9782602be601</th>\n",
       "      <td>226.342482</td>\n",
       "      <td>138.368028</td>\n",
       "      <td>87.974454</td>\n",
       "    </tr>\n",
       "    <tr>\n",
       "      <th>030c3f19d742ca294a55c00376b3b355c3c90d61c6b6b39554dbc7ac19b141c14f</th>\n",
       "      <td>172.378985</td>\n",
       "      <td>88.788454</td>\n",
       "      <td>83.590530</td>\n",
       "    </tr>\n",
       "    <tr>\n",
       "      <th>0327049d8d63f0c40193cdf3afc61817c8647808a4e482de0716fcef74e6d92ebf</th>\n",
       "      <td>105.491076</td>\n",
       "      <td>23.010480</td>\n",
       "      <td>82.480596</td>\n",
       "    </tr>\n",
       "    <tr>\n",
       "      <th>02cdf83ef8e45908b1092125d25c68dcec7751ca8d39f557775cd842e5bc127469</th>\n",
       "      <td>155.369900</td>\n",
       "      <td>81.271453</td>\n",
       "      <td>74.098447</td>\n",
       "    </tr>\n",
       "  </tbody>\n",
       "</table>\n",
       "</div>"
      ],
      "text/plain": [
       "                                                    original_cost  \\\n",
       "node                                                                \n",
       "02ad6fb8d693dc1e4569bcedefadf5f72a931ae027dc0f0...    2391.232553   \n",
       "0331f80652fb840239df8dc99205792bba2e559a0546991...     841.092744   \n",
       "03bb88ccc444534da7b5b64b4f7b15e1eccb18e102db0e4...    1550.984001   \n",
       "0217890e3aad8d35bc054f43acc00084b25229ecff0ab68...     516.638904   \n",
       "03cb7983dc247f9f81a0fa2dfa3ce1c255365f7279c8dd1...     325.680595   \n",
       "020d41c5a32f06d7addc7378f2d4a6596358d8716a3eb5d...     117.838320   \n",
       "03c436af41160a355fc1ed230a64f6a64bcbd2ae50f1217...     226.342482   \n",
       "030c3f19d742ca294a55c00376b3b355c3c90d61c6b6b39...     172.378985   \n",
       "0327049d8d63f0c40193cdf3afc61817c8647808a4e482d...     105.491076   \n",
       "02cdf83ef8e45908b1092125d25c68dcec7751ca8d39f55...     155.369900   \n",
       "\n",
       "                                                           cost   cost_diff  \n",
       "node                                                                         \n",
       "02ad6fb8d693dc1e4569bcedefadf5f72a931ae027dc0f0...  1612.518686  778.713868  \n",
       "0331f80652fb840239df8dc99205792bba2e559a0546991...   188.676825  652.415918  \n",
       "03bb88ccc444534da7b5b64b4f7b15e1eccb18e102db0e4...  1061.658242  489.325759  \n",
       "0217890e3aad8d35bc054f43acc00084b25229ecff0ab68...   256.944665  259.694239  \n",
       "03cb7983dc247f9f81a0fa2dfa3ce1c255365f7279c8dd1...   101.380796  224.299799  \n",
       "020d41c5a32f06d7addc7378f2d4a6596358d8716a3eb5d...    27.380162   90.458157  \n",
       "03c436af41160a355fc1ed230a64f6a64bcbd2ae50f1217...   138.368028   87.974454  \n",
       "030c3f19d742ca294a55c00376b3b355c3c90d61c6b6b39...    88.788454   83.590530  \n",
       "0327049d8d63f0c40193cdf3afc61817c8647808a4e482d...    23.010480   82.480596  \n",
       "02cdf83ef8e45908b1092125d25c68dcec7751ca8d39f55...    81.271453   74.098447  "
      ]
     },
     "execution_count": 24,
     "metadata": {},
     "output_type": "execute_result"
    }
   ],
   "source": [
    "harmonic_sums.head(10)"
   ]
  },
  {
   "cell_type": "markdown",
   "metadata": {},
   "source": [
    "harmonic_sums.tail(10)"
   ]
  },
  {
   "cell_type": "markdown",
   "metadata": {},
   "source": [
    "# 4. Total income for routing nodes"
   ]
  },
  {
   "cell_type": "code",
   "execution_count": 25,
   "metadata": {
    "collapsed": true
   },
   "outputs": [],
   "source": [
    "total_income = all_router_fees.groupby(\"node\")[\"fee\"].sum().sort_values(ascending=False)"
   ]
  },
  {
   "cell_type": "markdown",
   "metadata": {},
   "source": [
    "#### Top nodes monthly income is 30*13 USD = 390 USD ~ 100K HUF / month - reasonable?"
   ]
  },
  {
   "cell_type": "code",
   "execution_count": 26,
   "metadata": {},
   "outputs": [
    {
     "data": {
      "text/plain": [
       "node\n",
       "0232e20e7b68b9b673fb25f48322b151a93186bffe4550045040673797ceca43cf    166083.0\n",
       "03a503d8e30f2ff407096d235b5db63b4fcf3f89a653acb6f43d3fc492a7674019    105384.5\n",
       "03e50492eab4107a773141bb419e107bda3de3d55652e6e1a41225f06a0bbf2d56     69138.0\n",
       "03d37fca0656558de4fd86bbe490a38d84a46228e7ec1361801f54f9437a18d618     51054.0\n",
       "0279c22ed7a068d10dc1a38ae66d2d6461e269226c60258c021b1ddcdfe4b00bc4     31600.0\n",
       "03fb822818be083e0a954db85257a2911a3d55458b8c1ea4124b157e865a836d12     16683.0\n",
       "0390b5d4492dc2f5318e5233ab2cebf6d48914881a33ef6a9c6bcdbb433ad986d0     10954.5\n",
       "022755c3ff4e5a1d71f573cda4b315887fc00a9e5c9ea9a847d939f3e517e69a70     10753.5\n",
       "032679fec1213e5b0a23e066c019d7b991b95c6e4d28806b9ebd1362f9e32775cf     10452.0\n",
       "0303a518845db99994783f606e6629e705cfaf072e5ce9a4d8bf9e249de4fbd019      9949.5\n",
       "Name: fee, dtype: float64"
      ]
     },
     "execution_count": 26,
     "metadata": {},
     "output_type": "execute_result"
    }
   ],
   "source": [
    "total_income.head(10)"
   ]
  },
  {
   "cell_type": "markdown",
   "metadata": {},
   "source": [
    "# 5. Analyze optimal routing fee for nodes"
   ]
  },
  {
   "cell_type": "markdown",
   "metadata": {},
   "source": [
    "## TODO: Pistitől kell infó, hogy mennyi legyen a megszakadt tranzakció büntetése..."
   ]
  },
  {
   "cell_type": "code",
   "execution_count": 27,
   "metadata": {},
   "outputs": [],
   "source": [
    "p_altered = alternative_paths[~alternative_paths[\"cost\"].isnull()]"
   ]
  },
  {
   "cell_type": "code",
   "execution_count": 28,
   "metadata": {},
   "outputs": [
    {
     "data": {
      "text/plain": [
       "'Path ratio that have alternative routing after removals: 0.684191'"
      ]
     },
     "execution_count": 28,
     "metadata": {},
     "output_type": "execute_result"
    }
   ],
   "source": [
    "\"Path ratio that have alternative routing after removals: %f\" % (len(p_altered) / len(alternative_paths))"
   ]
  },
  {
   "cell_type": "code",
   "execution_count": 29,
   "metadata": {},
   "outputs": [
    {
     "data": {
      "text/plain": [
       "'Node ratio that have alternative routing after removals: 0.862140'"
      ]
     },
     "execution_count": 29,
     "metadata": {},
     "output_type": "execute_result"
    }
   ],
   "source": [
    "num_routers = len(alternative_paths[\"node\"].unique())\n",
    "num_routers_with_alternative_paths = len(p_altered[\"node\"].unique())\n",
    "\"Node ratio that have alternative routing after removals: %f\" % (num_routers_with_alternative_paths / num_routers)"
   ]
  },
  {
   "cell_type": "code",
   "execution_count": 30,
   "metadata": {
    "collapsed": true
   },
   "outputs": [],
   "source": [
    "def calculate_max_income(n, visualize=False, min_ratio=0.0):\n",
    "    trans = p_altered[p_altered[\"node\"] == n]\n",
    "    trans = trans.merge(shortest_paths, on=\"transaction_id\", how=\"left\")#'original_cost' column merged\n",
    "    trans = trans.merge(all_router_fees, on=[\"transaction_id\",\"node\"], how=\"left\")#'fee' column is merged\n",
    "    trans[\"delta_cost\"] = trans[\"cost\"] - trans[\"original_cost\"]\n",
    "    ordered_deltas = trans[[\"transaction_id\",\"fee\",\"delta_cost\"]].sort_values(\"delta_cost\")\n",
    "    ordered_deltas[\"delta_cost\"] = ordered_deltas[\"delta_cost\"].apply(lambda x: round(x, 2))\n",
    "    thresholds = sorted(list(ordered_deltas[\"delta_cost\"].unique()))\n",
    "    original_income = ordered_deltas[\"fee\"].sum()\n",
    "    original_num_transactions = len(ordered_deltas)\n",
    "    probas, incomes = [], []\n",
    "    for th in thresholds:\n",
    "        df = ordered_deltas[ordered_deltas[\"delta_cost\"] >= th]\n",
    "        prob = len(df) / original_num_transactions\n",
    "        total = df[\"fee\"].sum() + len(df) * th\n",
    "        incomes.append(total)\n",
    "        probas.append(prob)\n",
    "        if prob < min_ratio:\n",
    "            break\n",
    "    max_idx = np.argmax(incomes)\n",
    "    if visualize:\n",
    "        fig, ax1 = plt.subplots()\n",
    "        ax1.set_title(original_num_transactions)\n",
    "        ax1.plot(thresholds[:len(incomes)], incomes, 'bx-')\n",
    "        ax1.plot(thresholds[:len(incomes)], np.array(incomes)*np.array(probas), 'rx-')\n",
    "        ax2 = ax1.twinx()\n",
    "        ax2.plot(thresholds[:len(incomes)], probas, 'gx-')\n",
    "    return thresholds[max_idx], incomes[max_idx], probas[max_idx], original_income, original_num_transactions"
   ]
  },
  {
   "cell_type": "markdown",
   "metadata": {},
   "source": [
    "## a.) Visualization of optimal routing fee calculation"
   ]
  },
  {
   "cell_type": "markdown",
   "metadata": {},
   "source": [
    "#### top 5 routers"
   ]
  },
  {
   "cell_type": "code",
   "execution_count": 43,
   "metadata": {
    "scrolled": false
   },
   "outputs": [
    {
     "data": {
      "image/png": "[encoded data removed]",
      "text/plain": [
       "<matplotlib.figure.Figure at 0x7f84a8ee9d68>"
      ]
     },
     "metadata": {},
     "output_type": "display_data"
    },
    {
     "data": {
      "image/png": "[encoded data removed]",
      "text/plain": [
       "<matplotlib.figure.Figure at 0x7f8495b86470>"
      ]
     },
     "metadata": {},
     "output_type": "display_data"
    },
    {
     "data": {
      "image/png": "[encoded data removed]",
      "text/plain": [
       "<matplotlib.figure.Figure at 0x7f8495bec898>"
      ]
     },
     "metadata": {},
     "output_type": "display_data"
    },
    {
     "data": {
      "image/png": "[encoded data removed]",
      "text/plain": [
       "<matplotlib.figure.Figure at 0x7f84a921eb38>"
      ]
     },
     "metadata": {},
     "output_type": "display_data"
    },
    {
     "data": {
      "image/png": "[encoded data removed]",
      "text/plain": [
       "<matplotlib.figure.Figure at 0x7f84a91e03c8>"
      ]
     },
     "metadata": {},
     "output_type": "display_data"
    }
   ],
   "source": [
    "for n in list(p_altered[\"node\"].value_counts()[:5].index):\n",
    "    _, _, _, _, _ = calculate_max_income(n, visualize=True)"
   ]
  },
  {
   "cell_type": "markdown",
   "metadata": {},
   "source": [
    "#### rnd 5 routers"
   ]
  },
  {
   "cell_type": "code",
   "execution_count": 45,
   "metadata": {
    "scrolled": false
   },
   "outputs": [
    {
     "data": {
      "image/png": "[encoded data removed]",
      "text/plain": [
       "<matplotlib.figure.Figure at 0x7f84a91a0470>"
      ]
     },
     "metadata": {},
     "output_type": "display_data"
    },
    {
     "data": {
      "image/png": "[encoded data removed]",
      "text/plain": [
       "<matplotlib.figure.Figure at 0x7f84a8d99630>"
      ]
     },
     "metadata": {},
     "output_type": "display_data"
    },
    {
     "data": {
      "image/png": "[encoded data removed]",
      "text/plain": [
       "<matplotlib.figure.Figure at 0x7f8495d1ffd0>"
      ]
     },
     "metadata": {},
     "output_type": "display_data"
    },
    {
     "data": {
      "image/png": "[encoded data removed]",
      "text/plain": [
       "<matplotlib.figure.Figure at 0x7f8495e4c898>"
      ]
     },
     "metadata": {},
     "output_type": "display_data"
    },
    {
     "data": {
      "image/png": "[encoded data removed]",
      "text/plain": [
       "<matplotlib.figure.Figure at 0x7f8495e715f8>"
      ]
     },
     "metadata": {},
     "output_type": "display_data"
    }
   ],
   "source": [
    "for n in list(p_altered.sample(5)[\"node\"]):\n",
    "    _, _, _, _, _ = calculate_max_income(n, visualize=True)"
   ]
  },
  {
   "cell_type": "markdown",
   "metadata": {},
   "source": [
    "## b.) optimal routing fee for all nodes"
   ]
  },
  {
   "cell_type": "code",
   "execution_count": 33,
   "metadata": {},
   "outputs": [],
   "source": [
    "routers = list(p_altered[\"node\"].unique())"
   ]
  },
  {
   "cell_type": "code",
   "execution_count": 34,
   "metadata": {},
   "outputs": [
    {
     "name": "stderr",
     "output_type": "stream",
     "text": [
      "100%|██████████| 419/419 [00:16<00:00, 25.66it/s]\n"
     ]
    }
   ],
   "source": [
    "opt_strategy = []\n",
    "for n in tqdm(routers):\n",
    "    opt_delta, opt_income, opt_ratio, origi_income, origi_num_trans = calculate_max_income(n, visualize=False)\n",
    "    opt_strategy.append((n, opt_delta, opt_ratio, opt_income, origi_income, origi_num_trans))"
   ]
  },
  {
   "cell_type": "code",
   "execution_count": 35,
   "metadata": {},
   "outputs": [],
   "source": [
    "opt_fees_df = pd.DataFrame(opt_strategy, columns=[\"node\",\"opt_delta\",\"opt_ratio\",\"opt_income\",\"origi_income\", \"origi_num_trans\"])"
   ]
  },
  {
   "cell_type": "code",
   "execution_count": 36,
   "metadata": {},
   "outputs": [],
   "source": [
    "opt_fees_df[\"income_gain\"] = ((opt_fees_df[\"opt_income\"] - opt_fees_df[\"origi_income\"]) / opt_fees_df[\"origi_income\"]).replace(np.inf, 100.0)"
   ]
  },
  {
   "cell_type": "code",
   "execution_count": 37,
   "metadata": {},
   "outputs": [
    {
     "data": {
      "text/html": [
       "<div>\n",
       "<style scoped>\n",
       "    .dataframe tbody tr th:only-of-type {\n",
       "        vertical-align: middle;\n",
       "    }\n",
       "\n",
       "    .dataframe tbody tr th {\n",
       "        vertical-align: top;\n",
       "    }\n",
       "\n",
       "    .dataframe thead th {\n",
       "        text-align: right;\n",
       "    }\n",
       "</style>\n",
       "<table border=\"1\" class=\"dataframe\">\n",
       "  <thead>\n",
       "    <tr style=\"text-align: right;\">\n",
       "      <th></th>\n",
       "      <th>node</th>\n",
       "      <th>opt_delta</th>\n",
       "      <th>opt_ratio</th>\n",
       "      <th>opt_income</th>\n",
       "      <th>origi_income</th>\n",
       "      <th>origi_num_trans</th>\n",
       "      <th>income_gain</th>\n",
       "    </tr>\n",
       "  </thead>\n",
       "  <tbody>\n",
       "    <tr>\n",
       "      <th>0</th>\n",
       "      <td>0336bf99875b31ad9d78f2788d75bcb3deb52ff71ceac1...</td>\n",
       "      <td>0.20</td>\n",
       "      <td>1.0</td>\n",
       "      <td>1.40</td>\n",
       "      <td>1.2</td>\n",
       "      <td>1</td>\n",
       "      <td>0.166667</td>\n",
       "    </tr>\n",
       "    <tr>\n",
       "      <th>1</th>\n",
       "      <td>0237480cd2c974bfdb034f4effa8030885c7d3645c0a6e...</td>\n",
       "      <td>5.41</td>\n",
       "      <td>0.7</td>\n",
       "      <td>46.27</td>\n",
       "      <td>12.0</td>\n",
       "      <td>10</td>\n",
       "      <td>2.855833</td>\n",
       "    </tr>\n",
       "    <tr>\n",
       "      <th>2</th>\n",
       "      <td>02f08380da84f77ed03fb9310f99c69c50f951cc82a7f2...</td>\n",
       "      <td>0.00</td>\n",
       "      <td>1.0</td>\n",
       "      <td>13.20</td>\n",
       "      <td>13.2</td>\n",
       "      <td>11</td>\n",
       "      <td>0.000000</td>\n",
       "    </tr>\n",
       "    <tr>\n",
       "      <th>3</th>\n",
       "      <td>03c73e43e92fab12af3461f723901f0bcdabdfdcf9b749...</td>\n",
       "      <td>99.00</td>\n",
       "      <td>1.0</td>\n",
       "      <td>1002.00</td>\n",
       "      <td>12.0</td>\n",
       "      <td>10</td>\n",
       "      <td>82.500000</td>\n",
       "    </tr>\n",
       "    <tr>\n",
       "      <th>4</th>\n",
       "      <td>03842a085b8b89da9db708b83aae8e9baff7a0a6f34368...</td>\n",
       "      <td>0.20</td>\n",
       "      <td>1.0</td>\n",
       "      <td>7.20</td>\n",
       "      <td>0.0</td>\n",
       "      <td>36</td>\n",
       "      <td>100.000000</td>\n",
       "    </tr>\n",
       "  </tbody>\n",
       "</table>\n",
       "</div>"
      ],
      "text/plain": [
       "                                                node  opt_delta  opt_ratio  \\\n",
       "0  0336bf99875b31ad9d78f2788d75bcb3deb52ff71ceac1...       0.20        1.0   \n",
       "1  0237480cd2c974bfdb034f4effa8030885c7d3645c0a6e...       5.41        0.7   \n",
       "2  02f08380da84f77ed03fb9310f99c69c50f951cc82a7f2...       0.00        1.0   \n",
       "3  03c73e43e92fab12af3461f723901f0bcdabdfdcf9b749...      99.00        1.0   \n",
       "4  03842a085b8b89da9db708b83aae8e9baff7a0a6f34368...       0.20        1.0   \n",
       "\n",
       "   opt_income  origi_income  origi_num_trans  income_gain  \n",
       "0        1.40           1.2                1     0.166667  \n",
       "1       46.27          12.0               10     2.855833  \n",
       "2       13.20          13.2               11     0.000000  \n",
       "3     1002.00          12.0               10    82.500000  \n",
       "4        7.20           0.0               36   100.000000  "
      ]
     },
     "execution_count": 37,
     "metadata": {},
     "output_type": "execute_result"
    }
   ],
   "source": [
    "opt_fees_df.head()"
   ]
  },
  {
   "cell_type": "code",
   "execution_count": 38,
   "metadata": {},
   "outputs": [
    {
     "data": {
      "text/plain": [
       "opt_delta            73.529427\n",
       "opt_ratio             0.844040\n",
       "opt_income         1004.963396\n",
       "origi_income        178.674889\n",
       "origi_num_trans      53.980907\n",
       "income_gain          29.987968\n",
       "dtype: float64"
      ]
     },
     "execution_count": 38,
     "metadata": {},
     "output_type": "execute_result"
    }
   ],
   "source": [
    "opt_fees_df[[\"opt_delta\",\"opt_ratio\",\"opt_income\",\"origi_income\",\"origi_num_trans\",\"income_gain\"]].mean()"
   ]
  },
  {
   "cell_type": "code",
   "execution_count": 40,
   "metadata": {},
   "outputs": [
    {
     "name": "stderr",
     "output_type": "stream",
     "text": [
      "/home/fberes/anaconda3/envs/dm-3-env/lib/python3.5/site-packages/scipy/stats/stats.py:1713: FutureWarning: Using a non-tuple sequence for multidimensional indexing is deprecated; use `arr[tuple(seq)]` instead of `arr[seq]`. In the future this will be interpreted as an array index, `arr[np.array(seq)]`, which will result either in an error or a different result.\n",
      "  return np.add.reduce(sorted[indexer] * weights, axis=axis) / sumval\n"
     ]
    },
    {
     "data": {
      "text/plain": [
       "<seaborn.axisgrid.JointGrid at 0x7f8495c51be0>"
      ]
     },
     "execution_count": 40,
     "metadata": {},
     "output_type": "execute_result"
    },
    {
     "data": {
      "image/png": "[encoded data removed]",
      "text/plain": [
       "<matplotlib.figure.Figure at 0x7f8495c510f0>"
      ]
     },
     "metadata": {},
     "output_type": "display_data"
    }
   ],
   "source": [
    "sns.jointplot(data=opt_fees_df, x=\"opt_delta\", y=\"income_gain\")"
   ]
  },
  {
   "cell_type": "markdown",
   "metadata": {},
   "source": [
    "### Most of the nodes can increase their income without losing too much traffic"
   ]
  },
  {
   "cell_type": "code",
   "execution_count": 39,
   "metadata": {},
   "outputs": [
    {
     "name": "stderr",
     "output_type": "stream",
     "text": [
      "/home/fberes/anaconda3/envs/dm-3-env/lib/python3.5/site-packages/scipy/stats/stats.py:1713: FutureWarning: Using a non-tuple sequence for multidimensional indexing is deprecated; use `arr[tuple(seq)]` instead of `arr[seq]`. In the future this will be interpreted as an array index, `arr[np.array(seq)]`, which will result either in an error or a different result.\n",
      "  return np.add.reduce(sorted[indexer] * weights, axis=axis) / sumval\n"
     ]
    },
    {
     "data": {
      "text/plain": [
       "<seaborn.axisgrid.JointGrid at 0x7f8495c79828>"
      ]
     },
     "execution_count": 39,
     "metadata": {},
     "output_type": "execute_result"
    },
    {
     "data": {
      "image/png": "[encoded data removed]",
      "text/plain": [
       "<matplotlib.figure.Figure at 0x7f8495e39470>"
      ]
     },
     "metadata": {},
     "output_type": "display_data"
    }
   ],
   "source": [
    "sns.jointplot(data=opt_fees_df, x=\"opt_ratio\", y=\"origi_num_trans\")"
   ]
  }
 ],
 "metadata": {
  "kernelspec": {
   "display_name": "Python [conda env:dm-3-env]",
   "language": "python",
   "name": "conda-env-dm-3-env-py"
  },
  "language_info": {
   "codemirror_mode": {
    "name": "ipython",
    "version": 3
   },
   "file_extension": ".py",
   "mimetype": "text/x-python",
   "name": "python",
   "nbconvert_exporter": "python",
   "pygments_lexer": "ipython3",
   "version": "3.5.4"
  }
 },
 "nbformat": 4,
 "nbformat_minor": 2
}
