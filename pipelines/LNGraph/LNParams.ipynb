{
 "cells": [
  {
   "cell_type": "code",
   "execution_count": null,
   "metadata": {
    "collapsed": true
   },
   "outputs": [],
   "source": [
    "from datawand.parametrization import ConfigGenerator"
   ]
  },
  {
   "cell_type": "markdown",
   "metadata": {},
   "source": [
    "# Initialize configuration generator"
   ]
  },
  {
   "cell_type": "code",
   "execution_count": null,
   "metadata": {
    "collapsed": true
   },
   "outputs": [],
   "source": [
    "cg = ConfigGenerator(pipeline_name='LNGraph')"
   ]
  },
  {
   "cell_type": "markdown",
   "metadata": {},
   "source": [
    "# Setting default parameters for pipeline"
   ]
  },
  {
   "cell_type": "code",
   "execution_count": null,
   "metadata": {
    "collapsed": true
   },
   "outputs": [],
   "source": [
    "DEFAULTS = {}"
   ]
  },
  {
   "cell_type": "markdown",
   "metadata": {},
   "source": [
    "#### Set your default parameters below:"
   ]
  },
  {
   "cell_type": "code",
   "execution_count": null,
   "metadata": {
    "collapsed": true
   },
   "outputs": [],
   "source": [
    "DEFAULTS[\"data_dir\"] = \"/mnt/idms/fberes/data/bitcoin_ln_research\"\n",
    "DEFAULTS[\"weight\"] = None\n",
    "DEFAULTS[\"weight_cols\"] = [None, \"num_channels\", \"capacity\", \"fee_base_msat\", \"fee_rate_milli_msat\"]\n",
    "DEFAULTS[\"snapshot_ids\"] = list(range(9))"
   ]
  },
  {
   "cell_type": "code",
   "execution_count": null,
   "metadata": {
    "collapsed": true
   },
   "outputs": [],
   "source": [
    "DEFAULTS[\"experiment_id\"] = \"trial\"\n",
    "DEFAULTS[\"snapshot_id\"] = 0\n",
    "DEFAULTS[\"num_transactions\"] = 1000\n",
    "DEFAULTS[\"amount_sat\"] = 100000 #10000 SAT ~ 0.87 USD"
   ]
  },
  {
   "cell_type": "markdown",
   "metadata": {},
   "source": [
    "# Setting parameters for notebooks"
   ]
  },
  {
   "cell_type": "code",
   "execution_count": null,
   "metadata": {
    "collapsed": true
   },
   "outputs": [],
   "source": [
    "PARAMETERS = {}"
   ]
  },
  {
   "cell_type": "code",
   "execution_count": null,
   "metadata": {},
   "outputs": [],
   "source": [
    "for nb_name in cg.pythonitem_names:\n",
    "    PARAMETERS[nb_name] = []\n",
    "print(PARAMETERS)"
   ]
  },
  {
   "cell_type": "markdown",
   "metadata": {},
   "source": [
    "#### Set your parameters for each notebooks below: \n",
    "\n",
    "##### You can specify the ending of the names of the generated notebook clones, if you add an \"\\_\\_ ending \\_\\_\" parameter. (Otherwise they will end with \\_CLONE\\_1, \\_CLONE\\_2, etc.)\n",
    "##### WARNING: if the name of the generated notebook clone is not an identifier, then luigi will NOT be able to run it."
   ]
  },
  {
   "cell_type": "markdown",
   "metadata": {},
   "source": [
    "## Centrality computation"
   ]
  },
  {
   "cell_type": "markdown",
   "metadata": {
    "collapsed": true
   },
   "source": [
    "for w in DEFAULTS[\"weight_cols\"]:\n",
    "    PARAMETERS[\"CentralityCalculator\"].append({\"weight\":w})"
   ]
  },
  {
   "cell_type": "markdown",
   "metadata": {},
   "source": [
    "## Transaction simulation"
   ]
  },
  {
   "cell_type": "markdown",
   "metadata": {
    "collapsed": true
   },
   "source": [
    "import datetime as dt\n",
    "\n",
    "start_time = dt.datetime.now().strftime(\"%Y-%m-%d_%H:%M:%S\")\n",
    "num_samples = 10\n",
    "num_transactions = 5000\n",
    "amount = 100000\n",
    "\n",
    "for snap in range(8):\n",
    "    for i in range(num_samples):\n",
    "        PARAMETERS['RunSimulator'].append({\"snapshot_id\":snap, \"num_transactions\":num_transactions, \"experiment_id\":\"%s_%isat_k%i.%i\" % (start_time, amount, num_transactions, i)})"
   ]
  },
  {
   "cell_type": "markdown",
   "metadata": {},
   "source": [
    "# Export parameters into pipeline configuration file"
   ]
  },
  {
   "cell_type": "code",
   "execution_count": null,
   "metadata": {},
   "outputs": [],
   "source": [
    "cg.save_params(PARAMETERS, DEFAULTS)"
   ]
  },
  {
   "cell_type": "markdown",
   "metadata": {},
   "source": [
    "cg.pipeline_cfg"
   ]
  }
 ],
 "metadata": {
  "anaconda-cloud": {},
  "kernelspec": {
   "display_name": "Python [conda env:dm-3-env]",
   "language": "python",
   "name": "conda-env-dm-3-env-py"
  },
  "language_info": {
   "codemirror_mode": {
    "name": "ipython",
    "version": 3
   },
   "file_extension": ".py",
   "mimetype": "text/x-python",
   "name": "python",
   "nbconvert_exporter": "python",
   "pygments_lexer": "ipython3",
   "version": "3.5.4"
  }
 },
 "nbformat": 4,
 "nbformat_minor": 1
}