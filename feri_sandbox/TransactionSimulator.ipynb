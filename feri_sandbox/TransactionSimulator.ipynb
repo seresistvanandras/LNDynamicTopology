{
 "cells": [
  {
   "cell_type": "code",
   "execution_count": 1,
   "metadata": {
    "collapsed": true
   },
   "outputs": [],
   "source": [
    "import pandas as pd\n",
    "import numpy as np\n",
    "import networkx as nx"
   ]
  },
  {
   "cell_type": "code",
   "execution_count": 2,
   "metadata": {
    "collapsed": true
   },
   "outputs": [],
   "source": [
    "%matplotlib inline\n",
    "import matplotlib.pyplot as plt"
   ]
  },
  {
   "cell_type": "markdown",
   "metadata": {},
   "source": [
    "# Load parameters"
   ]
  },
  {
   "cell_type": "markdown",
   "metadata": {
    "collapsed": true
   },
   "source": [
    "import sys\n",
    "from datawand.parametrization import ParamHelper"
   ]
  },
  {
   "cell_type": "markdown",
   "metadata": {},
   "source": [
    "ph = ParamHelper('..', 'LNGraph', sys.argv)"
   ]
  },
  {
   "cell_type": "markdown",
   "metadata": {
    "collapsed": true
   },
   "source": [
    "# Data"
   ]
  },
  {
   "cell_type": "code",
   "execution_count": 3,
   "metadata": {
    "collapsed": true
   },
   "outputs": [],
   "source": [
    "snapshots = pd.read_csv(\"/mnt/idms/fberes/data/bitcoin_ln_research/directed_temporal_edges.csv\")"
   ]
  },
  {
   "cell_type": "code",
   "execution_count": 4,
   "metadata": {
    "collapsed": true
   },
   "outputs": [],
   "source": [
    "node_meta = pd.read_csv(\"/mnt/idms/fberes/data/bitcoin_ln_research/node_meta_with_labels.csv\")"
   ]
  },
  {
   "cell_type": "code",
   "execution_count": 5,
   "metadata": {},
   "outputs": [
    {
     "data": {
      "text/plain": [
       "181"
      ]
     },
     "execution_count": 5,
     "metadata": {},
     "output_type": "execute_result"
    }
   ],
   "source": [
    "providers = list(node_meta[\"pub_key\"])\n",
    "len(providers)"
   ]
  },
  {
   "cell_type": "code",
   "execution_count": 6,
   "metadata": {},
   "outputs": [
    {
     "data": {
      "text/html": [
       "<div>\n",
       "<style scoped>\n",
       "    .dataframe tbody tr th:only-of-type {\n",
       "        vertical-align: middle;\n",
       "    }\n",
       "\n",
       "    .dataframe tbody tr th {\n",
       "        vertical-align: top;\n",
       "    }\n",
       "\n",
       "    .dataframe thead th {\n",
       "        text-align: right;\n",
       "    }\n",
       "</style>\n",
       "<table border=\"1\" class=\"dataframe\">\n",
       "  <thead>\n",
       "    <tr style=\"text-align: right;\">\n",
       "      <th></th>\n",
       "      <th>src</th>\n",
       "      <th>trg</th>\n",
       "      <th>snapshot_id</th>\n",
       "      <th>num_channels</th>\n",
       "      <th>capacity</th>\n",
       "      <th>fee_base_msat</th>\n",
       "      <th>fee_rate_milli_msat</th>\n",
       "    </tr>\n",
       "  </thead>\n",
       "  <tbody>\n",
       "    <tr>\n",
       "      <th>0</th>\n",
       "      <td>0200072fd301cb4a680f26d87c28b705ccd6a1d5b00f1b...</td>\n",
       "      <td>02004c625d622245606a1ea2c1c69cfb4516b703b47945...</td>\n",
       "      <td>7</td>\n",
       "      <td>1</td>\n",
       "      <td>1000000</td>\n",
       "      <td>1000.0</td>\n",
       "      <td>1.0</td>\n",
       "    </tr>\n",
       "    <tr>\n",
       "      <th>1</th>\n",
       "      <td>0200072fd301cb4a680f26d87c28b705ccd6a1d5b00f1b...</td>\n",
       "      <td>0202497639162bf2b608152aa2659c4dbd25bb0d3fbd5c...</td>\n",
       "      <td>4</td>\n",
       "      <td>1</td>\n",
       "      <td>500000</td>\n",
       "      <td>1000.0</td>\n",
       "      <td>1.0</td>\n",
       "    </tr>\n",
       "    <tr>\n",
       "      <th>2</th>\n",
       "      <td>0200072fd301cb4a680f26d87c28b705ccd6a1d5b00f1b...</td>\n",
       "      <td>0202497639162bf2b608152aa2659c4dbd25bb0d3fbd5c...</td>\n",
       "      <td>5</td>\n",
       "      <td>1</td>\n",
       "      <td>500000</td>\n",
       "      <td>1000.0</td>\n",
       "      <td>1.0</td>\n",
       "    </tr>\n",
       "    <tr>\n",
       "      <th>3</th>\n",
       "      <td>0200072fd301cb4a680f26d87c28b705ccd6a1d5b00f1b...</td>\n",
       "      <td>0202497639162bf2b608152aa2659c4dbd25bb0d3fbd5c...</td>\n",
       "      <td>6</td>\n",
       "      <td>1</td>\n",
       "      <td>500000</td>\n",
       "      <td>1000.0</td>\n",
       "      <td>1.0</td>\n",
       "    </tr>\n",
       "    <tr>\n",
       "      <th>4</th>\n",
       "      <td>0200072fd301cb4a680f26d87c28b705ccd6a1d5b00f1b...</td>\n",
       "      <td>0202497639162bf2b608152aa2659c4dbd25bb0d3fbd5c...</td>\n",
       "      <td>7</td>\n",
       "      <td>1</td>\n",
       "      <td>500000</td>\n",
       "      <td>1000.0</td>\n",
       "      <td>1.0</td>\n",
       "    </tr>\n",
       "  </tbody>\n",
       "</table>\n",
       "</div>"
      ],
      "text/plain": [
       "                                                 src  \\\n",
       "0  0200072fd301cb4a680f26d87c28b705ccd6a1d5b00f1b...   \n",
       "1  0200072fd301cb4a680f26d87c28b705ccd6a1d5b00f1b...   \n",
       "2  0200072fd301cb4a680f26d87c28b705ccd6a1d5b00f1b...   \n",
       "3  0200072fd301cb4a680f26d87c28b705ccd6a1d5b00f1b...   \n",
       "4  0200072fd301cb4a680f26d87c28b705ccd6a1d5b00f1b...   \n",
       "\n",
       "                                                 trg  snapshot_id  \\\n",
       "0  02004c625d622245606a1ea2c1c69cfb4516b703b47945...            7   \n",
       "1  0202497639162bf2b608152aa2659c4dbd25bb0d3fbd5c...            4   \n",
       "2  0202497639162bf2b608152aa2659c4dbd25bb0d3fbd5c...            5   \n",
       "3  0202497639162bf2b608152aa2659c4dbd25bb0d3fbd5c...            6   \n",
       "4  0202497639162bf2b608152aa2659c4dbd25bb0d3fbd5c...            7   \n",
       "\n",
       "   num_channels  capacity  fee_base_msat  fee_rate_milli_msat  \n",
       "0             1   1000000         1000.0                  1.0  \n",
       "1             1    500000         1000.0                  1.0  \n",
       "2             1    500000         1000.0                  1.0  \n",
       "3             1    500000         1000.0                  1.0  \n",
       "4             1    500000         1000.0                  1.0  "
      ]
     },
     "execution_count": 6,
     "metadata": {},
     "output_type": "execute_result"
    }
   ],
   "source": [
    "snapshots.head()"
   ]
  },
  {
   "cell_type": "code",
   "execution_count": 7,
   "metadata": {
    "collapsed": true
   },
   "outputs": [],
   "source": [
    "edges = snapshots[snapshots[\"snapshot_id\"]==0]"
   ]
  },
  {
   "cell_type": "code",
   "execution_count": 8,
   "metadata": {},
   "outputs": [
    {
     "data": {
      "text/plain": [
       "(41818, 7)"
      ]
     },
     "execution_count": 8,
     "metadata": {},
     "output_type": "execute_result"
    }
   ],
   "source": [
    "edges.shape"
   ]
  },
  {
   "cell_type": "markdown",
   "metadata": {},
   "source": [
    "# Graph and paths"
   ]
  },
  {
   "cell_type": "code",
   "execution_count": 9,
   "metadata": {
    "collapsed": true
   },
   "outputs": [],
   "source": [
    "G = nx.from_pandas_dataframe(edges, source=\"src\", target=\"trg\", edge_attr=[\"capacity\",\"fee_base_msat\",\"fee_rate_milli_msat\"])"
   ]
  },
  {
   "cell_type": "code",
   "execution_count": 10,
   "metadata": {},
   "outputs": [
    {
     "data": {
      "text/plain": [
       "(2844, 20909)"
      ]
     },
     "execution_count": 10,
     "metadata": {},
     "output_type": "execute_result"
    }
   ],
   "source": [
    "G.number_of_nodes(), G.number_of_edges()"
   ]
  },
  {
   "cell_type": "code",
   "execution_count": 11,
   "metadata": {},
   "outputs": [
    {
     "data": {
      "text/plain": [
       "135"
      ]
     },
     "execution_count": 11,
     "metadata": {},
     "output_type": "execute_result"
    }
   ],
   "source": [
    "common_providers = list(set(providers).intersection(set(G.nodes())))\n",
    "len(common_providers)"
   ]
  },
  {
   "cell_type": "code",
   "execution_count": 12,
   "metadata": {
    "collapsed": true
   },
   "outputs": [],
   "source": [
    "def get_src_proba(df, alpha):\n",
    "    df[\"src_proba\"] = alpha / (alpha + df[\"degree\"])\n",
    "    df[\"src_proba\"] = df[\"src_proba\"] / df[\"src_proba\"].sum()\n",
    "    \n",
    "def get_trg_proba(df, eps, providers):\n",
    "    df[\"trg_proba\"] = eps + (1.0 - eps) * df.apply(lambda x: x[\"degree\"] if x[\"pub_key\"] in providers else 0.0, axis=1)\n",
    "    df[\"trg_proba\"] = df[\"trg_proba\"] / df[\"trg_proba\"].sum()\n",
    "    \n",
    "def init_node_params(G, providers, eps, alpha=None):\n",
    "    node_variables = pd.DataFrame(list(G.degree()), columns=[\"pub_key\",\"degree\"])\n",
    "    if alpha == None:\n",
    "        alpha = node_variables[\"degree\"].mean()\n",
    "    get_src_proba(node_variables, alpha)\n",
    "    get_trg_proba(node_variables, eps, providers)\n",
    "    #print((node_variables < 0).value_counts())\n",
    "    return node_variables"
   ]
  },
  {
   "cell_type": "code",
   "execution_count": 13,
   "metadata": {},
   "outputs": [],
   "source": [
    "node_variables = init_node_params(G, common_providers, 0.05, 2.0)"
   ]
  },
  {
   "cell_type": "code",
   "execution_count": 14,
   "metadata": {},
   "outputs": [
    {
     "data": {
      "text/html": [
       "<div>\n",
       "<style scoped>\n",
       "    .dataframe tbody tr th:only-of-type {\n",
       "        vertical-align: middle;\n",
       "    }\n",
       "\n",
       "    .dataframe tbody tr th {\n",
       "        vertical-align: top;\n",
       "    }\n",
       "\n",
       "    .dataframe thead th {\n",
       "        text-align: right;\n",
       "    }\n",
       "</style>\n",
       "<table border=\"1\" class=\"dataframe\">\n",
       "  <thead>\n",
       "    <tr style=\"text-align: right;\">\n",
       "      <th></th>\n",
       "      <th>pub_key</th>\n",
       "      <th>degree</th>\n",
       "      <th>src_proba</th>\n",
       "      <th>trg_proba</th>\n",
       "    </tr>\n",
       "  </thead>\n",
       "  <tbody>\n",
       "    <tr>\n",
       "      <th>0</th>\n",
       "      <td>037603400ad316f1711a629629bb4528817c325f058497...</td>\n",
       "      <td>3</td>\n",
       "      <td>0.000406</td>\n",
       "      <td>0.000008</td>\n",
       "    </tr>\n",
       "    <tr>\n",
       "      <th>1</th>\n",
       "      <td>0319fec13dcb6df5b6a0cee49e85b4f6c48e5387d62d67...</td>\n",
       "      <td>27</td>\n",
       "      <td>0.000070</td>\n",
       "      <td>0.000008</td>\n",
       "    </tr>\n",
       "    <tr>\n",
       "      <th>2</th>\n",
       "      <td>039401f72bc0d40efb58b01de15527a2a5ae1943d7c290...</td>\n",
       "      <td>14</td>\n",
       "      <td>0.000127</td>\n",
       "      <td>0.000008</td>\n",
       "    </tr>\n",
       "    <tr>\n",
       "      <th>3</th>\n",
       "      <td>0319b565f91688b1efb9f8d43ea2b043ee781292a2737f...</td>\n",
       "      <td>3</td>\n",
       "      <td>0.000406</td>\n",
       "      <td>0.000008</td>\n",
       "    </tr>\n",
       "    <tr>\n",
       "      <th>4</th>\n",
       "      <td>035bb2749325deda9b1f6b3b1b6ae6ba1b8b629d3a219d...</td>\n",
       "      <td>2</td>\n",
       "      <td>0.000508</td>\n",
       "      <td>0.000008</td>\n",
       "    </tr>\n",
       "  </tbody>\n",
       "</table>\n",
       "</div>"
      ],
      "text/plain": [
       "                                             pub_key  degree  src_proba  \\\n",
       "0  037603400ad316f1711a629629bb4528817c325f058497...       3   0.000406   \n",
       "1  0319fec13dcb6df5b6a0cee49e85b4f6c48e5387d62d67...      27   0.000070   \n",
       "2  039401f72bc0d40efb58b01de15527a2a5ae1943d7c290...      14   0.000127   \n",
       "3  0319b565f91688b1efb9f8d43ea2b043ee781292a2737f...       3   0.000406   \n",
       "4  035bb2749325deda9b1f6b3b1b6ae6ba1b8b629d3a219d...       2   0.000508   \n",
       "\n",
       "   trg_proba  \n",
       "0   0.000008  \n",
       "1   0.000008  \n",
       "2   0.000008  \n",
       "3   0.000008  \n",
       "4   0.000008  "
      ]
     },
     "execution_count": 14,
     "metadata": {},
     "output_type": "execute_result"
    }
   ],
   "source": [
    "node_variables.head()"
   ]
  },
  {
   "cell_type": "markdown",
   "metadata": {},
   "source": [
    "## i.) Sample transactions + Cost calculation for shortest paths"
   ]
  },
  {
   "cell_type": "code",
   "execution_count": 15,
   "metadata": {},
   "outputs": [],
   "source": [
    "def sample_transactions(node_variables, K=1000):\n",
    "    nodes = list(node_variables[\"pub_key\"])\n",
    "    src_selected = np.random.choice(nodes, size=K, replace=True, p=list(node_variables[\"src_proba\"]))\n",
    "    trg_selected = np.random.choice(nodes, size=K, replace=True, p=list(node_variables[\"trg_proba\"]))\n",
    "    transactions = pd.DataFrame(list(zip(src_selected, trg_selected)), columns=[\"source\",\"target\"])\n",
    "    transactions[\"amount\"] = 1\n",
    "    transactions[\"transaction_id\"] = transactions.index\n",
    "    transactions = transactions[transactions[\"source\"] != transactions[\"target\"]]\n",
    "    print(K, len(transactions))\n",
    "    return transactions[[\"transaction_id\",\"source\",\"target\",\"amount\"]]\n",
    "\n",
    "def get_shortest_paths(G, transactions, edges, hash_transactions=True, cost_prefix=\"\", weight=None):\n",
    "    keys = list(zip(edges[\"src\"], edges[\"trg\"]))\n",
    "    vals = list(zip(edges[\"fee_base_msat\"], edges[\"fee_rate_milli_msat\"]))\n",
    "    cost_dict = dict(zip(keys,vals))\n",
    "    shortest_paths = []\n",
    "    hashed_transactions = {}\n",
    "    for idx, row in transactions.iterrows():\n",
    "        try:\n",
    "            p = nx.shortest_path(G, source=row[\"source\"], target=row[\"target\"], weight=weight)\n",
    "            cost, routers = process_path(p, row[\"amount\"]*10**8, cost_dict)\n",
    "            if hash_transactions:\n",
    "                for router in routers:\n",
    "                    if not router in hashed_transactions:\n",
    "                        hashed_transactions[router] = []\n",
    "                    hashed_transactions[router].append(row)\n",
    "        except:\n",
    "            p = []\n",
    "            cost = None\n",
    "        finally:\n",
    "            shortest_paths.append((row[\"transaction_id\"], cost, len(p)-1, p))\n",
    "    if hash_transactions:\n",
    "        for node in hashed_transactions:\n",
    "            hashed_transactions[node] = pd.DataFrame(hashed_transactions[node], columns=transactions.columns)\n",
    "    return pd.DataFrame(shortest_paths, columns=[\"transaction_id\", cost_prefix+\"cost\", \"length\", \"path\"]), hashed_transactions\n",
    "\n",
    "def process_path(path, amount_in_satoshi, cost_dict):\n",
    "    base_sum, rate_sum = 0.0, 0.0\n",
    "    routers = []\n",
    "    for i in range(len(path)-2):\n",
    "        n1, n2 = path[i], path[i+1]\n",
    "        new_base, new_rate = cost_dict[(n1,n2)]\n",
    "        base_sum += new_base\n",
    "        rate_sum += new_rate\n",
    "        routers.append(n2)\n",
    "    return base_sum + amount_in_satoshi * rate_sum / 10**6, routers"
   ]
  },
  {
   "cell_type": "code",
   "execution_count": 16,
   "metadata": {},
   "outputs": [
    {
     "name": "stdout",
     "output_type": "stream",
     "text": [
      "100 100\n"
     ]
    }
   ],
   "source": [
    "transactions = sample_transactions(node_variables, 100)"
   ]
  },
  {
   "cell_type": "code",
   "execution_count": 17,
   "metadata": {},
   "outputs": [
    {
     "data": {
      "text/html": [
       "<div>\n",
       "<style scoped>\n",
       "    .dataframe tbody tr th:only-of-type {\n",
       "        vertical-align: middle;\n",
       "    }\n",
       "\n",
       "    .dataframe tbody tr th {\n",
       "        vertical-align: top;\n",
       "    }\n",
       "\n",
       "    .dataframe thead th {\n",
       "        text-align: right;\n",
       "    }\n",
       "</style>\n",
       "<table border=\"1\" class=\"dataframe\">\n",
       "  <thead>\n",
       "    <tr style=\"text-align: right;\">\n",
       "      <th></th>\n",
       "      <th>transaction_id</th>\n",
       "      <th>source</th>\n",
       "      <th>target</th>\n",
       "      <th>amount</th>\n",
       "    </tr>\n",
       "  </thead>\n",
       "  <tbody>\n",
       "    <tr>\n",
       "      <th>0</th>\n",
       "      <td>0</td>\n",
       "      <td>0366b4925b67feb6993e2cc735e0efb48dfe9a011e94b0...</td>\n",
       "      <td>032cc4541b25e86e39a7d450a979c1a9adbe2878df3a93...</td>\n",
       "      <td>1</td>\n",
       "    </tr>\n",
       "    <tr>\n",
       "      <th>1</th>\n",
       "      <td>1</td>\n",
       "      <td>02cc596b75792d51b6b14fa0b3bb78d7b8f0228e7d24c2...</td>\n",
       "      <td>02725e5abcbf5550fc29e6b19706a1377f25d2b1502684...</td>\n",
       "      <td>1</td>\n",
       "    </tr>\n",
       "    <tr>\n",
       "      <th>2</th>\n",
       "      <td>2</td>\n",
       "      <td>03f04acfa512501935bfa73694e463b1c60132956aedbc...</td>\n",
       "      <td>02b2012cb48304468627c689917397805b571f4e72d46d...</td>\n",
       "      <td>1</td>\n",
       "    </tr>\n",
       "    <tr>\n",
       "      <th>3</th>\n",
       "      <td>3</td>\n",
       "      <td>03d1af91da3c0cad7d3501b2031db9bd80628e9e829f5d...</td>\n",
       "      <td>021607cfce19a4c5e7e6e738663dfafbbbac262e4ff76c...</td>\n",
       "      <td>1</td>\n",
       "    </tr>\n",
       "    <tr>\n",
       "      <th>4</th>\n",
       "      <td>4</td>\n",
       "      <td>0276c75a02783c575c3661c9cba6287e7818f5338a5df9...</td>\n",
       "      <td>02e7c42ae2952d7a71398e23535b53ffc60deb269acbc7...</td>\n",
       "      <td>1</td>\n",
       "    </tr>\n",
       "  </tbody>\n",
       "</table>\n",
       "</div>"
      ],
      "text/plain": [
       "   transaction_id                                             source  \\\n",
       "0               0  0366b4925b67feb6993e2cc735e0efb48dfe9a011e94b0...   \n",
       "1               1  02cc596b75792d51b6b14fa0b3bb78d7b8f0228e7d24c2...   \n",
       "2               2  03f04acfa512501935bfa73694e463b1c60132956aedbc...   \n",
       "3               3  03d1af91da3c0cad7d3501b2031db9bd80628e9e829f5d...   \n",
       "4               4  0276c75a02783c575c3661c9cba6287e7818f5338a5df9...   \n",
       "\n",
       "                                              target  amount  \n",
       "0  032cc4541b25e86e39a7d450a979c1a9adbe2878df3a93...       1  \n",
       "1  02725e5abcbf5550fc29e6b19706a1377f25d2b1502684...       1  \n",
       "2  02b2012cb48304468627c689917397805b571f4e72d46d...       1  \n",
       "3  021607cfce19a4c5e7e6e738663dfafbbbac262e4ff76c...       1  \n",
       "4  02e7c42ae2952d7a71398e23535b53ffc60deb269acbc7...       1  "
      ]
     },
     "execution_count": 17,
     "metadata": {},
     "output_type": "execute_result"
    }
   ],
   "source": [
    "transactions.head()"
   ]
  },
  {
   "cell_type": "markdown",
   "metadata": {},
   "source": [
    "transactions[\"source\"].value_counts()[:10]"
   ]
  },
  {
   "cell_type": "code",
   "execution_count": 18,
   "metadata": {},
   "outputs": [
    {
     "data": {
      "text/plain": [
       "<matplotlib.axes._subplots.AxesSubplot at 0x7f9be2fa1c50>"
      ]
     },
     "execution_count": 18,
     "metadata": {},
     "output_type": "execute_result"
    },
    {
     "data": {
      "image/png": "[encoded data removed]",
      "text/plain": [
       "<matplotlib.figure.Figure at 0x7f9be2fa1898>"
      ]
     },
     "metadata": {},
     "output_type": "display_data"
    }
   ],
   "source": [
    "transactions[\"source\"].value_counts().hist()"
   ]
  },
  {
   "cell_type": "markdown",
   "metadata": {},
   "source": [
    "transactions[\"target\"].value_counts()[:10]"
   ]
  },
  {
   "cell_type": "code",
   "execution_count": 19,
   "metadata": {},
   "outputs": [
    {
     "data": {
      "text/plain": [
       "<matplotlib.axes._subplots.AxesSubplot at 0x7f9bdc5289e8>"
      ]
     },
     "execution_count": 19,
     "metadata": {},
     "output_type": "execute_result"
    },
    {
     "data": {
      "image/png": "[encoded data removed]",
      "text/plain": [
       "<matplotlib.figure.Figure at 0x7f9bdc56d400>"
      ]
     },
     "metadata": {},
     "output_type": "display_data"
    }
   ],
   "source": [
    "transactions[\"target\"].value_counts().hist(bins=50)"
   ]
  },
  {
   "cell_type": "code",
   "execution_count": 20,
   "metadata": {},
   "outputs": [
    {
     "name": "stdout",
     "output_type": "stream",
     "text": [
      "CPU times: user 170 ms, sys: 5 ms, total: 175 ms\n",
      "Wall time: 173 ms\n"
     ]
    }
   ],
   "source": [
    "%%time\n",
    "shortest_paths, hashed_transactions = get_shortest_paths(G, transactions, edges, cost_prefix=\"original_\")"
   ]
  },
  {
   "cell_type": "code",
   "execution_count": 21,
   "metadata": {},
   "outputs": [
    {
     "data": {
      "text/plain": [
       "72"
      ]
     },
     "execution_count": 21,
     "metadata": {},
     "output_type": "execute_result"
    }
   ],
   "source": [
    "len(hashed_transactions)"
   ]
  },
  {
   "cell_type": "code",
   "execution_count": 22,
   "metadata": {},
   "outputs": [
    {
     "data": {
      "text/html": [
       "<div>\n",
       "<style scoped>\n",
       "    .dataframe tbody tr th:only-of-type {\n",
       "        vertical-align: middle;\n",
       "    }\n",
       "\n",
       "    .dataframe tbody tr th {\n",
       "        vertical-align: top;\n",
       "    }\n",
       "\n",
       "    .dataframe thead th {\n",
       "        text-align: right;\n",
       "    }\n",
       "</style>\n",
       "<table border=\"1\" class=\"dataframe\">\n",
       "  <thead>\n",
       "    <tr style=\"text-align: right;\">\n",
       "      <th></th>\n",
       "      <th>transaction_id</th>\n",
       "      <th>original_cost</th>\n",
       "      <th>length</th>\n",
       "      <th>path</th>\n",
       "    </tr>\n",
       "  </thead>\n",
       "  <tbody>\n",
       "    <tr>\n",
       "      <th>0</th>\n",
       "      <td>0</td>\n",
       "      <td>11000.0</td>\n",
       "      <td>2</td>\n",
       "      <td>[0366b4925b67feb6993e2cc735e0efb48dfe9a011e94b...</td>\n",
       "    </tr>\n",
       "    <tr>\n",
       "      <th>1</th>\n",
       "      <td>1</td>\n",
       "      <td>100000.0</td>\n",
       "      <td>2</td>\n",
       "      <td>[02cc596b75792d51b6b14fa0b3bb78d7b8f0228e7d24c...</td>\n",
       "    </tr>\n",
       "    <tr>\n",
       "      <th>2</th>\n",
       "      <td>2</td>\n",
       "      <td>51600.0</td>\n",
       "      <td>3</td>\n",
       "      <td>[03f04acfa512501935bfa73694e463b1c60132956aedb...</td>\n",
       "    </tr>\n",
       "    <tr>\n",
       "      <th>3</th>\n",
       "      <td>3</td>\n",
       "      <td>11000.0</td>\n",
       "      <td>2</td>\n",
       "      <td>[03d1af91da3c0cad7d3501b2031db9bd80628e9e829f5...</td>\n",
       "    </tr>\n",
       "    <tr>\n",
       "      <th>4</th>\n",
       "      <td>4</td>\n",
       "      <td>1100.0</td>\n",
       "      <td>2</td>\n",
       "      <td>[0276c75a02783c575c3661c9cba6287e7818f5338a5df...</td>\n",
       "    </tr>\n",
       "  </tbody>\n",
       "</table>\n",
       "</div>"
      ],
      "text/plain": [
       "   transaction_id  original_cost  length  \\\n",
       "0               0        11000.0       2   \n",
       "1               1       100000.0       2   \n",
       "2               2        51600.0       3   \n",
       "3               3        11000.0       2   \n",
       "4               4         1100.0       2   \n",
       "\n",
       "                                                path  \n",
       "0  [0366b4925b67feb6993e2cc735e0efb48dfe9a011e94b...  \n",
       "1  [02cc596b75792d51b6b14fa0b3bb78d7b8f0228e7d24c...  \n",
       "2  [03f04acfa512501935bfa73694e463b1c60132956aedb...  \n",
       "3  [03d1af91da3c0cad7d3501b2031db9bd80628e9e829f5...  \n",
       "4  [0276c75a02783c575c3661c9cba6287e7818f5338a5df...  "
      ]
     },
     "execution_count": 22,
     "metadata": {},
     "output_type": "execute_result"
    }
   ],
   "source": [
    "shortest_paths.head()"
   ]
  },
  {
   "cell_type": "markdown",
   "metadata": {},
   "source": [
    "### TODO: PARALLELIZE!!!"
   ]
  },
  {
   "cell_type": "code",
   "execution_count": 23,
   "metadata": {
    "collapsed": true
   },
   "outputs": [],
   "source": [
    "def get_shortest_paths_with_node_removals(G, hashed_transactions, edges, cost_prefix=\"\", weight=None):\n",
    "    bin_sizes = []\n",
    "    alternative_paths = []\n",
    "    for node, bucket_transactions in hashed_transactions.items():\n",
    "        bin_sizes.append(len(bucket_transactions))\n",
    "        H = G.copy()\n",
    "        H.remove_node(node)\n",
    "        new_paths, _ = get_shortest_paths(H, bucket_transactions, edges, hash_transactions=False, cost_prefix=cost_prefix, weight=weight)\n",
    "        new_paths[\"removed_node\"] = node\n",
    "        alternative_paths.append(new_paths)\n",
    "    return pd.concat(alternative_paths), bin_sizes"
   ]
  },
  {
   "cell_type": "code",
   "execution_count": 24,
   "metadata": {
    "scrolled": true
   },
   "outputs": [
    {
     "data": {
      "text/plain": [
       "2    57\n",
       "3    41\n",
       "4     1\n",
       "1     1\n",
       "Name: length, dtype: int64"
      ]
     },
     "execution_count": 24,
     "metadata": {},
     "output_type": "execute_result"
    }
   ],
   "source": [
    "shortest_paths[\"length\"].value_counts()"
   ]
  },
  {
   "cell_type": "code",
   "execution_count": 25,
   "metadata": {},
   "outputs": [
    {
     "name": "stdout",
     "output_type": "stream",
     "text": [
      "CPU times: user 18.2 s, sys: 91 ms, total: 18.3 s\n",
      "Wall time: 18.3 s\n"
     ]
    }
   ],
   "source": [
    "%%time\n",
    "alternative_paths, bin_sizes = get_shortest_paths_with_node_removals(G, hashed_transactions, edges)"
   ]
  },
  {
   "cell_type": "code",
   "execution_count": 26,
   "metadata": {},
   "outputs": [
    {
     "data": {
      "image/png": "[encoded data removed]",
      "text/plain": [
       "<matplotlib.figure.Figure at 0x7f9bdc4ea6d8>"
      ]
     },
     "metadata": {},
     "output_type": "display_data"
    }
   ],
   "source": [
    "plt.hist(bin_sizes, bins=50)\n",
    "plt.show()"
   ]
  },
  {
   "cell_type": "code",
   "execution_count": 27,
   "metadata": {},
   "outputs": [
    {
     "data": {
      "text/html": [
       "<div>\n",
       "<style scoped>\n",
       "    .dataframe tbody tr th:only-of-type {\n",
       "        vertical-align: middle;\n",
       "    }\n",
       "\n",
       "    .dataframe tbody tr th {\n",
       "        vertical-align: top;\n",
       "    }\n",
       "\n",
       "    .dataframe thead th {\n",
       "        text-align: right;\n",
       "    }\n",
       "</style>\n",
       "<table border=\"1\" class=\"dataframe\">\n",
       "  <thead>\n",
       "    <tr style=\"text-align: right;\">\n",
       "      <th></th>\n",
       "      <th>transaction_id</th>\n",
       "      <th>cost</th>\n",
       "      <th>length</th>\n",
       "      <th>path</th>\n",
       "      <th>removed_node</th>\n",
       "    </tr>\n",
       "  </thead>\n",
       "  <tbody>\n",
       "    <tr>\n",
       "      <th>0</th>\n",
       "      <td>60</td>\n",
       "      <td>52500</td>\n",
       "      <td>3</td>\n",
       "      <td>[032c8060fc2b045b1bec6aa7b69b50c62740d5abd974e...</td>\n",
       "      <td>03ebba42db1a05cff6cc69ed28924fe4bf4731995a43fd...</td>\n",
       "    </tr>\n",
       "    <tr>\n",
       "      <th>0</th>\n",
       "      <td>19</td>\n",
       "      <td>51600</td>\n",
       "      <td>3</td>\n",
       "      <td>[038a508c73c189c3a06816043f8554cb940832ef160e6...</td>\n",
       "      <td>0230ec892d3951194fa3d3394965277c713b1b6f9fcb2a...</td>\n",
       "    </tr>\n",
       "    <tr>\n",
       "      <th>1</th>\n",
       "      <td>88</td>\n",
       "      <td>51600</td>\n",
       "      <td>3</td>\n",
       "      <td>[02e5cad08f3d62a4db973be8603e77826ff97aa10d1f4...</td>\n",
       "      <td>0230ec892d3951194fa3d3394965277c713b1b6f9fcb2a...</td>\n",
       "    </tr>\n",
       "    <tr>\n",
       "      <th>0</th>\n",
       "      <td>74</td>\n",
       "      <td>2200</td>\n",
       "      <td>3</td>\n",
       "      <td>[03e26ff2a9df7795cfdd0693a605fe162e93d8f3c9a5d...</td>\n",
       "      <td>03f38829a9b9131e3a0887ca21fd042f2d07bd7f151fff...</td>\n",
       "    </tr>\n",
       "    <tr>\n",
       "      <th>0</th>\n",
       "      <td>83</td>\n",
       "      <td>2200</td>\n",
       "      <td>3</td>\n",
       "      <td>[0371298f688c33cecd4ccd3d008a32ec750124088945c...</td>\n",
       "      <td>03321fab5e3db6c378e23e9cceb522325dc4f6b0c68819...</td>\n",
       "    </tr>\n",
       "  </tbody>\n",
       "</table>\n",
       "</div>"
      ],
      "text/plain": [
       "   transaction_id   cost  length  \\\n",
       "0              60  52500       3   \n",
       "0              19  51600       3   \n",
       "1              88  51600       3   \n",
       "0              74   2200       3   \n",
       "0              83   2200       3   \n",
       "\n",
       "                                                path  \\\n",
       "0  [032c8060fc2b045b1bec6aa7b69b50c62740d5abd974e...   \n",
       "0  [038a508c73c189c3a06816043f8554cb940832ef160e6...   \n",
       "1  [02e5cad08f3d62a4db973be8603e77826ff97aa10d1f4...   \n",
       "0  [03e26ff2a9df7795cfdd0693a605fe162e93d8f3c9a5d...   \n",
       "0  [0371298f688c33cecd4ccd3d008a32ec750124088945c...   \n",
       "\n",
       "                                        removed_node  \n",
       "0  03ebba42db1a05cff6cc69ed28924fe4bf4731995a43fd...  \n",
       "0  0230ec892d3951194fa3d3394965277c713b1b6f9fcb2a...  \n",
       "1  0230ec892d3951194fa3d3394965277c713b1b6f9fcb2a...  \n",
       "0  03f38829a9b9131e3a0887ca21fd042f2d07bd7f151fff...  \n",
       "0  03321fab5e3db6c378e23e9cceb522325dc4f6b0c68819...  "
      ]
     },
     "execution_count": 27,
     "metadata": {},
     "output_type": "execute_result"
    }
   ],
   "source": [
    "alternative_paths.head()"
   ]
  },
  {
   "cell_type": "code",
   "execution_count": 28,
   "metadata": {},
   "outputs": [
    {
     "data": {
      "text/plain": [
       " 3    70\n",
       "-1    41\n",
       " 2    23\n",
       " 4     8\n",
       "Name: length, dtype: int64"
      ]
     },
     "execution_count": 28,
     "metadata": {},
     "output_type": "execute_result"
    }
   ],
   "source": [
    "alternative_paths[\"length\"].value_counts()"
   ]
  },
  {
   "cell_type": "code",
   "execution_count": 29,
   "metadata": {},
   "outputs": [
    {
     "data": {
      "text/plain": [
       "4"
      ]
     },
     "execution_count": 29,
     "metadata": {},
     "output_type": "execute_result"
    }
   ],
   "source": [
    "alternative_paths[\"length\"].max()"
   ]
  },
  {
   "cell_type": "code",
   "execution_count": 30,
   "metadata": {},
   "outputs": [
    {
     "data": {
      "text/plain": [
       "4"
      ]
     },
     "execution_count": 30,
     "metadata": {},
     "output_type": "execute_result"
    }
   ],
   "source": [
    "shortest_paths[\"length\"].max()"
   ]
  },
  {
   "cell_type": "code",
   "execution_count": 31,
   "metadata": {
    "collapsed": true
   },
   "outputs": [],
   "source": [
    "def calculate_node_influence(shortest_paths, alternative_paths, disruption_cost=None):\n",
    "    s_paths = shortest_paths.copy().drop(\"path\", axis=1)\n",
    "    a_paths = alternative_paths.copy().drop(\"path\", axis=1)\n",
    "    if disruption_cost != None:\n",
    "        a_paths[\"cost\"] = a_paths[\"cost\"].fillna(disruption_cost)\n",
    "        a_paths[\"length\"] = a_paths[\"length\"].fillna(a_paths[\"length\"].max())\n",
    "    valid_routing = a_paths[~a_paths[\"cost\"].isnull()]\n",
    "    routing_diff = valid_routing.merge(s_paths, on=\"transaction_id\", how=\"left\", suffixes=(\"\",\"_original\"))\n",
    "    routing_diff[\"cost_diff\"] = routing_diff[\"cost\"] - routing_diff[\"original_cost\"]\n",
    "    routing_diff[\"length_diff\"] = routing_diff[\"length\"] - routing_diff[\"length_original\"]\n",
    "    grouped = routing_diff.groupby(by=\"removed_node\")\n",
    "    node_sum_influence = grouped.aggregate({\"cost_diff\":\"sum\",\"length_diff\":\"sum\"}).reset_index()\n",
    "    node_mean_influence = grouped.aggregate({\"cost_diff\":\"mean\",\"length_diff\":\"mean\"}).reset_index()\n",
    "    return node_sum_influence.merge(node_mean_influence, on=\"removed_node\", suffixes=(\"_sum\",\"_mean\")), routing_diff"
   ]
  },
  {
   "cell_type": "code",
   "execution_count": 32,
   "metadata": {},
   "outputs": [],
   "source": [
    "node_influence, routing_differences = calculate_node_influence(shortest_paths, alternative_paths, disruption_cost=10**8)"
   ]
  },
  {
   "cell_type": "code",
   "execution_count": 33,
   "metadata": {},
   "outputs": [
    {
     "data": {
      "text/html": [
       "<div>\n",
       "<style scoped>\n",
       "    .dataframe tbody tr th:only-of-type {\n",
       "        vertical-align: middle;\n",
       "    }\n",
       "\n",
       "    .dataframe tbody tr th {\n",
       "        vertical-align: top;\n",
       "    }\n",
       "\n",
       "    .dataframe thead th {\n",
       "        text-align: right;\n",
       "    }\n",
       "</style>\n",
       "<table border=\"1\" class=\"dataframe\">\n",
       "  <thead>\n",
       "    <tr style=\"text-align: right;\">\n",
       "      <th></th>\n",
       "      <th>removed_node</th>\n",
       "      <th>cost_diff_sum</th>\n",
       "      <th>length_diff_sum</th>\n",
       "      <th>cost_diff_mean</th>\n",
       "      <th>length_diff_mean</th>\n",
       "    </tr>\n",
       "  </thead>\n",
       "  <tbody>\n",
       "    <tr>\n",
       "      <th>0</th>\n",
       "      <td>020327bbd6b7ebf577a041e24cbdc0b3ddb6ec4a2ec89e...</td>\n",
       "      <td>49300.0</td>\n",
       "      <td>0</td>\n",
       "      <td>49300.0</td>\n",
       "      <td>0.0</td>\n",
       "    </tr>\n",
       "    <tr>\n",
       "      <th>1</th>\n",
       "      <td>0205823109f3d6e1ac5f3e5ab41ab88bf463ffa7b59a81...</td>\n",
       "      <td>99948400.0</td>\n",
       "      <td>-4</td>\n",
       "      <td>99948400.0</td>\n",
       "      <td>-4.0</td>\n",
       "    </tr>\n",
       "    <tr>\n",
       "      <th>2</th>\n",
       "      <td>020d41c5a32f06d7addc7378f2d4a6596358d8716a3eb5...</td>\n",
       "      <td>53598.0</td>\n",
       "      <td>2</td>\n",
       "      <td>26799.0</td>\n",
       "      <td>1.0</td>\n",
       "    </tr>\n",
       "    <tr>\n",
       "      <th>3</th>\n",
       "      <td>021607cfce19a4c5e7e6e738663dfafbbbac262e4ff76c...</td>\n",
       "      <td>8011.0</td>\n",
       "      <td>0</td>\n",
       "      <td>8011.0</td>\n",
       "      <td>0.0</td>\n",
       "    </tr>\n",
       "    <tr>\n",
       "      <th>4</th>\n",
       "      <td>0217890e3aad8d35bc054f43acc00084b25229ecff0ab6...</td>\n",
       "      <td>100051600.0</td>\n",
       "      <td>0</td>\n",
       "      <td>25012900.0</td>\n",
       "      <td>0.0</td>\n",
       "    </tr>\n",
       "  </tbody>\n",
       "</table>\n",
       "</div>"
      ],
      "text/plain": [
       "                                        removed_node  cost_diff_sum  \\\n",
       "0  020327bbd6b7ebf577a041e24cbdc0b3ddb6ec4a2ec89e...        49300.0   \n",
       "1  0205823109f3d6e1ac5f3e5ab41ab88bf463ffa7b59a81...     99948400.0   \n",
       "2  020d41c5a32f06d7addc7378f2d4a6596358d8716a3eb5...        53598.0   \n",
       "3  021607cfce19a4c5e7e6e738663dfafbbbac262e4ff76c...         8011.0   \n",
       "4  0217890e3aad8d35bc054f43acc00084b25229ecff0ab6...    100051600.0   \n",
       "\n",
       "   length_diff_sum  cost_diff_mean  length_diff_mean  \n",
       "0                0         49300.0               0.0  \n",
       "1               -4      99948400.0              -4.0  \n",
       "2                2         26799.0               1.0  \n",
       "3                0          8011.0               0.0  \n",
       "4                0      25012900.0               0.0  "
      ]
     },
     "execution_count": 33,
     "metadata": {},
     "output_type": "execute_result"
    }
   ],
   "source": [
    "node_influence.head()"
   ]
  },
  {
   "cell_type": "code",
   "execution_count": 34,
   "metadata": {},
   "outputs": [
    {
     "data": {
      "text/html": [
       "<div>\n",
       "<style scoped>\n",
       "    .dataframe tbody tr th:only-of-type {\n",
       "        vertical-align: middle;\n",
       "    }\n",
       "\n",
       "    .dataframe tbody tr th {\n",
       "        vertical-align: top;\n",
       "    }\n",
       "\n",
       "    .dataframe thead th {\n",
       "        text-align: right;\n",
       "    }\n",
       "</style>\n",
       "<table border=\"1\" class=\"dataframe\">\n",
       "  <thead>\n",
       "    <tr style=\"text-align: right;\">\n",
       "      <th></th>\n",
       "      <th>transaction_id</th>\n",
       "      <th>cost</th>\n",
       "      <th>length</th>\n",
       "      <th>removed_node</th>\n",
       "      <th>original_cost</th>\n",
       "      <th>length_original</th>\n",
       "      <th>cost_diff</th>\n",
       "      <th>length_diff</th>\n",
       "    </tr>\n",
       "  </thead>\n",
       "  <tbody>\n",
       "    <tr>\n",
       "      <th>0</th>\n",
       "      <td>60</td>\n",
       "      <td>52500.0</td>\n",
       "      <td>3</td>\n",
       "      <td>03ebba42db1a05cff6cc69ed28924fe4bf4731995a43fd...</td>\n",
       "      <td>52500.0</td>\n",
       "      <td>3</td>\n",
       "      <td>0.0</td>\n",
       "      <td>0</td>\n",
       "    </tr>\n",
       "    <tr>\n",
       "      <th>1</th>\n",
       "      <td>19</td>\n",
       "      <td>51600.0</td>\n",
       "      <td>3</td>\n",
       "      <td>0230ec892d3951194fa3d3394965277c713b1b6f9fcb2a...</td>\n",
       "      <td>2200.0</td>\n",
       "      <td>3</td>\n",
       "      <td>49400.0</td>\n",
       "      <td>0</td>\n",
       "    </tr>\n",
       "    <tr>\n",
       "      <th>2</th>\n",
       "      <td>88</td>\n",
       "      <td>51600.0</td>\n",
       "      <td>3</td>\n",
       "      <td>0230ec892d3951194fa3d3394965277c713b1b6f9fcb2a...</td>\n",
       "      <td>2200.0</td>\n",
       "      <td>3</td>\n",
       "      <td>49400.0</td>\n",
       "      <td>0</td>\n",
       "    </tr>\n",
       "    <tr>\n",
       "      <th>3</th>\n",
       "      <td>74</td>\n",
       "      <td>2200.0</td>\n",
       "      <td>3</td>\n",
       "      <td>03f38829a9b9131e3a0887ca21fd042f2d07bd7f151fff...</td>\n",
       "      <td>111000.0</td>\n",
       "      <td>3</td>\n",
       "      <td>-108800.0</td>\n",
       "      <td>0</td>\n",
       "    </tr>\n",
       "    <tr>\n",
       "      <th>4</th>\n",
       "      <td>83</td>\n",
       "      <td>2200.0</td>\n",
       "      <td>3</td>\n",
       "      <td>03321fab5e3db6c378e23e9cceb522325dc4f6b0c68819...</td>\n",
       "      <td>2200.0</td>\n",
       "      <td>3</td>\n",
       "      <td>0.0</td>\n",
       "      <td>0</td>\n",
       "    </tr>\n",
       "  </tbody>\n",
       "</table>\n",
       "</div>"
      ],
      "text/plain": [
       "   transaction_id     cost  length  \\\n",
       "0              60  52500.0       3   \n",
       "1              19  51600.0       3   \n",
       "2              88  51600.0       3   \n",
       "3              74   2200.0       3   \n",
       "4              83   2200.0       3   \n",
       "\n",
       "                                        removed_node  original_cost  \\\n",
       "0  03ebba42db1a05cff6cc69ed28924fe4bf4731995a43fd...        52500.0   \n",
       "1  0230ec892d3951194fa3d3394965277c713b1b6f9fcb2a...         2200.0   \n",
       "2  0230ec892d3951194fa3d3394965277c713b1b6f9fcb2a...         2200.0   \n",
       "3  03f38829a9b9131e3a0887ca21fd042f2d07bd7f151fff...       111000.0   \n",
       "4  03321fab5e3db6c378e23e9cceb522325dc4f6b0c68819...         2200.0   \n",
       "\n",
       "   length_original  cost_diff  length_diff  \n",
       "0                3        0.0            0  \n",
       "1                3    49400.0            0  \n",
       "2                3    49400.0            0  \n",
       "3                3  -108800.0            0  \n",
       "4                3        0.0            0  "
      ]
     },
     "execution_count": 34,
     "metadata": {},
     "output_type": "execute_result"
    }
   ],
   "source": [
    "routing_differences.head()"
   ]
  },
  {
   "cell_type": "code",
   "execution_count": 35,
   "metadata": {},
   "outputs": [
    {
     "data": {
      "text/plain": [
       "(30981519.700589225, -1.0812800625300625)"
      ]
     },
     "execution_count": 35,
     "metadata": {},
     "output_type": "execute_result"
    }
   ],
   "source": [
    "node_influence[\"cost_diff_mean\"].mean(), node_influence[\"length_diff_mean\"].mean()"
   ]
  },
  {
   "cell_type": "code",
   "execution_count": 36,
   "metadata": {},
   "outputs": [
    {
     "data": {
      "text/plain": [
       "<matplotlib.axes._subplots.AxesSubplot at 0x7f9bdb6d8b00>"
      ]
     },
     "execution_count": 36,
     "metadata": {},
     "output_type": "execute_result"
    },
    {
     "data": {
      "image/png": "[encoded data removed]",
      "text/plain": [
       "<matplotlib.figure.Figure at 0x7f9bdb3fb4a8>"
      ]
     },
     "metadata": {},
     "output_type": "display_data"
    }
   ],
   "source": [
    "node_influence[\"cost_diff_mean\"].hist(bins=100)"
   ]
  },
  {
   "cell_type": "code",
   "execution_count": 37,
   "metadata": {},
   "outputs": [
    {
     "data": {
      "text/plain": [
       "<matplotlib.axes._subplots.AxesSubplot at 0x7f9bdbe4a668>"
      ]
     },
     "execution_count": 37,
     "metadata": {},
     "output_type": "execute_result"
    },
    {
     "data": {
      "image/png": "[encoded data removed]",
      "text/plain": [
       "<matplotlib.figure.Figure at 0x7f9bdbf34a90>"
      ]
     },
     "metadata": {},
     "output_type": "display_data"
    }
   ],
   "source": [
    "node_influence[\"length_diff_mean\"].hist(bins=50)"
   ]
  },
  {
   "cell_type": "code",
   "execution_count": 38,
   "metadata": {},
   "outputs": [],
   "source": [
    "influential_nodes = node_influence[np.absolute(node_influence[\"cost_diff_mean\"])>10**6].sort_values(\"cost_diff_mean\")"
   ]
  },
  {
   "cell_type": "code",
   "execution_count": 39,
   "metadata": {},
   "outputs": [
    {
     "data": {
      "text/plain": [
       "(30, 5)"
      ]
     },
     "execution_count": 39,
     "metadata": {},
     "output_type": "execute_result"
    }
   ],
   "source": [
    "influential_nodes.shape"
   ]
  },
  {
   "cell_type": "markdown",
   "metadata": {},
   "source": [
    "## Only one simulation results\n",
    "\n",
    "### Worst 3:\n",
    "\n",
    "- '0232e20e7b68b9b673fb25f48322b151a93186bffe4550045040673797ceca43cf', -8918091.0 : 'Exchange' label\n",
    "- '03ba4e2c8b5ae8455d4e28646b74db5792611af8ae032290c1960ee65b46b059d3', -3773473.0\n",
    "- '03ba4e2c8b5ae8455d4e28646b74db5792611af8ae032290c1960ee65b46b059d3', -2998000.0\n",
    "\n",
    "### Best 3:\n",
    "\n",
    "- '0217890e3aad8d35bc054f43acc00084b25229ecff0ab68debd82883ad65ee8266', 5595172.0 : 1ML.com\n",
    "- '02ad6fb8d693dc1e4569bcedefadf5f72a931ae027dc0f0c544b34c1c6f3b9a02b', 3427899.0\n",
    "- '0331f80652fb840239df8dc99205792bba2e559a05469915804c08420230e23c7c', 3102341.0"
   ]
  },
  {
   "cell_type": "code",
   "execution_count": 40,
   "metadata": {},
   "outputs": [
    {
     "data": {
      "text/plain": [
       "[('0279c22ed7a068d10dc1a38ae66d2d6461e269226c60258c021b1ddcdfe4b00bc4',\n",
       "  7055559.142857143),\n",
       " ('03d37fca0656558de4fd86bbe490a38d84a46228e7ec1361801f54f9437a18d618',\n",
       "  14252656.857142856),\n",
       " ('03864ef025fde8fb587d989186ce6a4a186895ee44a926bfc370e2c366597a3f8f',\n",
       "  16675083.333333334),\n",
       " ('0217890e3aad8d35bc054f43acc00084b25229ecff0ab68debd82883ad65ee8266',\n",
       "  25012900.0),\n",
       " ('02ad6fb8d693dc1e4569bcedefadf5f72a931ae027dc0f0c544b34c1c6f3b9a02b',\n",
       "  27279081.90909091),\n",
       " ('0327049d8d63f0c40193cdf3afc61817c8647808a4e482de0716fcef74e6d92ebf',\n",
       "  28572843.0),\n",
       " ('0391489a933ab83094d1af43b3df3e8c8d467474649361912f05211d0e68a28fc9',\n",
       "  33284403.0),\n",
       " ('028dcc199be86786818c8c32bffe9db8855c5fca98951eec99d1fa335d841605c2',\n",
       "  49989800.0),\n",
       " ('030c3f19d742ca294a55c00376b3b355c3c90d61c6b6b39554dbc7ac19b141c14f',\n",
       "  50000000.0),\n",
       " ('030995c0c0217d763c2274aa6ed69a0bb85fa2f7d118f93631550f3b6219a577f5',\n",
       "  50000145.0),\n",
       " ('03bb88ccc444534da7b5b64b4f7b15e1eccb18e102db0e400d4b9cfe93763aa26d',\n",
       "  50050650.0),\n",
       " ('032b2b3f4abda9677bb9563e226c068d3a2456fb8b036635a81c9bcaa1671d1ada',\n",
       "  80000660.0),\n",
       " ('02529db69fd2ebd3126fb66fafa234fc3544477a23d509fe93ed229bb0e92e4fb8',\n",
       "  99896091.0),\n",
       " ('03beea9d33087a8419f87d8a9ce8cd8d9feecd910e0394f3d5302a3c9fd83059ff',\n",
       "  99898900.0),\n",
       " ('02dce7cacb2827e75b31ea694045c3736a234d629483cfc43eb7d9088c89e0c803',\n",
       "  99898900.0),\n",
       " ('022c260f9ad58196af280c80a96ec9eabf6404df59ff1a7553b0f381c875a29ba0',\n",
       "  99948310.0),\n",
       " ('03ccfa463aa95e16fad96da31771d63f21efcf6e677483268aa58416c43aba8f41',\n",
       "  99948400.0),\n",
       " ('0205823109f3d6e1ac5f3e5ab41ab88bf463ffa7b59a81d07d8b688fb737e11955',\n",
       "  99948400.0),\n",
       " ('02628d8e2f33869db7417c8da48947d441dcd839e0a3ce5e91f9c790d1131cf9f7',\n",
       "  99948400.0),\n",
       " ('03dab87ff8635982815c4567eb58af48f9944d11c56beb12b91e1049aaea06e187',\n",
       "  99948400.0),\n",
       " ('024655b768ef40951b20053a5c4b951606d4d86085d51238f2c67c7dec29c792ca',\n",
       "  99987000.0),\n",
       " ('0291831e0f2e8d48b2b76fd0624845c4457ddd2bbef2a1379cbf3724aaff59ef4e',\n",
       "  99987900.0),\n",
       " ('02445567c03b3e2feb0deadff5bf1df5f308c0ae539c0d742dfbc63860c69e1c05',\n",
       "  99987900.0),\n",
       " ('031d2bbc75802689312220a017c6b51fa246efc59c7aa9355f6f7395038ffb4d6a',\n",
       "  99996800.0),\n",
       " ('0354fcd9f1554f3505238e1b3c29223868953730c30b6565ad482dc31e90bcfa93',\n",
       "  99997700.0),\n",
       " ('02d98ee97760aba8124606c177d0e4c246fc6cd7bd8f8bd3857f20805a62ecbc26',\n",
       "  99997800.0),\n",
       " ('0331f80652fb840239df8dc99205792bba2e559a05469915804c08420230e23c7c',\n",
       "  99997940.2),\n",
       " ('022fbf66d0c695894bd5de86e35764f4890fcdf4ef577b3f8bc25efd55b4f220e3',\n",
       "  99998799.0),\n",
       " ('0358327cb80ab2a8db36a5924c62966c7b4a753045600df594aa3863ecb618cc5d',\n",
       "  99998900.0),\n",
       " ('02740c62f38896511eb98479036b06907fcac283f62d08b756a1e25fb55e3f6772',\n",
       "  99998900.0)]"
      ]
     },
     "execution_count": 40,
     "metadata": {},
     "output_type": "execute_result"
    }
   ],
   "source": [
    "list(zip(influential_nodes[\"removed_node\"],influential_nodes[\"cost_diff_mean\"]))"
   ]
  }
 ],
 "metadata": {
  "kernelspec": {
   "display_name": "Python [conda env:dm-3-env]",
   "language": "python",
   "name": "conda-env-dm-3-env-py"
  },
  "language_info": {
   "codemirror_mode": {
    "name": "ipython",
    "version": 3
   },
   "file_extension": ".py",
   "mimetype": "text/x-python",
   "name": "python",
   "nbconvert_exporter": "python",
   "pygments_lexer": "ipython3",
   "version": "3.5.4"
  }
 },
 "nbformat": 4,
 "nbformat_minor": 2
}
