{
 "cells": [
  {
   "cell_type": "code",
   "execution_count": null,
   "metadata": {},
   "outputs": [],
   "source": [
    "%load_ext autoreload\n",
    "%autoreload 2"
   ]
  },
  {
   "cell_type": "code",
   "execution_count": null,
   "metadata": {},
   "outputs": [],
   "source": [
    "import pandas as pd\n",
    "from tqdm import tqdm\n",
    "import sys\n",
    "sys.path.insert(0,\"./python\")\n",
    "from analysis_utils import *"
   ]
  },
  {
   "cell_type": "code",
   "execution_count": null,
   "metadata": {},
   "outputs": [],
   "source": [
    "%matplotlib inline\n",
    "import seaborn as sns\n",
    "import matplotlib.pyplot as plt"
   ]
  },
  {
   "cell_type": "code",
   "execution_count": null,
   "metadata": {},
   "outputs": [],
   "source": [
    "sns.set(font_scale = 2)\n",
    "sns.set_style(\"whitegrid\")"
   ]
  },
  {
   "cell_type": "code",
   "execution_count": null,
   "metadata": {},
   "outputs": [],
   "source": [
    "def load_and_calculate_stats(experiment_id):\n",
    "    experiment_folders = get_experiment_files(experiment_id, snapshots, simulation_dir)\n",
    "    length_distrib = load_data(experiment_folders, snapshots, \"lengths_distrib\")\n",
    "    all_length_distrib = pd.concat(length_distrib)\n",
    "    all_success = all_length_distrib[all_length_distrib[\"length\"]>0]\n",
    "    avg_path_length = (all_success[\"length\"]*all_success[\"count\"]).sum() / all_success[\"count\"].sum()\n",
    "    total_counts = all_length_distrib.groupby(\"length\")[\"count\"].sum()\n",
    "    S = total_counts.sum()\n",
    "    total_ratios = total_counts / S\n",
    "    return avg_path_length, total_ratios\n",
    "\n",
    "def extract_length_distribution(simulation_dir, experiment_id, snapshots):\n",
    "    experiment_folders = get_experiment_files(experiment_id, snapshots, simulation_dir)\n",
    "    length_distrib = load_data(experiment_folders, snapshots, \"lengths_distrib\")\n",
    "    all_length_distrib = pd.concat(length_distrib)\n",
    "    success_transactions = all_length_distrib.copy()[all_length_distrib[\"length\"]>0]\n",
    "    success_transactions[\"length\"] = success_transactions[\"length\"].apply(lambda x: x if x<6 else \"longer\")\n",
    "    return success_transactions.groupby(\"length\")[\"count\"].sum().reset_index()\n",
    "\n",
    "def generate_pie_chart(image_id, eps, length_distribution, results_dir):\n",
    "    plt.figure(figsize=(6,6))\n",
    "    labs = list(length_distribution[\"length\"])\n",
    "    values = list(length_distribution[\"count\"])\n",
    "    #plt.pie(values, explode=(0.2,0,0,0,0.2,0.2), labels=[1,2,3,4,5,\"longer\"], autopct='%1.0f%%', labeldistance=0.7, pctdistance=1.17)\n",
    "    plt.title(\"epsilon=%.1f\" % eps)\n",
    "    plt.pie(values, explode=(0.3,0,0,0,0.0,0.3), labels=[1,2,3,4,5,\"longer\"], autopct='%1.0f%%', labeldistance=1.1, pctdistance=0.7)\n",
    "    #lgd = plt.legend(labs, loc=2,bbox_to_anchor=(1.08, 1.02))\n",
    "    #plt.savefig(\"%s/%s.pdf\" % (results_dir, image_id), format=\"pdf\", bbox_extra_artists=(lgd,), bbox_inches='tight')\n",
    "    plt.savefig(\"%s/%s.pdf\" % (results_dir, image_id), format=\"pdf\", bbox_inches='tight')"
   ]
  },
  {
   "cell_type": "code",
   "execution_count": null,
   "metadata": {},
   "outputs": [],
   "source": [
    "ratio_col = \"ratio of failed transactions\"\n",
    "avg_path_col = \"average path length\"\n",
    "tx_num_col = \"number of transactions\""
   ]
  },
  {
   "cell_type": "markdown",
   "metadata": {},
   "source": [
    "# 1. Load path info files"
   ]
  },
  {
   "cell_type": "code",
   "execution_count": null,
   "metadata": {},
   "outputs": [],
   "source": [
    "snapshots = range(7)"
   ]
  },
  {
   "cell_type": "code",
   "execution_count": null,
   "metadata": {},
   "outputs": [],
   "source": [
    "results_dir = \"/mnt/idms/fberes/data/bitcoin_ln_research/results/path_length_info/\""
   ]
  },
  {
   "cell_type": "markdown",
   "metadata": {},
   "source": [
    "### Experiments with capacity filter"
   ]
  },
  {
   "cell_type": "markdown",
   "metadata": {},
   "source": [
    "simulation_dir = \"/mnt/idms/fberes/data/bitcoin_ln_research/simulations_7days/\"\n",
    "amounts = [10000,25000,50000,100000,200000,500000]\n",
    "tx_nums = [1000,2000,5000,10000,20000]\n",
    "ts_map = {\n",
    "    1000:\"2019-09-16_20:45:51\",\n",
    "    2000:\"2019-09-16_19:13:21\",\n",
    "    5000:\"2019-09-16_14:12:54\",\n",
    "    10000:\"2019-09-16_17:56:28\",\n",
    "    20000:\"2019-09-16_15:39:13\"\n",
    "}"
   ]
  },
  {
   "cell_type": "markdown",
   "metadata": {},
   "source": [
    "### Experiments without capacity filter"
   ]
  },
  {
   "cell_type": "markdown",
   "metadata": {},
   "source": [
    "simulation_dir = \"/mnt/idms/fberes/data/bitcoin_ln_research/experiments_with_rayleigh/simulations\"\n",
    "amounts = [10000,25000,50000,100000,200000,500000]\n",
    "tx_nums = [1000,2000,5000,10000,20000,50000]\n",
    "ts_map = {\n",
    "    1000:\"2019-09-23_22:53:58\",\n",
    "    2000:\"2019-09-23_15:29:59\",\n",
    "    5000:\"2019-09-23_06:47:40\",\n",
    "    10000:\"2019-09-22_22:17:29\",\n",
    "    20000:\"2019-09-21_23:53:33\",\n",
    "    50000:\"2019-09-23_21:37:58\"\n",
    "}\n",
    "\n",
    "records = []\n",
    "for n in tqdm(tx_nums):\n",
    "    for a in amounts:\n",
    "        experiment_id = \"%s_%isat_k%i\" % (ts_map[n], a, n)\n",
    "        avg_path_length, total_ratios = load_and_calculate_stats(experiment_id)\n",
    "        ratio_failed = total_ratios[-1]\n",
    "        records.append([n,a,ratio_failed,avg_path_length])"
   ]
  },
  {
   "cell_type": "code",
   "execution_count": null,
   "metadata": {},
   "outputs": [],
   "source": [
    "simulation_dir = \"/mnt/idms/fberes/data/bitcoin_ln_research/simulations_multi/\"\n",
    "amounts = [10000,60000,100000,200000,500000]\n",
    "tx_nums = [1000,7000,10000,20000,70000]\n",
    "\n",
    "records = []\n",
    "for n in tqdm(tx_nums):\n",
    "    for a in amounts:\n",
    "        experiment_id = \"%isat_k%i_eps0.80\" % ( a, n)\n",
    "        avg_path_length, total_ratios = load_and_calculate_stats(experiment_id)\n",
    "        ratio_failed = total_ratios[-1]\n",
    "        records.append([n,a,ratio_failed,avg_path_length])"
   ]
  },
  {
   "cell_type": "code",
   "execution_count": null,
   "metadata": {},
   "outputs": [],
   "source": [
    "path_info_df = pd.DataFrame(records, columns=[tx_num_col,\"amount\",ratio_col,avg_path_col])"
   ]
  },
  {
   "cell_type": "code",
   "execution_count": null,
   "metadata": {},
   "outputs": [],
   "source": [
    "path_info_df.head()"
   ]
  },
  {
   "cell_type": "markdown",
   "metadata": {},
   "source": [
    "### Experiments with epsilon"
   ]
  },
  {
   "cell_type": "markdown",
   "metadata": {},
   "source": [
    "simulation_dir = \"/mnt/idms/fberes/data/bitcoin_ln_research/simulations_7days/\"\n",
    "ts = \"2019-09-26_14:15:21\"\n",
    "epsilons = [0.0, 0.2, 0.5, 0.8, 1.0]\n",
    "\n",
    "records = []\n",
    "for eps in tqdm(epsilons):\n",
    "        experiment_id = \"%s_50000sat_k6000_eps%.2f\" % (ts, eps)\n",
    "        avg_path_length, total_ratios = load_and_calculate_stats(experiment_id)\n",
    "        ratio_failed = total_ratios[-1]\n",
    "        records.append([eps,ratio_failed,avg_path_length])"
   ]
  },
  {
   "cell_type": "code",
   "execution_count": null,
   "metadata": {},
   "outputs": [],
   "source": [
    "simulation_dir = \"/mnt/idms/fberes/data/bitcoin_ln_research/simulations_multi/\"\n",
    "epsilons = [0.0, 0.2, 0.5, 0.8, 1.0]\n",
    "\n",
    "records_eps = []\n",
    "for eps in tqdm(epsilons):\n",
    "        experiment_id = \"60000sat_k7000_eps%.2f\" % eps\n",
    "        avg_path_length, total_ratios = load_and_calculate_stats(experiment_id)\n",
    "        ratio_failed = total_ratios[-1]\n",
    "        records_eps.append([eps,ratio_failed,avg_path_length])"
   ]
  },
  {
   "cell_type": "code",
   "execution_count": null,
   "metadata": {},
   "outputs": [],
   "source": [
    "path_info_df_eps = pd.DataFrame(records_eps, columns=[\"epsilon\",ratio_col,avg_path_col])"
   ]
  },
  {
   "cell_type": "code",
   "execution_count": null,
   "metadata": {},
   "outputs": [],
   "source": [
    "path_info_df_eps.head()"
   ]
  },
  {
   "cell_type": "markdown",
   "metadata": {},
   "source": [
    "# Transaction failure and average path length"
   ]
  },
  {
   "cell_type": "markdown",
   "metadata": {},
   "source": [
    "## Pivot tables"
   ]
  },
  {
   "cell_type": "code",
   "execution_count": null,
   "metadata": {},
   "outputs": [],
   "source": [
    "pivot_ratio_failed = path_info_df.pivot(index=\"amount\",columns=tx_num_col,values=ratio_col).sort_values(\"amount\",ascending=False)"
   ]
  },
  {
   "cell_type": "code",
   "execution_count": null,
   "metadata": {},
   "outputs": [],
   "source": [
    "pivot_ratio_avg_length = path_info_df.pivot(index=\"amount\",columns=tx_num_col,values=avg_path_col).sort_values(\"amount\",ascending=False)"
   ]
  },
  {
   "cell_type": "markdown",
   "metadata": {},
   "source": [
    "## Heatmaps"
   ]
  },
  {
   "cell_type": "code",
   "execution_count": null,
   "metadata": {},
   "outputs": [],
   "source": [
    "cmap = \"RdBu_r\"\n",
    "fig_s=(8,8)"
   ]
  },
  {
   "cell_type": "code",
   "execution_count": null,
   "metadata": {},
   "outputs": [],
   "source": [
    "fig, ax = plt.subplots(figsize=fig_s)\n",
    "g = sns.heatmap(data=pivot_ratio_failed, ax=ax, cmap=cmap, square=True, annot=True, fmt='.2f')\n",
    "g.set_yticklabels(amounts[::-1], rotation=0)\n",
    "g.set_xticklabels(tx_nums, rotation=90)\n",
    "ax.set_ylim(6.0, 0)\n",
    "plt.savefig(\"%s/ratio_of_failed_paths.pdf\" % results_dir, format=\"pdf\", bbox_inches='tight')"
   ]
  },
  {
   "cell_type": "code",
   "execution_count": null,
   "metadata": {},
   "outputs": [],
   "source": [
    "fig, ax = plt.subplots(figsize=fig_s)\n",
    "g = sns.heatmap(data=pivot_ratio_avg_length, ax=ax, cmap=cmap,  square=True, annot=True, fmt='.2f')\n",
    "g.set_yticklabels(amounts[::-1], rotation=0)\n",
    "g.set_xticklabels(tx_nums, rotation=90)\n",
    "ax.set_ylim(6.0, 0)\n",
    "plt.savefig(\"%s/avg_path_length.pdf\" % results_dir, format=\"pdf\", bbox_inches='tight')"
   ]
  },
  {
   "cell_type": "markdown",
   "metadata": {},
   "source": [
    "# Transaction security analysis"
   ]
  },
  {
   "cell_type": "markdown",
   "metadata": {},
   "source": [
    "n = 5000\n",
    "a = 50000\n",
    "experiment_id = \"%s_%isat_k%i\" % (ts_map[n], a, n)\n",
    "length_distrib = extract_length_distribution(simulation_dir, experiment_id, snapshots)\n",
    "generate_pie_chart(\"length_distribution_eps%.2f\" % eps, length_distrib, results_dir)"
   ]
  },
  {
   "cell_type": "markdown",
   "metadata": {},
   "source": [
    "for eps in [0.0,0.2,0.5,0.8,1.0]:\n",
    "    experiment_id = \"%s_50000sat_k6000_eps%.2f\" % (ts, eps)\n",
    "    length_distrib = extract_length_distribution(simulation_dir, experiment_id, snapshots)\n",
    "    generate_pie_chart(\"length_distribution_eps%.2f\" % eps, length_distrib, results_dir)"
   ]
  },
  {
   "cell_type": "code",
   "execution_count": null,
   "metadata": {
    "scrolled": false
   },
   "outputs": [],
   "source": [
    "for eps in [0.0,0.2,0.5,0.8,1.0]:\n",
    "    experiment_id = \"60000sat_k7000_eps%.2f\" % eps\n",
    "    length_distrib = extract_length_distribution(simulation_dir, experiment_id, snapshots)\n",
    "    generate_pie_chart(\"length_distrib_eps%.2f\" % eps, eps, length_distrib, results_dir)"
   ]
  }
 ],
 "metadata": {
  "kernelspec": {
   "display_name": "Python [conda env:dm-3-env] *",
   "language": "python",
   "name": "conda-env-dm-3-env-py"
  },
  "language_info": {
   "codemirror_mode": {
    "name": "ipython",
    "version": 3
   },
   "file_extension": ".py",
   "mimetype": "text/x-python",
   "name": "python",
   "nbconvert_exporter": "python",
   "pygments_lexer": "ipython3",
   "version": "3.7.3"
  }
 },
 "nbformat": 4,
 "nbformat_minor": 2
}