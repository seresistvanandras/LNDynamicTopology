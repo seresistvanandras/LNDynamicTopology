{
 "cells": [
  {
   "cell_type": "code",
   "execution_count": 1,
   "metadata": {},
   "outputs": [],
   "source": [
    "%load_ext autoreload\n",
    "%autoreload 2"
   ]
  },
  {
   "cell_type": "code",
   "execution_count": 2,
   "metadata": {},
   "outputs": [],
   "source": [
    "from ln_utils import *\n",
    "import os"
   ]
  },
  {
   "cell_type": "code",
   "execution_count": 3,
   "metadata": {},
   "outputs": [],
   "source": [
    "%matplotlib inline"
   ]
  },
  {
   "cell_type": "markdown",
   "metadata": {},
   "source": [
    "# Load data parts"
   ]
  },
  {
   "cell_type": "markdown",
   "metadata": {},
   "source": [
    "#### From 2019-01-10 -> 2019-01-31"
   ]
  },
  {
   "cell_type": "code",
   "execution_count": 4,
   "metadata": {},
   "outputs": [],
   "source": [
    "graph_files = [\"../LNdata/snapshots/lngraph_2019_01_%i__12_00.json\" % i for i in range(10,32)]"
   ]
  },
  {
   "cell_type": "markdown",
   "metadata": {},
   "source": [
    "#### From 2019-02-02 -> 2019-03-18"
   ]
  },
  {
   "cell_type": "code",
   "execution_count": 5,
   "metadata": {},
   "outputs": [],
   "source": [
    "data_dir = \"../LNdata/lncaptures/lngraph/2019/\"\n",
    "graph_files +=  [data_dir + f for f in sorted(os.listdir(\"../LNdata/lncaptures/lngraph/2019/\")) if \".json\" in f]"
   ]
  },
  {
   "cell_type": "markdown",
   "metadata": {},
   "source": [
    "#### From 2019-03-19 -> 2019-03-29"
   ]
  },
  {
   "cell_type": "code",
   "execution_count": 6,
   "metadata": {},
   "outputs": [],
   "source": [
    "data_dir = \"../LNdata/\"\n",
    "graph_files += [data_dir + f for f in sorted(os.listdir(\"../LNdata/\")) if \".json\" in f][5:]"
   ]
  },
  {
   "cell_type": "markdown",
   "metadata": {},
   "source": [
    "graph_files"
   ]
  },
  {
   "cell_type": "code",
   "execution_count": 7,
   "metadata": {},
   "outputs": [
    {
     "name": "stdout",
     "output_type": "stream",
     "text": [
      "../LNdata/snapshots/lngraph_2019_01_10__12_00.json 1742 10355\n",
      "../LNdata/snapshots/lngraph_2019_01_11__12_00.json 446 8260\n",
      "../LNdata/snapshots/lngraph_2019_01_12__12_00.json 411 8654\n",
      "../LNdata/snapshots/lngraph_2019_01_13__12_00.json 350 8797\n",
      "../LNdata/snapshots/lngraph_2019_01_14__12_00.json 380 9198\n",
      "../LNdata/snapshots/lngraph_2019_01_15__12_00.json 548 9551\n",
      "../LNdata/snapshots/lngraph_2019_01_16__12_00.json 443 9968\n",
      "../LNdata/snapshots/lngraph_2019_01_17__12_00.json 416 10234\n",
      "../LNdata/snapshots/lngraph_2019_01_18__12_00.json 360 10157\n",
      "../LNdata/snapshots/lngraph_2019_01_19__12_00.json 389 10770\n",
      "../LNdata/snapshots/lngraph_2019_01_20__12_00.json 377 10971\n",
      "../LNdata/snapshots/lngraph_2019_01_21__12_00.json 419 10835\n",
      "../LNdata/snapshots/lngraph_2019_01_22__12_00.json 520 11481\n",
      "../LNdata/snapshots/lngraph_2019_01_23__12_00.json 487 11629\n",
      "../LNdata/snapshots/lngraph_2019_01_24__12_00.json 434 11737\n",
      "../LNdata/snapshots/lngraph_2019_01_25__12_00.json 432 11141\n",
      "../LNdata/snapshots/lngraph_2019_01_26__12_00.json 433 12205\n",
      "../LNdata/snapshots/lngraph_2019_01_27__12_00.json 419 12137\n",
      "../LNdata/snapshots/lngraph_2019_01_28__12_00.json 431 12365\n",
      "../LNdata/snapshots/lngraph_2019_01_29__12_00.json 442 12877\n",
      "../LNdata/snapshots/lngraph_2019_01_30__12_00.json 41 562\n",
      "../LNdata/snapshots/lngraph_2019_01_31__12_00.json 0 0\n",
      "NO NEW NODES!!!\n",
      "NO NEW EDGES!!!\n",
      "../LNdata/lncaptures/lngraph/2019/1549032366.json 880 19494\n",
      "../LNdata/lncaptures/lngraph/2019/1549065601.json 295 9797\n",
      "../LNdata/lncaptures/lngraph/2019/1549152001.json 438 16685\n",
      "../LNdata/lncaptures/lngraph/2019/1549238401.json 418 17162\n",
      "../LNdata/lncaptures/lngraph/2019/1549324801.json 393 17367\n",
      "../LNdata/lncaptures/lngraph/2019/1549411201.json 456 18152\n",
      "../LNdata/lncaptures/lngraph/2019/1549497602.json 494 18534\n",
      "../LNdata/lncaptures/lngraph/2019/1549584001.json 548 18566\n",
      "../LNdata/lncaptures/lngraph/2019/1549670401.json 737 19542\n",
      "../LNdata/lncaptures/lngraph/2019/1549756801.json 535 19139\n",
      "../LNdata/lncaptures/lngraph/2019/1549843201.json 516 18935\n",
      "../LNdata/lncaptures/lngraph/2019/1549929601.json 564 19501\n",
      "../LNdata/lncaptures/lngraph/2019/1550016001.json 510 19318\n",
      "../LNdata/lncaptures/lngraph/2019/1550102401.json 677 20572\n",
      "../LNdata/lncaptures/lngraph/2019/1550188801.json 616 20725\n",
      "../LNdata/lncaptures/lngraph/2019/1550275201.json 520 21087\n",
      "../LNdata/lncaptures/lngraph/2019/1550361601.json 565 20978\n",
      "../LNdata/lncaptures/lngraph/2019/1550448001.json 550 20825\n",
      "../LNdata/lncaptures/lngraph/2019/1550534401.json 518 21446\n",
      "../LNdata/lncaptures/lngraph/2019/1550620801.json 652 22252\n",
      "../LNdata/lncaptures/lngraph/2019/1550707201.json 692 22834\n",
      "../LNdata/lncaptures/lngraph/2019/1550793601.json 698 22853\n",
      "../LNdata/lncaptures/lngraph/2019/1550880001.json 699 22936\n",
      "../LNdata/lncaptures/lngraph/2019/1550966401.json 593 22959\n",
      "../LNdata/lncaptures/lngraph/2019/1551052801.json 627 23014\n",
      "../LNdata/lncaptures/lngraph/2019/1551139201.json 611 23096\n",
      "../LNdata/lncaptures/lngraph/2019/1551225601.json 744 23651\n",
      "../LNdata/lncaptures/lngraph/2019/1551312001.json 643 21941\n",
      "../LNdata/lncaptures/lngraph/2019/1551398401.json 655 23663\n",
      "../LNdata/lncaptures/lngraph/2019/1551484801.json 628 23909\n",
      "../LNdata/lncaptures/lngraph/2019/1551571201.json 745 23732\n",
      "../LNdata/lncaptures/lngraph/2019/1551657601.json 707 23603\n",
      "../LNdata/lncaptures/lngraph/2019/1551744001.json 619 24977\n",
      "../LNdata/lncaptures/lngraph/2019/1551830401.json 606 23966\n",
      "../LNdata/lncaptures/lngraph/2019/1551916801.json 592 24295\n",
      "../LNdata/lncaptures/lngraph/2019/1552003201.json 818 25260\n",
      "../LNdata/lncaptures/lngraph/2019/1552089601.json 848 26286\n",
      "../LNdata/lncaptures/lngraph/2019/1552176001.json 596 26391\n",
      "../LNdata/lncaptures/lngraph/2019/1552262401.json 573 26671\n",
      "../LNdata/lncaptures/lngraph/2019/1552348801.json 835 28471\n",
      "../LNdata/lncaptures/lngraph/2019/1552435201.json 621 27548\n",
      "../LNdata/lncaptures/lngraph/2019/1552521601.json 689 28069\n",
      "../LNdata/lncaptures/lngraph/2019/1552608001.json 712 28229\n",
      "../LNdata/lncaptures/lngraph/2019/1552694401.json 843 30841\n",
      "../LNdata/lncaptures/lngraph/2019/1552780801.json 976 31731\n",
      "../LNdata/lncaptures/lngraph/2019/1552867201.json 663 30623\n",
      "../LNdata/0319.json 692 32919\n",
      "../LNdata/0320.json 585 32766\n",
      "../LNdata/0321.json 672 33030\n",
      "../LNdata/0322.json 551 30740\n",
      "../LNdata/0323.json 618 32434\n",
      "../LNdata/0324.json 493 28992\n",
      "../LNdata/0325.json 439 29758\n",
      "../LNdata/0326.json 583 32533\n",
      "../LNdata/0327.json 498 32192\n",
      "../LNdata/0328.json 575 32025\n",
      "44541 1572899\n"
     ]
    }
   ],
   "source": [
    "nodes, edges = load_temp_data(graph_files[:-1])\n",
    "print(len(nodes), len(edges))"
   ]
  },
  {
   "cell_type": "code",
   "execution_count": 8,
   "metadata": {},
   "outputs": [],
   "source": [
    "edges = edges.sort_values(\"last_update\")"
   ]
  },
  {
   "cell_type": "markdown",
   "metadata": {},
   "source": [
    "#### We have some very old timestamp"
   ]
  },
  {
   "cell_type": "code",
   "execution_count": 9,
   "metadata": {},
   "outputs": [
    {
     "data": {
      "text/plain": [
       "<matplotlib.axes._subplots.AxesSubplot at 0x7fc120723978>"
      ]
     },
     "execution_count": 9,
     "metadata": {},
     "output_type": "execute_result"
    },
    {
     "data": {
      "image/png": "[encoded data removed]",
      "text/plain": [
       "<matplotlib.figure.Figure at 0x7fc1207231d0>"
      ]
     },
     "metadata": {},
     "output_type": "display_data"
    }
   ],
   "source": [
    "edges[\"last_update\"].hist(bins=50)"
   ]
  },
  {
   "cell_type": "code",
   "execution_count": 10,
   "metadata": {},
   "outputs": [
    {
     "data": {
      "text/plain": [
       "(44541, 1572899)"
      ]
     },
     "execution_count": 10,
     "metadata": {},
     "output_type": "execute_result"
    }
   ],
   "source": [
    "len(nodes), len(edges)"
   ]
  },
  {
   "cell_type": "markdown",
   "metadata": {},
   "source": [
    "### Data collection time interval:"
   ]
  },
  {
   "cell_type": "code",
   "execution_count": 11,
   "metadata": {},
   "outputs": [],
   "source": [
    "MIN_TIME = 1547082001 #Thursday, January 10, 2019 1:00:01 AM\n",
    "MAX_TIME = 1553947199 # Saturday, March 30, 2019 11:59:59 AM"
   ]
  },
  {
   "cell_type": "code",
   "execution_count": 12,
   "metadata": {},
   "outputs": [
    {
     "data": {
      "text/plain": [
       "(43019, 1565745)"
      ]
     },
     "execution_count": 12,
     "metadata": {},
     "output_type": "execute_result"
    }
   ],
   "source": [
    "nodes = nodes[(nodes[\"last_update\"] > MIN_TIME) & (nodes[\"last_update\"] < MAX_TIME)]\n",
    "edges = edges[(edges[\"last_update\"] > MIN_TIME) & (edges[\"last_update\"] < MAX_TIME)]\n",
    "len(nodes), len(edges)"
   ]
  },
  {
   "cell_type": "markdown",
   "metadata": {},
   "source": [
    "#### We have missing data from 2019-02-01 -> from 2019-02-02"
   ]
  },
  {
   "cell_type": "code",
   "execution_count": 13,
   "metadata": {},
   "outputs": [
    {
     "data": {
      "text/plain": [
       "<matplotlib.axes._subplots.AxesSubplot at 0x7fc121b70198>"
      ]
     },
     "execution_count": 13,
     "metadata": {},
     "output_type": "execute_result"
    },
    {
     "data": {
      "image/png": "[encoded data removed]",
      "text/plain": [
       "<matplotlib.figure.Figure at 0x7fc1fc10ab38>"
      ]
     },
     "metadata": {},
     "output_type": "display_data"
    }
   ],
   "source": [
    "edges[\"last_update\"].hist(bins=50)"
   ]
  },
  {
   "cell_type": "code",
   "execution_count": 14,
   "metadata": {},
   "outputs": [],
   "source": [
    "edges.to_csv(\"../LNdata/edge_last_updates.csv\", index=False)"
   ]
  }
 ],
 "metadata": {
  "kernelspec": {
   "display_name": "Python [conda env:dm-3-env]",
   "language": "python",
   "name": "conda-env-dm-3-env-py"
  },
  "language_info": {
   "codemirror_mode": {
    "name": "ipython",
    "version": 3
   },
   "file_extension": ".py",
   "mimetype": "text/x-python",
   "name": "python",
   "nbconvert_exporter": "python",
   "pygments_lexer": "ipython3",
   "version": "3.5.4"
  }
 },
 "nbformat": 4,
 "nbformat_minor": 2
}
