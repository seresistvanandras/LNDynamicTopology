{
 "cells": [
  {
   "cell_type": "code",
   "execution_count": null,
   "metadata": {
    "collapsed": true
   },
   "outputs": [],
   "source": [
    "%load_ext autoreload\n",
    "%autoreload 2"
   ]
  },
  {
   "cell_type": "code",
   "execution_count": null,
   "metadata": {
    "collapsed": true
   },
   "outputs": [],
   "source": [
    "import os, sys\n",
    "from ln_utils import *"
   ]
  },
  {
   "cell_type": "code",
   "execution_count": null,
   "metadata": {
    "collapsed": true
   },
   "outputs": [],
   "source": [
    "%matplotlib inline\n",
    "import seaborn as sns\n",
    "import matplotlib.pyplot as plt"
   ]
  },
  {
   "cell_type": "markdown",
   "metadata": {},
   "source": [
    "# Parameters"
   ]
  },
  {
   "cell_type": "code",
   "execution_count": null,
   "metadata": {},
   "outputs": [],
   "source": [
    "from datawand.parametrization import ParamHelper\n",
    "ph = ParamHelper(\"../\", \"LNGraph\", sys.argv)"
   ]
  },
  {
   "cell_type": "code",
   "execution_count": null,
   "metadata": {},
   "outputs": [],
   "source": [
    "data_dir = ph.get(\"data_dir\")\n",
    "stat_dir = \"%s/centrality_scores/\" % data_dir\n",
    "print(stat_dir)"
   ]
  },
  {
   "cell_type": "markdown",
   "metadata": {},
   "source": [
    "# Load data"
   ]
  },
  {
   "cell_type": "markdown",
   "metadata": {},
   "source": [
    "## a.) Graph data"
   ]
  },
  {
   "cell_type": "code",
   "execution_count": null,
   "metadata": {
    "collapsed": true
   },
   "outputs": [],
   "source": [
    "edges = pd.read_csv(\"%s/directed_temporal_edges.csv\" % data_dir)"
   ]
  },
  {
   "cell_type": "markdown",
   "metadata": {},
   "source": [
    "## b.) Precomputed centrality scores"
   ]
  },
  {
   "cell_type": "code",
   "execution_count": null,
   "metadata": {
    "collapsed": true
   },
   "outputs": [],
   "source": [
    "snapshot_ids = range(8)#range(9)"
   ]
  },
  {
   "cell_type": "code",
   "execution_count": null,
   "metadata": {
    "collapsed": true
   },
   "outputs": [],
   "source": [
    "weight_cols = [None, \"capacity\", \"fee_base_msat\", \"fee_rate_milli_msat\"]"
   ]
  },
  {
   "cell_type": "code",
   "execution_count": null,
   "metadata": {
    "collapsed": true
   },
   "outputs": [],
   "source": [
    "centrality_scores = load_centrality_scores(stat_dir, snapshot_ids, weight_cols, drop_cols=[\"deg\"])"
   ]
  },
  {
   "cell_type": "code",
   "execution_count": null,
   "metadata": {
    "collapsed": true
   },
   "outputs": [],
   "source": [
    "def calculate_ranks(scores, snapshot_ids, weight_cols):\n",
    "    ranks = {}\n",
    "    for w in weight_cols:\n",
    "        ranks[w] = []\n",
    "        for i in snapshot_ids:\n",
    "            ranks[w].append(scores[w][i].set_index(\"index\").rank(ascending=False).reset_index().rename({\"index\":\"node_pub\"},axis=1))\n",
    "    return ranks"
   ]
  },
  {
   "cell_type": "code",
   "execution_count": null,
   "metadata": {
    "collapsed": true
   },
   "outputs": [],
   "source": [
    "centrality_ranks = calculate_ranks(centrality_scores, snapshot_ids, weight_cols)"
   ]
  },
  {
   "cell_type": "markdown",
   "metadata": {},
   "source": [
    "# Calculate centrality ranks of popular nodes\n",
    "\n",
    "   * **popular nodes** are those (already seen nodes) that new nodes connect to most frequently"
   ]
  },
  {
   "cell_type": "code",
   "execution_count": null,
   "metadata": {
    "collapsed": true
   },
   "outputs": [],
   "source": [
    "edges.head()"
   ]
  },
  {
   "cell_type": "code",
   "execution_count": null,
   "metadata": {
    "collapsed": true
   },
   "outputs": [],
   "source": [
    "snapshot_graphs, snapshot_edges = get_snapshots(edges, weight_cols[1:])"
   ]
  },
  {
   "cell_type": "markdown",
   "metadata": {},
   "source": [
    "### last snapshot is much smaller!!!"
   ]
  },
  {
   "cell_type": "code",
   "execution_count": null,
   "metadata": {
    "collapsed": true
   },
   "outputs": [],
   "source": [
    "for snap in snapshot_edges:\n",
    "    print(len(snap))"
   ]
  },
  {
   "cell_type": "markdown",
   "metadata": {},
   "source": [
    "snapshot_graphs = snapshot_graphs[:-1]\n",
    "snapshot_edges = snapshot_edges[:-1]"
   ]
  },
  {
   "cell_type": "code",
   "execution_count": null,
   "metadata": {
    "collapsed": true
   },
   "outputs": [],
   "source": [
    "attachments = observe_node_attachements_over_time(snapshot_ids, snapshot_graphs, snapshot_edges, centrality_ranks, weight_cols)"
   ]
  },
  {
   "cell_type": "markdown",
   "metadata": {},
   "source": [
    "# Analyse ranks of popular nodes"
   ]
  },
  {
   "cell_type": "code",
   "execution_count": null,
   "metadata": {
    "collapsed": true
   },
   "outputs": [],
   "source": [
    "attachments[0].head()"
   ]
  },
  {
   "cell_type": "markdown",
   "metadata": {},
   "source": [
    "## a.) New attachments per weeks\n",
    "\n",
    "   * there is a huge peek on week 5!!!"
   ]
  },
  {
   "cell_type": "code",
   "execution_count": null,
   "metadata": {
    "collapsed": true
   },
   "outputs": [],
   "source": [
    "x = range(len(attachments))\n",
    "y = [len(att) for att in attachments]\n",
    "plt.plot(x,y)"
   ]
  },
  {
   "cell_type": "markdown",
   "metadata": {},
   "source": [
    "## b.) Weekly correlations of popular nodes"
   ]
  },
  {
   "cell_type": "code",
   "execution_count": null,
   "metadata": {
    "collapsed": true
   },
   "outputs": [],
   "source": [
    "pop_df = get_attachement_popularity(attachments)"
   ]
  },
  {
   "cell_type": "code",
   "execution_count": null,
   "metadata": {
    "collapsed": true
   },
   "outputs": [],
   "source": [
    "sns.heatmap(corr_mx(pop_df, \"spearman\"), annot=True)"
   ]
  },
  {
   "cell_type": "code",
   "execution_count": null,
   "metadata": {
    "collapsed": true
   },
   "outputs": [],
   "source": [
    "sns.heatmap(corr_mx(pop_df, \"wkendall\"), annot=True)"
   ]
  },
  {
   "cell_type": "code",
   "execution_count": null,
   "metadata": {
    "collapsed": true
   },
   "outputs": [],
   "source": [
    "sns.heatmap(corr_mx(pop_df, \"kendall\"), annot=True)"
   ]
  },
  {
   "cell_type": "markdown",
   "metadata": {},
   "source": [
    "## c.) Weekly correlations of popular and most central nodes"
   ]
  },
  {
   "cell_type": "code",
   "execution_count": null,
   "metadata": {
    "collapsed": true
   },
   "outputs": [],
   "source": [
    "sp = pop_corr_with_centralities(pop_df, centrality_scores, weight_cols, method=\"spearman\")\n",
    "ke = pop_corr_with_centralities(pop_df, centrality_scores, weight_cols, method=\"kendall\")\n",
    "wk = pop_corr_with_centralities(pop_df, centrality_scores, weight_cols, method=\"wkendall\")"
   ]
  },
  {
   "cell_type": "markdown",
   "metadata": {},
   "source": [
    "### i.) mean correlation for the observed weeks\n",
    "\n",
    "#### Observations\n",
    "\n",
    "   - popular nodes correlates the most with capacity weighted betweeness nodes (and high degree nodes)\n",
    "   - our suggestion would be to connect to 'betw_fee_base_msat', 'betw_fee_rate_milli_msat' nodes - **but later these nodes could raise the fees?**\n",
    "   - **'betw_fee_base_msat' is in top2 for kendall!!!** - interesting"
   ]
  },
  {
   "cell_type": "code",
   "execution_count": null,
   "metadata": {
    "collapsed": true
   },
   "outputs": [],
   "source": [
    "sp.mean(axis=0).sort_values(ascending=False)"
   ]
  },
  {
   "cell_type": "code",
   "execution_count": null,
   "metadata": {
    "collapsed": true
   },
   "outputs": [],
   "source": [
    "wk.mean(axis=0).sort_values(ascending=False)"
   ]
  },
  {
   "cell_type": "code",
   "execution_count": null,
   "metadata": {
    "collapsed": true
   },
   "outputs": [],
   "source": [
    "ke.mean(axis=0).sort_values(ascending=False)"
   ]
  },
  {
   "cell_type": "markdown",
   "metadata": {},
   "source": [
    "### ii.) weekly correlation timeseries"
   ]
  },
  {
   "cell_type": "code",
   "execution_count": null,
   "metadata": {
    "collapsed": true
   },
   "outputs": [],
   "source": [
    "for c in [\"betw\",\"in_deg\",\"out_deg\",\"pr\"]:\n",
    "    plot_corr_time_series_with_pop(sp, ke, wk, [c+postfix for postfix in [\"\",\"_capacity\",\"_fee_base_msat\", \"_fee_rate_milli_msat\"]])"
   ]
  },
  {
   "cell_type": "markdown",
   "metadata": {},
   "source": [
    "### Most popular nodes:"
   ]
  },
  {
   "cell_type": "code",
   "execution_count": null,
   "metadata": {
    "collapsed": true
   },
   "outputs": [],
   "source": [
    "pop_df.head()"
   ]
  },
  {
   "cell_type": "code",
   "execution_count": null,
   "metadata": {
    "collapsed": true
   },
   "outputs": [],
   "source": [
    "most_pop = pop_df.rank(ascending=False).mean(axis=1).sort_values()[:50]"
   ]
  },
  {
   "cell_type": "code",
   "execution_count": null,
   "metadata": {
    "collapsed": true
   },
   "outputs": [],
   "source": [
    "most_pop.head(10)"
   ]
  },
  {
   "cell_type": "code",
   "execution_count": null,
   "metadata": {
    "collapsed": true
   },
   "outputs": [],
   "source": [
    "pop_df[\"most_pop\"] = most_pop"
   ]
  },
  {
   "cell_type": "code",
   "execution_count": null,
   "metadata": {
    "collapsed": true
   },
   "outputs": [],
   "source": [
    "pop_df.sort_values(\"most_pop\").reset_index().to_csv(\"/mnt/idms/fberes/data/bitcoin_ln_research/most_pop_nodes.csv\", index=False)"
   ]
  },
  {
   "cell_type": "code",
   "execution_count": null,
   "metadata": {
    "collapsed": true
   },
   "outputs": [],
   "source": [
    "def get_cent_rank(node, cent, weight, idx):\n",
    "    rank = -1\n",
    "    try:\n",
    "        rank = centrality_ranks[weight][idx].set_index(\"node_pub\").loc[node][cent]\n",
    "    finally:\n",
    "        return rank "
   ]
  },
  {
   "cell_type": "markdown",
   "metadata": {},
   "source": [
    "### Betweeness ranks of most popular nodes on weeks 1-5-8:\n",
    "\n",
    "#### Huge gain in betweeness:  (ALREADY CHANGED!!!)\n",
    "\n",
    "- 27 - 8 - 8 (5th)\n",
    "- 157 - 6 - 9 (11th)\n",
    "- 25 - 16 - 14 (16th)\n",
    "- 51 - 30 - 22 (21th)\n",
    "\n",
    "etc."
   ]
  },
  {
   "cell_type": "markdown",
   "metadata": {},
   "source": [
    "#### Ideas:\n",
    "\n",
    "   - node2vec-el klasszifikáljuk a betweenessben sokat javuló csúcsokat?"
   ]
  },
  {
   "cell_type": "code",
   "execution_count": null,
   "metadata": {
    "collapsed": true
   },
   "outputs": [],
   "source": [
    "c_key = \"betw\"\n",
    "weight = None\n",
    "for idx, node in enumerate(most_pop.index):\n",
    "    print(node,idx+1,\"# %i - %i - %i\" % (get_cent_rank(node, c_key, weight, 0), get_cent_rank(node, c_key, weight, 4), get_cent_rank(node, c_key, weight, 7)))"
   ]
  },
  {
   "cell_type": "markdown",
   "metadata": {},
   "source": [
    "c_key = \"betw\"\n",
    "#weight = \"capacity\"\n",
    "#weight = \"fee_base_msat\"\n",
    "weight = \"fee_rate_milli_msat\"\n",
    "for idx, node in enumerate(most_pop.index):\n",
    "    print(node,idx+1,\"# %i - %i - %i\" % (get_cent_rank(node, c_key, weight, 0), get_cent_rank(node, c_key, weight, 4), get_cent_rank(node, c_key, weight, 7)))"
   ]
  }
 ],
 "metadata": {
  "kernelspec": {
   "display_name": "Python [conda env:dm-3-env] *",
   "language": "python",
   "name": "conda-env-dm-3-env-py"
  },
  "language_info": {
   "codemirror_mode": {
    "name": "ipython",
    "version": 3
   },
   "file_extension": ".py",
   "mimetype": "text/x-python",
   "name": "python",
   "nbconvert_exporter": "python",
   "pygments_lexer": "ipython3",
   "version": "3.7.3"
  }
 },
 "nbformat": 4,
 "nbformat_minor": 2
}
