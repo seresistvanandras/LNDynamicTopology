{
 "cells": [
  {
   "cell_type": "code",
   "execution_count": null,
   "metadata": {},
   "outputs": [],
   "source": [
    "import pandas as pd\n",
    "import os, sys\n",
    "sys.path.insert(0,\"./python\")\n",
    "import transaction_simulator as ts\n",
    "from datawand.parametrization import ParamHelper"
   ]
  },
  {
   "cell_type": "markdown",
   "metadata": {},
   "source": [
    "# Parameters"
   ]
  },
  {
   "cell_type": "code",
   "execution_count": null,
   "metadata": {},
   "outputs": [],
   "source": [
    "ph = ParamHelper('..', 'LNGraph', sys.argv)\n",
    "\n",
    "experiment_id = ph.get(\"experiment_id\")\n",
    "snapshot_id = ph.get(\"snapshot_id\")\n",
    "amount_sat = ph.get(\"amount_sat\")\n",
    "num_transactions = ph.get(\"num_transactions\")\n",
    "eps = ph.get(\"eps\")\n",
    "day_interval = ph.get(\"day_interval\")"
   ]
  },
  {
   "cell_type": "code",
   "execution_count": null,
   "metadata": {},
   "outputs": [],
   "source": [
    "drop_disabled = True\n",
    "drop_low_cap = True\n",
    "with_depletion = True\n",
    "find_alternative_paths = False"
   ]
  },
  {
   "cell_type": "code",
   "execution_count": null,
   "metadata": {},
   "outputs": [],
   "source": [
    "data_dir = ph.get(\"data_dir\")\n",
    "output_dir = \"%s/simulations_ga_%idays/%s/%s\" % (data_dir, day_interval, snapshot_id, experiment_id)"
   ]
  },
  {
   "cell_type": "code",
   "execution_count": null,
   "metadata": {},
   "outputs": [],
   "source": [
    "if not os.path.exists(output_dir):\n",
    "    os.makedirs(output_dir)"
   ]
  },
  {
   "cell_type": "code",
   "execution_count": null,
   "metadata": {},
   "outputs": [],
   "source": [
    "snapshots = pd.read_csv(\"%s/directed_graphs/directed_temporal_multi_edges_%idays.csv\" % (data_dir, day_interval))\n",
    "node_meta = pd.read_csv(\"%s/node_meta_with_labels.csv\" % data_dir)\n",
    "providers = list(node_meta[\"pub_key\"])\n",
    "edges = snapshots[snapshots[\"snapshot_id\"]==snapshot_id]"
   ]
  },
  {
   "cell_type": "markdown",
   "metadata": {},
   "source": [
    "# Simulation"
   ]
  },
  {
   "cell_type": "code",
   "execution_count": null,
   "metadata": {},
   "outputs": [],
   "source": [
    "simulator = ts.TransactionSimulator(edges, providers, amount_sat, num_transactions, drop_disabled=drop_disabled, drop_low_cap=drop_low_cap, eps=eps, with_depletion=with_depletion)"
   ]
  },
  {
   "cell_type": "code",
   "execution_count": null,
   "metadata": {},
   "outputs": [],
   "source": [
    "%%time\n",
    "shortest_paths, _, all_router_fees, _ = simulator.simulate(weight=\"total_fee\", with_node_removals=find_alternative_paths)"
   ]
  },
  {
   "cell_type": "code",
   "execution_count": null,
   "metadata": {},
   "outputs": [],
   "source": [
    "source_stats = ts.get_total_fee_for_sources(simulator.transactions, shortest_paths)\n",
    "source_stats[\"mean_fee\"].mean(), source_stats[\"mean_fee\"].median()"
   ]
  },
  {
   "cell_type": "code",
   "execution_count": null,
   "metadata": {},
   "outputs": [],
   "source": [
    "%%time\n",
    "shortest_paths_3, _, all_router_fees_3, _ = simulator.simulate(weight=\"total_fee\", with_node_removals=find_alternative_paths, required_length=3)"
   ]
  },
  {
   "cell_type": "code",
   "execution_count": null,
   "metadata": {},
   "outputs": [],
   "source": [
    "source_stats_3 = ts.get_total_fee_for_sources(simulator.transactions, shortest_paths_3)\n",
    "source_stats_3[\"mean_fee\"].mean(), source_stats_3[\"mean_fee\"].median()"
   ]
  },
  {
   "cell_type": "code",
   "execution_count": null,
   "metadata": {},
   "outputs": [],
   "source": [
    "%%time\n",
    "shortest_paths_4, _, all_router_fees_4, _ = simulator.simulate(weight=\"total_fee\", with_node_removals=find_alternative_paths, required_length=4)"
   ]
  },
  {
   "cell_type": "code",
   "execution_count": null,
   "metadata": {},
   "outputs": [],
   "source": [
    "source_stats_4 = ts.get_total_fee_for_sources(simulator.transactions, shortest_paths_4)\n",
    "source_stats_4[\"mean_fee\"].mean(), source_stats_4[\"mean_fee\"].median()"
   ]
  },
  {
   "cell_type": "code",
   "execution_count": null,
   "metadata": {},
   "outputs": [],
   "source": [
    "%%time\n",
    "shortest_paths_5, _, all_router_fees_5, _ = simulator.simulate(weight=\"total_fee\", with_node_removals=find_alternative_paths, required_length=5)"
   ]
  },
  {
   "cell_type": "code",
   "execution_count": null,
   "metadata": {},
   "outputs": [],
   "source": [
    "source_stats_5 = ts.get_total_fee_for_sources(simulator.transactions, shortest_paths_5)\n",
    "source_stats_5[\"mean_fee\"].mean(), source_stats_5[\"mean_fee\"].median()"
   ]
  },
  {
   "cell_type": "code",
   "execution_count": null,
   "metadata": {},
   "outputs": [],
   "source": [
    "%%time\n",
    "shortest_paths_6, _, all_router_fees_6, _ = simulator.simulate(weight=\"total_fee\", with_node_removals=find_alternative_paths, required_length=6)"
   ]
  },
  {
   "cell_type": "code",
   "execution_count": null,
   "metadata": {},
   "outputs": [],
   "source": [
    "source_stats_6 = ts.get_total_fee_for_sources(simulator.transactions, shortest_paths_6)\n",
    "source_stats_6[\"mean_fee\"].mean(), source_stats_6[\"mean_fee\"].median()"
   ]
  },
  {
   "cell_type": "code",
   "execution_count": null,
   "metadata": {},
   "outputs": [],
   "source": []
  }
 ],
 "metadata": {
  "kernelspec": {
   "display_name": "Python [conda env:dm-3-env] *",
   "language": "python",
   "name": "conda-env-dm-3-env-py"
  },
  "language_info": {
   "codemirror_mode": {
    "name": "ipython",
    "version": 3
   },
   "file_extension": ".py",
   "mimetype": "text/x-python",
   "name": "python",
   "nbconvert_exporter": "python",
   "pygments_lexer": "ipython3",
   "version": "3.7.3"
  }
 },
 "nbformat": 4,
 "nbformat_minor": 4
}
