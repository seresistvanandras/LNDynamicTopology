{
 "cells": [
  {
   "cell_type": "code",
   "execution_count": null,
   "metadata": {},
   "outputs": [],
   "source": [
    "%matplotlib inline"
   ]
  },
  {
   "cell_type": "code",
   "execution_count": null,
   "metadata": {},
   "outputs": [],
   "source": [
    "import pandas as pd\n",
    "import numpy as np\n",
    "import matplotlib.pyplot as plt\n",
    "import seaborn as sns\n",
    "from ln_utils import handle_img"
   ]
  },
  {
   "cell_type": "code",
   "execution_count": null,
   "metadata": {},
   "outputs": [],
   "source": [
    "sns.set(font_scale = 2)\n",
    "sns.set_style(\"whitegrid\")"
   ]
  },
  {
   "cell_type": "code",
   "execution_count": null,
   "metadata": {},
   "outputs": [],
   "source": [
    "markers = [\"s\",\"*\",\"o\",\"^\",\"v\",\">\",\"D\",]"
   ]
  },
  {
   "cell_type": "markdown",
   "metadata": {},
   "source": [
    "# 1. Node traffic and income"
   ]
  },
  {
   "cell_type": "markdown",
   "metadata": {},
   "source": [
    "drop_disabled = False"
   ]
  },
  {
   "cell_type": "code",
   "execution_count": null,
   "metadata": {},
   "outputs": [],
   "source": [
    "drop_disabled = True"
   ]
  },
  {
   "cell_type": "markdown",
   "metadata": {},
   "source": [
    "if drop_disabled:\n",
    "    sim_dirs = {\n",
    "        10000:\"2019-09-05_14:35:13_10000sat_k6000_aNone_dropTrue\",\n",
    "        25000:\"2019-09-05_14:35:13_25000sat_k6000_aNone_dropTrue\",\n",
    "        50000:\"2019-09-05_14:35:13_50000sat_k6000_aNone_dropTrue\",\n",
    "        100000:\"2019-09-05_14:35:13_100000sat_k6000_aNone_dropTrue\",\n",
    "        200000:\"2019-09-05_14:35:13_200000sat_k6000_aNone_dropTrue\",\n",
    "        500000:\"2019-09-05_14:35:13_500000sat_k6000_aNone_dropTrue\",\n",
    "    }\n",
    "    root_dir = \"/mnt/idms/fberes/data/bitcoin_ln_research/results/router_traffic_and_income/dropTrue/\"\n",
    "else:\n",
    "    sim_dirs = {\n",
    "        500000:\"2019-09-04_14:12:21_500000sat_k5000_aNone_dropFalse\",\n",
    "        200000:\"2019-09-04_14:12:21_200000sat_k5000_aNone_dropFalse\",\n",
    "        100000:\"2019-09-02_17:05:18_100000sat_k5000_aNone_dropFalse\",\n",
    "        50000:\"2019-09-03_15:28:05_50000sat_k5000_aNone_dropFalse\",\n",
    "        25000:\"2019-09-04_14:12:21_25000sat_k5000_aNone_dropFalse\",\n",
    "        10000:\"2019-09-04_14:12:21_10000sat_k5000_aNone_dropFalse\"\n",
    "    }\n",
    "    root_dir = \"/mnt/idms/fberes/data/bitcoin_ln_research/results/router_traffic_and_income/dropFalse/\""
   ]
  },
  {
   "cell_type": "code",
   "execution_count": null,
   "metadata": {},
   "outputs": [],
   "source": [
    "sim_dirs = {\n",
    "10000:\"2019-09-07_10:23:25_10000sat_k6000\",\n",
    "25000:\"2019-09-07_05:06:14_25000sat_k6000\",\n",
    "50000:\"2019-09-06_22:03:19_50000sat_k6000\",\n",
    "100000:\"2019-09-07_14:24:11_100000sat_k6000\",\n",
    "200000:\"2019-09-07_18:37:32_200000sat_k6000\",\n",
    "500000:\"2019-09-07_22:40:54_500000sat_k6000\",\n",
    "}\n",
    "root_dir = \"/mnt/idms/fberes/data/bitcoin_ln_research/results/router_traffic_and_income/1days_40snapshot/\""
   ]
  },
  {
   "cell_type": "code",
   "execution_count": null,
   "metadata": {},
   "outputs": [],
   "source": [
    "node_name_replacements = {\n",
    "    \"rompert.com\u2261\u0192\u00f6\u2561\":\"rompert.com\",\n",
    "    \"03021c5f5f57322740e4\":\"BlueWallet\",\n",
    "    \"\u2261\u0192\u00dc\u00c7\u2261\u0192\u00ee\u00e6 BOLTENING.club\":\"BOLTENING.club\"\n",
    "}"
   ]
  },
  {
   "cell_type": "code",
   "execution_count": null,
   "metadata": {},
   "outputs": [],
   "source": [
    "parts = []\n",
    "for amount, folder in sim_dirs.items():\n",
    "    df = pd.read_csv(\"%s/%s.csv\" % (root_dir, folder))\n",
    "    df[\"amount\"] = amount\n",
    "    parts.append(df.replace(node_name_replacements).rename({\"fee\":\"income\",\"num_trans\":\"traffic\"},axis=1))\n",
    "traffic_and_income_df = pd.concat(parts)"
   ]
  },
  {
   "cell_type": "markdown",
   "metadata": {},
   "source": [
    "## Data Description\n",
    "\n",
    "- income: total routing income for the given entity\n",
    "- traffic: number of transactions routed through the given entity\n",
    "- name: name of the entity (for most of them it is a single node BUT for LNBIG.com it is approx. 25 node)\n",
    "- amount: the amount of each transaction in a given simulation"
   ]
  },
  {
   "cell_type": "code",
   "execution_count": null,
   "metadata": {},
   "outputs": [],
   "source": [
    "traffic_and_income_df.head()"
   ]
  },
  {
   "cell_type": "markdown",
   "metadata": {},
   "source": [
    "nodes = list(traffic_and_income_df.groupby(\"name\")[\"income\"].sum().sort_values(ascending=False).index)"
   ]
  },
  {
   "cell_type": "markdown",
   "metadata": {},
   "source": [
    "nodes = [\"LNBIG.com\",\"zigzag.io\",\"yalls.org\",\"ln1.satoshilabs.com\",\"BlueWallet\",\"OpenNode\",\"tippin.me\",\"ACINQ\",\"LightningPowerUsers.com\",\"Bitrefill.com\",\"Sagittarius A\",\"1ML.com node ALPHA\",\"BitMEXResearch\",\"LightningTo.Me\",\"fairly.cheap\"]"
   ]
  },
  {
   "cell_type": "code",
   "execution_count": null,
   "metadata": {},
   "outputs": [],
   "source": [
    "nodes = [\"rompert.com\",\"LNBIG.com\",\"zigzag.io\",\"yalls.org\",\"ln1.satoshilabs.com\",\"BlueWallet\",\"tippin.me\",\"ACINQ\",\"LightningPowerUsers.com\",\"Bitrefill.com\",\"1ML.com node ALPHA\",\"LightningTo.Me\",\"fairly.cheap\"]"
   ]
  },
  {
   "cell_type": "code",
   "execution_count": null,
   "metadata": {},
   "outputs": [],
   "source": [
    "def plot_col_wrt_tx_amount(df, col, nodes, fig_size=(15,10)):\n",
    "    plt.figure(figsize=fig_size)\n",
    "    for i, n in enumerate(nodes):\n",
    "        node_df = df[df[\"name\"]==n]\n",
    "        x, y = node_df[\"amount\"], node_df[col]\n",
    "        ls = \"-\" if (i+1) // len(markers) == 0 else \"--\" \n",
    "        plt.plot(x, y, marker=markers[i%len(markers)], markersize=10, linewidth=3, linestyle=ls, label=n)\n",
    "    plt.xlabel(\"simulated amount per transaction (SAT)\")\n",
    "    plt.ylabel(col)\n",
    "    plt.yscale(\"log\")\n",
    "    plt.xscale(\"log\")"
   ]
  },
  {
   "cell_type": "markdown",
   "metadata": {},
   "source": [
    "## Results"
   ]
  },
  {
   "cell_type": "markdown",
   "metadata": {},
   "source": [
    "### a.) Routing income with respect to tx_amount"
   ]
  },
  {
   "cell_type": "code",
   "execution_count": null,
   "metadata": {
    "scrolled": false
   },
   "outputs": [],
   "source": [
    "plot_col_wrt_tx_amount(traffic_and_income_df, \"income\", nodes)\n",
    "handle_img(\"router_income_drop%s\" % drop_disabled, outside=True, img_dir=root_dir)"
   ]
  },
  {
   "cell_type": "markdown",
   "metadata": {},
   "source": [
    "### b.) Routing traffic with respect to tx_amount"
   ]
  },
  {
   "cell_type": "code",
   "execution_count": null,
   "metadata": {},
   "outputs": [],
   "source": [
    "plot_col_wrt_tx_amount(traffic_and_income_df, \"traffic\", nodes)\n",
    "handle_img(\"router_traffic_drop%s\" % drop_disabled, outside=True, img_dir=root_dir)"
   ]
  },
  {
   "cell_type": "markdown",
   "metadata": {},
   "source": [
    "### c.) Routing income per transaction (calculated from routed traffic) with respect to tx_amount"
   ]
  },
  {
   "cell_type": "code",
   "execution_count": null,
   "metadata": {},
   "outputs": [],
   "source": [
    "ipt_col = \"income per transaction (SAT)\""
   ]
  },
  {
   "cell_type": "code",
   "execution_count": null,
   "metadata": {},
   "outputs": [],
   "source": [
    "traffic_and_income_df[ipt_col] = traffic_and_income_df[\"income\"] / traffic_and_income_df[\"traffic\"]"
   ]
  },
  {
   "cell_type": "code",
   "execution_count": null,
   "metadata": {},
   "outputs": [],
   "source": [
    "plot_col_wrt_tx_amount(traffic_and_income_df, ipt_col, nodes)\n",
    "handle_img(\"node_income_per_transaction_drop%s\" % drop_disabled, outside=True, img_dir=root_dir)"
   ]
  },
  {
   "cell_type": "markdown",
   "metadata": {},
   "source": [
    "# 2. ROI analysis"
   ]
  },
  {
   "cell_type": "markdown",
   "metadata": {},
   "source": [
    "## Load meta data from 1ML.com"
   ]
  },
  {
   "cell_type": "code",
   "execution_count": null,
   "metadata": {},
   "outputs": [],
   "source": [
    "node_names = pd.read_csv(\"/mnt/idms/fberes/data/bitcoin_ln_research/node_names.csv\")"
   ]
  },
  {
   "cell_type": "code",
   "execution_count": null,
   "metadata": {},
   "outputs": [],
   "source": [
    "LNBIG_data = node_names[node_names[\"is_lnbig\"]]\n",
    "len(LNBIG_data)"
   ]
  },
  {
   "cell_type": "code",
   "execution_count": null,
   "metadata": {},
   "outputs": [],
   "source": [
    "LNBIG_record = LNBIG_data[[\"cap_ratio\",\"cap_sat\"]].sum()\n",
    "LNBIG_record[\"name\"] = \"LNBIG.com\""
   ]
  },
  {
   "cell_type": "code",
   "execution_count": null,
   "metadata": {},
   "outputs": [],
   "source": [
    "other_routers = [\n",
    "    \"02ad6fb8d693dc1e4569bcedefadf5f72a931ae027dc0f0c544b34c1c6f3b9a02b\",#rompert.com\n",
    "    \"0232e20e7b68b9b673fb25f48322b151a93186bffe4550045040673797ceca43cf\",#zigzag.io\n",
    "    \"03e50492eab4107a773141bb419e107bda3de3d55652e6e1a41225f06a0bbf2d56\",#yalls.org\n",
    "    \"0279c22ed7a068d10dc1a38ae66d2d6461e269226c60258c021b1ddcdfe4b00bc4\",#ln1.satoshilabs.com\n",
    "    \"03abf6f44c355dec0d5aa155bdbdd6e0c8fefe318eff402de65c6eb2e1be55dc3e\",#OpenNode\n",
    "    \"03c2abfa93eacec04721c019644584424aab2ba4dff3ac9bdab4e9c97007491dda\",#tippin.me\n",
    "    \"0331f80652fb840239df8dc99205792bba2e559a05469915804c08420230e23c7c\",#LightningPowerUsers.com\n",
    "    \"03021c5f5f57322740e4ee6936452add19dc7ea7ccf90635f95119ab82a62ae268\",#bluewallet - 03021c5f5f57322740e4\n",
    "    \"028dcc199be86786818c8c32bffe9db8855c5fca98951eec99d1fa335d841605c2\",#btc.lnetwork.tokyo\n",
    "    \"0217890e3aad8d35bc054f43acc00084b25229ecff0ab68debd82883ad65ee8266\",#1ML.com node ALPHA\n",
    "    \"03864ef025fde8fb587d989186ce6a4a186895ee44a926bfc370e2c366597a3f8f\",#ACINQ\n",
    "    \"02529db69fd2ebd3126fb66fafa234fc3544477a23d509fe93ed229bb0e92e4fb8\",#Boltening.club\n",
    "    \"02cdf83ef8e45908b1092125d25c68dcec7751ca8d39f557775cd842e5bc127469\",#tady je slushovo\n",
    "    \"03ee180e8ee07f1f9c9987d98b5d5decf6bad7d058bdd8be3ad97c8e0dd2cdc7ba\",#Electrophorus [W_C_B]\n",
    "    \"03a503d8e30f2ff407096d235b5db63b4fcf3f89a653acb6f43d3fc492a7674019\",#Sagittarius A\n",
    "    \"030c3f19d742ca294a55c00376b3b355c3c90d61c6b6b39554dbc7ac19b141c14f\",#Bitrefill.com\n",
    "    \"03bb88ccc444534da7b5b64b4f7b15e1eccb18e102db0e400d4b9cfe93763aa26d\",#LightningTo.Me\n",
    "    \"0242a4ae0c5bef18048fbecf995094b74bfb0f7391418d71ed394784373f41e4f3\",#CoinGate\n",
    "    \"03cb7983dc247f9f81a0fa2dfa3ce1c255365f7279c8dd143e086ca333df10e278\",#fairly.cheap\n",
    "    \"031678745383bd273b4c3dbefc8ffbf4847d85c2f62d3407c0c980430b3257c403\",#lightning-roulette.com\n",
    "]"
   ]
  },
  {
   "cell_type": "code",
   "execution_count": null,
   "metadata": {},
   "outputs": [],
   "source": [
    "router_node_data = node_names[node_names[\"pub_key\"].isin(other_routers)][[\"name\",\"cap_ratio\",\"cap_sat\"]].replace(node_name_replacements)"
   ]
  },
  {
   "cell_type": "code",
   "execution_count": null,
   "metadata": {},
   "outputs": [],
   "source": [
    "router_node_data = router_node_data.append(LNBIG_record, ignore_index=True)"
   ]
  },
  {
   "cell_type": "code",
   "execution_count": null,
   "metadata": {},
   "outputs": [],
   "source": [
    "router_node_data.sort_values(\"cap_ratio\", ascending=False).head()"
   ]
  },
  {
   "cell_type": "markdown",
   "metadata": {},
   "source": [
    "#### Almost all capacity is accounted for..."
   ]
  },
  {
   "cell_type": "code",
   "execution_count": null,
   "metadata": {},
   "outputs": [],
   "source": [
    "router_node_data[\"cap_ratio\"].sum()"
   ]
  },
  {
   "cell_type": "markdown",
   "metadata": {},
   "source": [
    "## Calculate ROI based on simulation\n",
    "\n",
    "- number of daily transactions: 5000\n",
    "- tx_amount: 50K SAT (~5,2 USD)"
   ]
  },
  {
   "cell_type": "code",
   "execution_count": null,
   "metadata": {},
   "outputs": [],
   "source": [
    "node_efficiency = traffic_and_income_df[traffic_and_income_df[\"amount\"]==50000][[\"name\",\"income\",\"traffic\"]].rename({\"income\":\"daily_income\",\"traffic\":\"daily_traffic\"}, axis=1)"
   ]
  },
  {
   "cell_type": "code",
   "execution_count": null,
   "metadata": {},
   "outputs": [],
   "source": [
    "router_node_data = router_node_data.merge(node_efficiency, on=\"name\")"
   ]
  },
  {
   "cell_type": "code",
   "execution_count": null,
   "metadata": {},
   "outputs": [],
   "source": [
    "router_node_data[\"annual_roi\"] = router_node_data.apply(lambda x: x[\"daily_income\"]*365.0/x[\"cap_sat\"], axis=1)"
   ]
  },
  {
   "cell_type": "code",
   "execution_count": null,
   "metadata": {},
   "outputs": [],
   "source": [
    "router_node_data[\"dupl_factor_5%_roi\"] = router_node_data.apply(lambda x: (x[\"cap_sat\"]*0.05)/(x[\"daily_income\"]*365.0), axis=1)"
   ]
  },
  {
   "cell_type": "code",
   "execution_count": null,
   "metadata": {},
   "outputs": [],
   "source": [
    "router_node_data[\"annual_roi_rank\"] = router_node_data[\"annual_roi\"].rank(ascending=False).astype(\"int64\")\n",
    "router_node_data[\"daily_traffic_rank\"] = router_node_data[\"daily_traffic\"].rank(ascending=False).astype(\"int64\")\n",
    "router_node_data = router_node_data.sort_values(\"daily_income\",ascending=False).reset_index(drop=True)"
   ]
  },
  {
   "cell_type": "code",
   "execution_count": null,
   "metadata": {},
   "outputs": [],
   "source": [
    "router_node_data"
   ]
  },
  {
   "cell_type": "code",
   "execution_count": null,
   "metadata": {},
   "outputs": [],
   "source": [
    "router_node_data.to_csv(\"%s/roi_analysis_drop%s.csv\" % (root_dir, drop_disabled), index=False)"
   ]
  },
  {
   "cell_type": "code",
   "execution_count": null,
   "metadata": {},
   "outputs": [],
   "source": [
    "s = str(router_node_data.to_latex(index=False))"
   ]
  },
  {
   "cell_type": "code",
   "execution_count": null,
   "metadata": {},
   "outputs": [],
   "source": [
    "s = s.replace(\"name\",\"Entity name\")\n",
    "s = s.replace(\"cap\\_ratio\",\"Cap. ratio\")\n",
    "s = s.replace(\"cap\\_sat\",\"Entity capacity\")\n",
    "s = s.replace(\"daily\\_income\",\"Daily income\")\n",
    "s = s.replace(\"daily\\_traffic\",\"Daily traffic\")\n",
    "s = s.replace(\"annual\\_roi\",\"Annual ROI\")\n",
    "s = s.replace(\"dupl\\_factor\\_5\\%\\_roi\",\"Duplication factor\")\n",
    "s = s.replace(\"Annual ROI\\_rank\",\"ROI rank\")\n",
    "s = s.replace(\"Daily traffic\\_rank\",\"Traffic rank\")"
   ]
  },
  {
   "cell_type": "code",
   "execution_count": null,
   "metadata": {},
   "outputs": [],
   "source": [
    "print(s)"
   ]
  }
 ],
 "metadata": {
  "kernelspec": {
   "display_name": "Python [conda env:dm-3-env] *",
   "language": "python",
   "name": "conda-env-dm-3-env-py"
  },
  "language_info": {
   "codemirror_mode": {
    "name": "ipython",
    "version": 3
   },
   "file_extension": ".py",
   "mimetype": "text/x-python",
   "name": "python",
   "nbconvert_exporter": "python",
   "pygments_lexer": "ipython3",
   "version": "3.7.3"
  }
 },
 "nbformat": 4,
 "nbformat_minor": 2
}