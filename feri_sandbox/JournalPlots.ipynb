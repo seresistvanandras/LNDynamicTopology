{
 "cells": [
  {
   "cell_type": "code",
   "execution_count": null,
   "metadata": {},
   "outputs": [],
   "source": [
    "%matplotlib inline"
   ]
  },
  {
   "cell_type": "code",
   "execution_count": null,
   "metadata": {},
   "outputs": [],
   "source": [
    "import pandas as pd\n",
    "import numpy as np\n",
    "import matplotlib.pyplot as plt\n",
    "import seaborn as sns"
   ]
  },
  {
   "cell_type": "code",
   "execution_count": null,
   "metadata": {},
   "outputs": [],
   "source": [
    "sns.set(font_scale = 2)\n",
    "sns.set_style(\"whitegrid\")"
   ]
  },
  {
   "cell_type": "code",
   "execution_count": null,
   "metadata": {},
   "outputs": [],
   "source": [
    "markers = [\"s\",\"*\",\"o\",\"^\",\"v\",\">\",\"D\",]"
   ]
  },
  {
   "cell_type": "code",
   "execution_count": null,
   "metadata": {},
   "outputs": [],
   "source": [
    "def handle_img(fig_id, outside=False, img_dir=\"/mnt/idms/fberes/data/bitcoin_ln_research/results/\", anchor=(1.02, 1.02)):\n",
    "    if outside:\n",
    "        lgd = plt.legend(loc=2,bbox_to_anchor=anchor)\n",
    "        plt.savefig(\"%s/%s.pdf\" % (img_dir, fig_id), format=\"pdf\", bbox_extra_artists=(lgd,), bbox_inches='tight')\n",
    "    else:\n",
    "        lgd = plt.legend(loc=8, ncol=2)\n",
    "        plt.savefig(\"%s/%s.pdf\" % (img_dir, fig_id), format=\"pdf\")\n",
    "\n",
    "def plot_col_wrt_tx_amount(df, value_col, nodes, key_col=\"amount\", fig_size=(15,10)):\n",
    "    plt.figure(figsize=fig_size)\n",
    "    for i, n in enumerate(nodes):\n",
    "        node_df = df[df[\"name\"]==n]\n",
    "        x, y = node_df[key_col], node_df[value_col]\n",
    "        ls = \"-\" if (i+1) // len(markers) == 0 else \"--\" \n",
    "        plt.plot(x, y, marker=markers[i%len(markers)], markersize=10, linewidth=3, linestyle=ls, label=n)\n",
    "    if key_col == \"amount\":\n",
    "        plt.xlabel(\"simulated amount per transaction (SAT)\")\n",
    "        plt.xscale(\"log\")\n",
    "    else:\n",
    "        plt.xlabel(\"epsilon\")\n",
    "    plt.ylabel(value_col)\n",
    "    plt.yscale(\"log\")\n",
    "    \n",
    "def calculate_roi_for_routers(node_efficiency, router_1ML_data):\n",
    "    router_data = router_1ML_data.copy().merge(node_efficiency, on=\"name\")\n",
    "    router_data[\"annual_roi\"] = router_data.apply(lambda x: x[\"daily_income\"]*365.0/x[\"cap_sat\"], axis=1)\n",
    "    router_data[\"dupl_factor_5%_roi\"] = router_data.apply(lambda x: (x[\"cap_sat\"]*0.05)/(x[\"daily_income\"]*365.0), axis=1)\n",
    "    router_data[\"annual_roi_rank\"] = router_data[\"annual_roi\"].rank(ascending=False).astype(\"int64\")\n",
    "    router_data[\"daily_traffic_rank\"] = router_data[\"daily_traffic\"].rank(ascending=False).astype(\"int64\")\n",
    "    router_data = router_data.sort_values(\"daily_income\",ascending=False).reset_index(drop=True)\n",
    "    return router_data"
   ]
  },
  {
   "cell_type": "markdown",
   "metadata": {},
   "source": [
    "# 1. Node traffic and income"
   ]
  },
  {
   "cell_type": "code",
   "execution_count": null,
   "metadata": {},
   "outputs": [],
   "source": [
    "node_name_replacements = {\n",
    "    \"rompert.com\u2261\u0192\u00f6\u2561\":\"rompert.com\",\n",
    "    \"03021c5f5f57322740e4\":\"BlueWallet\",\n",
    "    \"\u2261\u0192\u00dc\u00c7\u2261\u0192\u00ee\u00e6 BOLTENING.club\":\"BOLTENING.club\"\n",
    "}"
   ]
  },
  {
   "cell_type": "markdown",
   "metadata": {},
   "source": [
    "nodes = list(traffic_and_income_df.groupby(\"name\")[\"income\"].sum().sort_values(ascending=False).index)"
   ]
  },
  {
   "cell_type": "markdown",
   "metadata": {},
   "source": [
    "nodes = [\"LNBIG.com\",\"zigzag.io\",\"yalls.org\",\"ln1.satoshilabs.com\",\"BlueWallet\",\"OpenNode\",\"tippin.me\",\"ACINQ\",\"LightningPowerUsers.com\",\"Bitrefill.com\",\"Sagittarius A\",\"1ML.com node ALPHA\",\"BitMEXResearch\",\"LightningTo.Me\",\"fairly.cheap\"]"
   ]
  },
  {
   "cell_type": "code",
   "execution_count": null,
   "metadata": {},
   "outputs": [],
   "source": [
    "nodes = [\"rompert.com\",\"LNBIG.com\",\"zigzag.io\",\"yalls.org\",\"ln1.satoshilabs.com\",\"BlueWallet\",\"tippin.me\",\"ACINQ\",\"LightningPowerUsers.com\",\"Bitrefill.com\",\"1ML.com node ALPHA\",\"LightningTo.Me\",\"fairly.cheap\"]"
   ]
  },
  {
   "cell_type": "code",
   "execution_count": null,
   "metadata": {},
   "outputs": [],
   "source": [
    "ipt_col = \"income per transaction (SAT)\""
   ]
  },
  {
   "cell_type": "markdown",
   "metadata": {},
   "source": [
    "## i.) with respect to amount"
   ]
  },
  {
   "cell_type": "code",
   "execution_count": null,
   "metadata": {},
   "outputs": [],
   "source": [
    "drop_disabled = True"
   ]
  },
  {
   "cell_type": "code",
   "execution_count": null,
   "metadata": {},
   "outputs": [],
   "source": [
    "sim_dirs = {\n",
    "10000:\"2019-09-07_10:23:25_10000sat_k6000\",\n",
    "25000:\"2019-09-07_05:06:14_25000sat_k6000\",\n",
    "50000:\"2019-09-06_22:03:19_50000sat_k6000\",\n",
    "100000:\"2019-09-07_14:24:11_100000sat_k6000\",\n",
    "200000:\"2019-09-07_18:37:32_200000sat_k6000\",\n",
    "500000:\"2019-09-07_22:40:54_500000sat_k6000\",\n",
    "}\n",
    "root_dir = \"/mnt/idms/fberes/data/bitcoin_ln_research/experiments_with_rayleigh/results/router_traffic_and_income/1days_40snapshot/\""
   ]
  },
  {
   "cell_type": "code",
   "execution_count": null,
   "metadata": {},
   "outputs": [],
   "source": [
    "parts = []\n",
    "for amount, folder in sim_dirs.items():\n",
    "    df = pd.read_csv(\"%s/%s.csv\" % (root_dir, folder))\n",
    "    df[\"amount\"] = amount\n",
    "    parts.append(df.replace(node_name_replacements).rename({\"fee\":\"income\",\"num_trans\":\"traffic\"},axis=1))\n",
    "traffic_and_income_df = pd.concat(parts)"
   ]
  },
  {
   "cell_type": "markdown",
   "metadata": {},
   "source": [
    "## Data Description\n",
    "\n",
    "- income: total routing income for the given entity\n",
    "- traffic: number of transactions routed through the given entity\n",
    "- name: name of the entity (for most of them it is a single node BUT for LNBIG.com it is approx. 25 node)\n",
    "- amount: the amount of each transaction in a given simulation"
   ]
  },
  {
   "cell_type": "code",
   "execution_count": null,
   "metadata": {},
   "outputs": [],
   "source": [
    "traffic_and_income_df.head()"
   ]
  },
  {
   "cell_type": "markdown",
   "metadata": {},
   "source": [
    "## Results"
   ]
  },
  {
   "cell_type": "markdown",
   "metadata": {},
   "source": [
    "### a.) Routing income with respect to tx_amount"
   ]
  },
  {
   "cell_type": "code",
   "execution_count": null,
   "metadata": {
    "scrolled": false
   },
   "outputs": [],
   "source": [
    "plot_col_wrt_tx_amount(traffic_and_income_df, \"income\", nodes)\n",
    "handle_img(\"router_income_drop%s\" % drop_disabled, outside=True, img_dir=root_dir)"
   ]
  },
  {
   "cell_type": "markdown",
   "metadata": {},
   "source": [
    "### b.) Routing traffic with respect to tx_amount"
   ]
  },
  {
   "cell_type": "code",
   "execution_count": null,
   "metadata": {},
   "outputs": [],
   "source": [
    "plot_col_wrt_tx_amount(traffic_and_income_df, \"traffic\", nodes)\n",
    "handle_img(\"router_traffic_drop%s\" % drop_disabled, outside=True, img_dir=root_dir)"
   ]
  },
  {
   "cell_type": "markdown",
   "metadata": {},
   "source": [
    "### c.) Routing income per transaction (calculated from routed traffic) with respect to tx_amount"
   ]
  },
  {
   "cell_type": "code",
   "execution_count": null,
   "metadata": {},
   "outputs": [],
   "source": [
    "traffic_and_income_df[ipt_col] = traffic_and_income_df[\"income\"] / traffic_and_income_df[\"traffic\"]"
   ]
  },
  {
   "cell_type": "code",
   "execution_count": null,
   "metadata": {},
   "outputs": [],
   "source": [
    "plot_col_wrt_tx_amount(traffic_and_income_df, ipt_col, nodes)\n",
    "handle_img(\"node_income_per_transaction_drop%s\" % drop_disabled, outside=True, img_dir=root_dir)"
   ]
  },
  {
   "cell_type": "markdown",
   "metadata": {},
   "source": [
    "## ii.) With respect to epsilon"
   ]
  },
  {
   "cell_type": "code",
   "execution_count": null,
   "metadata": {},
   "outputs": [],
   "source": [
    "root_dir_eps = \"/mnt/idms/fberes/data/bitcoin_ln_research/results/router_traffic_and_income/effect_of_epsilon/\"\n",
    "sim_dirs_eps = {\n",
    "0.0:\"2019-09-26_14:15:21_50000sat_k6000_eps0.00_selected\",\n",
    "0.2:\"2019-09-26_14:15:21_50000sat_k6000_eps0.20_selected\",\n",
    "0.5:\"2019-09-26_14:15:21_50000sat_k6000_eps0.50_selected\",\n",
    "0.8:\"2019-09-26_14:15:21_50000sat_k6000_eps0.80_selected\",\n",
    "1.0:\"2019-09-26_14:15:21_50000sat_k6000_eps1.00_selected\",\n",
    "}"
   ]
  },
  {
   "cell_type": "code",
   "execution_count": null,
   "metadata": {},
   "outputs": [],
   "source": [
    "parts = []\n",
    "for eps, folder in sim_dirs_eps.items():\n",
    "    df = pd.read_csv(\"%s/%s.csv\" % (root_dir_eps, folder))\n",
    "    df[\"epsilon\"] = eps\n",
    "    parts.append(df.replace(node_name_replacements).rename({\"mean_fee\":\"income\",\"mean_num_trans\":\"traffic\"},axis=1))\n",
    "traffic_and_income_df_eps = pd.concat(parts)"
   ]
  },
  {
   "cell_type": "markdown",
   "metadata": {},
   "source": [
    "## Results"
   ]
  },
  {
   "cell_type": "markdown",
   "metadata": {},
   "source": [
    "### a.) Routing income with respect to tx_amount"
   ]
  },
  {
   "cell_type": "code",
   "execution_count": null,
   "metadata": {
    "scrolled": false
   },
   "outputs": [],
   "source": [
    "plot_col_wrt_tx_amount(traffic_and_income_df_eps, \"income\", nodes, key_col=\"epsilon\")\n",
    "handle_img(\"router_income_eps\", outside=True, img_dir=root_dir_eps)"
   ]
  },
  {
   "cell_type": "markdown",
   "metadata": {},
   "source": [
    "### b.) Routing traffic with respect to tx_amount"
   ]
  },
  {
   "cell_type": "code",
   "execution_count": null,
   "metadata": {},
   "outputs": [],
   "source": [
    "plot_col_wrt_tx_amount(traffic_and_income_df_eps, \"traffic\", nodes, key_col=\"epsilon\")\n",
    "handle_img(\"router_traffic_eps\", outside=True, img_dir=root_dir_eps)"
   ]
  },
  {
   "cell_type": "markdown",
   "metadata": {},
   "source": [
    "### c.) Routing income per transaction (calculated from routed traffic) with respect to tx_amount"
   ]
  },
  {
   "cell_type": "code",
   "execution_count": null,
   "metadata": {},
   "outputs": [],
   "source": [
    "ipt_col = \"income per transaction (SAT)\""
   ]
  },
  {
   "cell_type": "code",
   "execution_count": null,
   "metadata": {},
   "outputs": [],
   "source": [
    "traffic_and_income_df_eps[ipt_col] = traffic_and_income_df_eps[\"income\"] / traffic_and_income_df_eps[\"traffic\"]"
   ]
  },
  {
   "cell_type": "code",
   "execution_count": null,
   "metadata": {},
   "outputs": [],
   "source": [
    "plot_col_wrt_tx_amount(traffic_and_income_df_eps, ipt_col, nodes, key_col=\"epsilon\")\n",
    "handle_img(\"node_income_per_transaction_eps\", outside=True, img_dir=root_dir_eps)"
   ]
  },
  {
   "cell_type": "markdown",
   "metadata": {},
   "source": [
    "# 2. ROI analysis"
   ]
  },
  {
   "cell_type": "markdown",
   "metadata": {},
   "source": [
    "## Load meta data from 1ML.com"
   ]
  },
  {
   "cell_type": "code",
   "execution_count": null,
   "metadata": {},
   "outputs": [],
   "source": [
    "node_names = pd.read_csv(\"/mnt/idms/fberes/data/bitcoin_ln_research/node_names.csv\")"
   ]
  },
  {
   "cell_type": "code",
   "execution_count": null,
   "metadata": {},
   "outputs": [],
   "source": [
    "LNBIG_data = node_names[node_names[\"is_lnbig\"]]\n",
    "len(LNBIG_data)"
   ]
  },
  {
   "cell_type": "code",
   "execution_count": null,
   "metadata": {},
   "outputs": [],
   "source": [
    "LNBIG_record = LNBIG_data[[\"cap_ratio\",\"cap_sat\"]].sum()\n",
    "LNBIG_record[\"name\"] = \"LNBIG.com\""
   ]
  },
  {
   "cell_type": "code",
   "execution_count": null,
   "metadata": {},
   "outputs": [],
   "source": [
    "other_routers = [\n",
    "    \"02ad6fb8d693dc1e4569bcedefadf5f72a931ae027dc0f0c544b34c1c6f3b9a02b\",#rompert.com\n",
    "    \"0232e20e7b68b9b673fb25f48322b151a93186bffe4550045040673797ceca43cf\",#zigzag.io\n",
    "    \"03e50492eab4107a773141bb419e107bda3de3d55652e6e1a41225f06a0bbf2d56\",#yalls.org\n",
    "    \"0279c22ed7a068d10dc1a38ae66d2d6461e269226c60258c021b1ddcdfe4b00bc4\",#ln1.satoshilabs.com\n",
    "    \"03abf6f44c355dec0d5aa155bdbdd6e0c8fefe318eff402de65c6eb2e1be55dc3e\",#OpenNode\n",
    "    \"03c2abfa93eacec04721c019644584424aab2ba4dff3ac9bdab4e9c97007491dda\",#tippin.me\n",
    "    \"0331f80652fb840239df8dc99205792bba2e559a05469915804c08420230e23c7c\",#LightningPowerUsers.com\n",
    "    \"03021c5f5f57322740e4ee6936452add19dc7ea7ccf90635f95119ab82a62ae268\",#bluewallet - 03021c5f5f57322740e4\n",
    "    \"028dcc199be86786818c8c32bffe9db8855c5fca98951eec99d1fa335d841605c2\",#btc.lnetwork.tokyo\n",
    "    \"0217890e3aad8d35bc054f43acc00084b25229ecff0ab68debd82883ad65ee8266\",#1ML.com node ALPHA\n",
    "    \"03864ef025fde8fb587d989186ce6a4a186895ee44a926bfc370e2c366597a3f8f\",#ACINQ\n",
    "    \"02529db69fd2ebd3126fb66fafa234fc3544477a23d509fe93ed229bb0e92e4fb8\",#Boltening.club\n",
    "    \"02cdf83ef8e45908b1092125d25c68dcec7751ca8d39f557775cd842e5bc127469\",#tady je slushovo\n",
    "    \"03ee180e8ee07f1f9c9987d98b5d5decf6bad7d058bdd8be3ad97c8e0dd2cdc7ba\",#Electrophorus [W_C_B]\n",
    "    \"03a503d8e30f2ff407096d235b5db63b4fcf3f89a653acb6f43d3fc492a7674019\",#Sagittarius A\n",
    "    \"030c3f19d742ca294a55c00376b3b355c3c90d61c6b6b39554dbc7ac19b141c14f\",#Bitrefill.com\n",
    "    \"03bb88ccc444534da7b5b64b4f7b15e1eccb18e102db0e400d4b9cfe93763aa26d\",#LightningTo.Me\n",
    "    \"0242a4ae0c5bef18048fbecf995094b74bfb0f7391418d71ed394784373f41e4f3\",#CoinGate\n",
    "    \"03cb7983dc247f9f81a0fa2dfa3ce1c255365f7279c8dd143e086ca333df10e278\",#fairly.cheap\n",
    "    \"031678745383bd273b4c3dbefc8ffbf4847d85c2f62d3407c0c980430b3257c403\",#lightning-roulette.com\n",
    "]"
   ]
  },
  {
   "cell_type": "code",
   "execution_count": null,
   "metadata": {},
   "outputs": [],
   "source": [
    "router_node_data = node_names[node_names[\"pub_key\"].isin(other_routers)][[\"name\",\"cap_ratio\",\"cap_sat\"]].replace(node_name_replacements)"
   ]
  },
  {
   "cell_type": "code",
   "execution_count": null,
   "metadata": {},
   "outputs": [],
   "source": [
    "router_node_data = router_node_data.append(LNBIG_record, ignore_index=True)"
   ]
  },
  {
   "cell_type": "code",
   "execution_count": null,
   "metadata": {},
   "outputs": [],
   "source": [
    "router_node_data.sort_values(\"cap_ratio\", ascending=False).head()"
   ]
  },
  {
   "cell_type": "markdown",
   "metadata": {},
   "source": [
    "#### Almost all capacity is accounted for..."
   ]
  },
  {
   "cell_type": "code",
   "execution_count": null,
   "metadata": {},
   "outputs": [],
   "source": [
    "router_node_data[\"cap_ratio\"].sum()"
   ]
  },
  {
   "cell_type": "markdown",
   "metadata": {},
   "source": [
    "## Calculate ROI based on simulation (old version)\n",
    "\n",
    "- number of daily transactions: 5000\n",
    "- tx_amount: 50K SAT (~5,2 USD)"
   ]
  },
  {
   "cell_type": "code",
   "execution_count": null,
   "metadata": {},
   "outputs": [],
   "source": [
    "node_efficiency = traffic_and_income_df[traffic_and_income_df[\"amount\"]==50000][[\"name\",\"income\",\"traffic\"]].rename({\"income\":\"daily_income\",\"traffic\":\"daily_traffic\"}, axis=1)"
   ]
  },
  {
   "cell_type": "code",
   "execution_count": null,
   "metadata": {},
   "outputs": [],
   "source": [
    "router_node_data_with_roi = calculate_roi_for_routers(node_efficiency, router_node_data)"
   ]
  },
  {
   "cell_type": "code",
   "execution_count": null,
   "metadata": {},
   "outputs": [],
   "source": [
    "router_node_data_with_roi"
   ]
  },
  {
   "cell_type": "markdown",
   "metadata": {},
   "source": [
    "## Calculate ROI with epsilon"
   ]
  },
  {
   "cell_type": "code",
   "execution_count": null,
   "metadata": {},
   "outputs": [],
   "source": [
    "node_efficiency_eps = traffic_and_income_df_eps[traffic_and_income_df_eps[\"epsilon\"]==0.8][[\"name\",\"income\",\"traffic\"]].rename({\"income\":\"daily_income\",\"traffic\":\"daily_traffic\"}, axis=1)"
   ]
  },
  {
   "cell_type": "code",
   "execution_count": null,
   "metadata": {},
   "outputs": [],
   "source": [
    "router_node_data_with_roi_eps = calculate_roi_for_routers(node_efficiency_eps, router_node_data)"
   ]
  },
  {
   "cell_type": "code",
   "execution_count": null,
   "metadata": {},
   "outputs": [],
   "source": [
    "router_node_data_with_roi_eps"
   ]
  },
  {
   "cell_type": "markdown",
   "metadata": {},
   "source": [
    "## Export results"
   ]
  },
  {
   "cell_type": "code",
   "execution_count": null,
   "metadata": {},
   "outputs": [],
   "source": [
    "router_node_data_with_roi.to_csv(\"%s/roi_analysis_drop%s.csv\" % (root_dir, drop_disabled), index=False)"
   ]
  },
  {
   "cell_type": "code",
   "execution_count": null,
   "metadata": {},
   "outputs": [],
   "source": [
    "s = str(router_node_data_with_roi.to_latex(index=False))"
   ]
  },
  {
   "cell_type": "code",
   "execution_count": null,
   "metadata": {},
   "outputs": [],
   "source": [
    "s = s.replace(\"name\",\"Entity name\")\n",
    "s = s.replace(\"cap\\_ratio\",\"Cap. ratio\")\n",
    "s = s.replace(\"cap\\_sat\",\"Entity capacity\")\n",
    "s = s.replace(\"daily\\_income\",\"Daily income\")\n",
    "s = s.replace(\"daily\\_traffic\",\"Daily traffic\")\n",
    "s = s.replace(\"annual\\_roi\",\"Annual ROI\")\n",
    "s = s.replace(\"dupl\\_factor\\_5\\%\\_roi\",\"Duplication factor\")\n",
    "s = s.replace(\"Annual ROI\\_rank\",\"ROI rank\")\n",
    "s = s.replace(\"Daily traffic\\_rank\",\"Traffic rank\")"
   ]
  },
  {
   "cell_type": "code",
   "execution_count": null,
   "metadata": {},
   "outputs": [],
   "source": [
    "print(s)"
   ]
  },
  {
   "cell_type": "markdown",
   "metadata": {},
   "source": [
    "# 3. Simulation stability"
   ]
  },
  {
   "cell_type": "code",
   "execution_count": null,
   "metadata": {},
   "outputs": [],
   "source": [
    "epsilons = [0.0,0.2,0.5,0.8,1.0]"
   ]
  },
  {
   "cell_type": "code",
   "execution_count": null,
   "metadata": {},
   "outputs": [],
   "source": [
    "stability_dfs = {}\n",
    "for eps in epsilons:\n",
    "    stability_dfs[eps] = pd.read_csv(\"/mnt/idms/fberes/data/bitcoin_ln_research/results/simulation_stability/2019-09-26_14:15:21_50000sat_k6000_eps%.2f_stability_res.csv\" % eps)"
   ]
  },
  {
   "cell_type": "code",
   "execution_count": null,
   "metadata": {
    "scrolled": false
   },
   "outputs": [],
   "source": [
    "output_dir = \"/mnt/idms/fberes/data/bitcoin_ln_research/results/simulation_stability\"\n",
    "for eps in epsilons:\n",
    "    sns.catplot(data=stability_dfs[eps], x=\"correlation type\", y=\"value\", hue=\"statistics\", kind=\"bar\", height=8)\n",
    "    plt.savefig(\"%s/2019-09-26_14:15:21_50000sat_k6000_eps%.2f_cross_correlation.pdf\" % (output_dir,eps), format=\"pdf\")"
   ]
  },
  {
   "cell_type": "markdown",
   "metadata": {},
   "source": [
    "# 4. Income correlation for different epsilons"
   ]
  },
  {
   "cell_type": "code",
   "execution_count": null,
   "metadata": {},
   "outputs": [],
   "source": [
    "all_node_incomes = {}\n",
    "for eps in epsilons:\n",
    "    all_node_incomes[eps] = pd.read_csv(\"/mnt/idms/fberes/data/bitcoin_ln_research/results/router_traffic_and_income/effect_of_epsilon/2019-09-26_14:15:21_50000sat_k6000_eps%.2f_all.csv\" % eps)"
   ]
  },
  {
   "cell_type": "code",
   "execution_count": null,
   "metadata": {},
   "outputs": [],
   "source": [
    "all_node_incomes[0.0].head()"
   ]
  },
  {
   "cell_type": "code",
   "execution_count": null,
   "metadata": {},
   "outputs": [],
   "source": [
    "merged_incomes = all_node_incomes[0.0][[\"node\",\"mean_fee\"]]"
   ]
  },
  {
   "cell_type": "code",
   "execution_count": null,
   "metadata": {},
   "outputs": [],
   "source": [
    "merged_incomes = merged_incomes.merge(all_node_incomes[1.0][[\"node\",\"mean_fee\"]], on=\"node\", how=\"outer\")"
   ]
  },
  {
   "cell_type": "code",
   "execution_count": null,
   "metadata": {},
   "outputs": [],
   "source": [
    "merged_incomes.head()"
   ]
  },
  {
   "cell_type": "code",
   "execution_count": null,
   "metadata": {},
   "outputs": [],
   "source": [
    "merged_incomes.isnull().sum()"
   ]
  },
  {
   "cell_type": "code",
   "execution_count": null,
   "metadata": {},
   "outputs": [],
   "source": [
    "merged_incomes = merged_incomes.fillna(0.0)"
   ]
  },
  {
   "cell_type": "code",
   "execution_count": null,
   "metadata": {},
   "outputs": [],
   "source": [
    "merged_incomes[[\"mean_fee_x\",\"mean_fee_y\"]].corr(method=\"pearson\")"
   ]
  },
  {
   "cell_type": "code",
   "execution_count": null,
   "metadata": {},
   "outputs": [],
   "source": [
    "merged_incomes[[\"mean_fee_x\",\"mean_fee_y\"]].corr(method=\"spearman\")"
   ]
  },
  {
   "cell_type": "code",
   "execution_count": null,
   "metadata": {},
   "outputs": [],
   "source": [
    "merged_incomes[[\"mean_fee_x\",\"mean_fee_y\"]].corr(method=\"kendall\")"
   ]
  },
  {
   "cell_type": "code",
   "execution_count": null,
   "metadata": {},
   "outputs": [],
   "source": []
  }
 ],
 "metadata": {
  "kernelspec": {
   "display_name": "Python [conda env:dm-3-env] *",
   "language": "python",
   "name": "conda-env-dm-3-env-py"
  },
  "language_info": {
   "codemirror_mode": {
    "name": "ipython",
    "version": 3
   },
   "file_extension": ".py",
   "mimetype": "text/x-python",
   "name": "python",
   "nbconvert_exporter": "python",
   "pygments_lexer": "ipython3",
   "version": "3.7.3"
  }
 },
 "nbformat": 4,
 "nbformat_minor": 2
}