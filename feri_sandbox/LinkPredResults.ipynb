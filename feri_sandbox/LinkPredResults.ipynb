{
 "cells": [
  {
   "cell_type": "code",
   "execution_count": 63,
   "metadata": {},
   "outputs": [
    {
     "name": "stdout",
     "output_type": "stream",
     "text": [
      "The autoreload extension is already loaded. To reload it, use:\n",
      "  %reload_ext autoreload\n"
     ]
    }
   ],
   "source": [
    "%load_ext autoreload\n",
    "%autoreload 2"
   ]
  },
  {
   "cell_type": "code",
   "execution_count": 64,
   "metadata": {},
   "outputs": [],
   "source": [
    "%matplotlib inline"
   ]
  },
  {
   "cell_type": "code",
   "execution_count": 65,
   "metadata": {},
   "outputs": [],
   "source": [
    "from alpenglow.evaluation import DcgScore"
   ]
  },
  {
   "cell_type": "code",
   "execution_count": 66,
   "metadata": {},
   "outputs": [],
   "source": [
    "import os\n",
    "import pandas as pd\n",
    "import seaborn as sns\n",
    "import matplotlib.pyplot as plt "
   ]
  },
  {
   "cell_type": "code",
   "execution_count": 67,
   "metadata": {},
   "outputs": [
    {
     "name": "stdout",
     "output_type": "stream",
     "text": [
      "['/home/fberes/miniconda3/envs/dm-3-env/lib/python3.7/site-packages/ipykernel_launcher.py', '-f', '/home/fberes/.local/share/jupyter/runtime/kernel-59b342c2-77f7-4513-9b54-d871885b2d79.json']\n",
      "/home/fberes/git_hulk2/LNDynamicTopology\n",
      "/home/fberes/git_hulk2/LNDynamicTopology\n",
      "Default parameters:\n",
      "{'dim': 10, 'ex_known': True, 'neg_rate': 100, 'seed': 254938879, 'top_first_days': 20, 'topk': 20}\n",
      "Custom parameters:\n",
      "{}\n"
     ]
    }
   ],
   "source": [
    "import sys\n",
    "from datawand.parametrization import ParamHelper\n",
    "ph = ParamHelper('..', 'LinkPrediction', sys.argv)"
   ]
  },
  {
   "cell_type": "code",
   "execution_count": 68,
   "metadata": {},
   "outputs": [],
   "source": [
    "links_df = pd.read_csv(\"/mnt/idms/fberes/data/bitcoin_ln_research/link_prediction/data/links_df_20.csv\")"
   ]
  },
  {
   "cell_type": "code",
   "execution_count": 69,
   "metadata": {},
   "outputs": [
    {
     "data": {
      "text/html": [
       "<div>\n",
       "<style scoped>\n",
       "    .dataframe tbody tr th:only-of-type {\n",
       "        vertical-align: middle;\n",
       "    }\n",
       "\n",
       "    .dataframe tbody tr th {\n",
       "        vertical-align: top;\n",
       "    }\n",
       "\n",
       "    .dataframe thead th {\n",
       "        text-align: right;\n",
       "    }\n",
       "</style>\n",
       "<table border=\"1\" class=\"dataframe\">\n",
       "  <thead>\n",
       "    <tr style=\"text-align: right;\">\n",
       "      <th></th>\n",
       "      <th>src</th>\n",
       "      <th>trg</th>\n",
       "      <th>capacity</th>\n",
       "      <th>user</th>\n",
       "      <th>item</th>\n",
       "      <th>time</th>\n",
       "      <th>eval</th>\n",
       "    </tr>\n",
       "  </thead>\n",
       "  <tbody>\n",
       "    <tr>\n",
       "      <th>0</th>\n",
       "      <td>02d97e94cfeedca2a3da47acb400bc6836e671b3cb3fc0...</td>\n",
       "      <td>03fab7f8655169ea77d9691d4bd359e97782cb6177a6f7...</td>\n",
       "      <td>50000</td>\n",
       "      <td>1657</td>\n",
       "      <td>1243</td>\n",
       "      <td>1521522116</td>\n",
       "      <td>0</td>\n",
       "    </tr>\n",
       "    <tr>\n",
       "      <th>1</th>\n",
       "      <td>03fab7f8655169ea77d9691d4bd359e97782cb6177a6f7...</td>\n",
       "      <td>02d97e94cfeedca2a3da47acb400bc6836e671b3cb3fc0...</td>\n",
       "      <td>50000</td>\n",
       "      <td>1243</td>\n",
       "      <td>1657</td>\n",
       "      <td>1521522116</td>\n",
       "      <td>0</td>\n",
       "    </tr>\n",
       "    <tr>\n",
       "      <th>2</th>\n",
       "      <td>0264089bc3a4afde671b87740d72e03d899b7f0783fbb7...</td>\n",
       "      <td>0312729bfe8c02a1189a94bf609be3f44e7e30f581ada3...</td>\n",
       "      <td>57036</td>\n",
       "      <td>691</td>\n",
       "      <td>1331</td>\n",
       "      <td>1521582953</td>\n",
       "      <td>0</td>\n",
       "    </tr>\n",
       "    <tr>\n",
       "      <th>3</th>\n",
       "      <td>0312729bfe8c02a1189a94bf609be3f44e7e30f581ada3...</td>\n",
       "      <td>0264089bc3a4afde671b87740d72e03d899b7f0783fbb7...</td>\n",
       "      <td>57036</td>\n",
       "      <td>1331</td>\n",
       "      <td>691</td>\n",
       "      <td>1521582953</td>\n",
       "      <td>0</td>\n",
       "    </tr>\n",
       "    <tr>\n",
       "      <th>4</th>\n",
       "      <td>0246dae073f563308943c44f4d072f226f4968ea6a5a82...</td>\n",
       "      <td>032c4b954f0f171b694b5e8e8323589e54196b48cf2efc...</td>\n",
       "      <td>500000</td>\n",
       "      <td>333</td>\n",
       "      <td>1197</td>\n",
       "      <td>1521810524</td>\n",
       "      <td>0</td>\n",
       "    </tr>\n",
       "  </tbody>\n",
       "</table>\n",
       "</div>"
      ],
      "text/plain": [
       "                                                 src  \\\n",
       "0  02d97e94cfeedca2a3da47acb400bc6836e671b3cb3fc0...   \n",
       "1  03fab7f8655169ea77d9691d4bd359e97782cb6177a6f7...   \n",
       "2  0264089bc3a4afde671b87740d72e03d899b7f0783fbb7...   \n",
       "3  0312729bfe8c02a1189a94bf609be3f44e7e30f581ada3...   \n",
       "4  0246dae073f563308943c44f4d072f226f4968ea6a5a82...   \n",
       "\n",
       "                                                 trg  capacity  user  item  \\\n",
       "0  03fab7f8655169ea77d9691d4bd359e97782cb6177a6f7...     50000  1657  1243   \n",
       "1  02d97e94cfeedca2a3da47acb400bc6836e671b3cb3fc0...     50000  1243  1657   \n",
       "2  0312729bfe8c02a1189a94bf609be3f44e7e30f581ada3...     57036   691  1331   \n",
       "3  0264089bc3a4afde671b87740d72e03d899b7f0783fbb7...     57036  1331   691   \n",
       "4  032c4b954f0f171b694b5e8e8323589e54196b48cf2efc...    500000   333  1197   \n",
       "\n",
       "         time  eval  \n",
       "0  1521522116     0  \n",
       "1  1521522116     0  \n",
       "2  1521582953     0  \n",
       "3  1521582953     0  \n",
       "4  1521810524     0  "
      ]
     },
     "execution_count": 69,
     "metadata": {},
     "output_type": "execute_result"
    }
   ],
   "source": [
    "links_df.head()"
   ]
  },
  {
   "cell_type": "markdown",
   "metadata": {},
   "source": [
    "# Parameters"
   ]
  },
  {
   "cell_type": "code",
   "execution_count": 70,
   "metadata": {},
   "outputs": [],
   "source": [
    "K = 20#None#30#ph.get(\"top_first_days\")\n",
    "top_k = 500#100"
   ]
  },
  {
   "cell_type": "code",
   "execution_count": 71,
   "metadata": {},
   "outputs": [],
   "source": [
    "if K == None:\n",
    "    delta_t = 86400*7\n",
    "else:\n",
    "    delta_t = 86400#"
   ]
  },
  {
   "cell_type": "code",
   "execution_count": 72,
   "metadata": {},
   "outputs": [],
   "source": [
    "models = [\n",
    "    \"onmf_dim10_lr0.140_nr100\",\n",
    "    #\"bomf_dim10_lr0.140_nr100\",\n",
    "    #\"offmf_dim10_lr0.050_nr100\",\n",
    "    \"pop\",\n",
    "    \"time_pop\"\n",
    "]"
   ]
  },
  {
   "cell_type": "markdown",
   "metadata": {},
   "source": [
    "# Rankings"
   ]
  },
  {
   "cell_type": "code",
   "execution_count": 73,
   "metadata": {},
   "outputs": [],
   "source": [
    "ranking_dir = \"/mnt/idms/fberes/data/bitcoin_ln_research/link_prediction/rankings/topk%i_exkTrue_%s/\" % (top_k,str(K))"
   ]
  },
  {
   "cell_type": "code",
   "execution_count": 74,
   "metadata": {},
   "outputs": [],
   "source": [
    "rankings = [pd.read_csv(\"%s/%s.csv\" % (ranking_dir,m)) for m in models]"
   ]
  },
  {
   "cell_type": "code",
   "execution_count": 75,
   "metadata": {},
   "outputs": [
    {
     "data": {
      "text/plain": [
       "[28323, 28323, 28323]"
      ]
     },
     "execution_count": 75,
     "metadata": {},
     "output_type": "execute_result"
    }
   ],
   "source": [
    "[len(df) for df in rankings]"
   ]
  },
  {
   "cell_type": "code",
   "execution_count": 76,
   "metadata": {},
   "outputs": [
    {
     "data": {
      "text/plain": [
       "1522934222.0"
      ]
     },
     "execution_count": 76,
     "metadata": {},
     "output_type": "execute_result"
    }
   ],
   "source": [
    "rankings[0]['time'].min()"
   ]
  },
  {
   "cell_type": "code",
   "execution_count": 77,
   "metadata": {},
   "outputs": [],
   "source": [
    "START_TIME = 1548982800 # (GMT): Friday, February 1, 2019 1:00:00 AM"
   ]
  },
  {
   "cell_type": "code",
   "execution_count": 78,
   "metadata": {},
   "outputs": [],
   "source": [
    "def get_timeframe(df, delta_t, min_time=1548982800):\n",
    "    df[\"timeframe\"] = df[\"time\"].apply(lambda x: max(0,(x-min_time)//delta_t))\n",
    "\n",
    "for i in range(len(rankings)):\n",
    "    get_timeframe(rankings[i], delta_t)"
   ]
  },
  {
   "cell_type": "markdown",
   "metadata": {},
   "source": [
    "# Results"
   ]
  },
  {
   "cell_type": "markdown",
   "metadata": {},
   "source": [
    "### a.) average performance (online DCG)\n",
    "\n",
    "The average performance for the offline batch model is confusing (it is only bad on the first day)"
   ]
  },
  {
   "cell_type": "code",
   "execution_count": 79,
   "metadata": {},
   "outputs": [],
   "source": [
    "def show_mean_dcg(with_first_day=True):\n",
    "    if with_first_day:\n",
    "        mean_dcgs = [df[\"dcg\"].mean() for df in rankings]\n",
    "        df = rankings[0]\n",
    "        print(len(df))\n",
    "    else:\n",
    "        mean_dcgs = [df[df[\"timeframe\"]>0][\"dcg\"].mean() for df in rankings]\n",
    "        df = rankings[0]\n",
    "        print(len(df[df[\"timeframe\"]>0]))\n",
    "    return pd.DataFrame(list(zip(models, mean_dcgs)), columns=[\"model\",\"dcg\"]).sort_values(\"dcg\", ascending=False).reset_index(drop=True)"
   ]
  },
  {
   "cell_type": "markdown",
   "metadata": {},
   "source": [
    "#### Global mean performance"
   ]
  },
  {
   "cell_type": "code",
   "execution_count": 80,
   "metadata": {},
   "outputs": [
    {
     "name": "stdout",
     "output_type": "stream",
     "text": [
      "28323\n"
     ]
    },
    {
     "data": {
      "text/html": [
       "<div>\n",
       "<style scoped>\n",
       "    .dataframe tbody tr th:only-of-type {\n",
       "        vertical-align: middle;\n",
       "    }\n",
       "\n",
       "    .dataframe tbody tr th {\n",
       "        vertical-align: top;\n",
       "    }\n",
       "\n",
       "    .dataframe thead th {\n",
       "        text-align: right;\n",
       "    }\n",
       "</style>\n",
       "<table border=\"1\" class=\"dataframe\">\n",
       "  <thead>\n",
       "    <tr style=\"text-align: right;\">\n",
       "      <th></th>\n",
       "      <th>model</th>\n",
       "      <th>dcg</th>\n",
       "    </tr>\n",
       "  </thead>\n",
       "  <tbody>\n",
       "    <tr>\n",
       "      <th>0</th>\n",
       "      <td>onmf_dim10_lr0.140_nr100</td>\n",
       "      <td>0.238265</td>\n",
       "    </tr>\n",
       "    <tr>\n",
       "      <th>1</th>\n",
       "      <td>time_pop</td>\n",
       "      <td>0.203287</td>\n",
       "    </tr>\n",
       "    <tr>\n",
       "      <th>2</th>\n",
       "      <td>pop</td>\n",
       "      <td>0.174952</td>\n",
       "    </tr>\n",
       "  </tbody>\n",
       "</table>\n",
       "</div>"
      ],
      "text/plain": [
       "                      model       dcg\n",
       "0  onmf_dim10_lr0.140_nr100  0.238265\n",
       "1                  time_pop  0.203287\n",
       "2                       pop  0.174952"
      ]
     },
     "execution_count": 80,
     "metadata": {},
     "output_type": "execute_result"
    }
   ],
   "source": [
    "show_mean_dcg(True)"
   ]
  },
  {
   "cell_type": "markdown",
   "metadata": {},
   "source": [
    "#### Mean performance without first day"
   ]
  },
  {
   "cell_type": "code",
   "execution_count": 81,
   "metadata": {},
   "outputs": [
    {
     "name": "stdout",
     "output_type": "stream",
     "text": [
      "10038\n"
     ]
    },
    {
     "data": {
      "text/html": [
       "<div>\n",
       "<style scoped>\n",
       "    .dataframe tbody tr th:only-of-type {\n",
       "        vertical-align: middle;\n",
       "    }\n",
       "\n",
       "    .dataframe tbody tr th {\n",
       "        vertical-align: top;\n",
       "    }\n",
       "\n",
       "    .dataframe thead th {\n",
       "        text-align: right;\n",
       "    }\n",
       "</style>\n",
       "<table border=\"1\" class=\"dataframe\">\n",
       "  <thead>\n",
       "    <tr style=\"text-align: right;\">\n",
       "      <th></th>\n",
       "      <th>model</th>\n",
       "      <th>dcg</th>\n",
       "    </tr>\n",
       "  </thead>\n",
       "  <tbody>\n",
       "    <tr>\n",
       "      <th>0</th>\n",
       "      <td>onmf_dim10_lr0.140_nr100</td>\n",
       "      <td>0.237509</td>\n",
       "    </tr>\n",
       "    <tr>\n",
       "      <th>1</th>\n",
       "      <td>time_pop</td>\n",
       "      <td>0.208349</td>\n",
       "    </tr>\n",
       "    <tr>\n",
       "      <th>2</th>\n",
       "      <td>pop</td>\n",
       "      <td>0.150523</td>\n",
       "    </tr>\n",
       "  </tbody>\n",
       "</table>\n",
       "</div>"
      ],
      "text/plain": [
       "                      model       dcg\n",
       "0  onmf_dim10_lr0.140_nr100  0.237509\n",
       "1                  time_pop  0.208349\n",
       "2                       pop  0.150523"
      ]
     },
     "execution_count": 81,
     "metadata": {},
     "output_type": "execute_result"
    }
   ],
   "source": [
    "show_mean_dcg(False)"
   ]
  },
  {
   "cell_type": "markdown",
   "metadata": {},
   "source": [
    "**Exclude known: False**\n",
    "0 \tonline \t0.139660\n",
    "1 \tbatch+online \t0.131745\n",
    "2 \tpop+time \t0.124183\n",
    "3 \tpop \t0.077110\n",
    "4 \tbatch \t0.064587\n",
    "\n",
    "**Exclude known: True - Mi\u00e9rt teljesen uaz?**\n",
    "0 \tonline \t0.139660\n",
    "1 \tbatch+online \t0.131745\n",
    "2 \tpop+time \t0.124183\n",
    "3 \tpop \t0.077110\n",
    "4 \tbatch \t0.064587"
   ]
  },
  {
   "cell_type": "markdown",
   "metadata": {},
   "source": [
    "### b.) Performance over time"
   ]
  },
  {
   "cell_type": "code",
   "execution_count": 82,
   "metadata": {},
   "outputs": [
    {
     "data": {
      "text/plain": [
       "<matplotlib.legend.Legend at 0x7f204d10f128>"
      ]
     },
     "execution_count": 82,
     "metadata": {},
     "output_type": "execute_result"
    },
    {
     "data": {
      "image/png": "[encoded data removed]",
      "text/plain": [
       "<Figure size 432x288 with 1 Axes>"
      ]
     },
     "metadata": {
      "needs_background": "light"
     },
     "output_type": "display_data"
    }
   ],
   "source": [
    "for idx, ranking in enumerate(rankings):\n",
    "    averages = ranking.groupby(\"timeframe\")[\"dcg\"].mean()\n",
    "    plt.plot(averages, label=models[idx])\n",
    "plt.legend()"
   ]
  },
  {
   "cell_type": "markdown",
   "metadata": {},
   "source": [
    "### c.) Number of records over time"
   ]
  },
  {
   "cell_type": "code",
   "execution_count": 83,
   "metadata": {},
   "outputs": [
    {
     "data": {
      "text/plain": [
       "[<matplotlib.lines.Line2D at 0x7f204d419278>]"
      ]
     },
     "execution_count": 83,
     "metadata": {},
     "output_type": "execute_result"
    },
    {
     "data": {
      "image/png": "[encoded data removed]",
      "text/plain": [
       "<Figure size 432x288 with 1 Axes>"
      ]
     },
     "metadata": {
      "needs_background": "light"
     },
     "output_type": "display_data"
    }
   ],
   "source": [
    "cnt = rankings[0].groupby(\"timeframe\")[\"dcg\"].count()\n",
    "plt.plot(cnt)"
   ]
  },
  {
   "cell_type": "markdown",
   "metadata": {},
   "source": [
    "# Simulation based results"
   ]
  },
  {
   "cell_type": "markdown",
   "metadata": {},
   "source": [
    "link_sim_cols = [\"opt_income\",\"global_traffic\",\"global_income\",\"inbound_depletions\",\"high_degree\",\"high_cap\"]"
   ]
  },
  {
   "cell_type": "code",
   "execution_count": 84,
   "metadata": {},
   "outputs": [],
   "source": [
    "link_sim_cols = [\"global_traffic\",\"global_income\",\"inbound_depletions\",\"high_degree\",\"high_cap\"]"
   ]
  },
  {
   "cell_type": "code",
   "execution_count": 85,
   "metadata": {},
   "outputs": [],
   "source": [
    "def load_link_sim_experiment(model_dir):\n",
    "    model_id = model_dir.split(\"/\")[-2]\n",
    "    print(model_id)\n",
    "    model_files = os.listdir(model_dir)\n",
    "    chunks = [pd.read_csv(\"%s/%s\" % (model_dir, f)) for f in model_files if \"snapshot\" in f]\n",
    "    concatenated = pd.concat(chunks)\n",
    "    print(len(model_files), len(concatenated))\n",
    "    get_timeframe(concatenated, delta_t)\n",
    "    for rank_col in link_sim_cols:\n",
    "        print(rank_col)\n",
    "        concatenated[\"dcg_\"+rank_col] = DcgScore(concatenated.rename({rank_col:\"rank\"}, axis=1))\n",
    "        print(concatenated[\"dcg_\"+rank_col].mean())\n",
    "    return concatenated"
   ]
  },
  {
   "cell_type": "markdown",
   "metadata": {},
   "source": [
    "### Load simulation results"
   ]
  },
  {
   "cell_type": "code",
   "execution_count": 120,
   "metadata": {},
   "outputs": [],
   "source": [
    "#experiments = [\"50000sat_k6000_aNone_e0.05_dropTrue\"]\n",
    "#experiments = [\"60000sat_k7000_e0.80\"]\n",
    "#experiments = [\"60000sat_k7000_e0.80_otTrue\"]\n",
    "experiments = [\"60000sat_k1000_e0.80_ddTrue_dlcTrue_wdTrue_twNone_otFalse\"]\n",
    "experiments = [\"60000sat_k14000_e0.80_ddTrue_dlcTrue_wdTrue_twNone_otFalse\"]\n",
    "experiments = [\"200000sat_k7000_e0.80_ddTrue_dlcTrue_wdTrue_twNone_otFalse\"]\n",
    "experiments = [\"60000sat_k7000_e0.00_ddTrue_dlcTrue_wdTrue_twNone_otFalse\"]\n",
    "experiments = [\"60000sat_k7000_e0.80_ddFalse_dlcTrue_wdTrue_twNone_otFalse\"]\n",
    "experiments = [\"60000sat_k7000_e0.80_ddTrue_dlcTrue_wdFalse_twNone_otFalse\"]\n",
    "experiments = [\"60000sat_k7000_e0.80_ddTrue_dlcFalse_wdFalse_twNone_otFalse\"]\n",
    "experiments = [\"60000sat_k7000_e0.80_ddFalse_dlcFalse_wdFalse_twNone_otFalse\"]\n",
    "experiments = [\"60000sat_k7000_e0.80_ddFalse_dlcTrue_wdTrue_tw86400_otFalse\"]\n",
    "experiments = [\"60000sat_k7000_e0.80_ddFalse_dlcTrue_wdTrue_tw604800_otFalse\"]\n",
    "experiments = [\"60000sat_k7000_e0.80_ddFalse_dlcTrue_wdTrue_tw1209600_otFalse\"]\n",
    "experiments = [\"200000sat_k7000_e0.80_ddFalse_dlcTrue_wdTrue_tw86400_otFalse\"]\n",
    "experiments = [\"200000sat_k7000_e0.00_ddFalse_dlcTrue_wdTrue_tw86400_otFalse\"]\n",
    "\n",
    "#experiments = [\"200000sat_k14000_e0.80_ddTrue_dlcTrue_wdTrue_twNone_otFalse\"]\n",
    "#experiments = [\"200000sat_k70000_e0.80_ddTrue_dlcTrue_wdTrue_twNone_otFalse\"]\n",
    "#experiments = [\"200000sat_k14000_e0.80_ddTrue_dlcTrue_wdTrue_tw604800_otFalse\"]\n",
    "#experiments = [\"200000sat_k70000_e0.80_ddTrue_dlcTrue_wdTrue_tw604800_otFalse\"]\n",
    "experiments = [\"500000sat_k14000_e0.80_ddTrue_dlcTrue_wdTrue_twNone_otFalse\"]\n",
    "experiments = [\"500000sat_k70000_e0.80_ddTrue_dlcTrue_wdTrue_twNone_otFalse\"]\n",
    "experiments = [\"500000sat_k14000_e0.80_ddTrue_dlcTrue_wdTrue_tw604800_otFalse\"]\n",
    "experiments = [\"500000sat_k70000_e0.80_ddTrue_dlcTrue_wdTrue_tw604800_otFalse\"]\n",
    "\n",
    "#experiments = [\"500000sat_k70000_e0.80_ddTrue_dlcTrue_wdTrue_twNone_otFalse_hl86400\"]\n",
    "experiments = [\"500000sat_k70000_e0.80_ddTrue_dlcTrue_wdTrue_twNone_otFalse_hl604800\"]\n",
    "\n",
    "experiments = [\"1000000sat_k70000_e0.80_ddTrue_dlcTrue_wdTrue_twNone_otFalse_hlNone\"]\n",
    "experiments = [\"1000000sat_k70000_e0.80_ddTrue_dlcTrue_wdTrue_twNone_otFalse_hl3600\"]\n",
    "\n",
    "experiments = [\"1000000sat_k700000_e0.80_ddTrue_dlcTrue_wdTrue_twNone_otFalse_hlNone\"]"
   ]
  },
  {
   "cell_type": "code",
   "execution_count": 121,
   "metadata": {},
   "outputs": [
    {
     "name": "stdout",
     "output_type": "stream",
     "text": [
      "1000000sat_k700000_e0.80_ddTrue_dlcTrue_wdTrue_twNone_otFalse_hlNone\n",
      "60 4122\n",
      "global_traffic\n",
      "0.11379564160175441\n",
      "global_income\n",
      "0.10806617315120585\n",
      "inbound_depletions\n",
      "0.10876446593955479\n",
      "high_degree\n",
      "0.1323229237497886\n",
      "high_cap\n",
      "0.11470165749422397\n"
     ]
    }
   ],
   "source": [
    "simulation_results = [load_link_sim_experiment(\"%s/%s/\" % (ranking_dir, experiment_id)) for experiment_id in experiments]"
   ]
  },
  {
   "cell_type": "markdown",
   "metadata": {},
   "source": [
    "### Join all simulation experiments into one dataframe"
   ]
  },
  {
   "cell_type": "code",
   "execution_count": 26,
   "metadata": {},
   "outputs": [],
   "source": [
    "sim_preds = simulation_results[0]"
   ]
  },
  {
   "cell_type": "code",
   "execution_count": 27,
   "metadata": {},
   "outputs": [],
   "source": [
    "for idx, model in enumerate(experiments[1:]):\n",
    "    print(model)\n",
    "    sim_preds = sim_preds.merge(simulation_results[idx+1][[\"record_id\",model]], on=\"record_id\", how=\"left\")"
   ]
  },
  {
   "cell_type": "code",
   "execution_count": 28,
   "metadata": {},
   "outputs": [
    {
     "data": {
      "text/html": [
       "<div>\n",
       "<style scoped>\n",
       "    .dataframe tbody tr th:only-of-type {\n",
       "        vertical-align: middle;\n",
       "    }\n",
       "\n",
       "    .dataframe tbody tr th {\n",
       "        vertical-align: top;\n",
       "    }\n",
       "\n",
       "    .dataframe thead th {\n",
       "        text-align: right;\n",
       "    }\n",
       "</style>\n",
       "<table border=\"1\" class=\"dataframe\">\n",
       "  <thead>\n",
       "    <tr style=\"text-align: right;\">\n",
       "      <th></th>\n",
       "      <th>record_id</th>\n",
       "      <th>src</th>\n",
       "      <th>trg</th>\n",
       "      <th>time</th>\n",
       "      <th>capacity</th>\n",
       "      <th>eval</th>\n",
       "      <th>snapshot</th>\n",
       "      <th>global_traffic</th>\n",
       "      <th>global_income</th>\n",
       "      <th>inbound_depletions</th>\n",
       "      <th>high_degree</th>\n",
       "      <th>high_cap</th>\n",
       "      <th>timeframe</th>\n",
       "      <th>dcg_global_traffic</th>\n",
       "      <th>dcg_global_income</th>\n",
       "      <th>dcg_inbound_depletions</th>\n",
       "      <th>dcg_high_degree</th>\n",
       "      <th>dcg_high_cap</th>\n",
       "    </tr>\n",
       "  </thead>\n",
       "  <tbody>\n",
       "    <tr>\n",
       "      <th>0</th>\n",
       "      <td>54864</td>\n",
       "      <td>0232e20e7b68b9b673fb25f48322b151a93186bffe4550...</td>\n",
       "      <td>02df2cefe673216c26caaa28cc72e0f616242e5b06b0f0...</td>\n",
       "      <td>1549935931</td>\n",
       "      <td>300000</td>\n",
       "      <td>1</td>\n",
       "      <td>9</td>\n",
       "      <td>313.0</td>\n",
       "      <td>311.0</td>\n",
       "      <td>232.0</td>\n",
       "      <td>NaN</td>\n",
       "      <td>NaN</td>\n",
       "      <td>11</td>\n",
       "      <td>0.120560</td>\n",
       "      <td>0.120694</td>\n",
       "      <td>0.127159</td>\n",
       "      <td>0.000000</td>\n",
       "      <td>0.000000</td>\n",
       "    </tr>\n",
       "    <tr>\n",
       "      <th>1</th>\n",
       "      <td>54868</td>\n",
       "      <td>022adae0a54a0e1fbe0f34c81b363506f5bb9c43e31e4f...</td>\n",
       "      <td>026c68891151fd5409a84eeed017c8cefadcff00158f76...</td>\n",
       "      <td>1549936540</td>\n",
       "      <td>96745</td>\n",
       "      <td>1</td>\n",
       "      <td>9</td>\n",
       "      <td>NaN</td>\n",
       "      <td>NaN</td>\n",
       "      <td>NaN</td>\n",
       "      <td>NaN</td>\n",
       "      <td>NaN</td>\n",
       "      <td>11</td>\n",
       "      <td>0.000000</td>\n",
       "      <td>0.000000</td>\n",
       "      <td>0.000000</td>\n",
       "      <td>0.000000</td>\n",
       "      <td>0.000000</td>\n",
       "    </tr>\n",
       "    <tr>\n",
       "      <th>2</th>\n",
       "      <td>54872</td>\n",
       "      <td>02eea148af01585bf2b596577352d48841f0dd825d9f0d...</td>\n",
       "      <td>0279c22ed7a068d10dc1a38ae66d2d6461e269226c6025...</td>\n",
       "      <td>1549937089</td>\n",
       "      <td>5000001</td>\n",
       "      <td>1</td>\n",
       "      <td>9</td>\n",
       "      <td>88.0</td>\n",
       "      <td>3.0</td>\n",
       "      <td>NaN</td>\n",
       "      <td>4.0</td>\n",
       "      <td>5.0</td>\n",
       "      <td>11</td>\n",
       "      <td>0.154423</td>\n",
       "      <td>0.500000</td>\n",
       "      <td>0.000000</td>\n",
       "      <td>0.430677</td>\n",
       "      <td>0.386853</td>\n",
       "    </tr>\n",
       "    <tr>\n",
       "      <th>3</th>\n",
       "      <td>54876</td>\n",
       "      <td>021fdb1d2ae9ac1b7b8f0868b92d4a46bdfa4e386dd69a...</td>\n",
       "      <td>0217890e3aad8d35bc054f43acc00084b25229ecff0ab6...</td>\n",
       "      <td>1549937289</td>\n",
       "      <td>367411</td>\n",
       "      <td>1</td>\n",
       "      <td>9</td>\n",
       "      <td>3.0</td>\n",
       "      <td>13.0</td>\n",
       "      <td>NaN</td>\n",
       "      <td>5.0</td>\n",
       "      <td>43.0</td>\n",
       "      <td>11</td>\n",
       "      <td>0.500000</td>\n",
       "      <td>0.262650</td>\n",
       "      <td>0.000000</td>\n",
       "      <td>0.386853</td>\n",
       "      <td>0.183169</td>\n",
       "    </tr>\n",
       "    <tr>\n",
       "      <th>4</th>\n",
       "      <td>54880</td>\n",
       "      <td>0331f80652fb840239df8dc99205792bba2e559a054699...</td>\n",
       "      <td>03c75f96bad4a1a5fe687574a20b2a8b3f9f2a45d63b92...</td>\n",
       "      <td>1549937445</td>\n",
       "      <td>5000000</td>\n",
       "      <td>1</td>\n",
       "      <td>9</td>\n",
       "      <td>375.0</td>\n",
       "      <td>373.0</td>\n",
       "      <td>296.0</td>\n",
       "      <td>369.0</td>\n",
       "      <td>NaN</td>\n",
       "      <td>11</td>\n",
       "      <td>0.116896</td>\n",
       "      <td>0.117002</td>\n",
       "      <td>0.121739</td>\n",
       "      <td>0.117214</td>\n",
       "      <td>0.000000</td>\n",
       "    </tr>\n",
       "  </tbody>\n",
       "</table>\n",
       "</div>"
      ],
      "text/plain": [
       "   record_id                                                src  \\\n",
       "0      54864  0232e20e7b68b9b673fb25f48322b151a93186bffe4550...   \n",
       "1      54868  022adae0a54a0e1fbe0f34c81b363506f5bb9c43e31e4f...   \n",
       "2      54872  02eea148af01585bf2b596577352d48841f0dd825d9f0d...   \n",
       "3      54876  021fdb1d2ae9ac1b7b8f0868b92d4a46bdfa4e386dd69a...   \n",
       "4      54880  0331f80652fb840239df8dc99205792bba2e559a054699...   \n",
       "\n",
       "                                                 trg        time  capacity  \\\n",
       "0  02df2cefe673216c26caaa28cc72e0f616242e5b06b0f0...  1549935931    300000   \n",
       "1  026c68891151fd5409a84eeed017c8cefadcff00158f76...  1549936540     96745   \n",
       "2  0279c22ed7a068d10dc1a38ae66d2d6461e269226c6025...  1549937089   5000001   \n",
       "3  0217890e3aad8d35bc054f43acc00084b25229ecff0ab6...  1549937289    367411   \n",
       "4  03c75f96bad4a1a5fe687574a20b2a8b3f9f2a45d63b92...  1549937445   5000000   \n",
       "\n",
       "   eval  snapshot  global_traffic  global_income  inbound_depletions  \\\n",
       "0     1         9           313.0          311.0               232.0   \n",
       "1     1         9             NaN            NaN                 NaN   \n",
       "2     1         9            88.0            3.0                 NaN   \n",
       "3     1         9             3.0           13.0                 NaN   \n",
       "4     1         9           375.0          373.0               296.0   \n",
       "\n",
       "   high_degree  high_cap  timeframe  dcg_global_traffic  dcg_global_income  \\\n",
       "0          NaN       NaN         11            0.120560           0.120694   \n",
       "1          NaN       NaN         11            0.000000           0.000000   \n",
       "2          4.0       5.0         11            0.154423           0.500000   \n",
       "3          5.0      43.0         11            0.500000           0.262650   \n",
       "4        369.0       NaN         11            0.116896           0.117002   \n",
       "\n",
       "   dcg_inbound_depletions  dcg_high_degree  dcg_high_cap  \n",
       "0                0.127159         0.000000      0.000000  \n",
       "1                0.000000         0.000000      0.000000  \n",
       "2                0.000000         0.430677      0.386853  \n",
       "3                0.000000         0.386853      0.183169  \n",
       "4                0.121739         0.117214      0.000000  "
      ]
     },
     "execution_count": 28,
     "metadata": {},
     "output_type": "execute_result"
    }
   ],
   "source": [
    "sim_preds.head()"
   ]
  },
  {
   "cell_type": "markdown",
   "metadata": {},
   "source": [
    "### Joining baselines with simulation results"
   ]
  },
  {
   "cell_type": "code",
   "execution_count": 29,
   "metadata": {},
   "outputs": [],
   "source": [
    "for idx, model in enumerate(models):\n",
    "    sim_preds = sim_preds.merge(rankings[idx][[\"id\",\"dcg\"]].rename({\"id\":\"record_id\",\"dcg\":model}, axis=1), on=\"record_id\", how=\"left\")"
   ]
  },
  {
   "cell_type": "markdown",
   "metadata": {},
   "source": [
    "sim_preds[experiments+models].mean().sort_values(ascending=False)"
   ]
  },
  {
   "cell_type": "code",
   "execution_count": 30,
   "metadata": {},
   "outputs": [
    {
     "data": {
      "text/plain": [
       "onmf_dim10_lr0.140_nr100    0.237172\n",
       "time_pop                    0.208200\n",
       "pop                         0.150576\n",
       "dcg_high_cap                0.145786\n",
       "dcg_high_degree             0.145113\n",
       "dcg_global_income           0.106805\n",
       "dcg_global_traffic          0.095680\n",
       "dcg_inbound_depletions      0.057967\n",
       "dtype: float64"
      ]
     },
     "execution_count": 30,
     "metadata": {},
     "output_type": "execute_result"
    }
   ],
   "source": [
    "sim_preds[models+ [\"dcg_global_traffic\",\"dcg_global_income\",\"dcg_inbound_depletions\",\"dcg_high_degree\",\"dcg_high_cap\"]].mean().sort_values(ascending=False)"
   ]
  },
  {
   "cell_type": "markdown",
   "metadata": {},
   "source": [
    "# Rank combination"
   ]
  },
  {
   "cell_type": "code",
   "execution_count": null,
   "metadata": {},
   "outputs": [],
   "source": [
    "onmf_preds = pd.read_csv(\"%s/preds_onmf_dim10_lr0.140_nr100.csv\" % ranking_dir)\n",
    "onmf_preds = onmf_preds.drop(\"dcg\", axis=1)\n",
    "onmf_preds.shape"
   ]
  },
  {
   "cell_type": "code",
   "execution_count": null,
   "metadata": {},
   "outputs": [],
   "source": [
    "tpop_preds = pd.read_csv(\"%s/preds_time_pop.csv\" % ranking_dir)\n",
    "tpop_preds = tpop_preds.drop(\"dcg\", axis=1)\n",
    "tpop_preds.shape"
   ]
  },
  {
   "cell_type": "code",
   "execution_count": null,
   "metadata": {},
   "outputs": [],
   "source": [
    "sim_model_preds = {}"
   ]
  },
  {
   "cell_type": "code",
   "execution_count": null,
   "metadata": {},
   "outputs": [],
   "source": [
    "sim_model = experiments[0]\n",
    "for m in link_sim_cols:\n",
    "    tmp_parts = [pd.read_csv(\"%s/%s/preds_%s_%i.csv\" % (ranking_dir,sim_model,m,i)) for i in range(19)]\n",
    "    tmp = pd.concat(tmp_parts, ignore_index=True)\n",
    "    sim_model_preds[m] = tmp\n",
    "    print(m)"
   ]
  },
  {
   "cell_type": "markdown",
   "metadata": {},
   "source": [
    "### filter for common records"
   ]
  },
  {
   "cell_type": "markdown",
   "metadata": {},
   "source": [
    "common_record_ids = set(onmf_preds[\"record_id\"])\n",
    "len(common_record_ids)"
   ]
  },
  {
   "cell_type": "code",
   "execution_count": null,
   "metadata": {},
   "outputs": [],
   "source": [
    "common_record_ids = set(sim_model_preds[\"global_income\"][\"record_id\"])\n",
    "len(common_record_ids)"
   ]
  },
  {
   "cell_type": "code",
   "execution_count": null,
   "metadata": {},
   "outputs": [],
   "source": [
    "for m in link_sim_cols:\n",
    "    tmp = sim_model_preds[m]\n",
    "    sim_model_preds[m] = tmp[tmp[\"record_id\"].isin(common_record_ids)]\n",
    "    print(m, sim_model_preds[m].shape)\n",
    "onmf_preds = onmf_preds[onmf_preds[\"record_id\"].isin(common_record_ids)]\n",
    "print(\"onmf\", onmf_preds.shape)\n",
    "tpop_preds = tpop_preds[tpop_preds[\"record_id\"].isin(common_record_ids)]\n",
    "print(\"tpop\", tpop_preds.shape)"
   ]
  },
  {
   "cell_type": "markdown",
   "metadata": {},
   "source": [
    "### extract real targets"
   ]
  },
  {
   "cell_type": "code",
   "execution_count": null,
   "metadata": {},
   "outputs": [],
   "source": [
    "real_targets = dict(links_df.loc[common_record_ids][\"item\"])"
   ]
  },
  {
   "cell_type": "code",
   "execution_count": null,
   "metadata": {},
   "outputs": [],
   "source": [
    "len(real_targets)"
   ]
  },
  {
   "cell_type": "markdown",
   "metadata": {},
   "source": [
    "### recoding keys to ids"
   ]
  },
  {
   "cell_type": "code",
   "execution_count": null,
   "metadata": {},
   "outputs": [],
   "source": [
    "node_2_id = dict(zip(links_df[\"src\"],links_df[\"user\"]))\n",
    "node_2_id.update(dict(zip(links_df[\"trg\"],links_df[\"item\"])))"
   ]
  },
  {
   "cell_type": "code",
   "execution_count": null,
   "metadata": {},
   "outputs": [],
   "source": [
    "id_2_node = dict(zip(links_df[\"user\"],links_df[\"src\"]))\n",
    "id_2_node.update(dict(zip(links_df[\"item\"],links_df[\"trg\"])))"
   ]
  },
  {
   "cell_type": "code",
   "execution_count": null,
   "metadata": {},
   "outputs": [],
   "source": [
    "for m in link_sim_cols:\n",
    "    tmp = sim_model_preds[m]\n",
    "    tmp[\"user\"] = tmp[\"user\"].apply(lambda x: node_2_id[x])\n",
    "    tmp[\"item\"] = tmp[\"item\"].apply(lambda x: node_2_id[x])\n",
    "    sim_model_preds[m] = tmp\n",
    "    print(m)"
   ]
  },
  {
   "cell_type": "code",
   "execution_count": null,
   "metadata": {},
   "outputs": [],
   "source": [
    "sim_model_preds[\"onmf\"] = onmf_preds\n",
    "sim_model_preds[\"tpop\"] = tpop_preds"
   ]
  },
  {
   "cell_type": "markdown",
   "metadata": {},
   "source": [
    "# Prediction insights?"
   ]
  },
  {
   "cell_type": "code",
   "execution_count": null,
   "metadata": {},
   "outputs": [],
   "source": [
    "node_names = pd.read_csv(\"/mnt/idms/fberes/data/bitcoin_ln_research/node_names.csv\")"
   ]
  },
  {
   "cell_type": "code",
   "execution_count": null,
   "metadata": {},
   "outputs": [],
   "source": [
    "tmp = sim_model_preds[\"onmf\"].copy()"
   ]
  },
  {
   "cell_type": "code",
   "execution_count": null,
   "metadata": {},
   "outputs": [],
   "source": [
    "tmp = sim_model_preds[\"tpop\"].copy()"
   ]
  },
  {
   "cell_type": "code",
   "execution_count": null,
   "metadata": {},
   "outputs": [],
   "source": [
    "tmp[\"src\"] = tmp[\"user\"].apply(lambda x: id_2_node[x])\n",
    "tmp[\"trg\"] = tmp[\"item\"].apply(lambda x: id_2_node[x])"
   ]
  },
  {
   "cell_type": "code",
   "execution_count": null,
   "metadata": {},
   "outputs": [],
   "source": [
    "tmp = tmp.merge(node_names, left_on=\"trg\", right_on=\"pub_key\", how=\"left\").drop(\"pub_key\", axis=1)"
   ]
  },
  {
   "cell_type": "markdown",
   "metadata": {},
   "source": [
    "tmp.head()"
   ]
  },
  {
   "cell_type": "code",
   "execution_count": null,
   "metadata": {},
   "outputs": [],
   "source": [
    "tmp.groupby(\"name\")[\"rank\"].mean().sort_values().head(30)"
   ]
  },
  {
   "cell_type": "code",
   "execution_count": null,
   "metadata": {},
   "outputs": [],
   "source": [
    "tmp.groupby(\"name\")[\"score\"].sum().sort_values(ascending=False).head(50)"
   ]
  },
  {
   "cell_type": "markdown",
   "metadata": {},
   "source": [
    "tmp_2 = sim_model_preds[\"global_traffic\"].copy()"
   ]
  },
  {
   "cell_type": "code",
   "execution_count": null,
   "metadata": {},
   "outputs": [],
   "source": [
    "tmp_2 = sim_model_preds[\"high_degree\"].copy()"
   ]
  },
  {
   "cell_type": "code",
   "execution_count": null,
   "metadata": {},
   "outputs": [],
   "source": [
    "tmp_2[\"src\"] = tmp_2[\"user\"].apply(lambda x: id_2_node[x])\n",
    "tmp_2[\"trg\"] = tmp_2[\"item\"].apply(lambda x: id_2_node[x])"
   ]
  },
  {
   "cell_type": "code",
   "execution_count": null,
   "metadata": {},
   "outputs": [],
   "source": [
    "tmp_2 = tmp_2.merge(node_names, left_on=\"trg\", right_on=\"pub_key\", how=\"left\").drop(\"pub_key\", axis=1)"
   ]
  },
  {
   "cell_type": "markdown",
   "metadata": {},
   "source": [
    "tmp_2.head()"
   ]
  },
  {
   "cell_type": "code",
   "execution_count": null,
   "metadata": {},
   "outputs": [],
   "source": [
    "tmp_2.groupby(\"name\")[\"rank\"].mean().sort_values().head(10)"
   ]
  },
  {
   "cell_type": "markdown",
   "metadata": {},
   "source": [
    "tmp_2.groupby(\"trg\")[\"score\"].sum().sort_values(ascending=False).head(10)"
   ]
  },
  {
   "cell_type": "markdown",
   "metadata": {},
   "source": [
    "### combination"
   ]
  },
  {
   "cell_type": "code",
   "execution_count": null,
   "metadata": {},
   "outputs": [],
   "source": [
    "import numpy as np\n",
    "import functools\n",
    "import concurrent.futures\n",
    "\n",
    "def performance(pred_df,real_targets):\n",
    "    \"\"\"real_targets contains true items for only the related sessions\"\"\"\n",
    "    df = pred_df.copy()\n",
    "    df.loc[:,\"true_item\"] = df[\"record_id\"].apply(lambda x: real_targets[x])\n",
    "    hits = df[df[\"true_item\"]==df[\"item\"]]\n",
    "    hits.loc[:,\"dcg\"] = 1.0 / (np.log2(hits[\"rank\"]+1.0))\n",
    "    return hits[\"rec_rank\"].sum() / len(real_targets), hits[\"dcg\"].sum() / len(real_targets)\n",
    "\n",
    "def extract_topk(df, key_col, score_col, k):\n",
    "    groups = dict(tuple(df.groupby(key_col)))\n",
    "    topk_parts = [groups[key].nlargest(k,score_col) for key in groups]\n",
    "    return pd.concat(topk_parts, ignore_index=True)\n",
    "\n",
    "def combine_ranks(preds_1, preds_2, k, alpha, trim=True):\n",
    "    cols = [\"record_id\",\"item\",\"rec_rank\"]\n",
    "    p1 = preds_1[cols].copy()\n",
    "    p2 = preds_2[cols].copy()\n",
    "    p1.loc[:,\"rec_rank\"] = p1[\"rec_rank\"]*alpha\n",
    "    p2.loc[:,\"rec_rank\"] = p2[\"rec_rank\"]*(1.0-alpha)\n",
    "    combined = pd.concat([p1,p2], ignore_index=True)\n",
    "    combined = combined.groupby([\"record_id\",\"item\"])[\"rec_rank\"].sum().reset_index()\n",
    "    combined = combined[combined[\"rec_rank\"]>0]\n",
    "    combined.loc[:,\"rank\"] = 1.0 / combined[\"rec_rank\"]\n",
    "    combined.loc[:,\"dcg\"] = DcgScore(combined)\n",
    "    if trim:\n",
    "        old_size = len(combined)\n",
    "        combined = extract_topk(combined, \"record_id\", \"rec_rank\", k)\n",
    "        print(alpha,len(p1),len(combined),old_size/len(p1))\n",
    "    return combined\n",
    "\n",
    "def combine_and_eval(model1, model2, true_targets, k, a):\n",
    "    combi = combine_ranks(model1, model2, k, a)\n",
    "    mrr, mdcg = performance(combi, true_targets)\n",
    "    #print(len(combi)/len(model2))\n",
    "    return mrr, mdcg\n",
    "\n",
    "def combine_models(model1, model2, true_targets, alphas, filter_m1=False, max_threads=4):\n",
    "    if filter_m1:\n",
    "        m1 = model1[model1[\"prediction\"]>0]\n",
    "        print(\"filter\",len(model1),len(m1))\n",
    "    else:\n",
    "        m1 = model1\n",
    "    f_partial = functools.partial(combine_and_eval, m1, model2, true_targets, top_k)\n",
    "    executor = concurrent.futures.ProcessPoolExecutor(max_threads)\n",
    "    res = list(executor.map(f_partial, alphas))\n",
    "    executor.shutdown()\n",
    "    mrrs, mdcgs = zip(*res)\n",
    "    #print(mrrs)\n",
    "    print(mdcgs)\n",
    "    #plt.figure()\n",
    "    #plt.plot(alphas,mrrs,'bx',label=\"mrr\")\n",
    "    #plt.plot(alphas,mdcgs,'rx',label=\"mdcg\")\n",
    "    #plt.legend()"
   ]
  },
  {
   "cell_type": "code",
   "execution_count": null,
   "metadata": {},
   "outputs": [],
   "source": [
    "for col in sim_model_preds:\n",
    "    tmp = sim_model_preds[col]\n",
    "    tmp[\"rec_rank\"] = 1.0 / tmp[\"rank\"]\n",
    "    sim_model_preds[col] = tmp\n",
    "    print(col)"
   ]
  },
  {
   "cell_type": "markdown",
   "metadata": {},
   "source": [
    "#### double check: single model performance"
   ]
  },
  {
   "cell_type": "code",
   "execution_count": null,
   "metadata": {},
   "outputs": [],
   "source": [
    "for col in sim_model_preds:\n",
    "    print(col, performance(sim_model_preds[col], real_targets))"
   ]
  },
  {
   "cell_type": "code",
   "execution_count": null,
   "metadata": {},
   "outputs": [],
   "source": [
    "#alphas = np.arange(0,1.1,0.1)# 0.075 is best: 0.239715\n",
    "alphas = [0.0,0.001,0.002,0.005,0.01,0.02,0.03,0.1,1.0]\n",
    "#alphas = [0.0,0.01,0.02,0.03,0.04,0.05,0.1,0.2,0.5,1.0]\n",
    "#alphas = [0.0,0.025,0.05,0.075,0.1,0.15,0.2,1.0]"
   ]
  },
  {
   "cell_type": "markdown",
   "metadata": {},
   "source": [
    "#### NOTE: finally for topk=500 models can combine!"
   ]
  },
  {
   "cell_type": "code",
   "execution_count": null,
   "metadata": {},
   "outputs": [],
   "source": [
    "combine_models(tpop_preds, onmf_preds, real_targets, alphas, max_threads=len(alphas))"
   ]
  },
  {
   "cell_type": "markdown",
   "metadata": {
    "scrolled": false
   },
   "source": [
    "for col in link_sim_cols:\n",
    "    print(\"###%s###\" % col)\n",
    "    combine_models(sim_model_preds[col], onmf_preds, real_targets, alphas, filter_m1=False, max_threads=len(alphas))\n",
    "    print()"
   ]
  },
  {
   "cell_type": "code",
   "execution_count": null,
   "metadata": {},
   "outputs": [],
   "source": [
    "for col in link_sim_cols:\n",
    "    print(\"###%s###\" % col)\n",
    "    combine_models(sim_model_preds[col], onmf_preds, real_targets, alphas, filter_m1=True, max_threads=len(alphas))\n",
    "    print()"
   ]
  },
  {
   "cell_type": "markdown",
   "metadata": {},
   "source": [
    "combine_models(only_sim_preds, onmf_preds, alphas)"
   ]
  },
  {
   "cell_type": "markdown",
   "metadata": {},
   "source": [
    "# Betweeness baseline"
   ]
  },
  {
   "cell_type": "markdown",
   "metadata": {},
   "source": [
    "from link_pred_simulator import load_graph_snapshots, process_links_for_simulator"
   ]
  },
  {
   "cell_type": "markdown",
   "metadata": {},
   "source": [
    "snapshots, time_boundaries = load_graph_snapshots(\"/mnt/idms/fberes/data/bitcoin_ln_research/directed_graphs/directed_temporal_multi_edges_1days.csv\")"
   ]
  },
  {
   "cell_type": "markdown",
   "metadata": {},
   "source": [
    "links_for_sim = process_links_for_simulator(links_df, None, time_boundaries, only_eval=False, verbose=True)"
   ]
  },
  {
   "cell_type": "markdown",
   "metadata": {},
   "source": [
    "links_for_sim[\"eval\"].value_counts()"
   ]
  },
  {
   "cell_type": "markdown",
   "metadata": {},
   "source": [
    "from tqdm import tqdm\n",
    "\n",
    "def calculate_rank(scores_df, true_target, top_k, seen_nodes=None):\n",
    "        # scores_df is preordered\n",
    "        if seen_nodes == None:\n",
    "            ordered_list = list(scores_df[\"index\"])[:top_k]\n",
    "        else:\n",
    "            ordered_list = list(scores_df[~scores_df[\"index\"].isin(seen_nodes)][\"index\"])[:top_k]\n",
    "        return ordered_list.index(true_target)+1.0 if true_target in ordered_list else None\n",
    "\n",
    "def extract_central_nodes(file_path, metric):\n",
    "    scores_df = pd.read_csv(file_path, usecols=[\"index\",\"betw\"])\n",
    "    return scores_df.sort_values(metric, ascending=False)[[\"index\",metric]]\n",
    "    \n",
    "class BetweenessModel():\n",
    "    def __init__(self, centrality_dir=\"/mnt/idms/fberes/data/bitcoin_ln_research/centrality_scores\", weight=None):\n",
    "        self.metric = \"betw\"\n",
    "        self.weight = weight\n",
    "        self.centrality_dir = centrality_dir\n",
    "        self.top_k_preds = {}\n",
    "        \n",
    "    def run(self, links, k, exclude_known=True):\n",
    "        self.graph = {}\n",
    "        max_snap_id = links[\"snapshot\"].max()\n",
    "        for snap_id in range(max_snap_id+1):\n",
    "            f_path = \"%s/scores_%s_%i.csv\" % (self.centrality_dir, self.weight, snap_id)\n",
    "            self.top_k_preds[snap_id] = extract_central_nodes(f_path, self.metric)\n",
    "        ranks = []\n",
    "        indices = links.index\n",
    "        for idx in tqdm(indices):\n",
    "            row = links.loc[idx]\n",
    "            snap_id, src, trg, eval_ = row[\"snapshot\"], row[\"src\"], row[\"trg\"], row[\"eval\"]\n",
    "            if not src in self.graph:\n",
    "                self.graph[src] = set()\n",
    "            if eval_:\n",
    "                seen_nodes = self.graph[src] if exclude_known else None\n",
    "                ranks.append(calculate_rank(self.top_k_preds[snap_id], trg, k, seen_nodes))\n",
    "            else:\n",
    "                ranks.append(None)\n",
    "            self.graph[src].add(trg)\n",
    "        rankings = links.copy()\n",
    "        rankings[\"rank\"] = ranks\n",
    "        return rankings[rankings[\"eval\"]==1]"
   ]
  },
  {
   "cell_type": "markdown",
   "metadata": {},
   "source": [
    "# How can it be the same DCG???"
   ]
  },
  {
   "cell_type": "markdown",
   "metadata": {},
   "source": [
    "bm = BetweenessModel()"
   ]
  },
  {
   "cell_type": "markdown",
   "metadata": {},
   "source": [
    "bm_rankings = bm.run(links_for_sim, 20, exclude_known=True)"
   ]
  },
  {
   "cell_type": "markdown",
   "metadata": {},
   "source": [
    "bm_rankings[\"dcg\"] = DcgScore(bm_rankings)"
   ]
  },
  {
   "cell_type": "markdown",
   "metadata": {},
   "source": [
    "bm_rankings[\"dcg\"].mean()"
   ]
  },
  {
   "cell_type": "markdown",
   "metadata": {},
   "source": [
    "bm_rankings_f = bm.run(links_for_sim, 20, exclude_known=False)"
   ]
  },
  {
   "cell_type": "markdown",
   "metadata": {},
   "source": [
    "bm_rankings[\"dcg\"] = DcgScore(bm_rankings)"
   ]
  },
  {
   "cell_type": "markdown",
   "metadata": {},
   "source": [
    "bm_rankings[\"dcg\"].mean()"
   ]
  },
  {
   "cell_type": "markdown",
   "metadata": {},
   "source": [
    "# Join"
   ]
  },
  {
   "cell_type": "code",
   "execution_count": null,
   "metadata": {},
   "outputs": [],
   "source": [
    "d1 = pd.read_csv(\"/mnt/idms/fberes/data/bitcoin_ln_research/link_prediction/data/channel_events_20.csv\")"
   ]
  },
  {
   "cell_type": "code",
   "execution_count": null,
   "metadata": {},
   "outputs": [],
   "source": [
    "d2 = pd.read_csv(\"../DynamicNetworkAnalysis/ln.tsv\", sep=\"\\t\", header=None)"
   ]
  },
  {
   "cell_type": "code",
   "execution_count": null,
   "metadata": {},
   "outputs": [],
   "source": [
    "d1.head()"
   ]
  },
  {
   "cell_type": "code",
   "execution_count": null,
   "metadata": {},
   "outputs": [],
   "source": [
    "d1.dtypes"
   ]
  },
  {
   "cell_type": "code",
   "execution_count": null,
   "metadata": {},
   "outputs": [],
   "source": [
    "d2.tail()"
   ]
  },
  {
   "cell_type": "code",
   "execution_count": null,
   "metadata": {},
   "outputs": [],
   "source": []
  },
  {
   "cell_type": "code",
   "execution_count": null,
   "metadata": {},
   "outputs": [],
   "source": [
    "d2.dtypes"
   ]
  },
  {
   "cell_type": "code",
   "execution_count": null,
   "metadata": {},
   "outputs": [],
   "source": [
    "int(\"562210x2014x0\")"
   ]
  },
  {
   "cell_type": "code",
   "execution_count": null,
   "metadata": {},
   "outputs": [],
   "source": [
    "d2[0].apply(lambdabda x: long(x))"
   ]
  },
  {
   "cell_type": "code",
   "execution_count": null,
   "metadata": {},
   "outputs": [],
   "source": []
  }
 ],
 "metadata": {
  "kernelspec": {
   "display_name": "Python [conda env:dm-3-env]",
   "language": "python",
   "name": "conda-env-dm-3-env-py"
  },
  "language_info": {
   "codemirror_mode": {
    "name": "ipython",
    "version": 3
   },
   "file_extension": ".py",
   "mimetype": "text/x-python",
   "name": "python",
   "nbconvert_exporter": "python",
   "pygments_lexer": "ipython3",
   "version": "3.7.3"
  }
 },
 "nbformat": 4,
 "nbformat_minor": 4
}