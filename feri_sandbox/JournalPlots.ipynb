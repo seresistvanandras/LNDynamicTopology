{
 "cells": [
  {
   "cell_type": "code",
   "execution_count": null,
   "metadata": {},
   "outputs": [],
   "source": [
    "%matplotlib inline"
   ]
  },
  {
   "cell_type": "code",
   "execution_count": null,
   "metadata": {},
   "outputs": [],
   "source": [
    "import pandas as pd\n",
    "import numpy as np\n",
    "import matplotlib.pyplot as plt\n",
    "import seaborn as sns"
   ]
  },
  {
   "cell_type": "code",
   "execution_count": null,
   "metadata": {},
   "outputs": [],
   "source": [
    "sns.set(font_scale = 2)\n",
    "sns.set_style(\"whitegrid\")"
   ]
  },
  {
   "cell_type": "code",
   "execution_count": null,
   "metadata": {},
   "outputs": [],
   "source": [
    "markers = [\"s\",\"*\",\"o\",\"^\",\"v\",\">\",\"D\"]"
   ]
  },
  {
   "cell_type": "code",
   "execution_count": null,
   "metadata": {},
   "outputs": [],
   "source": [
    "def handle_img(fig_id, outside=False, img_dir=\"/mnt/idms/fberes/data/bitcoin_ln_research/results/\", anchor=(1.02, 1.02)):\n",
    "    if outside:\n",
    "        lgd = plt.legend(loc=2,bbox_to_anchor=anchor)\n",
    "        plt.savefig(\"%s/%s.pdf\" % (img_dir, fig_id), format=\"pdf\", bbox_extra_artists=(lgd,), bbox_inches='tight')\n",
    "    else:\n",
    "        lgd = plt.legend(loc=8, ncol=2)\n",
    "        plt.savefig(\"%s/%s.pdf\" % (img_dir, fig_id), format=\"pdf\")\n",
    "\n",
    "def plot_col_wrt_tx_amount(df, value_col, nodes, key_col=\"amount\", fig_size=(15,10)):\n",
    "    plt.figure(figsize=fig_size)\n",
    "    for i, n in enumerate(nodes):\n",
    "        node_df = df[df[\"name\"]==n]\n",
    "        x, y = node_df[key_col], node_df[value_col]\n",
    "        ls = \"-\" if i < len(markers) else \"--\" \n",
    "        plt.plot(x, y, marker=markers[i%len(markers)], markersize=15, linewidth=3, linestyle=ls, label=n)\n",
    "    if key_col == \"amount\":\n",
    "        plt.xlabel(r\"$\\alpha$ (satoshi)\")\n",
    "        plt.xscale(\"log\")\n",
    "    else:\n",
    "        plt.xlabel(\"epsilon\")\n",
    "    if value_col == \"income\":\n",
    "        plt.ylabel(\"income (satoshi)\")\n",
    "    else:\n",
    "        plt.ylabel(value_col)\n",
    "    plt.yscale(\"log\")\n",
    "    \n",
    "def calculate_roi_for_routers(node_efficiency, router_1ML_data):\n",
    "    router_data = router_1ML_data.copy().merge(node_efficiency, on=\"name\")\n",
    "    router_data[\"annual_roi\"] = router_data.apply(lambda x: x[\"daily_income\"]*365.0/x[\"cap_sat\"], axis=1)\n",
    "    router_data[\"dupl_factor_5%_roi\"] = router_data.apply(lambda x: (x[\"cap_sat\"]*0.05)/(x[\"daily_income\"]*365.0), axis=1)\n",
    "    router_data[\"total_fee_5%_roi\"] = router_data[\"total_fee\"] * router_data[\"dupl_factor_5%_roi\"]\n",
    "    router_data[\"annual_roi_rank\"] = router_data[\"annual_roi\"].rank(ascending=False).astype(\"int64\")\n",
    "    router_data[\"total_fee_rank\"] = router_data[\"total_fee\"].rank(ascending=False).astype(\"int64\")\n",
    "    router_data[\"daily_traffic_rank\"] = router_data[\"daily_traffic\"].rank(ascending=False).astype(\"int64\")\n",
    "    router_data = router_data.sort_values(\"daily_income\",ascending=False).reset_index(drop=True)\n",
    "    return router_data"
   ]
  },
  {
   "cell_type": "code",
   "execution_count": null,
   "metadata": {},
   "outputs": [],
   "source": [
    "node_name_replacements = {\n",
    "    \"rompert.com\u2261\u0192\u00f6\u2561\":\"rompert.com\",\n",
    "    \"03021c5f5f57322740e4\":\"BlueWallet\",\n",
    "    \"\u2261\u0192\u00dc\u00c7\u2261\u0192\u00ee\u00e6 BOLTENING.club\":\"BOLTENING.club\"\n",
    "}"
   ]
  },
  {
   "cell_type": "markdown",
   "metadata": {},
   "source": [
    "# 1. Node traffic and income"
   ]
  },
  {
   "cell_type": "code",
   "execution_count": null,
   "metadata": {},
   "outputs": [],
   "source": [
    "nodes = [\"rompert.com\",\"LNBIG.com\",\"zigzag.io\",\"yalls.org\",\"ln1.satoshilabs.com\",\"tippin.me\",\"ACINQ\",\"LightningPowerUsers.com\",\"1ML.com node ALPHA\",\"LightningTo.Me\"]"
   ]
  },
  {
   "cell_type": "code",
   "execution_count": null,
   "metadata": {},
   "outputs": [],
   "source": [
    "ipt_col = \"income per transaction (satoshi)\""
   ]
  },
  {
   "cell_type": "markdown",
   "metadata": {},
   "source": [
    "## i.) with respect to amount"
   ]
  },
  {
   "cell_type": "markdown",
   "metadata": {},
   "source": [
    "drop_disabled = True\n",
    "sim_dirs = {\n",
    "10000:\"2019-09-07_10:23:25_10000sat_k6000\",\n",
    "25000:\"2019-09-07_05:06:14_25000sat_k6000\",\n",
    "50000:\"2019-09-06_22:03:19_50000sat_k6000\",\n",
    "100000:\"2019-09-07_14:24:11_100000sat_k6000\",\n",
    "200000:\"2019-09-07_18:37:32_200000sat_k6000\",\n",
    "500000:\"2019-09-07_22:40:54_500000sat_k6000\",\n",
    "}\n",
    "root_dir = \"/mnt/idms/fberes/data/bitcoin_ln_research/experiments_with_rayleigh/results/router_traffic_and_income/1days_40snapshot/\""
   ]
  },
  {
   "cell_type": "markdown",
   "metadata": {},
   "source": [
    "sim_dirs = {\n",
    "10000:\"10000sat_k7000_eps0.80_selected\",\n",
    "20000:\"20000sat_k7000_eps0.80_selected\",\n",
    "60000:\"60000sat_k7000_eps0.80_selected\",\n",
    "100000:\"100000sat_k7000_eps0.80_selected\",\n",
    "200000:\"200000sat_k7000_eps0.80_selected\",\n",
    "500000:\"500000sat_k7000_eps0.80_selected\",\n",
    "}\n",
    "root_dir = \"/mnt/idms/fberes/data/bitcoin_ln_research/results/router_traffic_and_income/lnbig_tuning_1days//\""
   ]
  },
  {
   "cell_type": "code",
   "execution_count": null,
   "metadata": {},
   "outputs": [],
   "source": [
    "sim_dirs = {\n",
    "60000:\"60000sat_k7000_eps0.80_wdepFalse_selected\"\n",
    "}\n",
    "root_dir = \"/mnt/idms/fberes/data/bitcoin_ln_research/results/router_traffic_and_income/without_depletion//\""
   ]
  },
  {
   "cell_type": "code",
   "execution_count": null,
   "metadata": {},
   "outputs": [],
   "source": [
    "parts = []\n",
    "for amount, folder in sim_dirs.items():\n",
    "    df = pd.read_csv(\"%s/%s.csv\" % (root_dir, folder))\n",
    "    df[\"amount\"] = amount\n",
    "    parts.append(df.replace(node_name_replacements).rename({\"mean_fee\":\"income\",\"mean_num_trans\":\"traffic\"},axis=1))\n",
    "    #parts.append(df.replace(node_name_replacements).rename({\"fee\":\"income\",\"num_trans\":\"traffic\"},axis=1))\n",
    "traffic_and_income_df = pd.concat(parts)"
   ]
  },
  {
   "cell_type": "markdown",
   "metadata": {},
   "source": [
    "## Data Description\n",
    "\n",
    "- income: total routing income for the given entity\n",
    "- traffic: number of transactions routed through the given entity\n",
    "- name: name of the entity (for most of them it is a single node BUT for LNBIG.com it is approx. 25 node)\n",
    "- amount: the amount of each transaction in a given simulation"
   ]
  },
  {
   "cell_type": "code",
   "execution_count": null,
   "metadata": {},
   "outputs": [],
   "source": [
    "traffic_and_income_df.head()"
   ]
  },
  {
   "cell_type": "markdown",
   "metadata": {},
   "source": [
    "## Results"
   ]
  },
  {
   "cell_type": "markdown",
   "metadata": {},
   "source": [
    "### a.) Routing income with respect to tx_amount"
   ]
  },
  {
   "cell_type": "code",
   "execution_count": null,
   "metadata": {
    "scrolled": false
   },
   "outputs": [],
   "source": [
    "plot_col_wrt_tx_amount(traffic_and_income_df, \"income\", nodes)\n",
    "handle_img(\"router_income\", outside=True, img_dir=root_dir)"
   ]
  },
  {
   "cell_type": "markdown",
   "metadata": {},
   "source": [
    "### b.) Routing traffic with respect to tx_amount"
   ]
  },
  {
   "cell_type": "code",
   "execution_count": null,
   "metadata": {},
   "outputs": [],
   "source": [
    "plot_col_wrt_tx_amount(traffic_and_income_df, \"traffic\", nodes)\n",
    "handle_img(\"router_traffic\", outside=True, img_dir=root_dir)"
   ]
  },
  {
   "cell_type": "markdown",
   "metadata": {},
   "source": [
    "### c.) Routing income per transaction (calculated from routed traffic) with respect to tx_amount"
   ]
  },
  {
   "cell_type": "code",
   "execution_count": null,
   "metadata": {},
   "outputs": [],
   "source": [
    "traffic_and_income_df[ipt_col] = traffic_and_income_df[\"income\"] / traffic_and_income_df[\"traffic\"]"
   ]
  },
  {
   "cell_type": "code",
   "execution_count": null,
   "metadata": {},
   "outputs": [],
   "source": [
    "plot_col_wrt_tx_amount(traffic_and_income_df, ipt_col, nodes)\n",
    "handle_img(\"node_income_per_transaction\", outside=True, img_dir=root_dir)"
   ]
  },
  {
   "cell_type": "markdown",
   "metadata": {},
   "source": [
    "## ii.) With respect to epsilon"
   ]
  },
  {
   "cell_type": "markdown",
   "metadata": {},
   "source": [
    "root_dir_eps = \"/mnt/idms/fberes/data/bitcoin_ln_research/results/router_traffic_and_income/effect_of_epsilon/\"\n",
    "sim_dirs_eps = {\n",
    "0.0:\"2019-09-26_14:15:21_50000sat_k6000_eps0.00_selected\",\n",
    "0.2:\"2019-09-26_14:15:21_50000sat_k6000_eps0.20_selected\",\n",
    "0.5:\"2019-09-26_14:15:21_50000sat_k6000_eps0.50_selected\",\n",
    "0.8:\"2019-09-26_14:15:21_50000sat_k6000_eps0.80_selected\",\n",
    "1.0:\"2019-09-26_14:15:21_50000sat_k6000_eps1.00_selected\",\n",
    "}"
   ]
  },
  {
   "cell_type": "markdown",
   "metadata": {},
   "source": [
    "root_dir_eps = \"/mnt/idms/fberes/data/bitcoin_ln_research/results/router_traffic_and_income/effect_of_epsilon/\"\n",
    "sim_dirs_eps = {\n",
    "0.0:\"60000sat_k7000_eps0.00_selected\",\n",
    "0.2:\"60000sat_k7000_eps0.20_selected\",\n",
    "0.5:\"60000sat_k7000_eps0.50_selected\",\n",
    "0.8:\"60000sat_k7000_eps0.80_selected\",\n",
    "1.0:\"60000sat_k7000_eps1.00_selected\",\n",
    "}"
   ]
  },
  {
   "cell_type": "markdown",
   "metadata": {},
   "source": [
    "parts = []\n",
    "for eps, folder in sim_dirs_eps.items():\n",
    "    df = pd.read_csv(\"%s/%s.csv\" % (root_dir_eps, folder))\n",
    "    df[\"epsilon\"] = eps\n",
    "    parts.append(df.replace(node_name_replacements).rename({\"mean_fee\":\"income\",\"mean_num_trans\":\"traffic\"},axis=1))\n",
    "traffic_and_income_df_eps = pd.concat(parts)"
   ]
  },
  {
   "cell_type": "markdown",
   "metadata": {},
   "source": [
    "## Results"
   ]
  },
  {
   "cell_type": "markdown",
   "metadata": {},
   "source": [
    "### a.) Routing income with respect to tx_amount"
   ]
  },
  {
   "cell_type": "markdown",
   "metadata": {
    "scrolled": false
   },
   "source": [
    "plot_col_wrt_tx_amount(traffic_and_income_df_eps, \"income\", nodes, key_col=\"epsilon\")\n",
    "handle_img(\"router_income_eps\", outside=True, img_dir=root_dir_eps)"
   ]
  },
  {
   "cell_type": "markdown",
   "metadata": {},
   "source": [
    "### b.) Routing traffic with respect to tx_amount"
   ]
  },
  {
   "cell_type": "markdown",
   "metadata": {},
   "source": [
    "plot_col_wrt_tx_amount(traffic_and_income_df_eps, \"traffic\", nodes, key_col=\"epsilon\")\n",
    "handle_img(\"router_traffic_eps\", outside=True, img_dir=root_dir_eps)"
   ]
  },
  {
   "cell_type": "markdown",
   "metadata": {},
   "source": [
    "### c.) Routing income per transaction (calculated from routed traffic) with respect to tx_amount"
   ]
  },
  {
   "cell_type": "markdown",
   "metadata": {},
   "source": [
    "ipt_col = \"income per transaction (SAT)\""
   ]
  },
  {
   "cell_type": "markdown",
   "metadata": {},
   "source": [
    "traffic_and_income_df_eps[ipt_col] = traffic_and_income_df_eps[\"income\"] / traffic_and_income_df_eps[\"traffic\"]"
   ]
  },
  {
   "cell_type": "markdown",
   "metadata": {},
   "source": [
    "plot_col_wrt_tx_amount(traffic_and_income_df_eps, ipt_col, nodes, key_col=\"epsilon\")\n",
    "handle_img(\"node_income_per_transaction_eps\", outside=True, img_dir=root_dir_eps)"
   ]
  },
  {
   "cell_type": "markdown",
   "metadata": {},
   "source": [
    "# 2. ROI analysis"
   ]
  },
  {
   "cell_type": "code",
   "execution_count": null,
   "metadata": {},
   "outputs": [],
   "source": [
    "import sys\n",
    "sys.path.insert(0,\"./python\")\n",
    "from analysis_utils import relevant_routers"
   ]
  },
  {
   "cell_type": "code",
   "execution_count": null,
   "metadata": {},
   "outputs": [],
   "source": [
    "other_routers = relevant_routers()"
   ]
  },
  {
   "cell_type": "markdown",
   "metadata": {},
   "source": [
    "## Load meta data from 1ML.com"
   ]
  },
  {
   "cell_type": "code",
   "execution_count": null,
   "metadata": {},
   "outputs": [],
   "source": [
    "node_names = pd.read_csv(\"/mnt/idms/fberes/data/bitcoin_ln_research/node_names.csv\")"
   ]
  },
  {
   "cell_type": "code",
   "execution_count": null,
   "metadata": {},
   "outputs": [],
   "source": [
    "lnbig_keys = list((node_names[node_names[\"is_lnbig\"]][\"pub_key\"]))"
   ]
  },
  {
   "cell_type": "markdown",
   "metadata": {},
   "source": [
    "## Load pricing information"
   ]
  },
  {
   "cell_type": "code",
   "execution_count": null,
   "metadata": {},
   "outputs": [],
   "source": [
    "selected_keys = other_routers.copy()"
   ]
  },
  {
   "cell_type": "code",
   "execution_count": null,
   "metadata": {},
   "outputs": [],
   "source": [
    "selected_keys += lnbig_keys"
   ]
  },
  {
   "cell_type": "code",
   "execution_count": null,
   "metadata": {},
   "outputs": [],
   "source": [
    "all_edges = pd.read_csv(\"/mnt/idms/fberes/data/bitcoin_ln_research/directed_graphs/directed_temporal_multi_edges_1days.csv\")"
   ]
  },
  {
   "cell_type": "code",
   "execution_count": null,
   "metadata": {},
   "outputs": [],
   "source": [
    "edges = all_edges[all_edges[\"snapshot_id\"]<40]"
   ]
  },
  {
   "cell_type": "code",
   "execution_count": null,
   "metadata": {},
   "outputs": [],
   "source": [
    "edges = edges[edges[\"trg\"].isin(selected_keys)]"
   ]
  },
  {
   "cell_type": "code",
   "execution_count": null,
   "metadata": {},
   "outputs": [],
   "source": [
    "edges[\"total_fee\"] = edges[\"fee_base_msat\"]/1000.0 + 60000*edges[\"fee_rate_milli_msat\"]/10.0**6"
   ]
  },
  {
   "cell_type": "code",
   "execution_count": null,
   "metadata": {},
   "outputs": [],
   "source": [
    "node_routing_costs = edges.groupby(\"trg\")[[\"fee_base_msat\",\"fee_rate_milli_msat\",\"total_fee\"]].mean().reset_index()"
   ]
  },
  {
   "cell_type": "markdown",
   "metadata": {},
   "source": [
    "## Merge meta and pricing data"
   ]
  },
  {
   "cell_type": "code",
   "execution_count": null,
   "metadata": {},
   "outputs": [],
   "source": [
    "node_merged_data = node_names.merge(node_routing_costs, left_on=\"pub_key\", right_on=\"trg\").drop([\"trg\"], axis=1)"
   ]
  },
  {
   "cell_type": "code",
   "execution_count": null,
   "metadata": {},
   "outputs": [],
   "source": [
    "node_merged_data.head()"
   ]
  },
  {
   "cell_type": "code",
   "execution_count": null,
   "metadata": {},
   "outputs": [],
   "source": [
    "LNBIG_data = node_merged_data[node_merged_data[\"is_lnbig\"]]\n",
    "len(LNBIG_data)"
   ]
  },
  {
   "cell_type": "code",
   "execution_count": null,
   "metadata": {},
   "outputs": [],
   "source": [
    "LNBIG_record = {\n",
    "    \"name\":\"LNBIG.com\",\n",
    "    \"cap_ratio\":LNBIG_data[\"cap_ratio\"].sum(),\n",
    "    \"cap_sat\":LNBIG_data[\"cap_sat\"].sum(),\n",
    "    \"fee_base_msat\":LNBIG_data[\"fee_base_msat\"].mean(),\n",
    "    \"fee_rate_milli_msat\":LNBIG_data[\"fee_rate_milli_msat\"].mean(),\n",
    "    \"total_fee\":LNBIG_data[\"total_fee\"].mean(),\n",
    "}"
   ]
  },
  {
   "cell_type": "markdown",
   "metadata": {},
   "source": [
    "LNBIG_record = LNBIG_data[[\"cap_ratio\",\"cap_sat\"]].sum()\n",
    "LNBIG_record[\"name\"] = \"LNBIG.com\""
   ]
  },
  {
   "cell_type": "code",
   "execution_count": null,
   "metadata": {},
   "outputs": [],
   "source": [
    "router_node_data = node_merged_data[node_merged_data[\"pub_key\"].isin(other_routers)][[\"name\",\"cap_ratio\",\"cap_sat\",\"fee_base_msat\",\"fee_rate_milli_msat\",\"total_fee\"]].replace(node_name_replacements)"
   ]
  },
  {
   "cell_type": "code",
   "execution_count": null,
   "metadata": {},
   "outputs": [],
   "source": [
    "router_node_data = router_node_data.append(LNBIG_record, ignore_index=True)"
   ]
  },
  {
   "cell_type": "markdown",
   "metadata": {},
   "source": [
    "router_node_data.sort_values(\"cap_ratio\", ascending=False).head()"
   ]
  },
  {
   "cell_type": "markdown",
   "metadata": {},
   "source": [
    "## Calculate ROI based on simulation (old version)\n",
    "\n",
    "- number of daily transactions: 5000\n",
    "- tx_amount: 50K SAT (~5,2 USD)"
   ]
  },
  {
   "cell_type": "markdown",
   "metadata": {},
   "source": [
    "node_efficiency = traffic_and_income_df[traffic_and_income_df[\"amount\"]==50000][[\"name\",\"income\",\"traffic\"]].rename({\"income\":\"daily_income\",\"traffic\":\"daily_traffic\"}, axis=1)"
   ]
  },
  {
   "cell_type": "code",
   "execution_count": null,
   "metadata": {},
   "outputs": [],
   "source": [
    "node_efficiency = traffic_and_income_df[traffic_and_income_df[\"amount\"]==60000][[\"name\",\"income\",\"traffic\"]].rename({\"income\":\"daily_income\",\"traffic\":\"daily_traffic\"}, axis=1)"
   ]
  },
  {
   "cell_type": "code",
   "execution_count": null,
   "metadata": {},
   "outputs": [],
   "source": [
    "router_node_data_with_roi = calculate_roi_for_routers(node_efficiency, router_node_data)"
   ]
  },
  {
   "cell_type": "code",
   "execution_count": null,
   "metadata": {},
   "outputs": [],
   "source": [
    "for col in [\"dupl_factor_5%_roi\",\"total_fee\",\"total_fee_5%_roi\",\"daily_income\",\"daily_traffic\"]:\n",
    "    router_node_data_with_roi[col] = np.around(router_node_data_with_roi[col], decimals=1)#.astype(\"int64\")"
   ]
  },
  {
   "cell_type": "code",
   "execution_count": null,
   "metadata": {},
   "outputs": [],
   "source": [
    "router_node_data_with_roi = router_node_data_with_roi.drop([\"fee_base_msat\",\"fee_rate_milli_msat\"], axis=1)"
   ]
  },
  {
   "cell_type": "code",
   "execution_count": null,
   "metadata": {},
   "outputs": [],
   "source": [
    "router_node_data_with_roi"
   ]
  },
  {
   "cell_type": "markdown",
   "metadata": {},
   "source": [
    "## Calculate ROI with epsilon"
   ]
  },
  {
   "cell_type": "markdown",
   "metadata": {},
   "source": [
    "node_efficiency_eps = traffic_and_income_df_eps[traffic_and_income_df_eps[\"epsilon\"]==0.8][[\"name\",\"income\",\"traffic\"]].rename({\"income\":\"daily_income\",\"traffic\":\"daily_traffic\"}, axis=1)"
   ]
  },
  {
   "cell_type": "markdown",
   "metadata": {},
   "source": [
    "router_node_data_with_roi_eps = calculate_roi_for_routers(node_efficiency_eps, router_node_data)"
   ]
  },
  {
   "cell_type": "markdown",
   "metadata": {},
   "source": [
    "router_node_data_with_roi_eps"
   ]
  },
  {
   "cell_type": "markdown",
   "metadata": {},
   "source": [
    "## Export results"
   ]
  },
  {
   "cell_type": "code",
   "execution_count": null,
   "metadata": {},
   "outputs": [],
   "source": [
    "router_node_data_with_roi.to_csv(\"%s/roi_analysis.csv\" % root_dir, index=False)"
   ]
  },
  {
   "cell_type": "code",
   "execution_count": null,
   "metadata": {},
   "outputs": [],
   "source": [
    "s = str(router_node_data_with_roi.to_latex(index=False))"
   ]
  },
  {
   "cell_type": "code",
   "execution_count": null,
   "metadata": {},
   "outputs": [],
   "source": [
    "s = s.replace(\"name\",\"Entity name\")\n",
    "s = s.replace(\"cap\\_ratio\",\"Cap. ratio\")\n",
    "s = s.replace(\"cap\\_sat\",\"Entity capacity\")\n",
    "s = s.replace(\"daily\\_income\",\"Daily income\")\n",
    "s = s.replace(\"daily\\_traffic\",\"Daily traffic\")\n",
    "s = s.replace(\"annual\\_roi\",\"Annual ROI\")\n",
    "s = s.replace(\"dupl\\_factor\\_5\\%\\_roi\",\"Duplication factor\")\n",
    "s = s.replace(\"Annual ROI\\_rank\",\"ROI rank\")\n",
    "s = s.replace(\"Daily traffic\\_rank\",\"Traffic rank\")"
   ]
  },
  {
   "cell_type": "code",
   "execution_count": null,
   "metadata": {},
   "outputs": [],
   "source": [
    "print(s)"
   ]
  },
  {
   "cell_type": "markdown",
   "metadata": {},
   "source": [
    "# 3. Simulation stability"
   ]
  },
  {
   "cell_type": "code",
   "execution_count": null,
   "metadata": {},
   "outputs": [],
   "source": [
    "epsilons = [0.0,0.2,0.5,0.8,1.0]"
   ]
  },
  {
   "cell_type": "code",
   "execution_count": null,
   "metadata": {},
   "outputs": [],
   "source": [
    "folder_prefix = \"/mnt/idms/fberes/data/bitcoin_ln_research/results/simulation_stability/effect_of_epsilon\""
   ]
  },
  {
   "cell_type": "code",
   "execution_count": null,
   "metadata": {},
   "outputs": [],
   "source": [
    "stability_dfs = {}\n",
    "for eps in epsilons:\n",
    "    stability_dfs[eps] = pd.read_csv(\"%s/60000sat_k7000_eps%.2f_stability_res.csv\" % (folder_prefix, eps))\n",
    "    stability_dfs[eps] = stability_dfs[eps][stability_dfs[eps][\"correlation type\"]!=\"pearson\"]\n",
    "    stability_dfs[eps] = stability_dfs[eps].replace({\"sender transaction fee\":\"sender fee\"})"
   ]
  },
  {
   "cell_type": "code",
   "execution_count": null,
   "metadata": {
    "scrolled": false
   },
   "outputs": [],
   "source": [
    "output_dir = \"/mnt/idms/fberes/data/bitcoin_ln_research/results/simulation_stability\"\n",
    "for eps in epsilons:\n",
    "    sns.catplot(data=stability_dfs[eps], x=\"correlation type\", y=\"value\", hue=\"statistics\", kind=\"bar\", height=8)\n",
    "    plt.title(r\"$\\epsilon$=%.1f\" % eps)\n",
    "    plt.savefig(\"%s/60000sat_k7000_eps%.2f_cross_correlation.pdf\" % (output_dir,eps), format=\"pdf\")"
   ]
  },
  {
   "cell_type": "markdown",
   "metadata": {},
   "source": [
    "# 4. Income correlation for different epsilons"
   ]
  },
  {
   "cell_type": "code",
   "execution_count": null,
   "metadata": {},
   "outputs": [],
   "source": [
    "income_dir_prefix = \"/mnt/idms/fberes/data/bitcoin_ln_research/results/router_traffic_and_income\"\n",
    "all_node_incomes = {}\n",
    "for eps in epsilons:\n",
    "    #all_node_incomes[eps] = pd.read_csv(income_dir_prefix+\"/effect_of_epsilon/2019-09-26_14:15:21_50000sat_k6000_eps%.2f_all.csv\" % eps)\n",
    "    all_node_incomes[eps] = pd.read_csv(income_dir_prefix+\"/effect_of_epsilon/60000sat_k7000_eps%.2f_all.csv\" % eps)"
   ]
  },
  {
   "cell_type": "code",
   "execution_count": null,
   "metadata": {},
   "outputs": [],
   "source": [
    "all_node_incomes[0.0].head()"
   ]
  },
  {
   "cell_type": "code",
   "execution_count": null,
   "metadata": {},
   "outputs": [],
   "source": [
    "from ln_utils import corr_mx\n",
    "\n",
    "cmap = \"RdBu_r\"\n",
    "fig_s=(8,8)\n",
    "\n",
    "def merge_and_plot_corr_mx(all_node_incomes, value_col):\n",
    "    eps = 0.0\n",
    "    merged_incomes = all_node_incomes[eps][[\"node\",value_col]].rename({value_col:eps}, axis=1)\n",
    "    for eps in [0.2,0.5,0.8,1.0]:\n",
    "        merged_incomes = merged_incomes.merge(all_node_incomes[eps][[\"node\",value_col]].rename({value_col:eps}, axis=1), on=\"node\", how=\"outer\")\n",
    "    print(merged_incomes.isnull().sum())\n",
    "    merged_incomes = merged_incomes.fillna(0.0)\n",
    "    merged_incomes_wout_ids = merged_incomes.drop(\"node\",axis=1)\n",
    "    for corr_type in [\"spearman\",\"kendall\",\"wkendall\"]:\n",
    "        fig, ax = plt.subplots(figsize=fig_s)\n",
    "        plt.title(corr_type)\n",
    "        sns.heatmap(corr_mx(merged_incomes_wout_ids, method=corr_type), annot=True, fmt='.2f', vmin=0.65, vmax=1.0, ax=ax, cmap=cmap, square=True)\n",
    "        ax.set_ylim(6.0, 0)\n",
    "        plt.savefig(\"%s/60000sat_k7000_%s_%s.pdf\" % (income_dir_prefix, value_col, corr_type), format=\"pdf\")"
   ]
  },
  {
   "cell_type": "code",
   "execution_count": null,
   "metadata": {},
   "outputs": [],
   "source": [
    "merge_and_plot_corr_mx(all_node_incomes, \"mean_fee\")"
   ]
  },
  {
   "cell_type": "code",
   "execution_count": null,
   "metadata": {},
   "outputs": [],
   "source": [
    "merge_and_plot_corr_mx(all_node_incomes, \"mean_num_trans\")"
   ]
  },
  {
   "cell_type": "markdown",
   "metadata": {},
   "source": [
    "# 5. Entity global failure ratios"
   ]
  },
  {
   "cell_type": "code",
   "execution_count": null,
   "metadata": {},
   "outputs": [],
   "source": [
    "global_failure_ratios = pd.read_csv(\"/mnt/idms/fberes/data/bitcoin_ln_research/results/entity_global_failure_ratios.csv\")"
   ]
  },
  {
   "cell_type": "code",
   "execution_count": null,
   "metadata": {},
   "outputs": [],
   "source": [
    "threshold = float(global_failure_ratios[global_failure_ratios[\"entity\"]==\"all\"][\"failure_ratio\"])"
   ]
  },
  {
   "cell_type": "code",
   "execution_count": null,
   "metadata": {},
   "outputs": [],
   "source": [
    "threshold"
   ]
  },
  {
   "cell_type": "code",
   "execution_count": null,
   "metadata": {},
   "outputs": [],
   "source": [
    "global_failure_ratios = global_failure_ratios[global_failure_ratios[\"entity\"]!=\"all\"]"
   ]
  },
  {
   "cell_type": "code",
   "execution_count": null,
   "metadata": {},
   "outputs": [],
   "source": [
    "global_failure_ratios = global_failure_ratios.replace(node_name_replacements)"
   ]
  },
  {
   "cell_type": "code",
   "execution_count": null,
   "metadata": {},
   "outputs": [],
   "source": [
    "plt.figure(figsize=(16,8))\n",
    "plt.bar(global_failure_ratios[\"entity\"], global_failure_ratios[\"failure_ratio\"])\n",
    "plt.xticks(rotation=90)\n",
    "plt.ylim((0.35,0.393))\n",
    "plt.xlim((-1.0,23))\n",
    "plt.hlines(threshold,-1.0,23.0, \"k\", linewidth=3, linestyles=\"--\", label=\"original failed transaction ratio\")\n",
    "plt.legend()\n",
    "plt.savefig(\"/mnt/idms/fberes/data/bitcoin_ln_research/results/entity_failure_ratios.pdf\", format=\"pdf\", bbox_inches='tight')"
   ]
  },
  {
   "cell_type": "markdown",
   "metadata": {},
   "source": [
    "# 6. Privacy preserving routing"
   ]
  },
  {
   "cell_type": "code",
   "execution_count": null,
   "metadata": {},
   "outputs": [],
   "source": [
    "x = [2,3,4,5,6]\n",
    "means = [5.0162, 5.1656, 5.2844, 5.4636, 5.6931]\n",
    "medians = [1.08, 1.12, 1.18, 1.24, 1.5]"
   ]
  },
  {
   "cell_type": "code",
   "execution_count": null,
   "metadata": {},
   "outputs": [],
   "source": [
    "plt.plot(x,means, 'o-', markersize=15, linewidth=3)\n",
    "plt.xlabel(\"Minimum path length\")\n",
    "plt.ylabel(\"Mean cost (satoshi)\")\n",
    "plt.savefig(\"/mnt/idms/fberes/data/bitcoin_ln_research/results/privacy_mean_cost.pdf\", format=\"pdf\", bbox_inches='tight')"
   ]
  },
  {
   "cell_type": "code",
   "execution_count": null,
   "metadata": {},
   "outputs": [],
   "source": [
    "plt.plot(x,medians, 'gs-', markersize=15, linewidth=3)\n",
    "plt.xlabel(\"Minimum path length\")\n",
    "plt.ylabel(\"Median cost (satoshi)\")\n",
    "plt.ylim((1.0,1.6))\n",
    "plt.savefig(\"/mnt/idms/fberes/data/bitcoin_ln_research/results/privacy_median_cost.pdf\", format=\"pdf\", bbox_inches='tight')"
   ]
  },
  {
   "cell_type": "markdown",
   "metadata": {},
   "source": [
    "# 7. LNBIG.com tunning"
   ]
  },
  {
   "cell_type": "code",
   "execution_count": null,
   "metadata": {},
   "outputs": [],
   "source": [
    "sim_dirs = {\n",
    "    \"100000sat_k7000_eps0.80\",\n",
    "    \"20000sat_k7000_eps0.80\",\n",
    "    \"40000sat_k7000_eps0.80\",\n",
    "    \"60000sat_k11000_eps0.80\",\n",
    "    \"60000sat_k3000_eps0.80\",\n",
    "    \"60000sat_k5000_eps0.80\",\n",
    "    \"60000sat_k7000_eps0.00\",\n",
    "    \"60000sat_k7000_eps0.20\",\n",
    "    \"60000sat_k7000_eps0.40\",\n",
    "    \"60000sat_k7000_eps0.60\",\n",
    "    \"60000sat_k7000_eps0.80\",\n",
    "    \"60000sat_k7000_eps1.00\",\n",
    "    \"60000sat_k9000_eps0.80\",\n",
    "    \"80000sat_k7000_eps0.80\"\n",
    "}\n",
    "root_dir = \"/mnt/idms/fberes/data/bitcoin_ln_research/results/router_traffic_and_income/lnbig_tuning_1days//\""
   ]
  },
  {
   "cell_type": "code",
   "execution_count": null,
   "metadata": {},
   "outputs": [],
   "source": [
    "parts = []\n",
    "for folder in sim_dirs:\n",
    "    df = pd.read_csv(\"%s/%s_selected.csv\" % (root_dir, folder))\n",
    "    splitted = folder.split(\"_\")\n",
    "    amount = float(splitted[0].replace(\"sat\",\"\"))\n",
    "    traffic = float(splitted[1].replace(\"k\",\"\"))\n",
    "    eps = float(splitted[2].replace(\"eps\",\"\"))\n",
    "    df[\"alpha\"] = amount\n",
    "    df[\"tau\"] = traffic\n",
    "    df[\"epsilon\"] = eps\n",
    "    parts.append(df.replace(node_name_replacements).rename({\"mean_fee\":\"mean_income\",\"mean_num_trans\":\"mean_traffic\"},axis=1))\n",
    "param_tuning_df = pd.concat(parts)"
   ]
  },
  {
   "cell_type": "code",
   "execution_count": null,
   "metadata": {},
   "outputs": [],
   "source": [
    "param_tuning_df = param_tuning_df[param_tuning_df[\"name\"]==\"LNBIG.com\"]"
   ]
  },
  {
   "cell_type": "code",
   "execution_count": null,
   "metadata": {},
   "outputs": [],
   "source": [
    "param_tuning_df.head()"
   ]
  },
  {
   "cell_type": "markdown",
   "metadata": {},
   "source": [
    "## Changing transaction amount"
   ]
  },
  {
   "cell_type": "code",
   "execution_count": null,
   "metadata": {},
   "outputs": [],
   "source": [
    "df = param_tuning_df[(param_tuning_df[\"tau\"]==7000) & (param_tuning_df[\"epsilon\"]==0.8)]\n",
    "df = df.sort_values(\"alpha\")\n",
    "x = list(df[\"alpha\"])\n",
    "y1, y2 = list(df[\"mean_income\"]), list(df[\"mean_traffic\"])"
   ]
  },
  {
   "cell_type": "code",
   "execution_count": null,
   "metadata": {},
   "outputs": [],
   "source": [
    "fig = plt.figure(figsize=(18,5))\n",
    "fig.suptitle(r'$\\tau=7000, \\epsilon=0.8$')\n",
    "\n",
    "ax1 = fig.add_subplot(121)\n",
    "ax1.plot(x,y1,'bs-',markersize=15,linewidth=3)\n",
    "ax1.set_ylabel(\"income (satoshi)\")\n",
    "ax1.vlines(60000, min(y1), max(y1), \"k\", linewidth=3, linestyles=\":\")\n",
    "for val in [5000, 10000]:\n",
    "    ax1.hlines(val, x[0], x[-1], \"r\", linewidth=3, linestyles=\"--\")\n",
    "\n",
    "ax2 = fig.add_subplot(122)\n",
    "ax2.plot(x,y2,'go-',markersize=15,linewidth=3)\n",
    "ax2.set_ylabel(\"routed payments\")\n",
    "ax2.vlines(60000, 200, max(y2), \"k\", linewidth=3, linestyles=\":\")\n",
    "for val in [200, 300]:\n",
    "    ax2.hlines(val, x[0], x[-1], \"r\", linewidth=3, linestyles=\"--\")\n",
    "\n",
    "ax1.set_xlabel(r\"$\\alpha$ (satoshi)\")\n",
    "ax2.set_xlabel(r\"$\\alpha$ (satoshi)\")\n",
    "\n",
    "plt.savefig(\"/mnt/idms/fberes/data/bitcoin_ln_research/results/router_traffic_and_income/lnbig_tuning_1days/alpha_tuning.pdf\", format=\"pdf\", bbox_inches='tight')"
   ]
  },
  {
   "cell_type": "markdown",
   "metadata": {},
   "source": [
    "## Changing transaction count"
   ]
  },
  {
   "cell_type": "code",
   "execution_count": null,
   "metadata": {},
   "outputs": [],
   "source": [
    "df = param_tuning_df[(param_tuning_df[\"alpha\"]==60000) & (param_tuning_df[\"epsilon\"]==0.8)]\n",
    "df = df.sort_values(\"tau\")\n",
    "x = list(df[\"tau\"])\n",
    "y1, y2 = list(df[\"mean_income\"]), list(df[\"mean_traffic\"])"
   ]
  },
  {
   "cell_type": "code",
   "execution_count": null,
   "metadata": {},
   "outputs": [],
   "source": [
    "fig = plt.figure(figsize=(18,5))\n",
    "fig.suptitle(r'$\\alpha=60000, \\epsilon=0.8$')\n",
    "\n",
    "ax1 = fig.add_subplot(121)\n",
    "ax1.plot(x,y1,'bs-',markersize=15,linewidth=3)\n",
    "ax1.set_ylabel(\"income (satoshi)\")\n",
    "plt.xticks(x,[int(val) for val in x])\n",
    "ax1.vlines(7000, min(y1), max(y1), \"k\", linewidth=3, linestyles=\":\")\n",
    "for val in [5000, 10000]:\n",
    "    ax1.hlines(val, x[0], x[-1], \"r\", linewidth=3, linestyles=\"--\")\n",
    "\n",
    "ax2 = fig.add_subplot(122)\n",
    "ax2.plot(x,y2,'go-',markersize=15,linewidth=3)\n",
    "ax2.set_ylabel(\"routed payments\")\n",
    "ax2.vlines(7000, min(y2), max(y2), \"k\", linewidth=3, linestyles=\":\")\n",
    "plt.xticks(x,[int(val) for val in x])\n",
    "for val in [200, 300]:\n",
    "    ax2.hlines(val, x[0], x[-1], \"r\", linewidth=3, linestyles=\"--\")\n",
    "\n",
    "ax1.set_xlabel(r\"$\\tau$\")\n",
    "ax2.set_xlabel(r\"$\\tau$\")\n",
    "\n",
    "plt.savefig(\"/mnt/idms/fberes/data/bitcoin_ln_research/results/router_traffic_and_income/lnbig_tuning_1days/tau_tuning.pdf\", format=\"pdf\", bbox_inches='tight')"
   ]
  },
  {
   "cell_type": "markdown",
   "metadata": {},
   "source": [
    "## Changing epsilon"
   ]
  },
  {
   "cell_type": "code",
   "execution_count": null,
   "metadata": {},
   "outputs": [],
   "source": [
    "df = param_tuning_df[(param_tuning_df[\"alpha\"]==60000) & (param_tuning_df[\"tau\"]==7000)]\n",
    "df = df.sort_values(\"epsilon\")\n",
    "x = list(df[\"epsilon\"])\n",
    "y1, y2 = list(df[\"mean_income\"]), list(df[\"mean_traffic\"])"
   ]
  },
  {
   "cell_type": "code",
   "execution_count": null,
   "metadata": {},
   "outputs": [],
   "source": [
    "fig = plt.figure(figsize=(18,5))\n",
    "fig.suptitle(r\"$\\alpha=60000, \\tau=7000$\")\n",
    "\n",
    "ax1 = fig.add_subplot(121)\n",
    "ax1.plot(x,y1,'bs-',markersize=15,linewidth=3)\n",
    "ax1.set_ylabel(\"income (satoshi)\")\n",
    "ax1.vlines(0.8, 5000, 10000, \"k\", linewidth=3, linestyles=\":\")\n",
    "for val in [5000, 10000]:\n",
    "    ax1.hlines(val, x[0], x[-1], \"r\", linewidth=3, linestyles=\"--\")\n",
    "\n",
    "ax2 = fig.add_subplot(122)\n",
    "ax2.plot(x,y2,'go-',markersize=15,linewidth=3)\n",
    "ax2.set_ylabel(\"routed payments\")\n",
    "ax2.vlines(0.8, 200, 600, \"k\", linewidth=3, linestyles=\":\")\n",
    "for val in [200, 300]:\n",
    "    ax2.hlines(val, x[0], x[-1], \"r\", linewidth=3, linestyles=\"--\")\n",
    "\n",
    "ax1.set_xlabel(r\"$\\epsilon$\")\n",
    "ax2.set_xlabel(r\"$\\epsilon$\")\n",
    "\n",
    "plt.savefig(\"/mnt/idms/fberes/data/bitcoin_ln_research/results/router_traffic_and_income/lnbig_tuning_1days/epsilon_tuning.pdf\", format=\"pdf\", bbox_inches='tight')"
   ]
  },
  {
   "cell_type": "code",
   "execution_count": null,
   "metadata": {},
   "outputs": [],
   "source": []
  }
 ],
 "metadata": {
  "kernelspec": {
   "display_name": "Python [conda env:dm-3-env] *",
   "language": "python",
   "name": "conda-env-dm-3-env-py"
  },
  "language_info": {
   "codemirror_mode": {
    "name": "ipython",
    "version": 3
   },
   "file_extension": ".py",
   "mimetype": "text/x-python",
   "name": "python",
   "nbconvert_exporter": "python",
   "pygments_lexer": "ipython3",
   "version": "3.7.3"
  }
 },
 "nbformat": 4,
 "nbformat_minor": 2
}