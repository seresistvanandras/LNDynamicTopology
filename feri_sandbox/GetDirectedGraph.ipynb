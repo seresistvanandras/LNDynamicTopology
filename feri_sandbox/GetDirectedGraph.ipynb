{
 "cells": [
  {
   "cell_type": "code",
   "execution_count": null,
   "metadata": {
    "collapsed": true
   },
   "outputs": [],
   "source": [
    "import os\n",
    "from ln_utils import *"
   ]
  },
  {
   "cell_type": "markdown",
   "metadata": {},
   "source": [
    "# Load data"
   ]
  },
  {
   "cell_type": "code",
   "execution_count": null,
   "metadata": {},
   "outputs": [],
   "source": [
    "data_dir = \"../LNdata/lncaptures/lngraph/2019/\"\n",
    "files =  [f for f in sorted(os.listdir(data_dir)) if \".json\" in f]"
   ]
  },
  {
   "cell_type": "code",
   "execution_count": null,
   "metadata": {},
   "outputs": [],
   "source": [
    "idx = 0\n",
    "day_threshold = 7\n",
    "snapshot_ends = [1549032366] # February 1, 2019 2:46:06 PM\n",
    "for f in files[1:]:\n",
    "    t = int(f.split(\".\")[0])\n",
    "    diff = (t-snapshot_ends[idx])//86400\n",
    "    if diff >= day_threshold:\n",
    "        snapshot_ends.append(t)\n",
    "        idx += 1"
   ]
  },
  {
   "cell_type": "code",
   "execution_count": null,
   "metadata": {
    "collapsed": true
   },
   "outputs": [],
   "source": [
    "graph_files = []"
   ]
  },
  {
   "cell_type": "code",
   "execution_count": null,
   "metadata": {},
   "outputs": [],
   "source": [
    "dir_1 = \"../LNdata/lncaptures/lngraph/2019/\"\n",
    "for time in snapshot_ends:\n",
    "    graph_files.append(\"%s/%i.json\" % (dir_1, time))"
   ]
  },
  {
   "cell_type": "code",
   "execution_count": null,
   "metadata": {
    "collapsed": true
   },
   "outputs": [],
   "source": [
    "dir_2 = \"../LNdata/\"\n",
    "for time in [\"0323\",\"0329\"]:\n",
    "    graph_files.append(\"%s/%s.json\" % (dir_2, time))"
   ]
  },
  {
   "cell_type": "code",
   "execution_count": null,
   "metadata": {},
   "outputs": [],
   "source": [
    "graph_files"
   ]
  },
  {
   "cell_type": "code",
   "execution_count": null,
   "metadata": {},
   "outputs": [],
   "source": [
    "EDGE_KEYS = [\"node1_pub\",\"node2_pub\",\"last_update\",\"capacity\",\"channel_id\",'node1_policy','node2_policy']\n",
    "nodes, edges = load_temp_data(graph_files[:-1], edge_keys=EDGE_KEYS)\n",
    "print(len(nodes), len(edges))\n",
    "\n",
    "edges = edges.sort_values(\"last_update\").reset_index(drop=True)\n",
    "print(edges.head(3))"
   ]
  },
  {
   "cell_type": "code",
   "execution_count": null,
   "metadata": {},
   "outputs": [],
   "source": [
    "edges[\"snapshot_id\"].value_counts()"
   ]
  },
  {
   "cell_type": "markdown",
   "metadata": {},
   "source": [
    "# Transform undirected graph into directed graph"
   ]
  },
  {
   "cell_type": "code",
   "execution_count": null,
   "metadata": {},
   "outputs": [],
   "source": [
    "directed_df = generate_directed_graph(edges)\n",
    "print(directed_df.head())"
   ]
  },
  {
   "cell_type": "markdown",
   "metadata": {},
   "source": [
    "# Fill missing values with most frequent value"
   ]
  },
  {
   "cell_type": "code",
   "execution_count": null,
   "metadata": {},
   "outputs": [],
   "source": [
    "print(\"missing values for columns:\")\n",
    "print(directed_df.isnull().sum())\n",
    "\n",
    "print(\"filling missing values with most popular values per column!!!\")\n",
    "directed_df = directed_df.fillna({\"disabled\":False,\"fee_base_msat\":1000,\"fee_rate_milli_msat\":1,\"min_htlc\":1000})\n",
    "\n",
    "for col in [\"fee_base_msat\",\"fee_rate_milli_msat\",\"min_htlc\"]:\n",
    "    directed_df[col] = directed_df[col].astype(\"float64\")\n",
    "    \n",
    "print(directed_df.dtypes)"
   ]
  },
  {
   "cell_type": "markdown",
   "metadata": {},
   "source": [
    "# Aggregate weights for multiple channels between nodes"
   ]
  },
  {
   "cell_type": "code",
   "execution_count": null,
   "metadata": {
    "collapsed": true
   },
   "outputs": [],
   "source": [
    "grouped = directed_df.groupby([\"src\",\"trg\",\"snapshot_id\"])"
   ]
  },
  {
   "cell_type": "code",
   "execution_count": null,
   "metadata": {
    "collapsed": true
   },
   "outputs": [],
   "source": [
    "directed_aggr = grouped.agg({\n",
    "    \"channel_id\":\"nunique\",\n",
    "    \"capacity\":\"sum\",\n",
    "    \"fee_base_msat\":\"mean\",\n",
    "    \"fee_rate_milli_msat\":\"mean\"\n",
    "})"
   ]
  },
  {
   "cell_type": "code",
   "execution_count": null,
   "metadata": {
    "collapsed": true
   },
   "outputs": [],
   "source": [
    "directed_aggr = directed_aggr.rename({\"channel_id\":\"num_channels\"}, axis=1)"
   ]
  },
  {
   "cell_type": "markdown",
   "metadata": {},
   "source": [
    "### There are extreme cases of channel_id-s between nodes!!!\n",
    "\n",
    "- are these attacks?"
   ]
  },
  {
   "cell_type": "code",
   "execution_count": null,
   "metadata": {},
   "outputs": [],
   "source": [
    "directed_aggr.sort_values(\"num_channels\",ascending=False).reset_index().head(20)"
   ]
  },
  {
   "cell_type": "code",
   "execution_count": null,
   "metadata": {
    "collapsed": true
   },
   "outputs": [],
   "source": [
    "directed_aggr = directed_aggr.reset_index()"
   ]
  },
  {
   "cell_type": "code",
   "execution_count": null,
   "metadata": {},
   "outputs": [],
   "source": [
    "directed_aggr.head()"
   ]
  },
  {
   "cell_type": "markdown",
   "metadata": {},
   "source": [
    "# Export"
   ]
  },
  {
   "cell_type": "code",
   "execution_count": null,
   "metadata": {
    "collapsed": true
   },
   "outputs": [],
   "source": [
    "output_dir = \"/mnt/idms/fberes/data/bitcoin_ln_research/\""
   ]
  },
  {
   "cell_type": "code",
   "execution_count": null,
   "metadata": {
    "collapsed": true
   },
   "outputs": [],
   "source": [
    "directed_aggr.to_csv(\"%s/directed_temporal_edges.csv\" % output_dir, index=False)"
   ]
  }
 ],
 "metadata": {
  "kernelspec": {
   "display_name": "Python [conda env:dm-3-env]",
   "language": "python",
   "name": "conda-env-dm-3-env-py"
  },
  "language_info": {
   "codemirror_mode": {
    "name": "ipython",
    "version": 3
   },
   "file_extension": ".py",
   "mimetype": "text/x-python",
   "name": "python",
   "nbconvert_exporter": "python",
   "pygments_lexer": "ipython3",
   "version": "3.5.4"
  }
 },
 "nbformat": 4,
 "nbformat_minor": 2
}