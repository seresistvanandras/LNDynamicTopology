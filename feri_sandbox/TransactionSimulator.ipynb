{
 "cells": [
  {
   "cell_type": "code",
   "execution_count": null,
   "metadata": {},
   "outputs": [],
   "source": [
    "%load_ext autoreload\n",
    "%autoreload 2"
   ]
  },
  {
   "cell_type": "code",
   "execution_count": null,
   "metadata": {},
   "outputs": [],
   "source": [
    "import pandas as pd\n",
    "import os\n",
    "from transaction_simulator import *"
   ]
  },
  {
   "cell_type": "code",
   "execution_count": null,
   "metadata": {},
   "outputs": [],
   "source": [
    "%matplotlib inline\n",
    "import matplotlib.pyplot as plt\n",
    "import seaborn as sns"
   ]
  },
  {
   "cell_type": "markdown",
   "metadata": {},
   "source": [
    "# 1.) Load parameters"
   ]
  },
  {
   "cell_type": "code",
   "execution_count": null,
   "metadata": {},
   "outputs": [],
   "source": [
    "import sys\n",
    "from datawand.parametrization import ParamHelper"
   ]
  },
  {
   "cell_type": "code",
   "execution_count": null,
   "metadata": {},
   "outputs": [],
   "source": [
    "ph = ParamHelper('..', 'LNGraph', sys.argv)"
   ]
  },
  {
   "cell_type": "markdown",
   "metadata": {},
   "source": [
    "experiment_id = ph.get(\"experiment_id\")\n",
    "snapshot_id = ph.get(\"snapshot_id\")\n",
    "amount_sat = 200000#15USD #ph.get(\"amount_sat\")\n",
    "num_transactions = 2000#ph.get(\"num_transactions\")"
   ]
  },
  {
   "cell_type": "code",
   "execution_count": null,
   "metadata": {},
   "outputs": [],
   "source": [
    "experiment_id = ph.get(\"experiment_id\")\n",
    "snapshot_id = ph.get(\"snapshot_id\")\n",
    "amount_sat = ph.get(\"amount_sat\")\n",
    "num_transactions = ph.get(\"num_transactions\")\n",
    "alpha = ph.get(\"alpha\")\n",
    "day_interval = ph.get(\"day_interval\")\n",
    "drop_disabled = ph.get(\"drop_disabled\")"
   ]
  },
  {
   "cell_type": "markdown",
   "metadata": {},
   "source": [
    "experiment_id += \"__\""
   ]
  },
  {
   "cell_type": "code",
   "execution_count": null,
   "metadata": {},
   "outputs": [],
   "source": [
    "data_dir = ph.get(\"data_dir\")\n",
    "output_dir = \"%s/simulations/%s/%s\" % (data_dir, snapshot_id, experiment_id)\n",
    "print(output_dir)"
   ]
  },
  {
   "cell_type": "code",
   "execution_count": null,
   "metadata": {},
   "outputs": [],
   "source": [
    "incremental_experiment = False#True"
   ]
  },
  {
   "cell_type": "code",
   "execution_count": null,
   "metadata": {},
   "outputs": [],
   "source": [
    "opt_fee_changes = dict([])\n",
    "if incremental_experiment:\n",
    "    policy_file = output_dir+\"/opt_fees.csv\"\n",
    "    if os.path.exists(policy_file):\n",
    "        print(\"opt fee policy found!\")\n",
    "        experiment_id += \"_\"\n",
    "        opt_fee_policy = pd.read_csv(policy_file)\n",
    "        opt_fee_policy = opt_fee_policy[opt_fee_policy[\"opt_delta\"]>0]\n",
    "        opt_fee_changes = dict(zip(opt_fee_policy[\"node\"],opt_fee_policy[\"opt_delta\"]))\n",
    "        output_dir = \"%s/simulations/%s/%s\" % (data_dir, snapshot_id, experiment_id)"
   ]
  },
  {
   "cell_type": "code",
   "execution_count": null,
   "metadata": {},
   "outputs": [],
   "source": [
    "if not os.path.exists(output_dir):\n",
    "    os.makedirs(output_dir)"
   ]
  },
  {
   "cell_type": "markdown",
   "metadata": {},
   "source": [
    "# 2.) Load data"
   ]
  },
  {
   "cell_type": "code",
   "execution_count": null,
   "metadata": {},
   "outputs": [],
   "source": [
    "snapshots = pd.read_csv(\"%s/directed_graphs/directed_temporal_multi_edges_%idays.csv\" % (data_dir, day_interval))"
   ]
  },
  {
   "cell_type": "code",
   "execution_count": null,
   "metadata": {},
   "outputs": [],
   "source": [
    "if len(opt_fee_changes) > 0:\n",
    "    snapshots[\"fee_base_msat\"] = snapshots[[\"trg\",\"fee_base_msat\"]].apply(lambda x: x[\"fee_base_msat\"]+opt_fee_changes.get(x[\"trg\"],0.0), axis=1)"
   ]
  },
  {
   "cell_type": "code",
   "execution_count": null,
   "metadata": {},
   "outputs": [],
   "source": [
    "snapshots.head(2)"
   ]
  },
  {
   "cell_type": "code",
   "execution_count": null,
   "metadata": {},
   "outputs": [],
   "source": [
    "node_meta = pd.read_csv(\"%s/node_meta_with_labels.csv\" % data_dir)"
   ]
  },
  {
   "cell_type": "code",
   "execution_count": null,
   "metadata": {},
   "outputs": [],
   "source": [
    "providers = list(node_meta[\"pub_key\"])\n",
    "len(providers)"
   ]
  },
  {
   "cell_type": "code",
   "execution_count": null,
   "metadata": {},
   "outputs": [],
   "source": [
    "snapshots.head()"
   ]
  },
  {
   "cell_type": "code",
   "execution_count": null,
   "metadata": {},
   "outputs": [],
   "source": [
    "edges = snapshots[snapshots[\"snapshot_id\"]==snapshot_id]"
   ]
  },
  {
   "cell_type": "code",
   "execution_count": null,
   "metadata": {},
   "outputs": [],
   "source": [
    "edges.groupby(\"src\")[\"capacity\"].sum().mean()"
   ]
  },
  {
   "cell_type": "code",
   "execution_count": null,
   "metadata": {},
   "outputs": [],
   "source": [
    "edges.groupby(\"src\")[\"capacity\"].sum().median()"
   ]
  },
  {
   "cell_type": "code",
   "execution_count": null,
   "metadata": {},
   "outputs": [],
   "source": [
    "edges.groupby(\"src\")[\"capacity\"].sum().hist(range=(0,10**8), bins=50)"
   ]
  },
  {
   "cell_type": "markdown",
   "metadata": {},
   "source": [
    "edges[\"capacity\"].mean()"
   ]
  },
  {
   "cell_type": "markdown",
   "metadata": {},
   "source": [
    "edges[\"capacity\"].min()"
   ]
  },
  {
   "cell_type": "markdown",
   "metadata": {},
   "source": [
    "edges[\"capacity\"].max()"
   ]
  },
  {
   "cell_type": "markdown",
   "metadata": {},
   "source": [
    "edges[\"capacity\"].median()"
   ]
  },
  {
   "cell_type": "markdown",
   "metadata": {},
   "source": [
    "# 3.) Simulation"
   ]
  },
  {
   "cell_type": "code",
   "execution_count": null,
   "metadata": {},
   "outputs": [],
   "source": [
    "simulator = TransactionSimulator(edges, providers, amount_sat, num_transactions, alpha=alpha, drop_disabled=drop_disabled)"
   ]
  },
  {
   "cell_type": "code",
   "execution_count": null,
   "metadata": {},
   "outputs": [],
   "source": [
    "transactions = simulator.transactions"
   ]
  },
  {
   "cell_type": "code",
   "execution_count": null,
   "metadata": {},
   "outputs": [],
   "source": [
    "transactions[\"source\"].value_counts().hist()"
   ]
  },
  {
   "cell_type": "code",
   "execution_count": null,
   "metadata": {},
   "outputs": [],
   "source": [
    "transactions[\"target\"].value_counts().hist(bins=50)"
   ]
  },
  {
   "cell_type": "markdown",
   "metadata": {},
   "source": [
    "nx.number_weakly_connected_components(simulator.G)"
   ]
  },
  {
   "cell_type": "markdown",
   "metadata": {},
   "source": [
    "- 20K trans, alpha=2.0, drop disabled - 2min 21s\n",
    "- 20K trans, alpha=2.0, drop disabled + less tmp target - 1min 29s\n",
    "- 20K trans, alpha=2.0, drop disabled + less tmp target + wout cost_dict - 1min 14s"
   ]
  },
  {
   "cell_type": "markdown",
   "metadata": {},
   "source": [
    "%%time\n",
    "shortest_paths, alternative_paths, all_router_fees = simulator.simulate(weight=\"total_fee\", max_threads=8)"
   ]
  },
  {
   "cell_type": "markdown",
   "metadata": {},
   "source": [
    "#### only shortest path search in the original graph\n",
    "\n",
    "- without maintaining capacities, 10K trans: 16,8 sec\n",
    "\n",
    "-1    4886\n",
    " 3    2392\n",
    " 2    1861\n",
    " 4     559\n",
    " 5     173\n",
    " 1      93\n",
    " 6      21\n",
    " 7      10\n",
    " 8       3\n",
    " 9       1\n",
    " \n",
    " - with capacity maintaining done: 16,3 sec\n",
    "-1    7236\n",
    " 3    1077\n",
    " 4     777\n",
    " 2     460\n",
    " 5     302\n",
    " 6      80\n",
    " 1      35\n",
    " 7      23\n",
    " 8       9\n",
    " 9       1\n",
    " \n",
    " - with capacity maintaining (new): 18.6 s\n",
    " \n",
    "-1    5826\n",
    " 3    1787\n",
    " 2    1262\n",
    " 4     701\n",
    " 5     250\n",
    " 1      82\n",
    " 6      65\n",
    " 7      20\n",
    " 8       4"
   ]
  },
  {
   "cell_type": "markdown",
   "metadata": {},
   "source": [
    "# try: double round!!!"
   ]
  },
  {
   "cell_type": "code",
   "execution_count": null,
   "metadata": {},
   "outputs": [],
   "source": [
    "%%time\n",
    "shortest_paths, alternative_paths, all_router_fees = simulator.simulate(weight=\"total_fee\", with_node_removals=True, max_threads=8)"
   ]
  },
  {
   "cell_type": "code",
   "execution_count": null,
   "metadata": {},
   "outputs": [],
   "source": [
    "total_income, total_fee = simulator.export(output_dir)"
   ]
  },
  {
   "cell_type": "markdown",
   "metadata": {},
   "source": [
    "shortest_paths.head()"
   ]
  },
  {
   "cell_type": "markdown",
   "metadata": {},
   "source": [
    "alternative_paths.head()"
   ]
  },
  {
   "cell_type": "code",
   "execution_count": null,
   "metadata": {},
   "outputs": [],
   "source": [
    "shortest_paths[\"length\"].hist()\n",
    "alternative_paths[\"length\"].hist(alpha=0.6)"
   ]
  },
  {
   "cell_type": "markdown",
   "metadata": {},
   "source": [
    "harmonic_sums, routing_differences = calculate_node_influence(shortest_paths, alternative_paths)"
   ]
  },
  {
   "cell_type": "markdown",
   "metadata": {},
   "source": [
    "harmonic_sums.reset_index().to_csv(output_file, index=False)"
   ]
  },
  {
   "cell_type": "markdown",
   "metadata": {},
   "source": [
    "harmonic_sums[\"cost_diff\"].mean()"
   ]
  },
  {
   "cell_type": "markdown",
   "metadata": {},
   "source": [
    "harmonic_sums.head(10)"
   ]
  },
  {
   "cell_type": "markdown",
   "metadata": {},
   "source": [
    "harmonic_sums.tail(10)"
   ]
  },
  {
   "cell_type": "markdown",
   "metadata": {},
   "source": [
    "# 4. Some stats"
   ]
  },
  {
   "cell_type": "markdown",
   "metadata": {},
   "source": [
    "#### 10K transaction\n",
    "- 60K : zipzag.io\n",
    "- 18K : ln1.satoshilabs.com\n",
    "- 16K : yalls.org\n",
    "- 6K : LNBIG.com [lnd-03]\n",
    "- 4K : LNBIG.com [lnd-02]\n",
    "\n",
    "#### 20K transactions\n",
    "\n",
    "- 120K : zipzag.io\n",
    "- 47K : ln1.satoshilabs.com\n",
    "- 36K : yalls.org\n",
    "- 9K : LNBIG.com [lnd-03]\n",
    "- 8K : LNBIG.com [lnd-17]"
   ]
  },
  {
   "cell_type": "code",
   "execution_count": null,
   "metadata": {},
   "outputs": [],
   "source": [
    "total_income.head()"
   ]
  },
  {
   "cell_type": "code",
   "execution_count": null,
   "metadata": {},
   "outputs": [],
   "source": [
    "total_income.sum()"
   ]
  },
  {
   "cell_type": "code",
   "execution_count": null,
   "metadata": {},
   "outputs": [],
   "source": [
    "num_router_nodes = len(all_router_fees[\"node\"].unique())"
   ]
  },
  {
   "cell_type": "code",
   "execution_count": null,
   "metadata": {},
   "outputs": [],
   "source": [
    "activity_cnt = all_router_fees[\"node\"].value_counts()\n",
    "active_routers = list(activity_cnt[activity_cnt > 10].index)"
   ]
  },
  {
   "cell_type": "code",
   "execution_count": null,
   "metadata": {},
   "outputs": [],
   "source": [
    "len(active_routers) / num_router_nodes"
   ]
  },
  {
   "cell_type": "code",
   "execution_count": null,
   "metadata": {},
   "outputs": [],
   "source": [
    "fee_subset = all_router_fees[all_router_fees[\"node\"].isin(active_routers)]"
   ]
  },
  {
   "cell_type": "code",
   "execution_count": null,
   "metadata": {},
   "outputs": [],
   "source": [
    "activity_df = pd.DataFrame()\n",
    "activity_df[\"traffic\"] = fee_subset[\"node\"].value_counts()\n",
    "activity_df[\"mean_fee\"] = fee_subset.groupby(\"node\")[\"fee\"].mean()"
   ]
  },
  {
   "cell_type": "markdown",
   "metadata": {},
   "source": [
    "### Router nodes with high traffic do NOT ask higher fees!!!"
   ]
  },
  {
   "cell_type": "code",
   "execution_count": null,
   "metadata": {},
   "outputs": [],
   "source": [
    "activity_df.corr(method=\"spearman\")"
   ]
  },
  {
   "cell_type": "markdown",
   "metadata": {},
   "source": [
    "# 5. Analyze optimal routing fee for nodes"
   ]
  },
  {
   "cell_type": "markdown",
   "metadata": {},
   "source": [
    "## a.) optimal routing fee for all nodes"
   ]
  },
  {
   "cell_type": "code",
   "execution_count": null,
   "metadata": {},
   "outputs": [],
   "source": [
    "opt_fees_df, p_altered = calc_optimal_base_fee(shortest_paths, alternative_paths, all_router_fees)"
   ]
  },
  {
   "cell_type": "code",
   "execution_count": null,
   "metadata": {},
   "outputs": [],
   "source": [
    "opt_fees_df.to_csv(\"%s/opt_fees.csv\" % output_dir, index=False)"
   ]
  },
  {
   "cell_type": "markdown",
   "metadata": {},
   "source": [
    "### Total income revenue"
   ]
  },
  {
   "cell_type": "code",
   "execution_count": null,
   "metadata": {},
   "outputs": [],
   "source": [
    "opt_fees_df[\"income_diff\"] = opt_fees_df[\"opt_income\"] - opt_fees_df[\"origi_income\"]"
   ]
  },
  {
   "cell_type": "code",
   "execution_count": null,
   "metadata": {},
   "outputs": [],
   "source": [
    "opt_fees_df[\"income_diff\"].sum()"
   ]
  },
  {
   "cell_type": "code",
   "execution_count": null,
   "metadata": {},
   "outputs": [],
   "source": [
    "opt_fees_df[\"income_diff\"].hist(bins=20)"
   ]
  },
  {
   "cell_type": "code",
   "execution_count": null,
   "metadata": {},
   "outputs": [],
   "source": [
    "opt_fees_df[[\"node\",\"origi_income\",\"income_diff\"]].head(20).set_index(\"node\")"
   ]
  },
  {
   "cell_type": "code",
   "execution_count": null,
   "metadata": {},
   "outputs": [],
   "source": [
    "opt_fees_df[[\"node\",\"origi_income\",\"income_diff\"]].sort_values(\"income_diff\", ascending=False).head(10).set_index(\"node\")"
   ]
  },
  {
   "cell_type": "markdown",
   "metadata": {},
   "source": [
    "opt_fees_df[opt_fees_df[\"income_diff\"]>10000].set_index(\"node\")"
   ]
  },
  {
   "cell_type": "markdown",
   "metadata": {},
   "source": [
    "### Income gain for nodes with most original income"
   ]
  },
  {
   "cell_type": "code",
   "execution_count": null,
   "metadata": {},
   "outputs": [],
   "source": [
    "x = [10,20,50,100,200]\n",
    "y = []\n",
    "for k in x:\n",
    "    y.append(opt_fees_df[opt_fees_df[\"node\"].isin(list(total_income[:k].index))][\"income_gain\"].mean())\n",
    "    #y.append(opt_fees_df[opt_fees_df[\"node\"].isin(list(total_income[:k].index))][\"income_diff\"].mean())"
   ]
  },
  {
   "cell_type": "code",
   "execution_count": null,
   "metadata": {},
   "outputs": [],
   "source": [
    "print(list(zip(x,y)))"
   ]
  },
  {
   "cell_type": "markdown",
   "metadata": {},
   "source": [
    "## b.) Visualization of optimal routing fee calculation"
   ]
  },
  {
   "cell_type": "markdown",
   "metadata": {},
   "source": [
    "#### top 5 routers"
   ]
  },
  {
   "cell_type": "code",
   "execution_count": null,
   "metadata": {},
   "outputs": [],
   "source": [
    "for n in list(p_altered[\"node\"].value_counts()[:5].index):\n",
    "    _, _, _, _, _ = calculate_max_income(n, p_altered, shortest_paths, all_router_fees, visualize=True)"
   ]
  },
  {
   "cell_type": "markdown",
   "metadata": {},
   "source": [
    "#### rnd 5 routers"
   ]
  },
  {
   "cell_type": "code",
   "execution_count": null,
   "metadata": {},
   "outputs": [],
   "source": [
    "for n in list(p_altered.sample(5)[\"node\"]):\n",
    "    _, _, _, _, _ = calculate_max_income(n, p_altered, shortest_paths, all_router_fees, visualize=True)"
   ]
  },
  {
   "cell_type": "markdown",
   "metadata": {},
   "source": [
    "# Experimenting with shortest path search"
   ]
  },
  {
   "cell_type": "markdown",
   "metadata": {},
   "source": [
    "G = simulator.G"
   ]
  },
  {
   "cell_type": "markdown",
   "metadata": {},
   "source": [
    "pop_trgs = transactions[\"target\"].value_counts()[:3].index"
   ]
  },
  {
   "cell_type": "markdown",
   "metadata": {},
   "source": [
    "most_pop_trans = transactions[transactions[\"target\"]==pop_trgs[0]] "
   ]
  },
  {
   "cell_type": "markdown",
   "metadata": {},
   "source": [
    "len(most_pop_trans)"
   ]
  },
  {
   "cell_type": "markdown",
   "metadata": {},
   "source": [
    "def simulate_origi():\n",
    "    paths = []\n",
    "    for idx, row in most_pop_trans.iterrows():\n",
    "        try:\n",
    "            p = nx.shortest_path(G, source=row[\"source\"], target=row[\"target\"] + \"_trg\", weight=\"total_fee\")\n",
    "        except RuntimeError as re:\n",
    "            raise re\n",
    "        except:\n",
    "            p = []\n",
    "        finally:\n",
    "            paths.append(p)\n",
    "    return paths"
   ]
  },
  {
   "cell_type": "markdown",
   "metadata": {},
   "source": [
    "def simulate_rev():\n",
    "    G_rev = G.reverse(copy=False)\n",
    "    paths = []\n",
    "    for idx, row in most_pop_trans.iterrows():\n",
    "        try:\n",
    "            p = nx.shortest_path(G_rev, target=row[\"source\"], source=row[\"target\"] + \"_trg\", weight=\"total_fee\")\n",
    "            p.reverse()\n",
    "        except RuntimeError as re:\n",
    "            raise re\n",
    "        except:\n",
    "            p = []\n",
    "        finally:\n",
    "            paths.append(p)\n",
    "    return paths"
   ]
  },
  {
   "cell_type": "markdown",
   "metadata": {},
   "source": [
    "- 1426 sim for most pop as target (less pseudo target) - 1.45 s\n",
    "- 1379 sim for most pop as target - 2.6 s\n",
    "- 1379 sim for most pop as source (duplicated) - 56.8 s"
   ]
  },
  {
   "cell_type": "markdown",
   "metadata": {},
   "source": [
    "%%time\n",
    "paths1 = simulate_origi()"
   ]
  },
  {
   "cell_type": "markdown",
   "metadata": {},
   "source": [
    "%%time\n",
    "paths2 = simulate_rev()"
   ]
  },
  {
   "cell_type": "markdown",
   "metadata": {},
   "source": [
    "paths2[-1] == paths1[-1]"
   ]
  }
 ],
 "metadata": {
  "kernelspec": {
   "display_name": "Python [conda env:dm-3-env] *",
   "language": "python",
   "name": "conda-env-dm-3-env-py"
  },
  "language_info": {
   "codemirror_mode": {
    "name": "ipython",
    "version": 3
   },
   "file_extension": ".py",
   "mimetype": "text/x-python",
   "name": "python",
   "nbconvert_exporter": "python",
   "pygments_lexer": "ipython3",
   "version": "3.7.3"
  }
 },
 "nbformat": 4,
 "nbformat_minor": 4
}