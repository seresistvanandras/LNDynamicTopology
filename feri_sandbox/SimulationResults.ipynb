{
 "cells": [
  {
   "cell_type": "code",
   "execution_count": null,
   "metadata": {},
   "outputs": [],
   "source": [
    "%load_ext autoreload\n",
    "%autoreload 2"
   ]
  },
  {
   "cell_type": "code",
   "execution_count": null,
   "metadata": {},
   "outputs": [],
   "source": [
    "import pandas as pd\n",
    "import numpy as np\n",
    "import os, sys\n",
    "sys.path.insert(0,'./python/')\n",
    "from analysis_utils import *"
   ]
  },
  {
   "cell_type": "code",
   "execution_count": null,
   "metadata": {},
   "outputs": [],
   "source": [
    "%matplotlib inline\n",
    "import seaborn as sns\n",
    "import matplotlib.pyplot as plt"
   ]
  },
  {
   "cell_type": "code",
   "execution_count": null,
   "metadata": {},
   "outputs": [],
   "source": [
    "sns.set(font_scale = 2)\n",
    "sns.set_style(\"whitegrid\")"
   ]
  },
  {
   "cell_type": "code",
   "execution_count": null,
   "metadata": {},
   "outputs": [],
   "source": [
    "import sys\n",
    "from datawand.parametrization import ParamHelper\n",
    "ph = ParamHelper(\"../\",\"LNGraph\",sys.argv)"
   ]
  },
  {
   "cell_type": "markdown",
   "metadata": {},
   "source": [
    "experiment_id = ph.get(\"sim_res_dir\")\n",
    "snapshots = ph.get(\"snapshots\")\n",
    "simulation_dir = ph.get(\"sim_root_dir\")"
   ]
  },
  {
   "cell_type": "markdown",
   "metadata": {},
   "source": [
    "# 1. Load data"
   ]
  },
  {
   "cell_type": "code",
   "execution_count": null,
   "metadata": {},
   "outputs": [],
   "source": [
    "node_names = pd.read_csv(\"/mnt/idms/fberes/data/bitcoin_ln_research/node_names.csv\")"
   ]
  },
  {
   "cell_type": "code",
   "execution_count": null,
   "metadata": {},
   "outputs": [],
   "source": [
    "node_names.head()"
   ]
  },
  {
   "cell_type": "code",
   "execution_count": null,
   "metadata": {},
   "outputs": [],
   "source": [
    "LNBIG_nodes = list(node_names[node_names[\"is_lnbig\"]][\"pub_key\"])\n",
    "len(LNBIG_nodes)"
   ]
  },
  {
   "cell_type": "code",
   "execution_count": null,
   "metadata": {},
   "outputs": [],
   "source": [
    "node_names = node_names[[\"name\",\"pub_key\"]]"
   ]
  },
  {
   "cell_type": "markdown",
   "metadata": {},
   "source": [
    "#experiment_id = ph.get(\"sim_dir\")\n",
    "experiment_id = \"2019-09-06_22:03:19_50000sat_k6000\"\n",
    "snapshots = range(40)#range(54)\n",
    "simulation_dir = \"/mnt/idms/fberes/data/bitcoin_ln_research/simulations_1days/\""
   ]
  },
  {
   "cell_type": "markdown",
   "metadata": {},
   "source": [
    "experiment_id = \"60000sat_k7000_eps0.80_wdepFalse\"\n",
    "snapshots = range(7)\n",
    "simulation_dir = \"/mnt/idms/fberes/data/bitcoin_ln_research/simulations_fee_opt_7days//\""
   ]
  },
  {
   "cell_type": "markdown",
   "metadata": {},
   "source": [
    "experiment_id = \"60000sat_k7000_eps0.80_wdepTrue\"\n",
    "snapshots = range(7)\n",
    "simulation_dir = \"/mnt/idms/fberes/data/bitcoin_ln_research/simulations_fee_opt_7days//\""
   ]
  },
  {
   "cell_type": "markdown",
   "metadata": {},
   "source": [
    "experiment_id = \"60000sat_k7000_eps0.80\"\n",
    "snapshots = range(40)\n",
    "simulation_dir = \"/mnt/idms/fberes/data/bitcoin_ln_research/simulations_fee_opt_again_1days/\""
   ]
  },
  {
   "cell_type": "markdown",
   "metadata": {},
   "source": [
    "experiment_id = \"60000sat_k7000_eps0.80\"\n",
    "snapshots = range(40)\n",
    "simulation_dir = \"/mnt/idms/fberes/data/bitcoin_ln_research/simulations_exclusion_1days//\""
   ]
  },
  {
   "cell_type": "code",
   "execution_count": null,
   "metadata": {},
   "outputs": [],
   "source": [
    "experiment_id = \"60000sat_k7000_eps0.80_wdepTrue_corrected\"\n",
    "snapshots = range(40)\n",
    "simulation_dir = \"/mnt/idms/fberes/data/bitcoin_ln_research/simulations_depletions_1days/\""
   ]
  },
  {
   "cell_type": "code",
   "execution_count": null,
   "metadata": {},
   "outputs": [],
   "source": [
    "experiment_folders = get_experiment_files(experiment_id, snapshots, simulation_dir)"
   ]
  },
  {
   "cell_type": "code",
   "execution_count": null,
   "metadata": {},
   "outputs": [],
   "source": [
    "pricing_pol = load_data(experiment_folders, snapshots, \"opt_fees\")"
   ]
  },
  {
   "cell_type": "code",
   "execution_count": null,
   "metadata": {},
   "outputs": [],
   "source": [
    "source_fee = load_data(experiment_folders, snapshots, \"source_fees\")"
   ]
  },
  {
   "cell_type": "code",
   "execution_count": null,
   "metadata": {},
   "outputs": [],
   "source": [
    "router_income = load_data(experiment_folders, snapshots, \"router_incomes\")"
   ]
  },
  {
   "cell_type": "code",
   "execution_count": null,
   "metadata": {},
   "outputs": [],
   "source": [
    "node_depletions = load_data(experiment_folders, snapshots, \"node_depletions\")"
   ]
  },
  {
   "cell_type": "code",
   "execution_count": null,
   "metadata": {},
   "outputs": [],
   "source": [
    "depletions_df = pd.concat(node_depletions)"
   ]
  },
  {
   "cell_type": "code",
   "execution_count": null,
   "metadata": {},
   "outputs": [],
   "source": [
    "depletions_df.drop([\"inbound_deps\",\"outbound_deps\"], axis=1, inplace=True)"
   ]
  },
  {
   "cell_type": "code",
   "execution_count": null,
   "metadata": {},
   "outputs": [],
   "source": [
    "depletions_df.head()"
   ]
  },
  {
   "cell_type": "code",
   "execution_count": null,
   "metadata": {},
   "outputs": [],
   "source": [
    "mean_depletions = depletions_df.groupby(\"node\")[[\"num_inbound\",\"num_outbound\"]].mean().reset_index()"
   ]
  },
  {
   "cell_type": "code",
   "execution_count": null,
   "metadata": {},
   "outputs": [],
   "source": [
    "mean_depletions.head()"
   ]
  },
  {
   "cell_type": "code",
   "execution_count": null,
   "metadata": {},
   "outputs": [],
   "source": [
    "mean_depletions = mean_depletions.merge(node_names, left_on=\"node\", right_on=\"pub_key\").drop(\"pub_key\", axis=1)"
   ]
  },
  {
   "cell_type": "code",
   "execution_count": null,
   "metadata": {},
   "outputs": [],
   "source": [
    "mean_depletions = mean_depletions.sort_values(\"num_outbound\",ascending=False)"
   ]
  },
  {
   "cell_type": "code",
   "execution_count": null,
   "metadata": {},
   "outputs": [],
   "source": [
    "mean_depletions.to_csv(\"/mnt/idms/fberes/data/bitcoin_ln_research/results/both_node_depletions.csv\", index=False)"
   ]
  },
  {
   "cell_type": "code",
   "execution_count": null,
   "metadata": {},
   "outputs": [],
   "source": [
    "mean_depletions[[\"name\",\"num_outbound\"]].head(20)"
   ]
  },
  {
   "cell_type": "code",
   "execution_count": null,
   "metadata": {},
   "outputs": [],
   "source": [
    "mean_depletions.sort_values(\"num_inbound\",ascending=False)[[\"name\",\"num_inbound\"]].head(20)"
   ]
  },
  {
   "cell_type": "markdown",
   "metadata": {},
   "source": [
    "global_failure_ratio = load_data(experiment_folders, snapshots, \"global_failure_ratios\")"
   ]
  },
  {
   "cell_type": "markdown",
   "metadata": {},
   "source": [
    "global_failure_ratios = pd.concat(global_failure_ratio)"
   ]
  },
  {
   "cell_type": "markdown",
   "metadata": {},
   "source": [
    "mean_failure_ratio = global_failure_ratios.groupby(\"entity\")[\"failure_ratio\"].mean().sort_values(ascending=False).reset_index()"
   ]
  },
  {
   "cell_type": "markdown",
   "metadata": {},
   "source": [
    "mean_failure_ratio.to_csv(\"/mnt/idms/fberes/data/bitcoin_ln_research/results/entity_global_failure_ratios.csv\", index=False)"
   ]
  },
  {
   "cell_type": "markdown",
   "metadata": {},
   "source": [
    "## Router incomes"
   ]
  },
  {
   "cell_type": "code",
   "execution_count": null,
   "metadata": {},
   "outputs": [],
   "source": [
    "router_income_col = \"fee\"#\"income\""
   ]
  },
  {
   "cell_type": "code",
   "execution_count": null,
   "metadata": {
    "slideshow": {
     "slide_type": "slide"
    }
   },
   "outputs": [],
   "source": [
    "x = snapshots\n",
    "y = [router_income[i][router_income_col].mean() for i in snapshots]\n",
    "plt.plot(x,y,\"bo\")"
   ]
  },
  {
   "cell_type": "code",
   "execution_count": null,
   "metadata": {
    "slideshow": {
     "slide_type": "slide"
    }
   },
   "outputs": [],
   "source": [
    "sns.jointplot(data=pd.concat(router_income), x=\"snapshot_id\", y=router_income_col)"
   ]
  },
  {
   "cell_type": "code",
   "execution_count": null,
   "metadata": {},
   "outputs": [],
   "source": [
    "all_router_incomes = pd.concat(router_income)"
   ]
  },
  {
   "cell_type": "markdown",
   "metadata": {
    "slideshow": {
     "slide_type": "slide"
    }
   },
   "source": [
    "## Source fees"
   ]
  },
  {
   "cell_type": "code",
   "execution_count": null,
   "metadata": {
    "slideshow": {
     "slide_type": "slide"
    }
   },
   "outputs": [],
   "source": [
    "x = snapshots\n",
    "y = [source_fee[i][\"mean_fee\"].mean() for i in snapshots]\n",
    "plt.plot(x,y, \"bo\")"
   ]
  },
  {
   "cell_type": "code",
   "execution_count": null,
   "metadata": {
    "slideshow": {
     "slide_type": "slide"
    }
   },
   "outputs": [],
   "source": [
    "sns.jointplot(data=pd.concat(source_fee), x=\"snapshot_id\", y=\"mean_fee\")"
   ]
  },
  {
   "cell_type": "markdown",
   "metadata": {
    "slideshow": {
     "slide_type": "slide"
    }
   },
   "source": [
    "## Optimal pricing"
   ]
  },
  {
   "cell_type": "markdown",
   "metadata": {
    "slideshow": {
     "slide_type": "slide"
    }
   },
   "source": [
    "x = snapshots\n",
    "y = [pricing_pol[i][\"opt_delta\"].mean() for i in snapshots]\n",
    "plt.plot(x,y, \"bo\")"
   ]
  },
  {
   "cell_type": "markdown",
   "metadata": {
    "slideshow": {
     "slide_type": "slide"
    }
   },
   "source": [
    "x = snapshots\n",
    "y = [pricing_pol[i][\"opt_traffic\"].mean() for i in snapshots]\n",
    "plt.plot(x,y, \"bo\")"
   ]
  },
  {
   "cell_type": "markdown",
   "metadata": {
    "slideshow": {
     "slide_type": "slide"
    }
   },
   "source": [
    "x = snapshots\n",
    "y = [pricing_pol[i][\"origi_income\"].mean() for i in snapshots]\n",
    "plt.plot(x,y, \"bo\")"
   ]
  },
  {
   "cell_type": "markdown",
   "metadata": {
    "slideshow": {
     "slide_type": "slide"
    }
   },
   "source": [
    "x = snapshots\n",
    "y = [pricing_pol[i][\"opt_income\"].mean() for i in snapshots]\n",
    "plt.plot(x,y, \"bo\")"
   ]
  },
  {
   "cell_type": "markdown",
   "metadata": {},
   "source": [
    "### Calculate income revenue"
   ]
  },
  {
   "cell_type": "markdown",
   "metadata": {},
   "source": [
    "for df in pricing_pol:\n",
    "    df[\"income_diff\"] = df[\"opt_income\"] - df[\"origi_income\"]"
   ]
  },
  {
   "cell_type": "markdown",
   "metadata": {
    "slideshow": {
     "slide_type": "slide"
    }
   },
   "source": [
    "# 2. Simulation stability"
   ]
  },
  {
   "cell_type": "markdown",
   "metadata": {},
   "source": [
    "corrs = [\"pearson\",\"spearman\",\"kendall\",\"wkendall\"]"
   ]
  },
  {
   "cell_type": "markdown",
   "metadata": {},
   "source": [
    "## a.) Stability of basing node statistics (moved to script)\n",
    "\n",
    "- stability could be improved by running more independent experiments\n",
    "- this time (using channel depletions) the experiment is less stable?"
   ]
  },
  {
   "cell_type": "markdown",
   "metadata": {},
   "source": [
    "## b.) Stability of optimal pricing results"
   ]
  },
  {
   "cell_type": "markdown",
   "metadata": {},
   "source": [
    "origi_inc = pd.DataFrame([avg_cross_corr(pricing_pol, snap_id, \"origi_income\") for snap_id in snapshots])\n",
    "opt_inc = pd.DataFrame([avg_cross_corr(pricing_pol, snap_id, \"opt_income\") for snap_id in snapshots])\n",
    "income_diff = pd.DataFrame([avg_cross_corr(pricing_pol, snap_id, \"income_diff\") for snap_id in snapshots])\n",
    "opt_delta = pd.DataFrame([avg_cross_corr(pricing_pol, snap_id, \"opt_delta\") for snap_id in snapshots])"
   ]
  },
  {
   "cell_type": "markdown",
   "metadata": {
    "slideshow": {
     "slide_type": "slide"
    }
   },
   "source": [
    "colors = ['b','g','r','m']\n",
    "fig, axis = plt.subplots(1,3,figsize=(15,4))\n",
    "x = snapshots\n",
    "#incomes\n",
    "axis[0].set_title(\"INCOME mean cross correlations\")\n",
    "for i, c in enumerate(corrs):\n",
    "    axis[0].plot(x,origi_inc[c], colors[i]+'-', label=c+\"_orig\")\n",
    "    axis[0].plot(x,opt_inc[c], colors[i]+'--', label=c+\"_opt\")\n",
    "axis[0].set_xlabel(\"snapshot\")\n",
    "axis[0].legend()\n",
    "#income_diff\n",
    "axis[1].set_title(\"INCOME_DIFF mean cross correlations\")\n",
    "for i, c in enumerate(corrs):\n",
    "    axis[1].plot(x,income_diff[c], colors[i]+'-', label=c)\n",
    "axis[1].set_xlabel(\"snapshot\")\n",
    "axis[1].legend()\n",
    "#opt_delta\n",
    "axis[2].set_title(\"OPT_DELTA mean cross correlations\")\n",
    "for i, c in enumerate(corrs):\n",
    "    axis[2].plot(x,opt_delta[c], colors[i]+'-', label=c)\n",
    "axis[2].set_xlabel(\"snapshot\")\n",
    "axis[2].legend()\n",
    "plt.show()"
   ]
  },
  {
   "cell_type": "markdown",
   "metadata": {
    "slideshow": {
     "slide_type": "slide"
    }
   },
   "source": [
    "#### Incomes observations\n",
    "\n",
    "- taking mean cross correlation of user incomes (original and optimal)\n",
    "- weighted kendall-tau gives decreased to 0.90 from 0.95 (after including capacity maintenance)\n",
    "- in case of unweighted spearman and kendall the optimal income correlates better across samples \n",
    "\n",
    "#### income_diff observations\u00b6\n",
    "\n",
    "- taking mean cross correlation of income difference (optimal income - original income)\n",
    "- weighted kendall-tau decreased to 0.80 from 0.93 (after including capacity maintenance)\n",
    "\n",
    "#### opt_delta observations\u00b6\n",
    "\n",
    "- taking mean cross correlation of optimal base fee change\n",
    "- weighted kendall-tau decreased to 0.70 from 0.90 (after including capacity maintenance)\n",
    "\n",
    "**CONCLUSION: our base_fee optimization procedure is less efficient (meaningful) after the implementation of capacity maintenance!!!**"
   ]
  },
  {
   "cell_type": "markdown",
   "metadata": {},
   "source": [
    "# 3. Income revenue analysis"
   ]
  },
  {
   "cell_type": "code",
   "execution_count": null,
   "metadata": {},
   "outputs": [],
   "source": [
    "node_names = pd.read_csv(\"/mnt/idms/fberes/data/bitcoin_ln_research/node_names.csv\")\n",
    "print(node_names.head())"
   ]
  },
  {
   "cell_type": "markdown",
   "metadata": {},
   "source": [
    "### Average stats (over all snapshots and samples)"
   ]
  },
  {
   "cell_type": "code",
   "execution_count": null,
   "metadata": {},
   "outputs": [],
   "source": [
    "all_records = pd.concat([pricing_pol[i] for i in snapshots])"
   ]
  },
  {
   "cell_type": "code",
   "execution_count": null,
   "metadata": {},
   "outputs": [],
   "source": [
    "average_stats_all = all_records.groupby(\"node\").mean().drop([\"sample\",\"snapshot_id\"], axis=1).reset_index()"
   ]
  },
  {
   "cell_type": "code",
   "execution_count": null,
   "metadata": {},
   "outputs": [],
   "source": [
    "average_stats_all = average_stats_all.merge(node_names, left_on=\"node\", right_on=\"pub_key\", how=\"left\").drop(\"pub_key\", axis=1).set_index(\"node\")"
   ]
  },
  {
   "cell_type": "code",
   "execution_count": null,
   "metadata": {},
   "outputs": [],
   "source": [
    "average_stats_all = average_stats_all.rename({\"opt_traffic\":\"opt_traffic_ratio\"}, axis=1)"
   ]
  },
  {
   "cell_type": "code",
   "execution_count": null,
   "metadata": {},
   "outputs": [],
   "source": [
    "from ln_utils import corr_mx\n",
    "\n",
    "results_dir = \"/mnt/idms/fberes/data/bitcoin_ln_research/results/opt_base_fee/\"\n",
    "cmap = \"RdBu_r\"\n",
    "fig_s=(10,10)\n",
    "\n",
    "def plot_pricing_policy_corrs(corr_type):\n",
    "    corrs = corr_mx(average_stats_all[[\"total_income\",\"alt_income\",\"alt_traffic\",\"total_traffic\",\"opt_income\",\"opt_delta\",\"opt_traffic_ratio\",\"failed_traffic_ratio\"]], method=corr_type)\n",
    "    fig, ax = plt.subplots(figsize=fig_s)\n",
    "    g = sns.heatmap(corrs, ax=ax, cmap=cmap, square=True, annot=True, fmt='.1f')\n",
    "    ax.set_ylim(8.0, 0)\n",
    "    #plt.savefig(\"%s/pricing_policy_%s.pdf\" % (results_dir, corr_type), format=\"pdf\", bbox_inches='tight')"
   ]
  },
  {
   "cell_type": "code",
   "execution_count": null,
   "metadata": {
    "scrolled": false
   },
   "outputs": [],
   "source": [
    "for corr_type in [\"spearman\",\"kendall\",\"wkendall\"]:\n",
    "    plot_pricing_policy_corrs(corr_type)"
   ]
  },
  {
   "cell_type": "markdown",
   "metadata": {},
   "source": [
    "# Categorization"
   ]
  },
  {
   "cell_type": "code",
   "execution_count": null,
   "metadata": {},
   "outputs": [],
   "source": [
    "x_label = \"daily routing income groups\""
   ]
  },
  {
   "cell_type": "code",
   "execution_count": null,
   "metadata": {},
   "outputs": [],
   "source": [
    "def cut_into_categories(df):\n",
    "    categories = [df[:10], df[10:20], df[20:50], df[50:100], df[100:]]\n",
    "    for idx, cat in enumerate(categories):\n",
    "        cat[x_label] = idx+1\n",
    "    return categories"
   ]
  },
  {
   "cell_type": "code",
   "execution_count": null,
   "metadata": {},
   "outputs": [],
   "source": [
    "x = range(5)"
   ]
  },
  {
   "cell_type": "markdown",
   "metadata": {},
   "source": [
    "## sort by total routing income (for binarization)"
   ]
  },
  {
   "cell_type": "code",
   "execution_count": null,
   "metadata": {},
   "outputs": [],
   "source": [
    "average_stats_all = average_stats_all.sort_values(\"total_income\", ascending=False)"
   ]
  },
  {
   "cell_type": "markdown",
   "metadata": {},
   "source": [
    "average_stats_all = average_stats_all.sort_values(\"total_traffic\", ascending=False)"
   ]
  },
  {
   "cell_type": "code",
   "execution_count": null,
   "metadata": {},
   "outputs": [],
   "source": [
    "reame_dict = {\n",
    "    \"failed_traffic_ratio\":\"failed traffic ratio\",\n",
    "    \"income_diff\":\"daily income gain (satoshi)\",\n",
    "    \"opt_delta\":r\"$\\beta^*$ base fee increment (satoshi)\"\n",
    "}\n",
    "average_stats_all = average_stats_all.rename(reame_dict, axis=1)"
   ]
  },
  {
   "cell_type": "code",
   "execution_count": null,
   "metadata": {},
   "outputs": [],
   "source": [
    "len(average_stats_all)"
   ]
  },
  {
   "cell_type": "code",
   "execution_count": null,
   "metadata": {},
   "outputs": [],
   "source": [
    "average_stats_all.reset_index(drop=True)[[\"name\",reame_dict[\"income_diff\"],\"alt_traffic\",reame_dict[\"failed_traffic_ratio\"]]].head(20)"
   ]
  },
  {
   "cell_type": "code",
   "execution_count": null,
   "metadata": {},
   "outputs": [],
   "source": [
    "average_stats_all_cats = cut_into_categories(average_stats_all)\n",
    "average_stats_all_with_groups = pd.concat(average_stats_all_cats)"
   ]
  },
  {
   "cell_type": "code",
   "execution_count": null,
   "metadata": {},
   "outputs": [],
   "source": [
    "def bar_plot_for_groups(col, is_log_yscale=True, ci=95, ylim=False):\n",
    "    sns.catplot(data=average_stats_all_with_groups, x=x_label, y=reame_dict[col], kind=\"bar\", ci=ci, height=8)\n",
    "    if is_log_yscale:\n",
    "        plt.yscale(\"log\")\n",
    "    if ylim:\n",
    "        plt.ylim(0, 10**4)\n",
    "    plt.savefig(\"%s/groups_%s.pdf\" % (results_dir, col), format=\"pdf\", bbox_inches='tight')"
   ]
  },
  {
   "cell_type": "code",
   "execution_count": null,
   "metadata": {},
   "outputs": [],
   "source": [
    "bar_plot_for_groups(\"failed_traffic_ratio\", is_log_yscale=False)"
   ]
  },
  {
   "cell_type": "code",
   "execution_count": null,
   "metadata": {},
   "outputs": [],
   "source": [
    "bar_plot_for_groups(\"income_diff\", ci=None)"
   ]
  },
  {
   "cell_type": "code",
   "execution_count": null,
   "metadata": {},
   "outputs": [],
   "source": [
    "bar_plot_for_groups(\"opt_delta\", ci=None, ylim=True)"
   ]
  },
  {
   "cell_type": "markdown",
   "metadata": {},
   "source": [
    "#### Mean original income for the selected categories"
   ]
  },
  {
   "cell_type": "code",
   "execution_count": null,
   "metadata": {
    "slideshow": {
     "slide_type": "subslide"
    }
   },
   "outputs": [],
   "source": [
    "[float(cat[[\"total_income\"]].mean()) for cat in average_stats_all_cats]"
   ]
  }
 ],
 "metadata": {
  "kernelspec": {
   "display_name": "Python [conda env:dm-3-env] *",
   "language": "python",
   "name": "conda-env-dm-3-env-py"
  },
  "language_info": {
   "codemirror_mode": {
    "name": "ipython",
    "version": 3
   },
   "file_extension": ".py",
   "mimetype": "text/x-python",
   "name": "python",
   "nbconvert_exporter": "python",
   "pygments_lexer": "ipython3",
   "version": "3.7.3"
  }
 },
 "nbformat": 4,
 "nbformat_minor": 4
}